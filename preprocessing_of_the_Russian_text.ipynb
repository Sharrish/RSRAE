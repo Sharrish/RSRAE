{
  "nbformat": 4,
  "nbformat_minor": 0,
  "metadata": {
    "colab": {
      "name": "preprocessing_of_the_Russian_text.ipynb",
      "provenance": [],
      "collapsed_sections": []
    },
    "kernelspec": {
      "name": "python3",
      "display_name": "Python 3"
    },
    "language_info": {
      "name": "python"
    }
  },
  "cells": [
    {
      "cell_type": "code",
      "metadata": {
        "colab": {
          "base_uri": "https://localhost:8080/"
        },
        "id": "FjquRZFc4EPo",
        "outputId": "0ec7091d-afee-4252-d7b4-0421b10126f6"
      },
      "source": [
        "from google.colab import drive\n",
        "drive.mount('/content/drive')"
      ],
      "execution_count": null,
      "outputs": [
        {
          "output_type": "stream",
          "text": [
            "Mounted at /content/drive\n"
          ],
          "name": "stdout"
        }
      ]
    },
    {
      "cell_type": "markdown",
      "metadata": {
        "id": "T4aDTk0j63BM"
      },
      "source": [
        "## 🧽🚿 Функция для предобработки русского текста"
      ]
    },
    {
      "cell_type": "code",
      "metadata": {
        "colab": {
          "base_uri": "https://localhost:8080/"
        },
        "id": "16EOcn5KI-2U",
        "outputId": "74c7c8c6-b06c-4c71-91ae-b0f9d3981b66"
      },
      "source": [
        "pip install pymorphy2"
      ],
      "execution_count": null,
      "outputs": [
        {
          "output_type": "stream",
          "text": [
            "Collecting pymorphy2\n",
            "\u001b[?25l  Downloading https://files.pythonhosted.org/packages/07/57/b2ff2fae3376d4f3c697b9886b64a54b476e1a332c67eee9f88e7f1ae8c9/pymorphy2-0.9.1-py3-none-any.whl (55kB)\n",
            "\u001b[K     |████████████████████████████████| 61kB 3.0MB/s \n",
            "\u001b[?25hCollecting pymorphy2-dicts-ru<3.0,>=2.4\n",
            "\u001b[?25l  Downloading https://files.pythonhosted.org/packages/3a/79/bea0021eeb7eeefde22ef9e96badf174068a2dd20264b9a378f2be1cdd9e/pymorphy2_dicts_ru-2.4.417127.4579844-py2.py3-none-any.whl (8.2MB)\n",
            "\u001b[K     |████████████████████████████████| 8.2MB 6.1MB/s \n",
            "\u001b[?25hCollecting dawg-python>=0.7.1\n",
            "  Downloading https://files.pythonhosted.org/packages/6a/84/ff1ce2071d4c650ec85745766c0047ccc3b5036f1d03559fd46bb38b5eeb/DAWG_Python-0.7.2-py2.py3-none-any.whl\n",
            "Requirement already satisfied: docopt>=0.6 in /usr/local/lib/python3.7/dist-packages (from pymorphy2) (0.6.2)\n",
            "Installing collected packages: pymorphy2-dicts-ru, dawg-python, pymorphy2\n",
            "Successfully installed dawg-python-0.7.2 pymorphy2-0.9.1 pymorphy2-dicts-ru-2.4.417127.4579844\n"
          ],
          "name": "stdout"
        }
      ]
    },
    {
      "cell_type": "code",
      "metadata": {
        "colab": {
          "base_uri": "https://localhost:8080/"
        },
        "id": "dKlcyHJg67Ry",
        "outputId": "ad2b46ed-44f1-4b93-bb50-9a66f3f10a8e"
      },
      "source": [
        "from gensim.parsing.preprocessing import strip_tags\n",
        "from gensim.parsing.preprocessing import strip_numeric\n",
        "from gensim.parsing.preprocessing import strip_punctuation\n",
        "from gensim.parsing.preprocessing import strip_non_alphanum\n",
        "from gensim.parsing.preprocessing import strip_short\n",
        "from gensim.parsing.preprocessing import strip_multiple_whitespaces\n",
        "\n",
        "import nltk\n",
        "from nltk.tokenize import word_tokenize\n",
        "from nltk.corpus import stopwords\n",
        "nltk.download('punkt')\n",
        "nltk.download('stopwords')\n",
        "\n",
        "import re\n",
        "import pymorphy2\n",
        "morph = pymorphy2.MorphAnalyzer()\n",
        "\n",
        "\n",
        "def preprocess_text(text, tokenization=False):\n",
        "    \"\"\"\n",
        "    Предобрабатывает исходный русский текст.\n",
        "    Выполняет очистку, токенизацию и лемматизацию.\n",
        "    Возвращает список токенов или предобработанный текст.\n",
        "    \"\"\"\n",
        "    text = text.lower()                     # приведение к нижнему регистру\n",
        "    text = strip_tags(text)                 # удаление тэгов\n",
        "    text = strip_numeric(text)              # удаление цифр\n",
        "    text = strip_punctuation(text)          # удаление пунктуации\n",
        "    text = strip_non_alphanum(text)         # удаление небуквенных символов\n",
        "    text = strip_short(text)                # удаление коротких слов\n",
        "    text = strip_multiple_whitespaces(text) # удаление множественных пробелов\n",
        "    \n",
        "    # Токенизация\n",
        "    list_of_words = word_tokenize(text, language='russian') \n",
        "\n",
        "    # Удаление стоп-слов\n",
        "    list_of_words = [w for w in list_of_words if w not in stopwords.words('russian')]\n",
        "\n",
        "    # Лемматизация\n",
        "    for i in range(len(list_of_words)): \n",
        "        list_of_words[i] = morph.parse(list_of_words[i])[0].normal_form\n",
        "\n",
        "    if tokenization: # возвращаем список слов\n",
        "        return list_of_words\n",
        "    else: # возвращаем строку\n",
        "        return ' '.join(w for w in list_of_words) "
      ],
      "execution_count": null,
      "outputs": [
        {
          "output_type": "stream",
          "text": [
            "[nltk_data] Downloading package punkt to /root/nltk_data...\n",
            "[nltk_data]   Package punkt is already up-to-date!\n",
            "[nltk_data] Downloading package stopwords to /root/nltk_data...\n",
            "[nltk_data]   Package stopwords is already up-to-date!\n"
          ],
          "name": "stdout"
        }
      ]
    },
    {
      "cell_type": "markdown",
      "metadata": {
        "id": "--9tSk8NFVYz"
      },
      "source": [
        "### 👉 Пример использования"
      ]
    },
    {
      "cell_type": "code",
      "metadata": {
        "colab": {
          "base_uri": "https://localhost:8080/"
        },
        "id": "1ItRhmv_JLS7",
        "outputId": "f89ea562-674b-485c-bb61-5e635d0d425c"
      },
      "source": [
        "example_text = \"Ну что я могу 646сказать, я вижу кто-то наступил_на грабли, Ты разочаровал меня, \\\n",
        "ты был натравлен. По асфальту 336мимо 24.0 цемента, №Избегая% зевак^ под<\\b> аплодисменты. Обитатели \\\n",
        "спальных аррондисманов?\"\n",
        "\n",
        "print(example_text, '\\n\\n')\n",
        "\n",
        "print(preprocess_text(example_text, tokenization=True))"
      ],
      "execution_count": null,
      "outputs": [
        {
          "output_type": "stream",
          "text": [
            "Ну что я могу 646сказать, я вижу кто-то наступил_на грабли, Ты разочаровал меня, ты был натравлен. По асфальту 336мимо 24.0 цемента, №Избегая% зевак^ под<\b> аплодисменты. Обитатели спальных аррондисманов? \n",
            "\n",
            "\n",
            "['мочь', 'сказать', 'видеть', 'наступить', 'грабли', 'разочаровать', 'натравить', 'асфальт', 'мимо', 'цемент', 'избегать', 'зевака', 'аплодисменты', 'обитатель', 'спальный', 'аррондисман']\n"
          ],
          "name": "stdout"
        }
      ]
    },
    {
      "cell_type": "markdown",
      "metadata": {
        "id": "JmSTeG2Oe7is"
      },
      "source": [
        "## fasttext"
      ]
    },
    {
      "cell_type": "code",
      "metadata": {
        "id": "sGg6BM6cAKR4"
      },
      "source": [
        "import gensim\n",
        "from gensim.models.wrappers import FastText \n",
        "from gensim.test.utils import datapath\n",
        "from gensim.models import FastText\n",
        "\n",
        "\n",
        "model = FastText.load_fasttext_format('drive/My Drive/cc.ru.300.bin')"
      ],
      "execution_count": null,
      "outputs": []
    },
    {
      "cell_type": "code",
      "metadata": {
        "colab": {
          "base_uri": "https://localhost:8080/"
        },
        "id": "g4Qe6RsaHRNw",
        "outputId": "b06bacb3-ad21-4942-8d53-88d555100d72"
      },
      "source": [
        "similarity = model.wv.similarity('женщина', 'топор')\n",
        "similarity"
      ],
      "execution_count": null,
      "outputs": [
        {
          "output_type": "execute_result",
          "data": {
            "text/plain": [
              "0.11836832"
            ]
          },
          "metadata": {
            "tags": []
          },
          "execution_count": 17
        }
      ]
    },
    {
      "cell_type": "code",
      "metadata": {
        "colab": {
          "base_uri": "https://localhost:8080/"
        },
        "id": "DHXZeI9sJVT4",
        "outputId": "95a02f86-94ac-48d0-b176-a6ec943b1108"
      },
      "source": [
        "pip install compress-fasttext"
      ],
      "execution_count": null,
      "outputs": [
        {
          "output_type": "stream",
          "text": [
            "Collecting compress-fasttext\n",
            "  Downloading https://files.pythonhosted.org/packages/c4/a5/44314a0fd70b25a3d3246d49ab778ed6277e748c2055690a25b1afedc890/compress-fasttext-0.0.7.tar.gz\n",
            "Requirement already satisfied: gensim<=3.8.3 in /usr/local/lib/python3.7/dist-packages (from compress-fasttext) (3.8.1)\n",
            "Requirement already satisfied: numpy in /usr/local/lib/python3.7/dist-packages (from compress-fasttext) (1.19.5)\n",
            "Requirement already satisfied: six>=1.5.0 in /usr/local/lib/python3.7/dist-packages (from gensim<=3.8.3->compress-fasttext) (1.15.0)\n",
            "Requirement already satisfied: scipy>=0.18.1 in /usr/local/lib/python3.7/dist-packages (from gensim<=3.8.3->compress-fasttext) (1.4.1)\n",
            "Requirement already satisfied: smart-open>=1.8.1 in /usr/local/lib/python3.7/dist-packages (from gensim<=3.8.3->compress-fasttext) (4.2.0)\n",
            "Building wheels for collected packages: compress-fasttext\n",
            "  Building wheel for compress-fasttext (setup.py) ... \u001b[?25l\u001b[?25hdone\n",
            "  Created wheel for compress-fasttext: filename=compress_fasttext-0.0.7-cp37-none-any.whl size=11082 sha256=30d8b03ec0e350ed0079ce3ca819100762238c8ab57bf0df72145524cb05e986\n",
            "  Stored in directory: /root/.cache/pip/wheels/9e/d5/00/8665ad9b83767b6e4dac7984e6930a7bda3e3cbc5943bfc525\n",
            "Successfully built compress-fasttext\n",
            "Installing collected packages: compress-fasttext\n",
            "Successfully installed compress-fasttext-0.0.7\n"
          ],
          "name": "stdout"
        }
      ]
    },
    {
      "cell_type": "code",
      "metadata": {
        "colab": {
          "base_uri": "https://localhost:8080/"
        },
        "id": "NvAV53goJzmB",
        "outputId": "7bac5adb-7d0f-41a9-e6a6-80f282ae0b23"
      },
      "source": [
        "pip install gensim==3.8.1"
      ],
      "execution_count": null,
      "outputs": [
        {
          "output_type": "stream",
          "text": [
            "Collecting gensim==3.8.1\n",
            "\u001b[?25l  Downloading https://files.pythonhosted.org/packages/44/93/c6011037f24e3106d13f3be55297bf84ece2bf15b278cc4776339dc52db5/gensim-3.8.1-cp37-cp37m-manylinux1_x86_64.whl (24.2MB)\n",
            "\u001b[K     |████████████████████████████████| 24.2MB 158kB/s \n",
            "\u001b[?25hRequirement already satisfied: scipy>=0.18.1 in /usr/local/lib/python3.7/dist-packages (from gensim==3.8.1) (1.4.1)\n",
            "Requirement already satisfied: smart-open>=1.8.1 in /usr/local/lib/python3.7/dist-packages (from gensim==3.8.1) (4.2.0)\n",
            "Requirement already satisfied: six>=1.5.0 in /usr/local/lib/python3.7/dist-packages (from gensim==3.8.1) (1.15.0)\n",
            "Requirement already satisfied: numpy>=1.11.3 in /usr/local/lib/python3.7/dist-packages (from gensim==3.8.1) (1.19.5)\n",
            "Installing collected packages: gensim\n",
            "  Found existing installation: gensim 3.6.0\n",
            "    Uninstalling gensim-3.6.0:\n",
            "      Successfully uninstalled gensim-3.6.0\n",
            "Successfully installed gensim-3.8.1\n"
          ],
          "name": "stdout"
        }
      ]
    },
    {
      "cell_type": "code",
      "metadata": {
        "id": "mdIdmOl0JRmQ"
      },
      "source": [
        "import compress_fasttext"
      ],
      "execution_count": null,
      "outputs": []
    },
    {
      "cell_type": "code",
      "metadata": {
        "colab": {
          "base_uri": "https://localhost:8080/",
          "height": 178
        },
        "id": "wWmVgQ8yIeNw",
        "outputId": "254b1954-09dc-4163-d8b4-3efffe8d28b0"
      },
      "source": [
        ""
      ],
      "execution_count": null,
      "outputs": [
        {
          "output_type": "error",
          "ename": "NameError",
          "evalue": "ignored",
          "traceback": [
            "\u001b[0;31m---------------------------------------------------------------------------\u001b[0m",
            "\u001b[0;31mNameError\u001b[0m                                 Traceback (most recent call last)",
            "\u001b[0;32m<ipython-input-2-551db012cbee>\u001b[0m in \u001b[0;36m<module>\u001b[0;34m()\u001b[0m\n\u001b[0;32m----> 1\u001b[0;31m \u001b[0msmall_model\u001b[0m \u001b[0;34m=\u001b[0m \u001b[0mcompress_fasttext\u001b[0m\u001b[0;34m.\u001b[0m\u001b[0mprune_ft_freq\u001b[0m\u001b[0;34m(\u001b[0m\u001b[0mmodel\u001b[0m\u001b[0;34m.\u001b[0m\u001b[0mwv\u001b[0m\u001b[0;34m,\u001b[0m \u001b[0mpq\u001b[0m\u001b[0;34m=\u001b[0m\u001b[0;32mTrue\u001b[0m\u001b[0;34m)\u001b[0m\u001b[0;34m\u001b[0m\u001b[0;34m\u001b[0m\u001b[0m\n\u001b[0m\u001b[1;32m      2\u001b[0m \u001b[0msmall_model\u001b[0m\u001b[0;34m.\u001b[0m\u001b[0msave\u001b[0m\u001b[0;34m(\u001b[0m\u001b[0;34m'small_rus_fasttext_model.bin'\u001b[0m\u001b[0;34m)\u001b[0m\u001b[0;34m\u001b[0m\u001b[0;34m\u001b[0m\u001b[0m\n",
            "\u001b[0;31mNameError\u001b[0m: name 'model' is not defined"
          ]
        }
      ]
    },
    {
      "cell_type": "code",
      "metadata": {
        "id": "lf0-NeS7J8F3"
      },
      "source": [
        "import gensim\n",
        "from gensim.models.wrappers import FastText\n",
        "\n",
        "\n",
        "model = FastText.load_fasttext_format('cc.ru.300.bin')\n",
        "# model = FastText.load_fasttext_format('ft_native_300_ru_wiki_lenta_lemmatize.bin')"
      ],
      "execution_count": null,
      "outputs": []
    },
    {
      "cell_type": "code",
      "metadata": {
        "id": "fKvLohTz9HV9"
      },
      "source": [
        "model.wv.similarity('жена', 'муж')"
      ],
      "execution_count": null,
      "outputs": []
    },
    {
      "cell_type": "code",
      "metadata": {
        "id": "xWD7hIgb9JNW"
      },
      "source": [
        "# !pip3 install gensim==3.8.1"
      ],
      "execution_count": null,
      "outputs": []
    },
    {
      "cell_type": "code",
      "metadata": {
        "id": "uVSRUeQh9LV9"
      },
      "source": [
        "# !pip3 install compress-fasttext"
      ],
      "execution_count": null,
      "outputs": []
    },
    {
      "cell_type": "code",
      "metadata": {
        "id": "TOsgIe8I9OFB"
      },
      "source": [
        "import compress_fasttext\n",
        "\n",
        "\n",
        "small_model = compress_fasttext.prune_ft_freq(model, pq=True)\n",
        "small_model.save('small_rus_fasttext_model.bin')"
      ],
      "execution_count": null,
      "outputs": []
    }
  ]
}