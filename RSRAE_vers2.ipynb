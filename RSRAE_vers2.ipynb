{
  "nbformat": 4,
  "nbformat_minor": 0,
  "metadata": {
    "colab": {
      "name": "RSRAE.ipynb",
      "provenance": [],
      "collapsed_sections": [],
      "toc_visible": true
    },
    "kernelspec": {
      "name": "python3",
      "display_name": "Python 3"
    },
    "accelerator": "GPU"
  },
  "cells": [
    {
      "cell_type": "markdown",
      "metadata": {
        "id": "V85l6FSLkicx"
      },
      "source": [
        "# Подключение к Google-диску"
      ]
    },
    {
      "cell_type": "code",
      "metadata": {
        "colab": {
          "base_uri": "https://localhost:8080/"
        },
        "id": "sHSSdWWPk-ey",
        "outputId": "f42d6fd4-a13b-4947-b6d2-806e2820d088"
      },
      "source": [
        "# подключение к Google диску\n",
        "from google.colab import drive\n",
        "drive.mount('/content/drive')"
      ],
      "execution_count": 2,
      "outputs": [
        {
          "output_type": "stream",
          "text": [
            "Mounted at /content/drive\n"
          ],
          "name": "stdout"
        }
      ]
    },
    {
      "cell_type": "code",
      "metadata": {
        "id": "73Yh_NHbk_az"
      },
      "source": [
        "import os\n",
        "os.chdir('/content/drive/My Drive/RSRAE_work') # смена рабочей директории"
      ],
      "execution_count": 3,
      "outputs": []
    },
    {
      "cell_type": "markdown",
      "metadata": {
        "id": "Nx3PsDKCmjGH"
      },
      "source": [
        "# Подготовка датасета"
      ]
    },
    {
      "cell_type": "code",
      "metadata": {
        "id": "tmBUooX3lqOE"
      },
      "source": [
        "import pickle\n",
        "with open(\"./reuters.data\", 'rb') as f:\n",
        "    data = pickle.load(f) # Загружаем dict с датасетом\n",
        "X_test_origin = data[\"X\"]\n",
        "y_test_origin = data[\"y\"]"
      ],
      "execution_count": 4,
      "outputs": []
    },
    {
      "cell_type": "markdown",
      "metadata": {
        "id": "3IdEcEh3r3us"
      },
      "source": [
        "data - словарь, содержащий предобработанные датасет Reuters-21578.  \n",
        "\n",
        "Reuters-21578 содержит 90 текстовых категорий с несколькими метками. Мы рассматриваем пять самых больших классов с единичными метками и случайным образом выбираем из них 360 документов для каждого класса. Документы предварительно обрабатываются в векторы размером 26 147 путем последовательного применения преобразователя TF-IDF и Hashing vectorizer  (Rajaraman & Ullman, 2011). В каждом эксперименте нормальными данными являются документами фиксированного класса, а выбросы c × 360 случайным образом выбираются из других классов.\n"
      ]
    },
    {
      "cell_type": "code",
      "metadata": {
        "colab": {
          "base_uri": "https://localhost:8080/"
        },
        "id": "F7Hzd4kSnJHt",
        "outputId": "18e104ac-fc5b-4d15-c625-b018593d3e0d"
      },
      "source": [
        "data"
      ],
      "execution_count": null,
      "outputs": [
        {
          "output_type": "execute_result",
          "data": {
            "text/plain": [
              "{'X': array([[0.        , 0.        , 0.        , ..., 0.        , 0.        ,\n",
              "         0.        ],\n",
              "        [0.        , 0.04495253, 0.        , ..., 0.        , 0.        ,\n",
              "         0.        ],\n",
              "        [0.        , 0.        , 0.        , ..., 0.        , 0.        ,\n",
              "         0.        ],\n",
              "        ...,\n",
              "        [0.        , 0.        , 0.        , ..., 0.        , 0.        ,\n",
              "         0.        ],\n",
              "        [0.        , 0.13652946, 0.        , ..., 0.        , 0.        ,\n",
              "         0.        ],\n",
              "        [0.        , 0.        , 0.        , ..., 0.        , 0.        ,\n",
              "         0.        ]]),\n",
              " 'labels': ['earn', 'acq', 'money-fx', 'crude', 'trade'],\n",
              " 'y': array([2, 0, 3, ..., 0, 3, 4], dtype=int32)}"
            ]
          },
          "metadata": {
            "tags": []
          },
          "execution_count": 32
        }
      ]
    },
    {
      "cell_type": "code",
      "metadata": {
        "colab": {
          "base_uri": "https://localhost:8080/"
        },
        "id": "BGtNtui6nfih",
        "outputId": "b518916e-a5d6-457a-b83b-b846fa83418c"
      },
      "source": [
        "print(len(data['X']))\n",
        "print(len(data['y']))\n",
        "print(data['labels'])\n",
        "print(len([x for x in data['y'] if x == 1])) # сколько изображений в классе"
      ],
      "execution_count": null,
      "outputs": [
        {
          "output_type": "stream",
          "text": [
            "1800\n",
            "1800\n",
            "['earn', 'acq', 'money-fx', 'crude', 'trade']\n",
            "360\n"
          ],
          "name": "stdout"
        }
      ]
    },
    {
      "cell_type": "code",
      "metadata": {
        "id": "zZqTt-h1si4r"
      },
      "source": [
        "num_pure = 360 # количество нормальных экземпляром\n",
        "# Cписок констант - отношение числа аномалий к нормальным данным\n",
        "# cvalue_list = [0.1, 0.3, 0.5, 0.7, 0.9]\n",
        "cvalue = 0.7\n",
        "num_anomaly = int(num_pure * cvalue) # количество аномальных экземпляров"
      ],
      "execution_count": 5,
      "outputs": []
    },
    {
      "cell_type": "code",
      "metadata": {
        "id": "IZmnEEMI1p61"
      },
      "source": [
        "import numpy as np\n",
        "\n",
        "inlier_class = 0 # выбрали нулевой класс как нормальный\n",
        "\n",
        "# y_test[i] = 1 нормальный класс, 0 иначе\n",
        "y_test = (np.array(y_test_origin) == inlier_class).astype(int)\n",
        "\n",
        "X_test_normal = X_test_origin[y_test==1]\n",
        "X_test_anomaly = X_test_origin[y_test==0][0:num_anomaly]\n",
        "X_test = np.concatenate((X_test_normal, X_test_anomaly))\n",
        "    \n",
        "y_test_normal = y_test[y_test==1]\n",
        "y_test_anomaly = y_test[y_test==0][0:num_anomaly]\n",
        "y_test = [False] * len(X_test_normal) + [True] * num_anomaly"
      ],
      "execution_count": 6,
      "outputs": []
    },
    {
      "cell_type": "code",
      "metadata": {
        "id": "JlVZxcZu_MFn"
      },
      "source": [
        "input_shape = 26147"
      ],
      "execution_count": 7,
      "outputs": []
    },
    {
      "cell_type": "code",
      "metadata": {
        "id": "SrAMz2zZ_QA5"
      },
      "source": [
        "# if np.min(X_test) >= 0.:\n",
        "#     activation = tf.nn.relu\n",
        "# elif np.abs(np.max(X_test)) <= 1.:\n",
        "#     activation = tf.nn.tanh\n",
        "# else:\n",
        "#     activation = tf.nn.leaky_relu"
      ],
      "execution_count": null,
      "outputs": []
    },
    {
      "cell_type": "markdown",
      "metadata": {
        "id": "ztuoAaEcFEQI"
      },
      "source": [
        "# RSRAE"
      ]
    },
    {
      "cell_type": "code",
      "metadata": {
        "colab": {
          "base_uri": "https://localhost:8080/"
        },
        "id": "jt8nXzbSGnbv",
        "outputId": "bdc47476-e29f-4244-973c-54180e2489a9"
      },
      "source": [
        "import numpy as np\n",
        "import tensorflow as tf\n",
        "print(\"Tensorflow version = {}\".format(tf.__version__))\n",
        "\n",
        "from tensorflow.keras import optimizers, Model, activations, Sequential, Input\n",
        "from tensorflow.keras.layers import Layer, Dense, Conv2D, Conv2DTranspose, BatchNormalization, Flatten, Reshape\n",
        "from sklearn.metrics import roc_auc_score, average_precision_score\n",
        "\n",
        "# Задаем random_seed для tensorflow и numpy\n",
        "random_seed = 123\n",
        "tf.random.set_seed(random_seed)\n",
        "np.random.seed(random_seed)"
      ],
      "execution_count": null,
      "outputs": [
        {
          "output_type": "stream",
          "text": [
            "Tensorflow version = 2.3.0\n"
          ],
          "name": "stdout"
        }
      ]
    },
    {
      "cell_type": "markdown",
      "metadata": {
        "id": "xaCvpNN1TosT"
      },
      "source": [
        "## RSR layer"
      ]
    },
    {
      "cell_type": "code",
      "metadata": {
        "id": "dCskSfxM_Y9j"
      },
      "source": [
        "class RSR(Layer):\n",
        "    \"\"\"Robust subspace recovery layer.\"\"\"\n",
        "    def __init__(self, intrinsic_size ,name = \"rsr\", **kwargs):\n",
        "        \"\"\"intrinsic_size: размерность скрытого представления z\"\"\" \n",
        "        super(RSR, self).__init__(name = name, **kwargs)\n",
        "        self.flatten = Flatten()\n",
        "        self.intrinsic_size = intrinsic_size\n",
        "        \n",
        "    def build(self, input_shape):\n",
        "        \"\"\"Определяет веса слоя\"\"\"\n",
        "        self.A = self.add_weight(name=\"A\", shape=[int(input_shape[-1]),\n",
        "                                                  self.intrinsic_size],\n",
        "                                 initializer='random_normal',)\n",
        "        # self.A = tf.Variable(tf.random.normal((int(input_shape[-1]), self.intrinsic_size)),\n",
        "        #                     name=\"layer_rsr\")\n",
        "        \n",
        "    def call(self, y):\n",
        "        \"\"\"Логика слоя\"\"\"\n",
        "        y = self.flatten(y)\n",
        "        return (tf.linalg.matmul(y, self.A), self.A)"
      ],
      "execution_count": null,
      "outputs": []
    },
    {
      "cell_type": "markdown",
      "metadata": {
        "id": "YXHl_gKKHzg4"
      },
      "source": [
        "## $l_{2}$ нормализация\n",
        "\n"
      ]
    },
    {
      "cell_type": "code",
      "metadata": {
        "colab": {
          "base_uri": "https://localhost:8080/"
        },
        "id": "5VYJ1Ygt4Ket",
        "outputId": "334b1d2e-a49d-40b8-e932-6b072a5a5da0"
      },
      "source": [
        "# Пример \n",
        "a = np.array([[1., 2., 3.], [4., 5., 6.]])\n",
        "a = tf.convert_to_tensor(a, dtype=tf.float64)\n",
        "print(a)\n",
        "print(tf.math.l2_normalize(a, axis=0))\n",
        "print(tf.math.l2_normalize(a, axis=1))"
      ],
      "execution_count": null,
      "outputs": [
        {
          "output_type": "stream",
          "text": [
            "tf.Tensor(\n",
            "[[1. 2. 3.]\n",
            " [4. 5. 6.]], shape=(2, 3), dtype=float64)\n",
            "tf.Tensor(\n",
            "[[0.24253563 0.37139068 0.4472136 ]\n",
            " [0.9701425  0.92847669 0.89442719]], shape=(2, 3), dtype=float64)\n",
            "tf.Tensor(\n",
            "[[0.26726124 0.53452248 0.80178373]\n",
            " [0.45584231 0.56980288 0.68376346]], shape=(2, 3), dtype=float64)\n"
          ],
          "name": "stdout"
        }
      ]
    },
    {
      "cell_type": "markdown",
      "metadata": {
        "id": "xZwtzKVX4VR6"
      },
      "source": [
        "Видим, что:  \n",
        "$1 / \\sqrt{(1^2 + 4^2)} = 0.24253562503$  \n",
        "$1 / \\sqrt{(1^2 + 2^2 + 3^2)} = 0.26726124191$\n",
        "\n",
        "Так как мы нормализуем имеено вектора, соответсвующие признакам, то для матрицы размерности $N \\times inputdimension$ нам надо нормализовать по axis=-1(axis=1), чтобы нормализация происходила для каждого экземпляра выборки.  \n",
        "\n",
        "В результате $\\ell_2$ нормализации признаки каждого экземпляра будут в отрезке [-1; 1]"
      ]
    },
    {
      "cell_type": "code",
      "metadata": {
        "id": "HA_Sykh8HFhp"
      },
      "source": [
        "class renormalization(Layer):\n",
        "    \"\"\"Слой l_2 нормализации, который будет применяться к выходу RSR layer.\"\"\"\n",
        "    def __init__(self, name=\"renormalization\", **kwargs):\n",
        "        super(renormalization, self).__init__(name=name, **kwargs)\n",
        "\n",
        "    def call(self, y):\n",
        "        z = tf.math.l2_normalize(y, axis=-1)\n",
        "        return z"
      ],
      "execution_count": null,
      "outputs": []
    },
    {
      "cell_type": "markdown",
      "metadata": {
        "id": "tEUI8IZ9IB3i"
      },
      "source": [
        "## Модель автоэнкодера RSRAE\n",
        "***Encoder*** представляет собой полносвязную сеть с размером (32, 64, 128).\n",
        "\n",
        "***RSR layer*** линейно отображает выход encoder в размерность 10.\n",
        "\n",
        "***Decoder*** представляет собой полносвязную сеть с размером (128, 64, 32, D), где D - размерность входных данных. \n",
        "\n",
        "***Batch normalization*** применяется к каждому слою *encoder* и *decoder*.\n",
        "Перед применением *decoder* выход ***RSR layer*** - $\\ell_{2,1}$ нормализуется."
      ]
    },
    {
      "cell_type": "code",
      "metadata": {
        "id": "E6LBpZkv6tmT"
      },
      "source": [
        "def autoencoder(input_dimension,\n",
        "                hidden_layer_dimensions,\n",
        "                activation='relu',\n",
        "                bn=True, # применять BatchNormalization?\n",
        "                intrinsic_size=10, # размерность скрытого представления z\n",
        "                normalize=True, # применять l_2,1 нормализацию к скрытому представлению z?\n",
        "                ):\n",
        "    \n",
        "    # Input layer\n",
        "    input_data = Input(shape=(input_dimension), name='x_input')\n",
        "    x = input_data\n",
        "\n",
        "    # Encoder\n",
        "    x = Dense(hidden_layer_dimensions[0], activation=activation,\n",
        "              name='encoder_0')(x)\n",
        "    if bn:\n",
        "        x = BatchNormalization(name=\"encoder_bn_layer_0\")(x)\n",
        "\n",
        "    x = Dense(hidden_layer_dimensions[1], activation=activation,\n",
        "              name='encoder_1')(x)\n",
        "    if bn:\n",
        "        x = BatchNormalization(name=\"encoder_bn_layer_1\")(x)\n",
        "\n",
        "    x = Dense(hidden_layer_dimensions[2], activation=activation,\n",
        "              name='encoder_2')(x)\n",
        "    if bn:\n",
        "        x = BatchNormalization(name=\"encoder_bn_layer_2\")(x)\n",
        "\n",
        "    z = x\n",
        "\n",
        "    # RSR layer\n",
        "    z_rsr, A = RSR(intrinsic_size=intrinsic_size)(z)\n",
        "    print(type(A))\n",
        "    if normalize:\n",
        "        z_tilde = renormalization()(z_rsr)\n",
        "    else:\n",
        "        z_tilde = z_rsr\n",
        "\n",
        "    # Decoder\n",
        "    x_tilde = z_tilde\n",
        "\n",
        "    x_tilde = Dense(hidden_layer_dimensions[2], activation=activation,\n",
        "              name='decoder_2')(x_tilde)\n",
        "    if bn:\n",
        "        x_tilde = BatchNormalization(name=\"decoder_bn_layer_2\")(x_tilde)\n",
        "    \n",
        "    x_tilde = Dense(hidden_layer_dimensions[1], activation=activation,\n",
        "              name='decoder_1')(x_tilde)\n",
        "    if bn:\n",
        "        x_tilde = BatchNormalization(name=\"decoder_bn_layer_1\")(x_tilde)\n",
        "    \n",
        "    x_tilde = Dense(hidden_layer_dimensions[0], activation=activation,\n",
        "              name='decoder_0')(x_tilde)\n",
        "    if bn:\n",
        "        x_tilde = BatchNormalization(name=\"decoder_bn_layer_0\")(x_tilde)\n",
        "    \n",
        "    x_tilde = Dense(input_dimension, activation=activation,\n",
        "              name='x_tilde_output')(x_tilde)\n",
        "    \n",
        "    return input_data, z, z_rsr, z_tilde, x_tilde"
      ],
      "execution_count": null,
      "outputs": []
    },
    {
      "cell_type": "code",
      "metadata": {
        "id": "QLd2rBwuPzUl"
      },
      "source": [
        "def get_autoencoder_model(\n",
        "    input_dimension,\n",
        "    hidden_layer_dimensions,\n",
        "    activation='relu',\n",
        "    bn=True, # применять BatchNormalization?\n",
        "    intrinsic_size=10, # размерность скрытого представления z\n",
        "    normalize=True, # применять l_2,1 нормализацию к скрытому представлению z?\n",
        "    ):\n",
        "    input_data, z, z_rsr, z_tilde, x_tilde = autoencoder(input_dimension,\n",
        "                                             hidden_layer_dimensions,\n",
        "                                             activation,\n",
        "                                             bn,\n",
        "                                             intrinsic_size,\n",
        "                                             normalize)\n",
        "    return Model(inputs=input_data, outputs=x_tilde, name='AE')"
      ],
      "execution_count": null,
      "outputs": []
    },
    {
      "cell_type": "markdown",
      "metadata": {
        "id": "wX24YEbUT3T0"
      },
      "source": [
        "## Задание гиперпараметров"
      ]
    },
    {
      "cell_type": "code",
      "metadata": {
        "id": "WgaSKjH2UO0O"
      },
      "source": [
        "input_dimension = input_shape\n",
        "hidden_layer_dimensions = [32, 64, 128] "
      ],
      "execution_count": null,
      "outputs": []
    },
    {
      "cell_type": "markdown",
      "metadata": {
        "id": "krGqRdc0TdcM"
      },
      "source": [
        "## Рисуем архитектуру Автоэнкодера"
      ]
    },
    {
      "cell_type": "code",
      "metadata": {
        "colab": {
          "base_uri": "https://localhost:8080/",
          "height": 1000
        },
        "id": "NPTSfVJnUVOO",
        "outputId": "49bc05fd-d854-400c-ba9b-a42e6d1425d6"
      },
      "source": [
        "from keras.utils import plot_model\n",
        "autoencoder_model = get_autoencoder_model(input_dimension=input_shape,\n",
        "                                          hidden_layer_dimensions=[32, 64, 128])\n",
        "plot_model(autoencoder_model, to_file='autoencoder.png', show_shapes=True)\n",
        "from IPython.display import Image\n",
        "Image(filename='autoencoder.png')"
      ],
      "execution_count": null,
      "outputs": [
        {
          "output_type": "stream",
          "text": [
            "<class 'tensorflow.python.ops.resource_variable_ops.ResourceVariable'>\n",
            "(None, 10)\n"
          ],
          "name": "stdout"
        },
        {
          "output_type": "execute_result",
          "data": {
            "image/png": "[encoded data removed]",
            "text/plain": [
              "<IPython.core.display.Image object>"
            ]
          },
          "metadata": {
            "tags": []
          },
          "execution_count": 18
        }
      ]
    },
    {
      "cell_type": "code",
      "metadata": {
        "colab": {
          "base_uri": "https://localhost:8080/"
        },
        "id": "cVdyufFJe18o",
        "outputId": "e93ad392-138a-4ec6-d095-4a0012237816"
      },
      "source": [
        "# Так можно взять веса на определенном по имени слое\n",
        "autoencoder_model.get_layer('rsr').get_weights()"
      ],
      "execution_count": null,
      "outputs": [
        {
          "output_type": "execute_result",
          "data": {
            "text/plain": [
              "[array([[ 0.07020293, -0.00510678,  0.05250229, ..., -0.01855698,\n",
              "         -0.00788971,  0.02096272],\n",
              "        [ 0.14262943,  0.02622344, -0.01425395, ...,  0.01595254,\n",
              "         -0.04768373,  0.05016956],\n",
              "        [-0.03377154, -0.0814691 , -0.01141486, ...,  0.01481228,\n",
              "          0.00903452, -0.01535358],\n",
              "        ...,\n",
              "        [ 0.05193459,  0.0512598 ,  0.07801345, ..., -0.01644316,\n",
              "          0.04638854,  0.0180677 ],\n",
              "        [-0.01629409,  0.04932985, -0.00814126, ...,  0.07287434,\n",
              "          0.01898942, -0.00117054],\n",
              "        [-0.04878144,  0.01758119, -0.0379256 , ..., -0.04490825,\n",
              "         -0.05983667,  0.00798384]])]"
            ]
          },
          "metadata": {
            "tags": []
          },
          "execution_count": 19
        }
      ]
    },
    {
      "cell_type": "code",
      "metadata": {
        "colab": {
          "base_uri": "https://localhost:8080/",
          "height": 167
        },
        "id": "k7IlhSC9glED",
        "outputId": "022cedb2-c1ef-4b6d-8698-7fa3829b56ed"
      },
      "source": [
        "autoencoder_model.get_layer['rsr']"
      ],
      "execution_count": null,
      "outputs": [
        {
          "output_type": "error",
          "ename": "TypeError",
          "evalue": "ignored",
          "traceback": [
            "\u001b[0;31m---------------------------------------------------------------------------\u001b[0m",
            "\u001b[0;31mTypeError\u001b[0m                                 Traceback (most recent call last)",
            "\u001b[0;32m<ipython-input-20-572f6e08fd6b>\u001b[0m in \u001b[0;36m<module>\u001b[0;34m()\u001b[0m\n\u001b[0;32m----> 1\u001b[0;31m \u001b[0mautoencoder_model\u001b[0m\u001b[0;34m.\u001b[0m\u001b[0mget_layer\u001b[0m\u001b[0;34m[\u001b[0m\u001b[0;34m'rsr'\u001b[0m\u001b[0;34m]\u001b[0m\u001b[0;34m.\u001b[0m\u001b[0mA\u001b[0m\u001b[0;34m\u001b[0m\u001b[0;34m\u001b[0m\u001b[0m\n\u001b[0m",
            "\u001b[0;31mTypeError\u001b[0m: 'method' object is not subscriptable"
          ]
        }
      ]
    },
    {
      "cell_type": "markdown",
      "metadata": {
        "id": "L8ofGEfU9a71"
      },
      "source": [
        "## Функции ошибок\n"
      ]
    },
    {
      "cell_type": "markdown",
      "metadata": {
        "id": "OoIdpII6-o0L"
      },
      "source": [
        "### Функция потери реконструкции автоэнкодера -  $L^p_{AE}(\\xi, A, \\cal{D})$ $=$ $\\sum\\limits_{t=1}^N\\|x^{(t)} - \\bar{x}^{(t)}\\|^p_2$\n",
        "$p = 1$"
      ]
    },
    {
      "cell_type": "code",
      "metadata": {
        "colab": {
          "base_uri": "https://localhost:8080/"
        },
        "id": "HZJJdiS-Gop_",
        "outputId": "38d31661-9699-4d01-fb33-90c14f2faa4b"
      },
      "source": [
        "# Пример tf.reduce_mean\n",
        "x = tf.constant([[1., 1.], [2., 2.]])\n",
        "print(tf.reduce_mean(x))\n",
        "y = tf.constant([[1., 2.], [3., 4.]])\n",
        "print(tf.reduce_mean(y))"
      ],
      "execution_count": null,
      "outputs": [
        {
          "output_type": "stream",
          "text": [
            "tf.Tensor(1.5, shape=(), dtype=float32)\n",
            "tf.Tensor(2.5, shape=(), dtype=float32)\n"
          ],
          "name": "stdout"
        }
      ]
    },
    {
      "cell_type": "code",
      "metadata": {
        "id": "dROtI_eo9bck"
      },
      "source": [
        "def reconstruction_loss(x, x_tilde, loss_norm_type):\n",
        "        x = tf.reshape(x, shape=[x.shape[0], -1])\n",
        "        x_tilde = tf.reshape(x_tilde, shape=[x_tilde.shape[0], -1])\n",
        "\n",
        "        # axis=1 для tf.norm => вычисление вдоль оси признаков\n",
        "        # tf.math.reduce_mean без параметров - mean от элементов матрицы\n",
        "        if loss_norm_type in ['MSE', 'mse', 'Frob', 'F']:\n",
        "            return tf.math.reduce_mean(tf.math.square(tf.norm(x-x_tilde, \n",
        "                                                              ord=2, axis=1)))\n",
        "        elif loss_norm_type in ['L1', 'l1']:\n",
        "            return tf.math.reduce_mean(tf.norm(x-x_tilde, ord=1, axis=1))\n",
        "        elif loss_norm_type in ['LAD', 'lad', 'L21', 'l21', 'L2', 'l2']:\n",
        "            return tf.math.reduce_mean(tf.norm(x-x_tilde, ord=2, axis=1))\n",
        "        else:\n",
        "            raise Exception(\"Norm type error!\")"
      ],
      "execution_count": null,
      "outputs": []
    },
    {
      "cell_type": "markdown",
      "metadata": {
        "id": "H3wZdTOqJGVH"
      },
      "source": [
        "### Функция потери RSR layer -  $L_{RSR_1}(z, A)$ $=$ $\\sum\\limits_{t=1}^N\\|z^{(t)} - A^tAz^{(t)}\\|^q_2$ где $z_{rsr} = Az^{(t)}$\n",
        "$q = 1$"
      ]
    },
    {
      "cell_type": "code",
      "metadata": {
        "id": "cKcFdgI_JGyx"
      },
      "source": [
        "def rsr1_loss(z, z_rsr, A, loss_norm_type):\n",
        "    z_rsr = tf.matmul(z_rsr, tf.transpose(A))\n",
        "\n",
        "    if loss_norm_type in ['MSE', 'mse', 'Frob', 'F']:\n",
        "        return tf.math.reduce_mean(tf.math.square(tf.norm(z-z.rsr, ord=2, \n",
        "                                                          axis=1)))\n",
        "    elif loss_norm_type in ['L1', 'l1']:\n",
        "        return tf.math.reduce_mean(tf.norm(z-z.rsr, ord=1, axis=1))\n",
        "    elif loss_norm_type in ['LAD', 'lad', 'L21', 'l21', 'L2', 'l2']:\n",
        "        return tf.math.reduce_mean(tf.norm(z-z.rsr, ord=2, axis=1))\n",
        "    else:\n",
        "        raise Exception(\"Norm type error!\")  "
      ],
      "execution_count": null,
      "outputs": []
    },
    {
      "cell_type": "markdown",
      "metadata": {
        "id": "4FzQ104sJA7u"
      },
      "source": [
        "### Функция потери RSR layer -  $L_{RSR_2}(A)$ $=$ $\\|AA^T - I_d\\|_F$"
      ]
    },
    {
      "cell_type": "code",
      "metadata": {
        "id": "K07sPtDjX_x8"
      },
      "source": [
        "def rsr2_loss(A, intrinsic_size):\n",
        "    return tf.math.reduce_mean(tf.math.square(tf.linalg.matmul(\n",
        "        tf.transpose(A), A) - tf.eye(intrinsic_size, dtype=tf.float64)))"
      ],
      "execution_count": null,
      "outputs": []
    },
    {
      "cell_type": "markdown",
      "metadata": {
        "id": "w7hHd6FzZcDs"
      },
      "source": [
        ""
      ]
    },
    {
      "cell_type": "code",
      "metadata": {
        "id": "YPxyEiyTZcsE"
      },
      "source": [
        "def train_step(x):\n",
        "        with tf.GradientTape() as tape1, tf.GradientTape() as tape2, tf.GradientTape() as tape3:\n",
        "            input_data, z, z_rsr, z_tilde, x_tilde = autoencoder(input_dimension,\n",
        "                                                                 hidden_layer_dimensions)\n",
        "            y, y_rsr, z, x_tilde = self.call(x, train)\n",
        "            z = tf.keras.layers.Flatten()(z)\n",
        "            loss = self.reconstruction_error(x, x_tilde)\n",
        "            proj_error = self.proj_error()\n",
        "            pca_error = self.pca_error(y, y_rsr)\n",
        "        \n",
        "        gradients1 = tape1.gradient(loss ,self.trainable_weights)\n",
        "        self.optimizer1.apply_gradients(zip(gradients1, self.trainable_weights))\n",
        "        gradients2 = tape2.gradient(pca_error, self.A)\n",
        "        self.optimizer2.apply_gradients(zip([gradients2], [self.A]))\n",
        "        gradients3 = tape3.gradient(proj_error, self.A)\n",
        "        self.optimizer3.apply_gradients(zip([gradients3], [self.A]))\n",
        "        \n",
        "        return loss"
      ],
      "execution_count": null,
      "outputs": []
    },
    {
      "cell_type": "markdown",
      "metadata": {
        "id": "E6RunSyadXzJ"
      },
      "source": [
        "# Через класс"
      ]
    },
    {
      "cell_type": "markdown",
      "metadata": {
        "id": "pYV6HMQ9deA2"
      },
      "source": [
        "## Импорт необходимых библиотек"
      ]
    },
    {
      "cell_type": "code",
      "metadata": {
        "id": "I0uwcALGwyG6",
        "colab": {
          "base_uri": "https://localhost:8080/"
        },
        "outputId": "f2f88d82-d796-40a1-b14a-224bb225e488"
      },
      "source": [
        "import numpy as np\n",
        "import tensorflow as tf\n",
        "print(\"Tensorflow version = {}\".format(tf.__version__)) # текущая версия tf\n",
        "\n",
        "from tensorflow.keras import Model, optimizers, metrics\n",
        "from tensorflow.keras.layers import Layer, Flatten, Dense, BatchNormalization\n",
        "\n",
        "# from tensorflow.keras import activations, Sequential, Input\n",
        "# from tensorflow.keras.layers import Conv2D, Conv2DTranspose, Reshape\n",
        "# from sklearn.metrics import roc_auc_score, average_precision_score\n",
        "\n",
        "# Задаем random_seed для tensorflow и numpy\n",
        "random_seed = 123\n",
        "tf.random.set_seed(random_seed)\n",
        "np.random.seed(random_seed)\n",
        "\n",
        "# Sets the default float type\n",
        "tf.keras.backend.set_floatx('float64')\n",
        "\n",
        "# Set random seed\n",
        "tf.random.set_seed(123)\n",
        "np.random.seed(123)"
      ],
      "execution_count": 7,
      "outputs": [
        {
          "output_type": "stream",
          "text": [
            "Tensorflow version = 2.3.0\n"
          ],
          "name": "stdout"
        }
      ]
    },
    {
      "cell_type": "markdown",
      "metadata": {
        "id": "ql5Yqj2td8pw"
      },
      "source": [
        "## Класс для ***RSR layer***"
      ]
    },
    {
      "cell_type": "code",
      "metadata": {
        "id": "BRdEZtxid5J9"
      },
      "source": [
        "class RSR(Layer):\n",
        "    \"\"\"\n",
        "    Robust Subspace Recovery (RSR) layer.\n",
        "    Робастный слой, восстанавливающий подпространство. Задача данного слоя - отобразить\n",
        "    закодированные энкодером данные в подпростраство так, чтобы после их обратного\n",
        "    отображения декодером дивергенция между экземпляром исходных данных и его образом,\n",
        "    полученным от автоэнкодера была незначительной для нормального экземпляра и была\n",
        "    большой для аномального экземпляра. \n",
        "\n",
        "    # Example\n",
        "    ```\n",
        "        z_rsr, A = RSR(intrinsic_size=10)(z)\n",
        "    ```\n",
        "    # Arguments\n",
        "        intrinsic_size: размерность z_rsr.\n",
        "    # Input shape\n",
        "        2D tensor with shape: `(n_samples, n_features)` after encoding.\n",
        "    # Output shape\n",
        "        2D tensor with shape: `(n_samples, intrinsic_size)`.\n",
        "    \"\"\"\n",
        "\n",
        "    def __init__(self, intrinsic_size: int, name=\"RSR_layer\", **kwargs):\n",
        "        super(RSR, self).__init__(name=name, **kwargs)\n",
        "        # Если присваивать экземпляр слоя, как атрибут другого слоя, то хорошей\n",
        "        # практикой делать создавать такие подслои в __init__ (поскольку подслои обычно\n",
        "        # имеют метод build, они будут собраны, когда будет собран внешний слой). \n",
        "        self.flatten = Flatten()\n",
        "        self.intrinsic_size = intrinsic_size\n",
        "        \n",
        "    def build(self, input_shape):\n",
        "        \"\"\"Определяет веса слоя, а именно задает матрицу A.\"\"\"\n",
        "        self.A = self.add_weight(name=\"A\",\n",
        "                                 shape=[int(input_shape[-1]), self.intrinsic_size],\n",
        "                                 initializer='random_normal',\n",
        "                                 trainable=True,)\n",
        "        \n",
        "    def call(self, z):\n",
        "        \"\"\"\n",
        "        Логика слоя. Умножение выхода энкодера - вектора z на матрицу A.\n",
        "        Возвращает отображенный z_rsr и матрицу A, которая потребуется далее.\n",
        "        \"\"\"\n",
        "        z = self.flatten(z)\n",
        "        z_rsr = tf.linalg.matmul(z, self.A) \n",
        "        return z_rsr\n",
        "\n",
        "    # Опционально, пользовательский слой может быть сериализован реализацией метода \n",
        "    # get_config и метода класса (@classmethod) from_config.\n",
        "    def get_config(self):\n",
        "        config = super(Layer, self).get_config()\n",
        "        config.update({'intrinsic_size': self.intrinsic_size})\n",
        "        return config\n",
        "\n",
        "    # На самом деле нет необходимости определять `from_config` здесь, поскольку \n",
        "    # возвращение `cls(**config)` - поведение по умолчанию.\n",
        "    @classmethod\n",
        "    def from_config(cls, config):\n",
        "        return cls(**config)"
      ],
      "execution_count": 8,
      "outputs": []
    },
    {
      "cell_type": "markdown",
      "metadata": {
        "id": "puxvP1wWtM5p"
      },
      "source": [
        "## Слой для $\\ell_2$ нормализации данных, полученных после применения ***RSR layer***"
      ]
    },
    {
      "cell_type": "code",
      "metadata": {
        "id": "9S3aPZkctOjZ"
      },
      "source": [
        "class L2Normalization(Layer):\n",
        "    \"\"\"Слой для l_2 нормализации, который будет применяться к выходу RSR layer.\"\"\"\n",
        "    \n",
        "    def __init__(self, name=\"L2Normalization\", **kwargs):\n",
        "        super(L2Normalization, self).__init__(name=name, **kwargs)\n",
        "\n",
        "    def call(self, z_rsr):\n",
        "        \"\"\"\n",
        "        Выполняет l_2 нормализацию векторов, полученных после применения RSR layer\n",
        "        вдоль оси, соответсвующей числу признаков. То есть производится нормализация\n",
        "        каждого экземпляра выборки, в результате которой признаки экземпляров будут\n",
        "        находиться в отрезке [-1; 1].\n",
        "        \"\"\"\n",
        "        z_tilde = tf.math.l2_normalize(z_rsr, axis=-1)\n",
        "        return z_tilde\n",
        "\n",
        "    # Опционально, пользовательский слой может быть сериализован реализацией метода \n",
        "    # get_config и метода класса (@classmethod) from_config.\n",
        "    def get_config(self):\n",
        "        config = super(Layer, self).get_config()\n",
        "        return config\n",
        "\n",
        "    # На самом деле нет необходимости определять `from_config` здесь, поскольку \n",
        "    # возвращение `cls(**config)` - поведение по умолчанию.\n",
        "    @classmethod\n",
        "    def from_config(cls, config):\n",
        "        return cls(**config)"
      ],
      "execution_count": 9,
      "outputs": []
    },
    {
      "cell_type": "markdown",
      "metadata": {
        "id": "XPzXP-hDq0kL"
      },
      "source": [
        "## Класс для ***Encoder***"
      ]
    },
    {
      "cell_type": "code",
      "metadata": {
        "id": "2p4t2j4Jq72C"
      },
      "source": [
        "class Encoder(Layer):\n",
        "    \"\"\"\n",
        "    Класс для encoder модели RSRAE. Отображает исходные данные input_data в вектор z,\n",
        "    кодирующий исходные данные.\n",
        "    \"\"\"\n",
        "\n",
        "    def __init__(self,\n",
        "                 hidden_layer_dimensions,\n",
        "                 activation,\n",
        "                 flag_bn=True, \n",
        "                 name=\"Encoder\",\n",
        "                 **kwargs):\n",
        "        super(Encoder, self).__init__(name=name, **kwargs)\n",
        "        self.hidden_layer_dimensions = hidden_layer_dimensions\n",
        "        self.activation = activation\n",
        "        self.flag_bn = flag_bn\n",
        "        self.dense0 = Dense(hidden_layer_dimensions[0], activation=activation,\n",
        "                            name='encoder_0')\n",
        "        self.dense1 = Dense(hidden_layer_dimensions[1], activation=activation,\n",
        "                            name='encoder_1')\n",
        "        self.dense2 = Dense(hidden_layer_dimensions[2], activation=activation,\n",
        "                            name='encoder_2')\n",
        "        if flag_bn:\n",
        "            self.batch_normalization0 = BatchNormalization(name=\"encoder_bn_layer_0\")\n",
        "            self.batch_normalization1 = BatchNormalization(name=\"encoder_bn_layer_1\")\n",
        "            self.batch_normalization2 = BatchNormalization(name=\"encoder_bn_layer_2\")\n",
        "\n",
        "    def call(self, inputs):\n",
        "        \"\"\"Отображние исходных данных x -> в закодированный вектор z.\"\"\"\n",
        "        x = inputs\n",
        "        x = self.dense0(x)\n",
        "        if self.flag_bn:\n",
        "            x = self.batch_normalization0(x)\n",
        "        x = self.dense1(x)\n",
        "        if self.flag_bn:\n",
        "            x = self.batch_normalization1(x)\n",
        "        x = self.dense2(x)\n",
        "        if self.flag_bn:\n",
        "            x = self.batch_normalization2(x)\n",
        "        z = x\n",
        "        return z\n",
        "    \n",
        "    # Опционально, пользовательский слой может быть сериализован реализацией метода \n",
        "    # get_config и метода класса (@classmethod) from_config.\n",
        "    def get_config(self):\n",
        "        config = super(Layer, self).get_config()\n",
        "        config.update({'hidden_layer_dimensions': self.hidden_layer_dimensions})\n",
        "        config.update({'activation': self.activation})\n",
        "        config.update({'flag_bn': self.flag_bn})\n",
        "        return config\n",
        "\n",
        "    # На самом деле нет необходимости определять `from_config` здесь, поскольку \n",
        "    # возвращение `cls(**config)` - поведение по умолчанию.\n",
        "    @classmethod\n",
        "    def from_config(cls, config):\n",
        "        return cls(**config)"
      ],
      "execution_count": 10,
      "outputs": []
    },
    {
      "cell_type": "markdown",
      "metadata": {
        "id": "Ic1-h0iZfejo"
      },
      "source": [
        "## Класс для ***Decoder***"
      ]
    },
    {
      "cell_type": "code",
      "metadata": {
        "id": "ETUH7JYdhjUA"
      },
      "source": [
        "class Decoder(Layer):\n",
        "    \"\"\"\n",
        "    Класс для decoder модели RSRAE. Отображает вектор z_rsr, полученный в результате\n",
        "    кодирования исходных данных в вектор z, и последующим отображением вектора z при\n",
        "    помощи RSR layer (x -> z -> z_rsr), обратно в пространство исходных данных \n",
        "    (z_rsr -> x_tilde).\n",
        "    \"\"\"\n",
        "\n",
        "    def __init__(self,\n",
        "                 inputs_dim,\n",
        "                 hidden_layer_dimensions,\n",
        "                 activation,\n",
        "                 flag_bn=True, \n",
        "                 name=\"Decoder\",\n",
        "                 **kwargs):\n",
        "        super(Decoder, self).__init__(name=name, **kwargs)\n",
        "        self.hidden_layer_dimensions = hidden_layer_dimensions\n",
        "        self.activation = activation\n",
        "        self.flag_bn = flag_bn\n",
        "        self.dense2 = Dense(hidden_layer_dimensions[2], activation=activation,\n",
        "                            name='decoder_2')\n",
        "        self.dense1 = Dense(hidden_layer_dimensions[1], activation=activation,\n",
        "                            name='decoder_1')\n",
        "        self.dense0 = Dense(hidden_layer_dimensions[0], activation=activation,\n",
        "                            name='decoder_0')\n",
        "        self.dense_output = Dense(inputs_dim, activation=activation,\n",
        "                            name='decoder_output')\n",
        "        if flag_bn:\n",
        "            self.batch_normalization2 = BatchNormalization(name=\"decoder_bn_layer_2\")\n",
        "            self.batch_normalization1 = BatchNormalization(name=\"decoder_bn_layer_1\")\n",
        "            self.batch_normalization0 = BatchNormalization(name=\"decoder_bn_layer_0\")\n",
        "    def call(self, inputs):\n",
        "        \"\"\"\n",
        "        Отображние z_rsr -> x_tilde, где x_tilde - вектор, лежащий в пространстве\n",
        "        исходных даных.\n",
        "        \"\"\"\n",
        "        z_rsr = inputs\n",
        "        z_rsr = self.dense2(z_rsr)\n",
        "        if self.flag_bn:\n",
        "            z_rsr = self.batch_normalization2(z_rsr)\n",
        "        z_rsr = self.dense1(z_rsr)\n",
        "        if self.flag_bn:\n",
        "            z_rsr = self.batch_normalization1(z_rsr)\n",
        "        z_rsr = self.dense0(z_rsr)\n",
        "        if self.flag_bn:\n",
        "            z_rsr = self.batch_normalization0(z_rsr)\n",
        "        x_tilde = self.dense_output(z_rsr)\n",
        "        return x_tilde\n",
        "    \n",
        "    # Опционально, пользовательский слой может быть сериализован реализацией метода \n",
        "    # get_config и метода класса (@classmethod) from_config.\n",
        "    def get_config(self):\n",
        "        config = super(Layer, self).get_config()\n",
        "        config.update({'hidden_layer_dimensions': self.hidden_layer_dimensions})\n",
        "        config.update({'activation': self.activation})\n",
        "        config.update({'flag_bn': self.flag_bn})\n",
        "        return config\n",
        "\n",
        "    # На самом деле нет необходимости определять `from_config` здесь, поскольку \n",
        "    # возвращение `cls(**config)` - поведение по умолчанию.\n",
        "    @classmethod\n",
        "    def from_config(cls, config):\n",
        "        return cls(**config)"
      ],
      "execution_count": 11,
      "outputs": []
    },
    {
      "cell_type": "markdown",
      "metadata": {
        "id": "jK_gLzI5wQB5"
      },
      "source": [
        "## Класс для модели ***Robust Subspace Recovery AutoEncoder (RSRAE)***"
      ]
    },
    {
      "cell_type": "code",
      "metadata": {
        "id": "-ISY_a4yu-c2"
      },
      "source": [
        "class RSRAE(Model):\n",
        "    \"\"\"\n",
        "    Нейросетевая модель-автоэнкодер для обнаружения аномалий с робастным слоем,\n",
        "    восстанавливающим подпространство (RSR layer между encoder и decoder).\n",
        "    Комбинируем encoder + RSR layer + decoder в end-to-end модель.\n",
        "    \"\"\"\n",
        "\n",
        "    def __init__(self,\n",
        "                 inputs_dim, # размерность вектора признаков\n",
        "                 hidden_layer_dimensions,\n",
        "                 intrinsic_size, # разерность z_rsr после RSR layer\n",
        "                 activation,\n",
        "                 flag_bn=True,\n",
        "                 flag_normalize=True,\n",
        "                 learning_rate=1e-3,\n",
        "                 ae_loss_norm_type='MSE',\n",
        "                 rsr_loss_norm_type='MSE',\n",
        "                 name='RSRAE',\n",
        "                 **kwargs):\n",
        "        super(RSRAE, self).__init__(name=name, **kwargs)\n",
        "        self.inputs_dim = inputs_dim\n",
        "        self.hidden_layer_dimensions = hidden_layer_dimensions\n",
        "        self.intrinsic_size = intrinsic_size\n",
        "        self.activation = activation\n",
        "        self.flag_bn = flag_bn\n",
        "        self.flag_normalize = flag_normalize\n",
        "        self.learning_rate = learning_rate\n",
        "        self.ae_loss_norm_type = ae_loss_norm_type\n",
        "        self.rsr_loss_norm_type = rsr_loss_norm_type\n",
        "        # Для вычисления среднего loss по loss всех батчей в эпохе\n",
        "        self.loss_tracker = metrics.Mean(name=\"loss\")\n",
        "\n",
        "        # Создание экземпляров оптимизаторов\n",
        "        self.optimizer_ae = optimizers.Adam(learning_rate=learning_rate)\n",
        "        self.optimizer_rsr1 = optimizers.Adam(learning_rate=10 * learning_rate)\n",
        "        self.optimizer_rsr2 = optimizers.Adam(learning_rate=10 * learning_rate)\n",
        "\n",
        "        # Слои\n",
        "        self.encoder = Encoder(hidden_layer_dimensions=hidden_layer_dimensions,\n",
        "                               activation=activation,\n",
        "                               flag_bn=flag_bn)\n",
        "        self.rsr = RSR(intrinsic_size=intrinsic_size)\n",
        "        if flag_normalize:\n",
        "            self.l2normalization = L2Normalization()\n",
        "        self.decoder = Decoder(inputs_dim=inputs_dim,\n",
        "                               hidden_layer_dimensions=hidden_layer_dimensions,\n",
        "                               activation=activation,\n",
        "                               flag_bn=flag_bn)\n",
        "        \n",
        "    def call(self, inputs):\n",
        "        z = self.encoder(inputs)\n",
        "        z_rsr = self.rsr(z)\n",
        "        if self.flag_normalize:\n",
        "            z_rsr = self.l2normalization(z_rsr)\n",
        "        x_tilde = self.decoder(z_rsr)\n",
        "        return z, z_rsr, x_tilde\n",
        "\n",
        "    def ae_loss(self, x, x_tilde):\n",
        "        \"\"\"Функция потерь реконструкции автоэнкодера - L_AE.\"\"\"\n",
        "\n",
        "        x = tf.reshape(x, (tf.shape(x)[0], -1))\n",
        "        x_tilde = tf.reshape(x_tilde, (tf.shape(x_tilde)[0], -1))\n",
        "\n",
        "        # axis=1 для tf.norm => вычисление вдоль оси признаков\n",
        "        # tf.math.reduce_mean без параметров - mean от элементов матрицы\n",
        "        if self.ae_loss_norm_type in ['MSE', 'mse', 'Frob', 'F']:\n",
        "            return tf.math.reduce_mean(tf.math.square(tf.norm(x-x_tilde, \n",
        "                                                              ord=2, axis=1)))\n",
        "        elif self.ae_loss_norm_type in ['L1', 'l1']:\n",
        "            return tf.math.reduce_mean(tf.norm(x-x_tilde, ord=1, axis=1))\n",
        "        elif self.ae_loss_norm_type in ['LAD', 'lad', 'L21', 'l21', 'L2', 'l2']:\n",
        "            return tf.math.reduce_mean(tf.norm(x-x_tilde, ord=2, axis=1))\n",
        "        else:\n",
        "            raise Exception(\"Norm type error!\")\n",
        "    \n",
        "    def rsr1_loss(self, z, z_rsr):\n",
        "        \"\"\"Функция потери для RSR layer - L_RSR1.\"\"\"\n",
        "        z_rsr = tf.matmul(z_rsr, tf.transpose(self.rsr.A))\n",
        "\n",
        "        if self.rsr_loss_norm_type in ['MSE', 'mse', 'Frob', 'F']:\n",
        "            return tf.math.reduce_mean(tf.math.square(tf.norm(z-z_rsr, ord=2, \n",
        "                                                            axis=1)))\n",
        "        elif self.rsr_loss_norm_type in ['L1', 'l1']:\n",
        "            return tf.math.reduce_mean(tf.norm(z-z_rsr, ord=1, axis=1))\n",
        "        elif self.rsr_loss_norm_type in ['LAD', 'lad', 'L21', 'l21', 'L2', 'l2']:\n",
        "            return tf.math.reduce_mean(tf.norm(z-z_rsr, ord=2, axis=1))\n",
        "        else:\n",
        "            raise Exception(\"Norm type error!\")\n",
        "    \n",
        "    def rsr2_loss(self):\n",
        "        \"\"\"Функция потери для RSR layer - L_RSR2.\"\"\"\n",
        "        A = self.rsr.A\n",
        "        A_T = tf.transpose(A)\n",
        "        I = tf.eye(self.intrinsic_size, dtype=tf.float64)\n",
        "        return tf.math.reduce_mean(tf.math.square(tf.linalg.matmul(A_T, A) - I))\n",
        "        \n",
        "    def gradients(model, inputs, targets):\n",
        "        with tf.GradientTape() as tape:\n",
        "            loss_value = loss_fn(model, inputs, targets)\n",
        "        return tape.gradient(loss_value, model.trainable_variables)\n",
        "    \n",
        "    @tf.function()\n",
        "    def train_step(self, x):\n",
        "        \"\"\"\n",
        "        Override the method. Будет вызываться при 'model.fit()'.\n",
        "        Один шаг обучения, на котором вычисляются функции потерь для автоэнкодера и\n",
        "        RSR layer, и в соотвествии с ними обновляются значения обучаемых переменных - \n",
        "        весов нейросети и матрицы A соответсвенно. Будет вызываться от одного батча.\n",
        "        Заметим, что в этом методе мы используем пользовательские оптимизаторы и функции\n",
        "        потерь, поэтому перед тренировкой метод compile вызывать не придется.\n",
        "        \"\"\"\n",
        "\n",
        "        # tf.GradientTape() - записывает операции для автоматического дифференцирования\n",
        "\n",
        "        # По умолчанию persistent=False и удерживаемые GradientTape, высвобождаются,\n",
        "        # как только вызывается метод GradientTape.gradient(). Чтобы вычислить несколько\n",
        "        # градиентов за одно вычисление, требуется задать persistent=true. Это позволяет\n",
        "        # многократно вызывать метод gradient(), тогда требуется самостоятельно\n",
        "        # освободить ресурсы с помощью 'del tape'.\n",
        "\n",
        "        # watch_accessed_variables=True => автоматическое отслеживание всех обучаемых\n",
        "        # переменные, к которым осуществляется доступ. Так градиенты могут быть\n",
        "        # запрошены c любого вычисленного результата в tape.\n",
        "        with tf.GradientTape(persistent=True, watch_accessed_variables=True) as tape:\n",
        "            # Здесь требуется запустить прямой проход нейросети. Операции применяемые\n",
        "            # при проходе к входных данным будут записаны на GradientTape. \n",
        "            z, z_rsr, x_tilde = self.call(x) # прямой проход RSRAE\n",
        "            z = tf.keras.layers.Flatten()(z) # вроде для текстовых данных необязательно\n",
        "            # Вычисляем значения функций потерь для этого прохода\n",
        "            loss_ae = self.ae_loss(x, x_tilde)\n",
        "            loss_rsr1 = self.rsr1_loss(z, z_rsr)\n",
        "            loss_rsr2 = self.rsr2_loss()\n",
        "  \n",
        "        # Метод gradient вычисляет градиенты обучаемых параметров(весов) для минимизации\n",
        "        # функции потерь, используя операции, записанные в контексте этого tape.\n",
        "        gradients_ae = tape.gradient(loss_ae, self.trainable_weights)\n",
        "        gradients_rsr1 = tape.gradient(loss_rsr1, self.rsr.A)\n",
        "        gradients_rsr2 = tape.gradient(loss_rsr2, self.rsr.A)\n",
        "\n",
        "        # Обновим значения обучаемых переменных - градиентный шаг чтобы min loss.\n",
        "        self.optimizer_ae.apply_gradients(grads_and_vars=\n",
        "                                          zip(gradients_ae, self.trainable_weights))\n",
        "        self.optimizer_rsr1.apply_gradients(grads_and_vars=\n",
        "                                            zip([gradients_rsr1], [self.rsr.A]))\n",
        "        self.optimizer_rsr2.apply_gradients(grads_and_vars=\n",
        "                                            zip([gradients_rsr2], [self.rsr.A]))\n",
        "        \n",
        "        self.loss_tracker.update_state(loss_ae) # обновляем средний loss по батчам\n",
        "\n",
        "        del tape # persistent=True => требуется самостоятельно освободить ресурсы\n",
        "        return {\"loss\": self.loss_tracker.result()}\n",
        "\n",
        "    @property\n",
        "    def metrics(self):\n",
        "        \"\"\"\n",
        "        В пару к train_step. Сбрасывает метрики (`reset_states()`) в начале каждой\n",
        "        эпохи обучения с помощью 'fit()'. Без этого свойства 'result()' будет \n",
        "        возвращать среднее значение с начала обучения.\n",
        "        \"\"\"\n",
        "        return [self.loss_tracker]"
      ],
      "execution_count": 12,
      "outputs": []
    },
    {
      "cell_type": "markdown",
      "metadata": {
        "id": "iiRE7Oa4jkNr"
      },
      "source": [
        "## Функция для вычисления ***cosine_similarity***:"
      ]
    },
    {
      "cell_type": "code",
      "metadata": {
        "id": "CRMreCNJzOFv",
        "colab": {
          "base_uri": "https://localhost:8080/"
        },
        "outputId": "00760ac1-92f4-449e-d242-211455ac3f11"
      },
      "source": [
        "model_rsrae = RSRAE(inputs_dim=X_test.shape[-1],\n",
        "                    hidden_layer_dimensions=[32, 64, 128],\n",
        "                    intrinsic_size=10,\n",
        "                    activation='relu',\n",
        "                    learning_rate=25e-5)\n",
        "model_rsrae.compile()\n",
        "model_rsrae.fit(x=X_test,\n",
        "                batch_size=128,\n",
        "                epochs=200)"
      ],
      "execution_count": 40,
      "outputs": [
        {
          "output_type": "stream",
          "text": [
            "Epoch 1/200\n",
            "5/5 [==============================] - 0s 33ms/step - loss: 1.0291\n",
            "Epoch 2/200\n",
            "5/5 [==============================] - 0s 26ms/step - loss: 0.9909\n",
            "Epoch 3/200\n",
            "5/5 [==============================] - 0s 22ms/step - loss: 0.9862\n",
            "Epoch 4/200\n",
            "5/5 [==============================] - 0s 19ms/step - loss: 0.9822\n",
            "Epoch 5/200\n",
            "5/5 [==============================] - 0s 20ms/step - loss: 0.9785\n",
            "Epoch 6/200\n",
            "5/5 [==============================] - 0s 20ms/step - loss: 0.9750\n",
            "Epoch 7/200\n",
            "5/5 [==============================] - 0s 20ms/step - loss: 0.9716\n",
            "Epoch 8/200\n",
            "5/5 [==============================] - 0s 21ms/step - loss: 0.9681\n",
            "Epoch 9/200\n",
            "5/5 [==============================] - 0s 22ms/step - loss: 0.9647\n",
            "Epoch 10/200\n",
            "5/5 [==============================] - 0s 20ms/step - loss: 0.9612\n",
            "Epoch 11/200\n",
            "5/5 [==============================] - 0s 20ms/step - loss: 0.9578\n",
            "Epoch 12/200\n",
            "5/5 [==============================] - 0s 20ms/step - loss: 0.9545\n",
            "Epoch 13/200\n",
            "5/5 [==============================] - 0s 21ms/step - loss: 0.9510\n",
            "Epoch 14/200\n",
            "5/5 [==============================] - 0s 20ms/step - loss: 0.9470\n",
            "Epoch 15/200\n",
            "5/5 [==============================] - 0s 17ms/step - loss: 0.9447\n",
            "Epoch 16/200\n",
            "5/5 [==============================] - 0s 20ms/step - loss: 0.9423\n",
            "Epoch 17/200\n",
            "5/5 [==============================] - 0s 20ms/step - loss: 0.9386\n",
            "Epoch 18/200\n",
            "5/5 [==============================] - 0s 21ms/step - loss: 0.9351\n",
            "Epoch 19/200\n",
            "5/5 [==============================] - 0s 21ms/step - loss: 0.9305\n",
            "Epoch 20/200\n",
            "5/5 [==============================] - 0s 20ms/step - loss: 0.9264\n",
            "Epoch 21/200\n",
            "5/5 [==============================] - 0s 20ms/step - loss: 0.9212\n",
            "Epoch 22/200\n",
            "5/5 [==============================] - 0s 20ms/step - loss: 0.9175\n",
            "Epoch 23/200\n",
            "5/5 [==============================] - 0s 22ms/step - loss: 0.9132\n",
            "Epoch 24/200\n",
            "5/5 [==============================] - 0s 20ms/step - loss: 0.9088\n",
            "Epoch 25/200\n",
            "5/5 [==============================] - 0s 21ms/step - loss: 0.9039\n",
            "Epoch 26/200\n",
            "5/5 [==============================] - 0s 20ms/step - loss: 0.9002\n",
            "Epoch 27/200\n",
            "5/5 [==============================] - 0s 20ms/step - loss: 0.8970\n",
            "Epoch 28/200\n",
            "5/5 [==============================] - 0s 20ms/step - loss: 0.8959\n",
            "Epoch 29/200\n",
            "5/5 [==============================] - 0s 21ms/step - loss: 0.8932\n",
            "Epoch 30/200\n",
            "5/5 [==============================] - 0s 21ms/step - loss: 0.8948\n",
            "Epoch 31/200\n",
            "5/5 [==============================] - 0s 20ms/step - loss: 0.8941\n",
            "Epoch 32/200\n",
            "5/5 [==============================] - 0s 21ms/step - loss: 0.8965\n",
            "Epoch 33/200\n",
            "5/5 [==============================] - 0s 21ms/step - loss: 0.8953\n",
            "Epoch 34/200\n",
            "5/5 [==============================] - 0s 20ms/step - loss: 0.8967\n",
            "Epoch 35/200\n",
            "5/5 [==============================] - 0s 20ms/step - loss: 0.8989\n",
            "Epoch 36/200\n",
            "5/5 [==============================] - 0s 22ms/step - loss: 0.8965\n",
            "Epoch 37/200\n",
            "5/5 [==============================] - 0s 20ms/step - loss: 0.8968\n",
            "Epoch 38/200\n",
            "5/5 [==============================] - 0s 21ms/step - loss: 0.8929\n",
            "Epoch 39/200\n",
            "5/5 [==============================] - 0s 20ms/step - loss: 0.8961\n",
            "Epoch 40/200\n",
            "5/5 [==============================] - 0s 21ms/step - loss: 0.8927\n",
            "Epoch 41/200\n",
            "5/5 [==============================] - 0s 20ms/step - loss: 0.8891\n",
            "Epoch 42/200\n",
            "5/5 [==============================] - 0s 21ms/step - loss: 0.8944\n",
            "Epoch 43/200\n",
            "5/5 [==============================] - 0s 20ms/step - loss: 0.8974\n",
            "Epoch 44/200\n",
            "5/5 [==============================] - 0s 20ms/step - loss: 0.8944\n",
            "Epoch 45/200\n",
            "5/5 [==============================] - 0s 20ms/step - loss: 0.8932\n",
            "Epoch 46/200\n",
            "5/5 [==============================] - 0s 20ms/step - loss: 0.8939\n",
            "Epoch 47/200\n",
            "5/5 [==============================] - 0s 20ms/step - loss: 0.8883\n",
            "Epoch 48/200\n",
            "5/5 [==============================] - 0s 20ms/step - loss: 0.8895\n",
            "Epoch 49/200\n",
            "5/5 [==============================] - 0s 21ms/step - loss: 0.8931\n",
            "Epoch 50/200\n",
            "5/5 [==============================] - 0s 20ms/step - loss: 0.8935\n",
            "Epoch 51/200\n",
            "5/5 [==============================] - 0s 21ms/step - loss: 0.8887\n",
            "Epoch 52/200\n",
            "5/5 [==============================] - 0s 21ms/step - loss: 0.8880\n",
            "Epoch 53/200\n",
            "5/5 [==============================] - 0s 21ms/step - loss: 0.8855\n",
            "Epoch 54/200\n",
            "5/5 [==============================] - 0s 21ms/step - loss: 0.8826\n",
            "Epoch 55/200\n",
            "5/5 [==============================] - 0s 20ms/step - loss: 0.8815\n",
            "Epoch 56/200\n",
            "5/5 [==============================] - 0s 20ms/step - loss: 0.8785\n",
            "Epoch 57/200\n",
            "5/5 [==============================] - 0s 20ms/step - loss: 0.8778\n",
            "Epoch 58/200\n",
            "5/5 [==============================] - 0s 21ms/step - loss: 0.8770\n",
            "Epoch 59/200\n",
            "5/5 [==============================] - 0s 20ms/step - loss: 0.8758\n",
            "Epoch 60/200\n",
            "5/5 [==============================] - 0s 21ms/step - loss: 0.8738\n",
            "Epoch 61/200\n",
            "5/5 [==============================] - 0s 21ms/step - loss: 0.8726\n",
            "Epoch 62/200\n",
            "5/5 [==============================] - 0s 20ms/step - loss: 0.8705\n",
            "Epoch 63/200\n",
            "5/5 [==============================] - 0s 20ms/step - loss: 0.8705\n",
            "Epoch 64/200\n",
            "5/5 [==============================] - 0s 20ms/step - loss: 0.8699\n",
            "Epoch 65/200\n",
            "5/5 [==============================] - 0s 20ms/step - loss: 0.8681\n",
            "Epoch 66/200\n",
            "5/5 [==============================] - 0s 20ms/step - loss: 0.8671\n",
            "Epoch 67/200\n",
            "5/5 [==============================] - 0s 20ms/step - loss: 0.8666\n",
            "Epoch 68/200\n",
            "5/5 [==============================] - 0s 19ms/step - loss: 0.8660\n",
            "Epoch 69/200\n",
            "5/5 [==============================] - 0s 20ms/step - loss: 0.8660\n",
            "Epoch 70/200\n",
            "5/5 [==============================] - 0s 21ms/step - loss: 0.8654\n",
            "Epoch 71/200\n",
            "5/5 [==============================] - 0s 20ms/step - loss: 0.8644\n",
            "Epoch 72/200\n",
            "5/5 [==============================] - 0s 21ms/step - loss: 0.8627\n",
            "Epoch 73/200\n",
            "5/5 [==============================] - 0s 21ms/step - loss: 0.8633\n",
            "Epoch 74/200\n",
            "5/5 [==============================] - 0s 20ms/step - loss: 0.8611\n",
            "Epoch 75/200\n",
            "5/5 [==============================] - 0s 20ms/step - loss: 0.8607\n",
            "Epoch 76/200\n",
            "5/5 [==============================] - 0s 21ms/step - loss: 0.8610\n",
            "Epoch 77/200\n",
            "5/5 [==============================] - 0s 21ms/step - loss: 0.8608\n",
            "Epoch 78/200\n",
            "5/5 [==============================] - 0s 19ms/step - loss: 0.8603\n",
            "Epoch 79/200\n",
            "5/5 [==============================] - 0s 21ms/step - loss: 0.8592\n",
            "Epoch 80/200\n",
            "5/5 [==============================] - 0s 20ms/step - loss: 0.8595\n",
            "Epoch 81/200\n",
            "5/5 [==============================] - 0s 20ms/step - loss: 0.8591\n",
            "Epoch 82/200\n",
            "5/5 [==============================] - 0s 21ms/step - loss: 0.8592\n",
            "Epoch 83/200\n",
            "5/5 [==============================] - 0s 20ms/step - loss: 0.8583\n",
            "Epoch 84/200\n",
            "5/5 [==============================] - 0s 20ms/step - loss: 0.8578\n",
            "Epoch 85/200\n",
            "5/5 [==============================] - 0s 19ms/step - loss: 0.8590\n",
            "Epoch 86/200\n",
            "5/5 [==============================] - 0s 21ms/step - loss: 0.8601\n",
            "Epoch 87/200\n",
            "5/5 [==============================] - 0s 20ms/step - loss: 0.8577\n",
            "Epoch 88/200\n",
            "5/5 [==============================] - 0s 21ms/step - loss: 0.8574\n",
            "Epoch 89/200\n",
            "5/5 [==============================] - 0s 21ms/step - loss: 0.8576\n",
            "Epoch 90/200\n",
            "5/5 [==============================] - 0s 20ms/step - loss: 0.8569\n",
            "Epoch 91/200\n",
            "5/5 [==============================] - 0s 21ms/step - loss: 0.8590\n",
            "Epoch 92/200\n",
            "5/5 [==============================] - 0s 20ms/step - loss: 0.8579\n",
            "Epoch 93/200\n",
            "5/5 [==============================] - 0s 20ms/step - loss: 0.8576\n",
            "Epoch 94/200\n",
            "5/5 [==============================] - 0s 20ms/step - loss: 0.8565\n",
            "Epoch 95/200\n",
            "5/5 [==============================] - 0s 20ms/step - loss: 0.8563\n",
            "Epoch 96/200\n",
            "5/5 [==============================] - 0s 20ms/step - loss: 0.8539\n",
            "Epoch 97/200\n",
            "5/5 [==============================] - 0s 21ms/step - loss: 0.8519\n",
            "Epoch 98/200\n",
            "5/5 [==============================] - 0s 20ms/step - loss: 0.8517\n",
            "Epoch 99/200\n",
            "5/5 [==============================] - 0s 20ms/step - loss: 0.8516\n",
            "Epoch 100/200\n",
            "5/5 [==============================] - 0s 21ms/step - loss: 0.8503\n",
            "Epoch 101/200\n",
            "5/5 [==============================] - 0s 20ms/step - loss: 0.8502\n",
            "Epoch 102/200\n",
            "5/5 [==============================] - 0s 21ms/step - loss: 0.8510\n",
            "Epoch 103/200\n",
            "5/5 [==============================] - 0s 20ms/step - loss: 0.8502\n",
            "Epoch 104/200\n",
            "5/5 [==============================] - 0s 20ms/step - loss: 0.8505\n",
            "Epoch 105/200\n",
            "5/5 [==============================] - 0s 19ms/step - loss: 0.8506\n",
            "Epoch 106/200\n",
            "5/5 [==============================] - 0s 20ms/step - loss: 0.8510\n",
            "Epoch 107/200\n",
            "5/5 [==============================] - 0s 21ms/step - loss: 0.8502\n",
            "Epoch 108/200\n",
            "5/5 [==============================] - 0s 21ms/step - loss: 0.8503\n",
            "Epoch 109/200\n",
            "5/5 [==============================] - 0s 21ms/step - loss: 0.8507\n",
            "Epoch 110/200\n",
            "5/5 [==============================] - 0s 20ms/step - loss: 0.8493\n",
            "Epoch 111/200\n",
            "5/5 [==============================] - 0s 22ms/step - loss: 0.8497\n",
            "Epoch 112/200\n",
            "5/5 [==============================] - 0s 20ms/step - loss: 0.8475\n",
            "Epoch 113/200\n",
            "5/5 [==============================] - 0s 20ms/step - loss: 0.8489\n",
            "Epoch 114/200\n",
            "5/5 [==============================] - 0s 21ms/step - loss: 0.8488\n",
            "Epoch 115/200\n",
            "5/5 [==============================] - 0s 21ms/step - loss: 0.8495\n",
            "Epoch 116/200\n",
            "5/5 [==============================] - 0s 21ms/step - loss: 0.8494\n",
            "Epoch 117/200\n",
            "5/5 [==============================] - 0s 20ms/step - loss: 0.8490\n",
            "Epoch 118/200\n",
            "5/5 [==============================] - 0s 21ms/step - loss: 0.8505\n",
            "Epoch 119/200\n",
            "5/5 [==============================] - 0s 22ms/step - loss: 0.8493\n",
            "Epoch 120/200\n",
            "5/5 [==============================] - 0s 21ms/step - loss: 0.8485\n",
            "Epoch 121/200\n",
            "5/5 [==============================] - 0s 20ms/step - loss: 0.8479\n",
            "Epoch 122/200\n",
            "5/5 [==============================] - 0s 21ms/step - loss: 0.8460\n",
            "Epoch 123/200\n",
            "5/5 [==============================] - 0s 21ms/step - loss: 0.8440\n",
            "Epoch 124/200\n",
            "5/5 [==============================] - 0s 21ms/step - loss: 0.8452\n",
            "Epoch 125/200\n",
            "5/5 [==============================] - 0s 21ms/step - loss: 0.8444\n",
            "Epoch 126/200\n",
            "5/5 [==============================] - 0s 21ms/step - loss: 0.8431\n",
            "Epoch 127/200\n",
            "5/5 [==============================] - 0s 19ms/step - loss: 0.8437\n",
            "Epoch 128/200\n",
            "5/5 [==============================] - 0s 21ms/step - loss: 0.8424\n",
            "Epoch 129/200\n",
            "5/5 [==============================] - 0s 20ms/step - loss: 0.8426\n",
            "Epoch 130/200\n",
            "5/5 [==============================] - 0s 19ms/step - loss: 0.8414\n",
            "Epoch 131/200\n",
            "5/5 [==============================] - 0s 20ms/step - loss: 0.8422\n",
            "Epoch 132/200\n",
            "5/5 [==============================] - 0s 21ms/step - loss: 0.8406\n",
            "Epoch 133/200\n",
            "5/5 [==============================] - 0s 21ms/step - loss: 0.8406\n",
            "Epoch 134/200\n",
            "5/5 [==============================] - 0s 20ms/step - loss: 0.8406\n",
            "Epoch 135/200\n",
            "5/5 [==============================] - 0s 21ms/step - loss: 0.8385\n",
            "Epoch 136/200\n",
            "5/5 [==============================] - 0s 21ms/step - loss: 0.8385\n",
            "Epoch 137/200\n",
            "5/5 [==============================] - 0s 20ms/step - loss: 0.8374\n",
            "Epoch 138/200\n",
            "5/5 [==============================] - 0s 21ms/step - loss: 0.8365\n",
            "Epoch 139/200\n",
            "5/5 [==============================] - 0s 21ms/step - loss: 0.8382\n",
            "Epoch 140/200\n",
            "5/5 [==============================] - 0s 22ms/step - loss: 0.8395\n",
            "Epoch 141/200\n",
            "5/5 [==============================] - 0s 20ms/step - loss: 0.8414\n",
            "Epoch 142/200\n",
            "5/5 [==============================] - 0s 20ms/step - loss: 0.8395\n",
            "Epoch 143/200\n",
            "5/5 [==============================] - 0s 20ms/step - loss: 0.8382\n",
            "Epoch 144/200\n",
            "5/5 [==============================] - 0s 20ms/step - loss: 0.8389\n",
            "Epoch 145/200\n",
            "5/5 [==============================] - 0s 20ms/step - loss: 0.8357\n",
            "Epoch 146/200\n",
            "5/5 [==============================] - 0s 20ms/step - loss: 0.8358\n",
            "Epoch 147/200\n",
            "5/5 [==============================] - 0s 19ms/step - loss: 0.8356\n",
            "Epoch 148/200\n",
            "5/5 [==============================] - 0s 21ms/step - loss: 0.8349\n",
            "Epoch 149/200\n",
            "5/5 [==============================] - 0s 21ms/step - loss: 0.8352\n",
            "Epoch 150/200\n",
            "5/5 [==============================] - 0s 21ms/step - loss: 0.8342\n",
            "Epoch 151/200\n",
            "5/5 [==============================] - 0s 21ms/step - loss: 0.8349\n",
            "Epoch 152/200\n",
            "5/5 [==============================] - 0s 21ms/step - loss: 0.8344\n",
            "Epoch 153/200\n",
            "5/5 [==============================] - 0s 20ms/step - loss: 0.8358\n",
            "Epoch 154/200\n",
            "5/5 [==============================] - 0s 21ms/step - loss: 0.8353\n",
            "Epoch 155/200\n",
            "5/5 [==============================] - 0s 20ms/step - loss: 0.8360\n",
            "Epoch 156/200\n",
            "5/5 [==============================] - 0s 21ms/step - loss: 0.8364\n",
            "Epoch 157/200\n",
            "5/5 [==============================] - 0s 19ms/step - loss: 0.8367\n",
            "Epoch 158/200\n",
            "5/5 [==============================] - 0s 20ms/step - loss: 0.8375\n",
            "Epoch 159/200\n",
            "5/5 [==============================] - 0s 20ms/step - loss: 0.8382\n",
            "Epoch 160/200\n",
            "5/5 [==============================] - 0s 21ms/step - loss: 0.8385\n",
            "Epoch 161/200\n",
            "5/5 [==============================] - 0s 21ms/step - loss: 0.8393\n",
            "Epoch 162/200\n",
            "5/5 [==============================] - 0s 20ms/step - loss: 0.8429\n",
            "Epoch 163/200\n",
            "5/5 [==============================] - 0s 21ms/step - loss: 0.8445\n",
            "Epoch 164/200\n",
            "5/5 [==============================] - 0s 20ms/step - loss: 0.8485\n",
            "Epoch 165/200\n",
            "5/5 [==============================] - 0s 20ms/step - loss: 0.8472\n",
            "Epoch 166/200\n",
            "5/5 [==============================] - 0s 21ms/step - loss: 0.8430\n",
            "Epoch 167/200\n",
            "5/5 [==============================] - 0s 20ms/step - loss: 0.8412\n",
            "Epoch 168/200\n",
            "5/5 [==============================] - 0s 20ms/step - loss: 0.8369\n",
            "Epoch 169/200\n",
            "5/5 [==============================] - 0s 21ms/step - loss: 0.8390\n",
            "Epoch 170/200\n",
            "5/5 [==============================] - 0s 21ms/step - loss: 0.8394\n",
            "Epoch 171/200\n",
            "5/5 [==============================] - 0s 21ms/step - loss: 0.8359\n",
            "Epoch 172/200\n",
            "5/5 [==============================] - 0s 20ms/step - loss: 0.8357\n",
            "Epoch 173/200\n",
            "5/5 [==============================] - 0s 20ms/step - loss: 0.8345\n",
            "Epoch 174/200\n",
            "5/5 [==============================] - 0s 20ms/step - loss: 0.8318\n",
            "Epoch 175/200\n",
            "5/5 [==============================] - 0s 20ms/step - loss: 0.8301\n",
            "Epoch 176/200\n",
            "5/5 [==============================] - 0s 21ms/step - loss: 0.8303\n",
            "Epoch 177/200\n",
            "5/5 [==============================] - 0s 20ms/step - loss: 0.8296\n",
            "Epoch 178/200\n",
            "5/5 [==============================] - 0s 20ms/step - loss: 0.8280\n",
            "Epoch 179/200\n",
            "5/5 [==============================] - 0s 21ms/step - loss: 0.8276\n",
            "Epoch 180/200\n",
            "5/5 [==============================] - 0s 21ms/step - loss: 0.8273\n",
            "Epoch 181/200\n",
            "5/5 [==============================] - 0s 20ms/step - loss: 0.8243\n",
            "Epoch 182/200\n",
            "5/5 [==============================] - 0s 21ms/step - loss: 0.8277\n",
            "Epoch 183/200\n",
            "5/5 [==============================] - 0s 20ms/step - loss: 0.8266\n",
            "Epoch 184/200\n",
            "5/5 [==============================] - 0s 20ms/step - loss: 0.8294\n",
            "Epoch 185/200\n",
            "5/5 [==============================] - 0s 21ms/step - loss: 0.8355\n",
            "Epoch 186/200\n",
            "5/5 [==============================] - 0s 21ms/step - loss: 0.8350\n",
            "Epoch 187/200\n",
            "5/5 [==============================] - 0s 20ms/step - loss: 0.8311\n",
            "Epoch 188/200\n",
            "5/5 [==============================] - 0s 20ms/step - loss: 0.8297\n",
            "Epoch 189/200\n",
            "5/5 [==============================] - 0s 20ms/step - loss: 0.8270\n",
            "Epoch 190/200\n",
            "5/5 [==============================] - 0s 19ms/step - loss: 0.8257\n",
            "Epoch 191/200\n",
            "5/5 [==============================] - 0s 21ms/step - loss: 0.8255\n",
            "Epoch 192/200\n",
            "5/5 [==============================] - 0s 20ms/step - loss: 0.8220\n",
            "Epoch 193/200\n",
            "5/5 [==============================] - 0s 21ms/step - loss: 0.8208\n",
            "Epoch 194/200\n",
            "5/5 [==============================] - 0s 20ms/step - loss: 0.8232\n",
            "Epoch 195/200\n",
            "5/5 [==============================] - 0s 21ms/step - loss: 0.8226\n",
            "Epoch 196/200\n",
            "5/5 [==============================] - 0s 20ms/step - loss: 0.8203\n",
            "Epoch 197/200\n",
            "5/5 [==============================] - 0s 21ms/step - loss: 0.8234\n",
            "Epoch 198/200\n",
            "5/5 [==============================] - 0s 20ms/step - loss: 0.8253\n",
            "Epoch 199/200\n",
            "5/5 [==============================] - 0s 21ms/step - loss: 0.8231\n",
            "Epoch 200/200\n",
            "5/5 [==============================] - 0s 19ms/step - loss: 0.8214\n"
          ],
          "name": "stdout"
        },
        {
          "output_type": "execute_result",
          "data": {
            "text/plain": [
              "<tensorflow.python.keras.callbacks.History at 0x7f2aa06ba9e8>"
            ]
          },
          "metadata": {
            "tags": []
          },
          "execution_count": 40
        }
      ]
    },
    {
      "cell_type": "code",
      "metadata": {
        "colab": {
          "base_uri": "https://localhost:8080/"
        },
        "id": "KVwBqyDtPEit",
        "outputId": "711b3dbe-5f94-4a39-b617-da4ead5c045d"
      },
      "source": [
        "X_predict = model_rsrae.predict(X_test)[2]\n",
        "flat_output = np.reshape(X_predict, (np.shape(X_test)[0], -1))\n",
        "flat_input = np.reshape(X_predict, (np.shape(X_test)[0], -1))\n",
        "cosine_similarity = np.sum(flat_output * flat_input, -1) / (np.linalg.norm(flat_output, axis=-1) + 0.000001) / (np.linalg.norm(flat_input, axis=-1) + 0.000001)\n",
        "print(X_predict)"
      ],
      "execution_count": 41,
      "outputs": [
        {
          "output_type": "stream",
          "text": [
            "[[0.00278981 0.         0.         ... 0.         0.         0.        ]\n",
            " [0.         0.27974132 0.         ... 0.         0.         0.        ]\n",
            " [0.         0.         0.         ... 0.         0.         0.        ]\n",
            " ...\n",
            " [0.         0.         0.         ... 0.         0.         0.        ]\n",
            " [0.         0.         0.         ... 0.         0.         0.        ]\n",
            " [0.         0.         0.         ... 0.         0.         0.        ]]\n"
          ],
          "name": "stdout"
        }
      ]
    },
    {
      "cell_type": "code",
      "metadata": {
        "colab": {
          "base_uri": "https://localhost:8080/"
        },
        "id": "hb-p9qEIj4FS",
        "outputId": "22c91773-0970-42c7-fa3f-9245e607327b"
      },
      "source": [
        "from sklearn.metrics.pairwise import cosine_similarity as cs\n",
        "\n",
        "sklearn_cosine_similarity = cs(flat_output, flat_input)\n",
        "print(sklearn_cosine_similarity)"
      ],
      "execution_count": 90,
      "outputs": [
        {
          "output_type": "stream",
          "text": [
            "[[1.         0.05771148 0.18450001 ... 0.19555937 0.25960004 0.34856845]\n",
            " [0.05771148 1.         0.05621883 ... 0.15201898 0.02540892 0.02117112]\n",
            " [0.18450001 0.05621883 1.         ... 0.28010548 0.21703197 0.2137534 ]\n",
            " ...\n",
            " [0.19555937 0.15201898 0.28010548 ... 1.         0.20943058 0.25319157]\n",
            " [0.25960004 0.02540892 0.21703197 ... 0.20943058 1.         0.8800537 ]\n",
            " [0.34856845 0.02117112 0.2137534  ... 0.25319157 0.8800537  1.        ]]\n"
          ],
          "name": "stdout"
        }
      ]
    },
    {
      "cell_type": "code",
      "metadata": {
        "id": "OyBwApzBSPw8"
      },
      "source": [
        "from sklearn.svm import OneClassSVM\n",
        "\n",
        "clf = OneClassSVM(gamma='auto').fit(X_predict)\n",
        "SVM_predict = clf.predict(X_predict)\n"
      ],
      "execution_count": 85,
      "outputs": []
    },
    {
      "cell_type": "code",
      "metadata": {
        "colab": {
          "base_uri": "https://localhost:8080/"
        },
        "id": "e0pO7XoiaOeK",
        "outputId": "6fbb95dc-9192-4751-9f07-e3942a7b4494"
      },
      "source": [
        "print(SVM_predict)"
      ],
      "execution_count": 86,
      "outputs": [
        {
          "output_type": "stream",
          "text": [
            "[-1 -1  1 -1  1  1 -1 -1  1  1 -1  1 -1  1 -1  1 -1  1 -1  1  1 -1 -1  1\n",
            " -1  1  1 -1 -1  1  1 -1  1 -1 -1 -1  1 -1 -1 -1 -1  1 -1 -1  1  1  1  1\n",
            "  1  1  1 -1 -1 -1 -1  1 -1  1  1  1  1  1  1  1  1 -1 -1  1  1  1  1 -1\n",
            " -1  1  1  1 -1 -1  1  1  1 -1 -1  1 -1 -1  1  1 -1 -1 -1  1  1 -1 -1  1\n",
            "  1 -1 -1 -1  1 -1  1  1 -1 -1 -1 -1  1 -1 -1 -1  1 -1 -1  1 -1  1 -1 -1\n",
            " -1 -1 -1 -1 -1 -1  1 -1  1  1 -1  1 -1  1  1 -1 -1 -1 -1  1  1  1 -1  1\n",
            "  1 -1 -1 -1  1 -1 -1 -1  1 -1  1 -1 -1  1 -1  1 -1  1  1 -1 -1  1 -1  1\n",
            "  1 -1 -1 -1  1 -1  1  1  1  1  1 -1  1 -1 -1 -1  1 -1 -1 -1 -1  1 -1 -1\n",
            "  1 -1  1 -1  1 -1 -1 -1  1 -1  1 -1 -1 -1 -1 -1 -1  1 -1  1 -1 -1  1  1\n",
            " -1  1 -1 -1  1  1 -1 -1 -1  1 -1 -1  1  1 -1 -1  1  1  1  1  1 -1  1 -1\n",
            " -1 -1 -1  1  1  1 -1 -1 -1 -1 -1 -1 -1  1 -1 -1  1  1  1  1  1 -1 -1 -1\n",
            " -1 -1  1 -1  1 -1  1  1 -1  1 -1  1  1  1  1 -1 -1  1 -1  1  1  1 -1 -1\n",
            " -1  1 -1 -1  1 -1 -1  1 -1  1 -1  1  1 -1  1 -1 -1  1  1  1 -1 -1  1 -1\n",
            " -1  1 -1 -1  1 -1 -1 -1 -1  1  1  1 -1 -1  1  1 -1 -1 -1  1 -1 -1  1 -1\n",
            "  1 -1 -1  1 -1  1 -1  1 -1 -1  1  1  1  1  1 -1  1 -1 -1 -1 -1 -1  1 -1\n",
            "  1  1  1  1 -1  1  1  1  1  1  1  1  1  1  1 -1 -1  1  1 -1  1  1 -1  1\n",
            "  1  1  1  1  1  1  1  1  1 -1  1  1]\n"
          ],
          "name": "stdout"
        }
      ]
    },
    {
      "cell_type": "code",
      "metadata": {
        "colab": {
          "base_uri": "https://localhost:8080/"
        },
        "id": "uswoIKFHZ2zv",
        "outputId": "0041629f-148c-472a-f747-3d5fb81d06a5"
      },
      "source": [
        "positive = 0\n",
        "negative = 0\n",
        "\n",
        "for y_true, y_predict in zip(y_test, SVM_predict):\n",
        "    if y_true == (y_predict == -1):\n",
        "        positive += 1\n",
        "    else:\n",
        "        negative += 1\n",
        "\n",
        "print(\"positive = {}\".format(positive))\n",
        "print(\"negative = {}\".format(negative))\n",
        "print(\"FPR = {}\".format(positive / (positive + negative)))"
      ],
      "execution_count": 87,
      "outputs": [
        {
          "output_type": "stream",
          "text": [
            "positive = 169\n",
            "negative = 227\n",
            "FPR = 0.42676767676767674\n"
          ],
          "name": "stdout"
        }
      ]
    },
    {
      "cell_type": "code",
      "metadata": {
        "colab": {
          "base_uri": "https://localhost:8080/"
        },
        "id": "Jql_seGVQUjx",
        "outputId": "1f89d169-5c55-40e6-f8cf-605cfa521428"
      },
      "source": [
        "from sklearn.metrics import roc_auc_score, average_precision_score\n",
        "from sklearn.metrics import precision_recall_curve\n",
        "\n",
        "\n",
        "auc = roc_auc_score(y_test, -cosine_similarity)\n",
        "ap = average_precision_score(y_test, -cosine_similarity)\n",
        "precision_recall_curve(y_test, -cosine_similarity)\n",
        "# precision, recall, thresholds = precision_recall_curve(y_test, -cosine_similarity)\n",
        "                                    \n",
        "print(\"auc = \", auc)\n",
        "print(\"ap = \", ap)\n",
        "# print(\"P = {}, R = {}, T = {}\".format(precision, recall, thresholds))"
      ],
      "execution_count": 42,
      "outputs": [
        {
          "output_type": "stream",
          "text": [
            "auc =  0.8151173085436032\n",
            "ap =  0.7483753831137188\n"
          ],
          "name": "stdout"
        }
      ]
    },
    {
      "cell_type": "code",
      "metadata": {
        "id": "weH6LmHXCChM",
        "colab": {
          "base_uri": "https://localhost:8080/",
          "height": 300
        },
        "outputId": "abe4af18-79d3-4337-bcd2-d381666a4b99"
      },
      "source": [
        "model_rsrae.summary()"
      ],
      "execution_count": 55,
      "outputs": [
        {
          "output_type": "error",
          "ename": "ValueError",
          "evalue": "ignored",
          "traceback": [
            "\u001b[0;31m---------------------------------------------------------------------------\u001b[0m",
            "\u001b[0;31mValueError\u001b[0m                                Traceback (most recent call last)",
            "\u001b[0;32m<ipython-input-55-6092bea892d2>\u001b[0m in \u001b[0;36m<module>\u001b[0;34m()\u001b[0m\n\u001b[0;32m----> 1\u001b[0;31m \u001b[0mmodel_rsrae\u001b[0m\u001b[0;34m.\u001b[0m\u001b[0msummary\u001b[0m\u001b[0;34m(\u001b[0m\u001b[0;34m)\u001b[0m\u001b[0;34m\u001b[0m\u001b[0;34m\u001b[0m\u001b[0m\n\u001b[0m",
            "\u001b[0;32m/usr/local/lib/python3.6/dist-packages/tensorflow/python/keras/engine/training.py\u001b[0m in \u001b[0;36msummary\u001b[0;34m(self, line_length, positions, print_fn)\u001b[0m\n\u001b[1;32m   2349\u001b[0m     \"\"\"\n\u001b[1;32m   2350\u001b[0m     \u001b[0;32mif\u001b[0m \u001b[0;32mnot\u001b[0m \u001b[0mself\u001b[0m\u001b[0;34m.\u001b[0m\u001b[0mbuilt\u001b[0m\u001b[0;34m:\u001b[0m\u001b[0;34m\u001b[0m\u001b[0;34m\u001b[0m\u001b[0m\n\u001b[0;32m-> 2351\u001b[0;31m       raise ValueError('This model has not yet been built. '\n\u001b[0m\u001b[1;32m   2352\u001b[0m                        \u001b[0;34m'Build the model first by calling `build()` or calling '\u001b[0m\u001b[0;34m\u001b[0m\u001b[0;34m\u001b[0m\u001b[0m\n\u001b[1;32m   2353\u001b[0m                        \u001b[0;34m'`fit()` with some data, or specify '\u001b[0m\u001b[0;34m\u001b[0m\u001b[0;34m\u001b[0m\u001b[0m\n",
            "\u001b[0;31mValueError\u001b[0m: This model has not yet been built. Build the model first by calling `build()` or calling `fit()` with some data, or specify an `input_shape` argument in the first layer(s) for automatic build."
          ]
        }
      ]
    },
    {
      "cell_type": "code",
      "metadata": {
        "colab": {
          "base_uri": "https://localhost:8080/",
          "height": 77
        },
        "id": "P3o3aQV2BvgP",
        "outputId": "34559c3e-1174-4ec1-b575-0102346cec7d"
      },
      "source": [
        "from keras.utils import plot_model\n",
        "plot_model(model_rsrae, to_file='model_rsrae.png', show_shapes=True)\n",
        "from IPython.display import Image\n",
        "Image(filename='model_rsrae.png')"
      ],
      "execution_count": 53,
      "outputs": [
        {
          "output_type": "execute_result",
          "data": {
            "image/png": "[encoded data removed]",
            "text/plain": [
              "<IPython.core.display.Image object>"
            ]
          },
          "metadata": {
            "tags": []
          },
          "execution_count": 53
        }
      ]
    },
    {
      "cell_type": "code",
      "metadata": {
        "colab": {
          "base_uri": "https://localhost:8080/"
        },
        "id": "tOc7pY1rFNdn",
        "outputId": "c42cefea-0466-4a62-dc14-ae7b828667e3"
      },
      "source": [
        "X_test.shape"
      ],
      "execution_count": 13,
      "outputs": [
        {
          "output_type": "execute_result",
          "data": {
            "text/plain": [
              "(396, 26147)"
            ]
          },
          "metadata": {
            "tags": []
          },
          "execution_count": 13
        }
      ]
    },
    {
      "cell_type": "code",
      "metadata": {
        "colab": {
          "base_uri": "https://localhost:8080/"
        },
        "id": "Dnqkv8LyZDh2",
        "outputId": "44be3510-68c5-400d-963f-f48bb7c6e89b"
      },
      "source": [
        "import numpy as np\n",
        "import tensorflow as tf\n",
        "import tensorflow.keras as keras\n",
        "\n",
        "loss_tracker = keras.metrics.Mean(name=\"loss\")\n",
        "mae_metric = keras.metrics.MeanAbsoluteError(name=\"mae\")\n",
        "\n",
        "\n",
        "class CustomModel(keras.Model):\n",
        "    def train_step(self, data):\n",
        "        \n",
        "        x, y = data\n",
        "        print('x.shape: ', x.shape)\n",
        "\n",
        "        with tf.GradientTape() as tape:\n",
        "            y_pred = self(x, training=True)  # Forward pass\n",
        "            # Compute our own loss\n",
        "            loss = keras.losses.mean_squared_error(y, y_pred)\n",
        "\n",
        "        # Compute gradients\n",
        "        trainable_vars = self.trainable_variables\n",
        "        gradients = tape.gradient(loss, trainable_vars)\n",
        "\n",
        "        # Update weights\n",
        "        self.optimizer.apply_gradients(zip(gradients, trainable_vars))\n",
        "\n",
        "        # Compute our own metrics\n",
        "        loss_tracker.update_state(loss)\n",
        "        mae_metric.update_state(y, y_pred)\n",
        "        return {\"loss\": loss_tracker.result(), \"mae\": mae_metric.result()}\n",
        "\n",
        "    @property\n",
        "    def metrics(self):\n",
        "        # We list our `Metric` objects here so that `reset_states()` can be\n",
        "        # called automatically at the start of each epoch\n",
        "        # or at the start of `evaluate()`.\n",
        "        # If you don't implement this property, you have to call\n",
        "        # `reset_states()` yourself at the time of your choosing.\n",
        "        return [loss_tracker, mae_metric]\n",
        "\n",
        "\n",
        "# Construct an instance of CustomModel\n",
        "inputs = keras.Input(shape=(32,))\n",
        "outputs = keras.layers.Dense(1)(inputs)\n",
        "model = CustomModel(inputs, outputs)\n",
        "\n",
        "# We don't passs a loss or metrics here.\n",
        "model.compile(optimizer=\"adam\")\n",
        "\n",
        "# Just use `fit` as usual -- you can use callbacks, etc.\n",
        "x = np.random.random((1000, 32))\n",
        "y = np.random.random((1000, 1))\n",
        "model.fit(x, y, batch_size=100, epochs=5)"
      ],
      "execution_count": 46,
      "outputs": [
        {
          "output_type": "stream",
          "text": [
            "Epoch 1/5\n",
            "x.shape:  (100, 32)\n",
            "x.shape:  (100, 32)\n",
            "10/10 [==============================] - 0s 1ms/step - loss: 0.7247 - mae: 0.7353\n",
            "Epoch 2/5\n",
            "10/10 [==============================] - 0s 1ms/step - loss: 0.5153 - mae: 0.5967\n",
            "Epoch 3/5\n",
            "10/10 [==============================] - 0s 1ms/step - loss: 0.3685 - mae: 0.4916\n",
            "Epoch 4/5\n",
            "10/10 [==============================] - 0s 1ms/step - loss: 0.2803 - mae: 0.4246\n",
            "Epoch 5/5\n",
            "10/10 [==============================] - 0s 1ms/step - loss: 0.2354 - mae: 0.3899\n"
          ],
          "name": "stdout"
        },
        {
          "output_type": "execute_result",
          "data": {
            "text/plain": [
              "<tensorflow.python.keras.callbacks.History at 0x7fe705a15f60>"
            ]
          },
          "metadata": {
            "tags": []
          },
          "execution_count": 46
        }
      ]
    },
    {
      "cell_type": "code",
      "metadata": {
        "colab": {
          "base_uri": "https://localhost:8080/"
        },
        "id": "jM_3ltmTZW9j",
        "outputId": "f58df08d-7834-4e48-8bff-ffd5a077173d"
      },
      "source": [
        "m = tf.keras.metrics.Mean()\n",
        "m.update_state([1, 3, 5, 7])\n",
        "m.result().numpy()\n",
        "m.update_state([9])\n",
        "m.result().numpy()"
      ],
      "execution_count": null,
      "outputs": [
        {
          "output_type": "execute_result",
          "data": {
            "text/plain": [
              "5.0"
            ]
          },
          "metadata": {
            "tags": []
          },
          "execution_count": 9
        }
      ]
    },
    {
      "cell_type": "code",
      "metadata": {
        "id": "MaLkK_b-baFS"
      },
      "source": [
        ""
      ],
      "execution_count": null,
      "outputs": []
    }
  ]
}