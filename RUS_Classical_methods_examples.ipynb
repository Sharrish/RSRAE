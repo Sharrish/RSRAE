{
 "cells": [
  {
   "cell_type": "markdown",
   "metadata": {
    "id": "HuuWP8tqdwuo"
   },
   "source": [
    "# 🤵 Примеры работы классических *unsupervised* методов обнаружения аномалий"
   ]
  },
  {
   "cell_type": "markdown",
   "metadata": {
    "id": "EPIzrTvamj1z"
   },
   "source": [
    "### 🌐 Установка [pyod](https://github.com/yzhao062/pyod)"
   ]
  },
  {
   "cell_type": "code",
   "execution_count": null,
   "metadata": {
    "colab": {
     "base_uri": "https://localhost:8080/"
    },
    "id": "0LtDUqs-mxbQ",
    "outputId": "faa3acda-17b0-45c6-81e4-38165038c779"
   },
   "outputs": [
    {
     "name": "stdout",
     "output_type": "stream",
     "text": [
      "Requirement already satisfied: pyod in /usr/local/lib/python3.7/dist-packages (0.8.7)\n",
      "Requirement already satisfied: numba>=0.35 in /usr/local/lib/python3.7/dist-packages (from pyod) (0.51.2)\n",
      "Requirement already satisfied: matplotlib in /usr/local/lib/python3.7/dist-packages (from pyod) (3.2.2)\n",
      "Requirement already satisfied: scipy>=0.19.1 in /usr/local/lib/python3.7/dist-packages (from pyod) (1.4.1)\n",
      "Requirement already satisfied: statsmodels in /usr/local/lib/python3.7/dist-packages (from pyod) (0.10.2)\n",
      "Requirement already satisfied: joblib in /usr/local/lib/python3.7/dist-packages (from pyod) (1.0.1)\n",
      "Requirement already satisfied: pandas>=0.25 in /usr/local/lib/python3.7/dist-packages (from pyod) (1.1.5)\n",
      "Requirement already satisfied: scikit-learn>=0.19.1 in /usr/local/lib/python3.7/dist-packages (from pyod) (0.22.2.post1)\n",
      "Requirement already satisfied: six in /usr/local/lib/python3.7/dist-packages (from pyod) (1.15.0)\n",
      "Requirement already satisfied: numpy>=1.13 in /usr/local/lib/python3.7/dist-packages (from pyod) (1.19.5)\n",
      "Requirement already satisfied: llvmlite<0.35,>=0.34.0.dev0 in /usr/local/lib/python3.7/dist-packages (from numba>=0.35->pyod) (0.34.0)\n",
      "Requirement already satisfied: setuptools in /usr/local/lib/python3.7/dist-packages (from numba>=0.35->pyod) (54.1.2)\n",
      "Requirement already satisfied: cycler>=0.10 in /usr/local/lib/python3.7/dist-packages (from matplotlib->pyod) (0.10.0)\n",
      "Requirement already satisfied: pyparsing!=2.0.4,!=2.1.2,!=2.1.6,>=2.0.1 in /usr/local/lib/python3.7/dist-packages (from matplotlib->pyod) (2.4.7)\n",
      "Requirement already satisfied: kiwisolver>=1.0.1 in /usr/local/lib/python3.7/dist-packages (from matplotlib->pyod) (1.3.1)\n",
      "Requirement already satisfied: python-dateutil>=2.1 in /usr/local/lib/python3.7/dist-packages (from matplotlib->pyod) (2.8.1)\n",
      "Requirement already satisfied: patsy>=0.4.0 in /usr/local/lib/python3.7/dist-packages (from statsmodels->pyod) (0.5.1)\n",
      "Requirement already satisfied: pytz>=2017.2 in /usr/local/lib/python3.7/dist-packages (from pandas>=0.25->pyod) (2018.9)\n"
     ]
    }
   ],
   "source": [
    "!pip3 install pyod"
   ]
  },
  {
   "cell_type": "markdown",
   "metadata": {
    "id": "72kLNO3zHEqB"
   },
   "source": [
    "## ⚙️ Загрузка данных"
   ]
  },
  {
   "cell_type": "code",
   "execution_count": 4,
   "metadata": {
    "colab": {
     "base_uri": "https://localhost:8080/"
    },
    "id": "Nzkj-zxjGPrK",
    "outputId": "0179d12e-ddeb-45da-f19c-dd0e2aa8a344"
   },
   "outputs": [
    {
     "name": "stdout",
     "output_type": "stream",
     "text": [
      "Количество нормальных экземпляров = 1000\n",
      "Количество аномальных экземпляров = 101\n"
     ]
    }
   ],
   "source": [
    "import json\n",
    "\n",
    "c = 0.1  # отношение количества аномальных экземпляров к нормальным\n",
    "\n",
    "# Загрузка предобработанных текстов\n",
    "with open('my_dict.json', 'r') as fp:\n",
    "    topics_dict = json.load(fp)\n",
    "    \n",
    "t1 = 'Наука и техника-Оружие'\n",
    "t2 = 'Экономика-Госэкономика'\n",
    "    \n",
    "normal_data = topics_dict[t1]\n",
    "anomal_data = topics_dict[t2][:min(int(c * len(normal_data)) + 1, len(topics_dict[t2]))]\n",
    "all_data = normal_data + anomal_data\n",
    "\n",
    "print(\"Количество нормальных экземпляров = {}\".format(len(normal_data)))\n",
    "print(\"Количество аномальных экземпляров = {}\".format(len(anomal_data)))"
   ]
  },
  {
   "cell_type": "markdown",
   "metadata": {
    "id": "7zAKhE3pOLka"
   },
   "source": [
    "## 💅 Предобработка данных"
   ]
  },
  {
   "cell_type": "code",
   "execution_count": null,
   "metadata": {
    "colab": {
     "base_uri": "https://localhost:8080/"
    },
    "id": "bZ3bvuYgOJ_b",
    "outputId": "a927ce68-9e7b-44a4-9072-4f2f8d876a77"
   },
   "outputs": [
    {
     "name": "stdout",
     "output_type": "stream",
     "text": [
      "[nltk_data] Downloading package wordnet to /root/nltk_data...\n",
      "[nltk_data]   Package wordnet is already up-to-date!\n"
     ]
    }
   ],
   "source": [
    "# from gensim.parsing.preprocessing import strip_tags\n",
    "# from gensim.parsing.preprocessing import strip_numeric\n",
    "# from gensim.parsing.preprocessing import strip_punctuation\n",
    "# from gensim.parsing.preprocessing import strip_non_alphanum\n",
    "# from gensim.parsing.preprocessing import strip_short\n",
    "# from gensim.parsing.preprocessing import strip_multiple_whitespaces\n",
    "\n",
    "# import nltk\n",
    "# from nltk.tokenize import word_tokenize\n",
    "# from nltk.corpus import stopwords\n",
    "# nltk.download('punkt')\n",
    "# nltk.download('stopwords')\n",
    "\n",
    "# import re\n",
    "# import pymorphy2\n",
    "# morph = pymorphy2.MorphAnalyzer()\n",
    "\n",
    "\n",
    "# def preprocess_text(text, tokenization=False):\n",
    "#     \"\"\"\n",
    "#     Предобрабатывает исходный русский текст.\n",
    "#     Выполняет очистку, токенизацию и лемматизацию.\n",
    "#     Возвращает список токенов или предобработанный текст.\n",
    "#     \"\"\"\n",
    "#     text = text.lower()                     # приведение к нижнему регистру\n",
    "#     text = strip_tags(text)                 # удаление тэгов\n",
    "#     text = strip_numeric(text)              # удаление цифр\n",
    "#     text = strip_punctuation(text)          # удаление пунктуации\n",
    "#     text = strip_non_alphanum(text)         # удаление небуквенных символов\n",
    "#     text = strip_short(text)                # удаление коротких слов\n",
    "#     text = strip_multiple_whitespaces(text) # удаление множественных пробелов\n",
    "    \n",
    "#     # Токенизация\n",
    "#     list_of_words = word_tokenize(text, language='russian') \n",
    "\n",
    "#     # Удаление стоп-слов\n",
    "#     list_of_words = [w for w in list_of_words if w not in stopwords.words('russian')]\n",
    "\n",
    "#     # Лемматизация\n",
    "#     for i in range(len(list_of_words)): \n",
    "#         list_of_words[i] = morph.parse(list_of_words[i])[0].normal_form\n",
    "\n",
    "#     if tokenization: # возвращаем список слов\n",
    "#         return list_of_words\n",
    "#     else: # возвращаем строку\n",
    "#         return ' '.join(w for w in list_of_words) "
   ]
  },
  {
   "cell_type": "code",
   "execution_count": null,
   "metadata": {
    "id": "bE42ivwoOau9"
   },
   "outputs": [],
   "source": [
    "# normal_data = [preprocess_text(text) for text in normal_data]\n",
    "# anomal_data = [preprocess_text(text) for text in anomal_data]\n",
    "# all_data = normal_data + anomal_data"
   ]
  },
  {
   "cell_type": "markdown",
   "metadata": {
    "id": "M3r_-dbtQTuZ"
   },
   "source": [
    "## 🎰 TF-IDF векторизация"
   ]
  },
  {
   "cell_type": "code",
   "execution_count": 5,
   "metadata": {
    "colab": {
     "base_uri": "https://localhost:8080/"
    },
    "id": "9QKse8S4QShs",
    "outputId": "441ca7a8-03bd-4607-aa64-cf12ba949940"
   },
   "outputs": [
    {
     "name": "stdout",
     "output_type": "stream",
     "text": [
      "(1101, 11427)\n"
     ]
    }
   ],
   "source": [
    "from sklearn.feature_extraction.text import TfidfVectorizer\n",
    "\n",
    "vectorizer = TfidfVectorizer()\n",
    "all_data_tf = vectorizer.fit_transform(all_data).toarray()\n",
    "\n",
    "print(all_data_tf.shape)"
   ]
  },
  {
   "cell_type": "markdown",
   "metadata": {
    "id": "5wTti6uN7OqZ"
   },
   "source": [
    "## 📝 Universal Sentence Encoder (USE)"
   ]
  },
  {
   "cell_type": "code",
   "execution_count": null,
   "metadata": {
    "id": "U9iM2RCm68Sp"
   },
   "outputs": [],
   "source": [
    "# import tensorflow as tf\n",
    "# import tensorflow_hub as hub\n",
    "# hub_layer = hub.KerasLayer(\n",
    "#     'https://tfhub.dev/google/universal-sentence-encoder/4',\n",
    "#     input_shape=[], \n",
    "#     dtype=tf.string,\n",
    "#     trainable=False)"
   ]
  },
  {
   "cell_type": "markdown",
   "metadata": {
    "id": "dUlKcje3HUc4"
   },
   "source": [
    "## 🤹‍♂️ Формирование выборок\n",
    "\n"
   ]
  },
  {
   "cell_type": "code",
   "execution_count": 6,
   "metadata": {
    "colab": {
     "base_uri": "https://localhost:8080/"
    },
    "id": "fB0UmaY5HVEY",
    "outputId": "16a5e02a-726a-409f-f206-d56cdd552595"
   },
   "outputs": [
    {
     "name": "stdout",
     "output_type": "stream",
     "text": [
      "Всего экземпляров = 1101\n",
      "(Кол-во текстов, число признаков текста) = (1101, 11427)\n",
      "Кол-во меток = 1101\n",
      "Кол-во нормальных экземпляров = 1000\n",
      "Кол-во аномальных экземпляров = 101\n"
     ]
    }
   ],
   "source": [
    "from sklearn.utils import shuffle\n",
    "import numpy as np\n",
    "\n",
    "x = all_data_tf\n",
    "# x_use = (hub_layer(all_data)).numpy()\n",
    "y = np.array([False] * len(normal_data) + [True] * len(anomal_data))\n",
    "\n",
    "all_data, x, y = shuffle(all_data, x, y, random_state=123)\n",
    "print(\"Всего экземпляров = {}\".format(len(all_data)))\n",
    "print(\"(Кол-во текстов, число признаков текста) = {}\".format(x.shape))\n",
    "print(\"Кол-во меток = {}\".format(len(y)))\n",
    "print(\"Кол-во нормальных экземпляров = {}\".format(len(normal_data)))\n",
    "print(\"Кол-во аномальных экземпляров = {}\".format(len(anomal_data)))"
   ]
  },
  {
   "cell_type": "markdown",
   "metadata": {
    "id": "JH2Qph3bgIEI"
   },
   "source": [
    "## 1️⃣ 🌲 Isolation Forest (IF, Изолирующий лес)\n",
    "У меня на практике 5000 деревьев дают такой же результат, что и 15000."
   ]
  },
  {
   "cell_type": "markdown",
   "metadata": {
    "id": "ZXX1nDiPjIQq"
   },
   "source": [
    "### 🅰️ Метод из [sklearn](https://scikit-learn.org/stable/modules/generated/sklearn.ensemble.IsolationForest.html)"
   ]
  },
  {
   "cell_type": "code",
   "execution_count": null,
   "metadata": {
    "id": "MGAsBGlDO0ek"
   },
   "outputs": [],
   "source": [
    "from sklearn.ensemble import IsolationForest\n",
    "from sklearn.metrics import roc_auc_score\n",
    "\n",
    "# Задаем модель\n",
    "clf = IsolationForest(\n",
    "    contamination=0.1, # отношение аномалий к выборке\n",
    "    n_estimators=5000, # кол-во деревьев в ансамбле\n",
    "    max_samples=0.7,\n",
    "    max_features=0.7,\n",
    "    random_state=123, \n",
    "    bootstrap=True,\n",
    "    n_jobs=-1, # задействем все процессы в распоряжении\n",
    ")\n",
    "\n",
    "# Тренировка модели\n",
    "clf.fit(x)\n",
    "\n",
    "# Предсказание модели\n",
    "y_predict_iforest = clf.predict(x)\n",
    "\n",
    "# Переименовываем метки в соответствии с нашими\n",
    "y_predict_iforest[y_predict_iforest == 1] = False\n",
    "y_predict_iforest[y_predict_iforest == -1] = True\n",
    "\n",
    "# Считаем метрику ROC AUC\n",
    "auc_iforest = roc_auc_score(y, y_predict_iforest)\n",
    "print(\"auc_iforest = \", auc_iforest)"
   ]
  },
  {
   "cell_type": "markdown",
   "metadata": {
    "id": "dMspwEzGl3E3"
   },
   "source": [
    "### 🅱️ Метод из [pyod](https://github.com/yzhao062/pyod)\n",
    "Ответы показывает такие же, что и в sclearn, так как интерпретация на основе их реализации."
   ]
  },
  {
   "cell_type": "markdown",
   "metadata": {
    "id": "ktu_UC1n81AZ"
   },
   "source": [
    "####  🎰  TF-IDF"
   ]
  },
  {
   "cell_type": "code",
   "execution_count": 21,
   "metadata": {
    "id": "1wzuI-ULoPh2"
   },
   "outputs": [
    {
     "name": "stderr",
     "output_type": "stream",
     "text": [
      "/Users/pavelmamaev/Desktop/Sait/venv/lib/python3.8/site-packages/sklearn/utils/deprecation.py:86: FutureWarning: Function fit_predict_score is deprecated\n",
      "  warnings.warn(msg, category=FutureWarning)\n"
     ]
    },
    {
     "ename": "KeyboardInterrupt",
     "evalue": "",
     "output_type": "error",
     "traceback": [
      "\u001b[0;31m---------------------------------------------------------------------------\u001b[0m",
      "\u001b[0;31mKeyboardInterrupt\u001b[0m                         Traceback (most recent call last)",
      "\u001b[0;32m<ipython-input-21-4e827d35c344>\u001b[0m in \u001b[0;36m<module>\u001b[0;34m\u001b[0m\n\u001b[1;32m     21\u001b[0m \u001b[0;31m# Считаем метрику ROC AUC\u001b[0m\u001b[0;34m\u001b[0m\u001b[0;34m\u001b[0m\u001b[0;34m\u001b[0m\u001b[0m\n\u001b[1;32m     22\u001b[0m \u001b[0;31m# auc_iforest = roc_auc_score(y, y_predict_iforest)\u001b[0m\u001b[0;34m\u001b[0m\u001b[0;34m\u001b[0m\u001b[0;34m\u001b[0m\u001b[0m\n\u001b[0;32m---> 23\u001b[0;31m \u001b[0mauc_iforest\u001b[0m \u001b[0;34m=\u001b[0m \u001b[0miforest_clf\u001b[0m\u001b[0;34m.\u001b[0m\u001b[0mfit_predict_score\u001b[0m\u001b[0;34m(\u001b[0m\u001b[0mx\u001b[0m\u001b[0;34m,\u001b[0m \u001b[0my\u001b[0m\u001b[0;34m)\u001b[0m\u001b[0;34m\u001b[0m\u001b[0;34m\u001b[0m\u001b[0m\n\u001b[0m\u001b[1;32m     24\u001b[0m \u001b[0mprint\u001b[0m\u001b[0;34m(\u001b[0m\u001b[0;34m\"auc_iforest = \"\u001b[0m\u001b[0;34m,\u001b[0m \u001b[0mauc_iforest\u001b[0m\u001b[0;34m)\u001b[0m\u001b[0;34m\u001b[0m\u001b[0;34m\u001b[0m\u001b[0m\n",
      "\u001b[0;32m~/Desktop/Sait/venv/lib/python3.8/site-packages/sklearn/utils/deprecation.py\u001b[0m in \u001b[0;36mwrapped\u001b[0;34m(*args, **kwargs)\u001b[0m\n\u001b[1;32m     85\u001b[0m         \u001b[0;32mdef\u001b[0m \u001b[0mwrapped\u001b[0m\u001b[0;34m(\u001b[0m\u001b[0;34m*\u001b[0m\u001b[0margs\u001b[0m\u001b[0;34m,\u001b[0m \u001b[0;34m**\u001b[0m\u001b[0mkwargs\u001b[0m\u001b[0;34m)\u001b[0m\u001b[0;34m:\u001b[0m\u001b[0;34m\u001b[0m\u001b[0;34m\u001b[0m\u001b[0m\n\u001b[1;32m     86\u001b[0m             \u001b[0mwarnings\u001b[0m\u001b[0;34m.\u001b[0m\u001b[0mwarn\u001b[0m\u001b[0;34m(\u001b[0m\u001b[0mmsg\u001b[0m\u001b[0;34m,\u001b[0m \u001b[0mcategory\u001b[0m\u001b[0;34m=\u001b[0m\u001b[0mFutureWarning\u001b[0m\u001b[0;34m)\u001b[0m\u001b[0;34m\u001b[0m\u001b[0;34m\u001b[0m\u001b[0m\n\u001b[0;32m---> 87\u001b[0;31m             \u001b[0;32mreturn\u001b[0m \u001b[0mfun\u001b[0m\u001b[0;34m(\u001b[0m\u001b[0;34m*\u001b[0m\u001b[0margs\u001b[0m\u001b[0;34m,\u001b[0m \u001b[0;34m**\u001b[0m\u001b[0mkwargs\u001b[0m\u001b[0;34m)\u001b[0m\u001b[0;34m\u001b[0m\u001b[0;34m\u001b[0m\u001b[0m\n\u001b[0m\u001b[1;32m     88\u001b[0m \u001b[0;34m\u001b[0m\u001b[0m\n\u001b[1;32m     89\u001b[0m         \u001b[0mwrapped\u001b[0m\u001b[0;34m.\u001b[0m\u001b[0m__doc__\u001b[0m \u001b[0;34m=\u001b[0m \u001b[0mself\u001b[0m\u001b[0;34m.\u001b[0m\u001b[0m_update_doc\u001b[0m\u001b[0;34m(\u001b[0m\u001b[0mwrapped\u001b[0m\u001b[0;34m.\u001b[0m\u001b[0m__doc__\u001b[0m\u001b[0;34m)\u001b[0m\u001b[0;34m\u001b[0m\u001b[0;34m\u001b[0m\u001b[0m\n",
      "\u001b[0;32m~/Desktop/Sait/venv/lib/python3.8/site-packages/pyod/models/base.py\u001b[0m in \u001b[0;36mfit_predict_score\u001b[0;34m(self, X, y, scoring)\u001b[0m\n\u001b[1;32m    282\u001b[0m         \"\"\"\n\u001b[1;32m    283\u001b[0m \u001b[0;34m\u001b[0m\u001b[0m\n\u001b[0;32m--> 284\u001b[0;31m         \u001b[0mself\u001b[0m\u001b[0;34m.\u001b[0m\u001b[0mfit\u001b[0m\u001b[0;34m(\u001b[0m\u001b[0mX\u001b[0m\u001b[0;34m)\u001b[0m\u001b[0;34m\u001b[0m\u001b[0;34m\u001b[0m\u001b[0m\n\u001b[0m\u001b[1;32m    285\u001b[0m \u001b[0;34m\u001b[0m\u001b[0m\n\u001b[1;32m    286\u001b[0m         \u001b[0;32mif\u001b[0m \u001b[0mscoring\u001b[0m \u001b[0;34m==\u001b[0m \u001b[0;34m'roc_auc_score'\u001b[0m\u001b[0;34m:\u001b[0m\u001b[0;34m\u001b[0m\u001b[0;34m\u001b[0m\u001b[0m\n",
      "\u001b[0;32m~/Desktop/Sait/venv/lib/python3.8/site-packages/pyod/models/iforest.py\u001b[0m in \u001b[0;36mfit\u001b[0;34m(self, X, y)\u001b[0m\n\u001b[1;32m    228\u001b[0m                                              verbose=self.verbose)\n\u001b[1;32m    229\u001b[0m \u001b[0;34m\u001b[0m\u001b[0m\n\u001b[0;32m--> 230\u001b[0;31m         \u001b[0mself\u001b[0m\u001b[0;34m.\u001b[0m\u001b[0mdetector_\u001b[0m\u001b[0;34m.\u001b[0m\u001b[0mfit\u001b[0m\u001b[0;34m(\u001b[0m\u001b[0mX\u001b[0m\u001b[0;34m=\u001b[0m\u001b[0mX\u001b[0m\u001b[0;34m,\u001b[0m \u001b[0my\u001b[0m\u001b[0;34m=\u001b[0m\u001b[0;32mNone\u001b[0m\u001b[0;34m,\u001b[0m \u001b[0msample_weight\u001b[0m\u001b[0;34m=\u001b[0m\u001b[0;32mNone\u001b[0m\u001b[0;34m)\u001b[0m\u001b[0;34m\u001b[0m\u001b[0;34m\u001b[0m\u001b[0m\n\u001b[0m\u001b[1;32m    231\u001b[0m \u001b[0;34m\u001b[0m\u001b[0m\n\u001b[1;32m    232\u001b[0m         \u001b[0;31m# invert decision_scores_. Outliers comes with higher outlier scores.\u001b[0m\u001b[0;34m\u001b[0m\u001b[0;34m\u001b[0m\u001b[0;34m\u001b[0m\u001b[0m\n",
      "\u001b[0;32m~/Desktop/Sait/venv/lib/python3.8/site-packages/sklearn/ensemble/_iforest.py\u001b[0m in \u001b[0;36mfit\u001b[0;34m(self, X, y, sample_weight)\u001b[0m\n\u001b[1;32m    276\u001b[0m         \u001b[0mself\u001b[0m\u001b[0;34m.\u001b[0m\u001b[0mmax_samples_\u001b[0m \u001b[0;34m=\u001b[0m \u001b[0mmax_samples\u001b[0m\u001b[0;34m\u001b[0m\u001b[0;34m\u001b[0m\u001b[0m\n\u001b[1;32m    277\u001b[0m         \u001b[0mmax_depth\u001b[0m \u001b[0;34m=\u001b[0m \u001b[0mint\u001b[0m\u001b[0;34m(\u001b[0m\u001b[0mnp\u001b[0m\u001b[0;34m.\u001b[0m\u001b[0mceil\u001b[0m\u001b[0;34m(\u001b[0m\u001b[0mnp\u001b[0m\u001b[0;34m.\u001b[0m\u001b[0mlog2\u001b[0m\u001b[0;34m(\u001b[0m\u001b[0mmax\u001b[0m\u001b[0;34m(\u001b[0m\u001b[0mmax_samples\u001b[0m\u001b[0;34m,\u001b[0m \u001b[0;36m2\u001b[0m\u001b[0;34m)\u001b[0m\u001b[0;34m)\u001b[0m\u001b[0;34m)\u001b[0m\u001b[0;34m)\u001b[0m\u001b[0;34m\u001b[0m\u001b[0;34m\u001b[0m\u001b[0m\n\u001b[0;32m--> 278\u001b[0;31m         super()._fit(X, y, max_samples,\n\u001b[0m\u001b[1;32m    279\u001b[0m                      \u001b[0mmax_depth\u001b[0m\u001b[0;34m=\u001b[0m\u001b[0mmax_depth\u001b[0m\u001b[0;34m,\u001b[0m\u001b[0;34m\u001b[0m\u001b[0;34m\u001b[0m\u001b[0m\n\u001b[1;32m    280\u001b[0m                      sample_weight=sample_weight)\n",
      "\u001b[0;32m~/Desktop/Sait/venv/lib/python3.8/site-packages/sklearn/ensemble/_bagging.py\u001b[0m in \u001b[0;36m_fit\u001b[0;34m(self, X, y, max_samples, max_depth, sample_weight)\u001b[0m\n\u001b[1;32m    368\u001b[0m         \u001b[0mself\u001b[0m\u001b[0;34m.\u001b[0m\u001b[0m_seeds\u001b[0m \u001b[0;34m=\u001b[0m \u001b[0mseeds\u001b[0m\u001b[0;34m\u001b[0m\u001b[0;34m\u001b[0m\u001b[0m\n\u001b[1;32m    369\u001b[0m \u001b[0;34m\u001b[0m\u001b[0m\n\u001b[0;32m--> 370\u001b[0;31m         all_results = Parallel(n_jobs=n_jobs, verbose=self.verbose,\n\u001b[0m\u001b[1;32m    371\u001b[0m                                \u001b[0;34m**\u001b[0m\u001b[0mself\u001b[0m\u001b[0;34m.\u001b[0m\u001b[0m_parallel_args\u001b[0m\u001b[0;34m(\u001b[0m\u001b[0;34m)\u001b[0m\u001b[0;34m)\u001b[0m\u001b[0;34m(\u001b[0m\u001b[0;34m\u001b[0m\u001b[0;34m\u001b[0m\u001b[0m\n\u001b[1;32m    372\u001b[0m             delayed(_parallel_build_estimators)(\n",
      "\u001b[0;32m~/Desktop/Sait/venv/lib/python3.8/site-packages/joblib/parallel.py\u001b[0m in \u001b[0;36m__call__\u001b[0;34m(self, iterable)\u001b[0m\n\u001b[1;32m   1052\u001b[0m \u001b[0;34m\u001b[0m\u001b[0m\n\u001b[1;32m   1053\u001b[0m             \u001b[0;32mwith\u001b[0m \u001b[0mself\u001b[0m\u001b[0;34m.\u001b[0m\u001b[0m_backend\u001b[0m\u001b[0;34m.\u001b[0m\u001b[0mretrieval_context\u001b[0m\u001b[0;34m(\u001b[0m\u001b[0;34m)\u001b[0m\u001b[0;34m:\u001b[0m\u001b[0;34m\u001b[0m\u001b[0;34m\u001b[0m\u001b[0m\n\u001b[0;32m-> 1054\u001b[0;31m                 \u001b[0mself\u001b[0m\u001b[0;34m.\u001b[0m\u001b[0mretrieve\u001b[0m\u001b[0;34m(\u001b[0m\u001b[0;34m)\u001b[0m\u001b[0;34m\u001b[0m\u001b[0;34m\u001b[0m\u001b[0m\n\u001b[0m\u001b[1;32m   1055\u001b[0m             \u001b[0;31m# Make sure that we get a last message telling us we are done\u001b[0m\u001b[0;34m\u001b[0m\u001b[0;34m\u001b[0m\u001b[0;34m\u001b[0m\u001b[0m\n\u001b[1;32m   1056\u001b[0m             \u001b[0melapsed_time\u001b[0m \u001b[0;34m=\u001b[0m \u001b[0mtime\u001b[0m\u001b[0;34m.\u001b[0m\u001b[0mtime\u001b[0m\u001b[0;34m(\u001b[0m\u001b[0;34m)\u001b[0m \u001b[0;34m-\u001b[0m \u001b[0mself\u001b[0m\u001b[0;34m.\u001b[0m\u001b[0m_start_time\u001b[0m\u001b[0;34m\u001b[0m\u001b[0;34m\u001b[0m\u001b[0m\n",
      "\u001b[0;32m~/Desktop/Sait/venv/lib/python3.8/site-packages/joblib/parallel.py\u001b[0m in \u001b[0;36mretrieve\u001b[0;34m(self)\u001b[0m\n\u001b[1;32m    931\u001b[0m             \u001b[0;32mtry\u001b[0m\u001b[0;34m:\u001b[0m\u001b[0;34m\u001b[0m\u001b[0;34m\u001b[0m\u001b[0m\n\u001b[1;32m    932\u001b[0m                 \u001b[0;32mif\u001b[0m \u001b[0mgetattr\u001b[0m\u001b[0;34m(\u001b[0m\u001b[0mself\u001b[0m\u001b[0;34m.\u001b[0m\u001b[0m_backend\u001b[0m\u001b[0;34m,\u001b[0m \u001b[0;34m'supports_timeout'\u001b[0m\u001b[0;34m,\u001b[0m \u001b[0;32mFalse\u001b[0m\u001b[0;34m)\u001b[0m\u001b[0;34m:\u001b[0m\u001b[0;34m\u001b[0m\u001b[0;34m\u001b[0m\u001b[0m\n\u001b[0;32m--> 933\u001b[0;31m                     \u001b[0mself\u001b[0m\u001b[0;34m.\u001b[0m\u001b[0m_output\u001b[0m\u001b[0;34m.\u001b[0m\u001b[0mextend\u001b[0m\u001b[0;34m(\u001b[0m\u001b[0mjob\u001b[0m\u001b[0;34m.\u001b[0m\u001b[0mget\u001b[0m\u001b[0;34m(\u001b[0m\u001b[0mtimeout\u001b[0m\u001b[0;34m=\u001b[0m\u001b[0mself\u001b[0m\u001b[0;34m.\u001b[0m\u001b[0mtimeout\u001b[0m\u001b[0;34m)\u001b[0m\u001b[0;34m)\u001b[0m\u001b[0;34m\u001b[0m\u001b[0;34m\u001b[0m\u001b[0m\n\u001b[0m\u001b[1;32m    934\u001b[0m                 \u001b[0;32melse\u001b[0m\u001b[0;34m:\u001b[0m\u001b[0;34m\u001b[0m\u001b[0;34m\u001b[0m\u001b[0m\n\u001b[1;32m    935\u001b[0m                     \u001b[0mself\u001b[0m\u001b[0;34m.\u001b[0m\u001b[0m_output\u001b[0m\u001b[0;34m.\u001b[0m\u001b[0mextend\u001b[0m\u001b[0;34m(\u001b[0m\u001b[0mjob\u001b[0m\u001b[0;34m.\u001b[0m\u001b[0mget\u001b[0m\u001b[0;34m(\u001b[0m\u001b[0;34m)\u001b[0m\u001b[0;34m)\u001b[0m\u001b[0;34m\u001b[0m\u001b[0;34m\u001b[0m\u001b[0m\n",
      "\u001b[0;32m/usr/local/opt/python@3.8/Frameworks/Python.framework/Versions/3.8/lib/python3.8/multiprocessing/pool.py\u001b[0m in \u001b[0;36mget\u001b[0;34m(self, timeout)\u001b[0m\n\u001b[1;32m    763\u001b[0m \u001b[0;34m\u001b[0m\u001b[0m\n\u001b[1;32m    764\u001b[0m     \u001b[0;32mdef\u001b[0m \u001b[0mget\u001b[0m\u001b[0;34m(\u001b[0m\u001b[0mself\u001b[0m\u001b[0;34m,\u001b[0m \u001b[0mtimeout\u001b[0m\u001b[0;34m=\u001b[0m\u001b[0;32mNone\u001b[0m\u001b[0;34m)\u001b[0m\u001b[0;34m:\u001b[0m\u001b[0;34m\u001b[0m\u001b[0;34m\u001b[0m\u001b[0m\n\u001b[0;32m--> 765\u001b[0;31m         \u001b[0mself\u001b[0m\u001b[0;34m.\u001b[0m\u001b[0mwait\u001b[0m\u001b[0;34m(\u001b[0m\u001b[0mtimeout\u001b[0m\u001b[0;34m)\u001b[0m\u001b[0;34m\u001b[0m\u001b[0;34m\u001b[0m\u001b[0m\n\u001b[0m\u001b[1;32m    766\u001b[0m         \u001b[0;32mif\u001b[0m \u001b[0;32mnot\u001b[0m \u001b[0mself\u001b[0m\u001b[0;34m.\u001b[0m\u001b[0mready\u001b[0m\u001b[0;34m(\u001b[0m\u001b[0;34m)\u001b[0m\u001b[0;34m:\u001b[0m\u001b[0;34m\u001b[0m\u001b[0;34m\u001b[0m\u001b[0m\n\u001b[1;32m    767\u001b[0m             \u001b[0;32mraise\u001b[0m \u001b[0mTimeoutError\u001b[0m\u001b[0;34m\u001b[0m\u001b[0;34m\u001b[0m\u001b[0m\n",
      "\u001b[0;32m/usr/local/opt/python@3.8/Frameworks/Python.framework/Versions/3.8/lib/python3.8/multiprocessing/pool.py\u001b[0m in \u001b[0;36mwait\u001b[0;34m(self, timeout)\u001b[0m\n\u001b[1;32m    760\u001b[0m \u001b[0;34m\u001b[0m\u001b[0m\n\u001b[1;32m    761\u001b[0m     \u001b[0;32mdef\u001b[0m \u001b[0mwait\u001b[0m\u001b[0;34m(\u001b[0m\u001b[0mself\u001b[0m\u001b[0;34m,\u001b[0m \u001b[0mtimeout\u001b[0m\u001b[0;34m=\u001b[0m\u001b[0;32mNone\u001b[0m\u001b[0;34m)\u001b[0m\u001b[0;34m:\u001b[0m\u001b[0;34m\u001b[0m\u001b[0;34m\u001b[0m\u001b[0m\n\u001b[0;32m--> 762\u001b[0;31m         \u001b[0mself\u001b[0m\u001b[0;34m.\u001b[0m\u001b[0m_event\u001b[0m\u001b[0;34m.\u001b[0m\u001b[0mwait\u001b[0m\u001b[0;34m(\u001b[0m\u001b[0mtimeout\u001b[0m\u001b[0;34m)\u001b[0m\u001b[0;34m\u001b[0m\u001b[0;34m\u001b[0m\u001b[0m\n\u001b[0m\u001b[1;32m    763\u001b[0m \u001b[0;34m\u001b[0m\u001b[0m\n\u001b[1;32m    764\u001b[0m     \u001b[0;32mdef\u001b[0m \u001b[0mget\u001b[0m\u001b[0;34m(\u001b[0m\u001b[0mself\u001b[0m\u001b[0;34m,\u001b[0m \u001b[0mtimeout\u001b[0m\u001b[0;34m=\u001b[0m\u001b[0;32mNone\u001b[0m\u001b[0;34m)\u001b[0m\u001b[0;34m:\u001b[0m\u001b[0;34m\u001b[0m\u001b[0;34m\u001b[0m\u001b[0m\n",
      "\u001b[0;32m/usr/local/opt/python@3.8/Frameworks/Python.framework/Versions/3.8/lib/python3.8/threading.py\u001b[0m in \u001b[0;36mwait\u001b[0;34m(self, timeout)\u001b[0m\n\u001b[1;32m    556\u001b[0m             \u001b[0msignaled\u001b[0m \u001b[0;34m=\u001b[0m \u001b[0mself\u001b[0m\u001b[0;34m.\u001b[0m\u001b[0m_flag\u001b[0m\u001b[0;34m\u001b[0m\u001b[0;34m\u001b[0m\u001b[0m\n\u001b[1;32m    557\u001b[0m             \u001b[0;32mif\u001b[0m \u001b[0;32mnot\u001b[0m \u001b[0msignaled\u001b[0m\u001b[0;34m:\u001b[0m\u001b[0;34m\u001b[0m\u001b[0;34m\u001b[0m\u001b[0m\n\u001b[0;32m--> 558\u001b[0;31m                 \u001b[0msignaled\u001b[0m \u001b[0;34m=\u001b[0m \u001b[0mself\u001b[0m\u001b[0;34m.\u001b[0m\u001b[0m_cond\u001b[0m\u001b[0;34m.\u001b[0m\u001b[0mwait\u001b[0m\u001b[0;34m(\u001b[0m\u001b[0mtimeout\u001b[0m\u001b[0;34m)\u001b[0m\u001b[0;34m\u001b[0m\u001b[0;34m\u001b[0m\u001b[0m\n\u001b[0m\u001b[1;32m    559\u001b[0m             \u001b[0;32mreturn\u001b[0m \u001b[0msignaled\u001b[0m\u001b[0;34m\u001b[0m\u001b[0;34m\u001b[0m\u001b[0m\n\u001b[1;32m    560\u001b[0m \u001b[0;34m\u001b[0m\u001b[0m\n",
      "\u001b[0;32m/usr/local/opt/python@3.8/Frameworks/Python.framework/Versions/3.8/lib/python3.8/threading.py\u001b[0m in \u001b[0;36mwait\u001b[0;34m(self, timeout)\u001b[0m\n\u001b[1;32m    300\u001b[0m         \u001b[0;32mtry\u001b[0m\u001b[0;34m:\u001b[0m    \u001b[0;31m# restore state no matter what (e.g., KeyboardInterrupt)\u001b[0m\u001b[0;34m\u001b[0m\u001b[0;34m\u001b[0m\u001b[0m\n\u001b[1;32m    301\u001b[0m             \u001b[0;32mif\u001b[0m \u001b[0mtimeout\u001b[0m \u001b[0;32mis\u001b[0m \u001b[0;32mNone\u001b[0m\u001b[0;34m:\u001b[0m\u001b[0;34m\u001b[0m\u001b[0;34m\u001b[0m\u001b[0m\n\u001b[0;32m--> 302\u001b[0;31m                 \u001b[0mwaiter\u001b[0m\u001b[0;34m.\u001b[0m\u001b[0macquire\u001b[0m\u001b[0;34m(\u001b[0m\u001b[0;34m)\u001b[0m\u001b[0;34m\u001b[0m\u001b[0;34m\u001b[0m\u001b[0m\n\u001b[0m\u001b[1;32m    303\u001b[0m                 \u001b[0mgotit\u001b[0m \u001b[0;34m=\u001b[0m \u001b[0;32mTrue\u001b[0m\u001b[0;34m\u001b[0m\u001b[0;34m\u001b[0m\u001b[0m\n\u001b[1;32m    304\u001b[0m             \u001b[0;32melse\u001b[0m\u001b[0;34m:\u001b[0m\u001b[0;34m\u001b[0m\u001b[0;34m\u001b[0m\u001b[0m\n",
      "\u001b[0;31mKeyboardInterrupt\u001b[0m: "
     ]
    }
   ],
   "source": [
    "### TF-IDF ###\n",
    "\n",
    "import pyod\n",
    "from pyod.models import iforest\n",
    "from sklearn.metrics import roc_auc_score\n",
    "\n",
    "# Задаем модель\n",
    "iforest_clf = iforest.IForest(\n",
    "    contamination=0.1,\n",
    "    n_estimators=5000,\n",
    "    max_samples=0.7,\n",
    "    max_features=0.7,\n",
    "    bootstrap=True,\n",
    "    random_state=123,\n",
    "    n_jobs=-1,\n",
    ")\n",
    "\n",
    "# Тренировка и предсказание модели\n",
    "# y_predict_iforest = iforest_clf.fit_predict(x)\n",
    "\n",
    "# Считаем метрику ROC AUC\n",
    "# auc_iforest = roc_auc_score(y, y_predict_iforest)\n",
    "auc_iforest = iforest_clf.fit_predict_score(x, y)\n",
    "print(\"auc_iforest = \", auc_iforest)"
   ]
  },
  {
   "cell_type": "markdown",
   "metadata": {
    "id": "J4EUjDwb9ZuY"
   },
   "source": [
    "#### 📝 Universal Sentence Encoder"
   ]
  },
  {
   "cell_type": "code",
   "execution_count": 11,
   "metadata": {
    "id": "HRW8D4yB8jcm"
   },
   "outputs": [
    {
     "ename": "NameError",
     "evalue": "name 'x_use' is not defined",
     "output_type": "error",
     "traceback": [
      "\u001b[0;31m---------------------------------------------------------------------------\u001b[0m",
      "\u001b[0;31mNameError\u001b[0m                                 Traceback (most recent call last)",
      "\u001b[0;32m<ipython-input-11-4d16cf537779>\u001b[0m in \u001b[0;36m<module>\u001b[0;34m\u001b[0m\n\u001b[1;32m     16\u001b[0m \u001b[0;34m\u001b[0m\u001b[0m\n\u001b[1;32m     17\u001b[0m \u001b[0;31m# Тренировка и предсказание модели\u001b[0m\u001b[0;34m\u001b[0m\u001b[0;34m\u001b[0m\u001b[0;34m\u001b[0m\u001b[0m\n\u001b[0;32m---> 18\u001b[0;31m \u001b[0my_predict_iforest\u001b[0m \u001b[0;34m=\u001b[0m \u001b[0miforest_clf\u001b[0m\u001b[0;34m.\u001b[0m\u001b[0mfit_predict\u001b[0m\u001b[0;34m(\u001b[0m\u001b[0mx_use\u001b[0m\u001b[0;34m)\u001b[0m\u001b[0;34m\u001b[0m\u001b[0;34m\u001b[0m\u001b[0m\n\u001b[0m\u001b[1;32m     19\u001b[0m \u001b[0;34m\u001b[0m\u001b[0m\n\u001b[1;32m     20\u001b[0m \u001b[0;31m# Считаем метрику ROC AUC\u001b[0m\u001b[0;34m\u001b[0m\u001b[0;34m\u001b[0m\u001b[0;34m\u001b[0m\u001b[0m\n",
      "\u001b[0;31mNameError\u001b[0m: name 'x_use' is not defined"
     ]
    }
   ],
   "source": [
    "### Universal Sentence Encoder ###\n",
    "\n",
    "import pyod\n",
    "from pyod.models import iforest\n",
    "from sklearn.metrics import roc_auc_score\n",
    "\n",
    "# Задаем модель\n",
    "iforest_clf = iforest.IForest(\n",
    "    contamination=0.1,\n",
    "    n_estimators=5000,\n",
    "    max_samples=1.0,\n",
    "    bootstrap=True,\n",
    "    random_state=123,\n",
    "    n_jobs=-1,\n",
    ")\n",
    "\n",
    "# Тренировка и предсказание модели\n",
    "y_predict_iforest = iforest_clf.fit_predict(x_use)\n",
    "\n",
    "# Считаем метрику ROC AUC\n",
    "auc_iforest = roc_auc_score(y, y_predict_iforest)\n",
    "print(\"auc_iforest = \", auc_iforest)"
   ]
  },
  {
   "cell_type": "markdown",
   "metadata": {
    "id": "ShRAnPCmoQxu"
   },
   "source": [
    "## 2️⃣ 🧮 Local Outlier Factor (LOF, Локальный уровень выброса)"
   ]
  },
  {
   "cell_type": "markdown",
   "metadata": {
    "id": "koLxlaxL-01u"
   },
   "source": [
    "###  🎰  TF-IDF"
   ]
  },
  {
   "cell_type": "code",
   "execution_count": 10,
   "metadata": {
    "id": "_zn_2prZppeC"
   },
   "outputs": [
    {
     "name": "stderr",
     "output_type": "stream",
     "text": [
      "/Users/pavelmamaev/Desktop/Sait/venv/lib/python3.8/site-packages/sklearn/utils/deprecation.py:86: FutureWarning: Function fit_predict_score is deprecated\n",
      "  warnings.warn(msg, category=FutureWarning)\n"
     ]
    },
    {
     "name": "stdout",
     "output_type": "stream",
     "text": [
      "roc_auc_score: 0.8107920792079208\n",
      "auc_lof =  0.8107920792079208\n"
     ]
    }
   ],
   "source": [
    "import pyod\n",
    "from pyod.models import lof\n",
    "from sklearn.metrics import roc_auc_score\n",
    "\n",
    "\n",
    "# Создание модели\n",
    "lof_clf = lof.LOF(\n",
    "    contamination=0.1,\n",
    "    n_neighbors=3,\n",
    "    metric='canberra',\n",
    "    n_jobs=-1,\n",
    ")\n",
    "\n",
    "# Тренировка и предсказание модели\n",
    "# y_predict_lof = lof_clf.fit_predict(x)\n",
    "# auc_lof = roc_auc_score(y, y_predict_lof)\n",
    "\n",
    "auc_lof = lof_clf.fit_predict_score(x, y)\n",
    "\n",
    "# Считаем метрику ROC AUC\n",
    "print(\"auc_lof = \", auc_lof)"
   ]
  },
  {
   "cell_type": "markdown",
   "metadata": {
    "id": "N2DvgCrQ_LsI"
   },
   "source": [
    "### 📝 Universal Sentence Encoder"
   ]
  },
  {
   "cell_type": "code",
   "execution_count": null,
   "metadata": {
    "id": "Y0YkknqT8xrY"
   },
   "outputs": [],
   "source": [
    "import pyod\n",
    "from pyod.models import lof\n",
    "from sklearn.metrics import roc_auc_score\n",
    "\n",
    "\n",
    "# Создание модели\n",
    "lof_clf = lof.LOF(\n",
    "    contamination=0.1,\n",
    "    n_neighbors=13,\n",
    "    metric='canberra',\n",
    "    n_jobs=-1,\n",
    ")\n",
    "\n",
    "# Тренировка и предсказание модели\n",
    "y_predict_lof = lof_clf.fit_predict(x_use)\n",
    "\n",
    "# Считаем метрику ROC AUC\n",
    "auc_lof = roc_auc_score(y, y_predict_lof)\n",
    "print(\"auc_lof = \", auc_lof)"
   ]
  },
  {
   "cell_type": "markdown",
   "metadata": {
    "id": "nY1CGDUopqyo"
   },
   "source": [
    "## 3️⃣👬🏻 k-nearest neighbors (kNN, Метод k-ближайших соседей)"
   ]
  },
  {
   "cell_type": "markdown",
   "metadata": {
    "id": "iLG8Wug8_zoo"
   },
   "source": [
    "###  🎰  TF-IDF"
   ]
  },
  {
   "cell_type": "code",
   "execution_count": 20,
   "metadata": {
    "id": "FnIRHb5dvmDA"
   },
   "outputs": [
    {
     "name": "stderr",
     "output_type": "stream",
     "text": [
      "/Users/pavelmamaev/Desktop/Sait/venv/lib/python3.8/site-packages/sklearn/utils/deprecation.py:86: FutureWarning: Function fit_predict_score is deprecated\n",
      "  warnings.warn(msg, category=FutureWarning)\n"
     ]
    },
    {
     "name": "stdout",
     "output_type": "stream",
     "text": [
      "roc_auc_score: 0.6807029702970296\n",
      "auc_knn =  0.6807029702970296\n"
     ]
    }
   ],
   "source": [
    "import pyod\n",
    "from pyod.models import knn\n",
    "from sklearn.metrics import roc_auc_score\n",
    "\n",
    "# Создание модели\n",
    "knn_clf = knn.KNN(\n",
    "    contamination=0.1,\n",
    "    n_neighbors=3,\n",
    "    method='largest',\n",
    "    metric='canberra',\n",
    "    n_jobs=-1,\n",
    ")\n",
    "\n",
    "# Тренировка и предсказание модели\n",
    "# y_predict_knn = knn_clf.fit_predict(x)\n",
    "\n",
    "# Считаем метрику ROC AUC\n",
    "auc_knn = knn_clf.fit_predict_score(x, y)\n",
    "# auc_knn = roc_auc_score(y, y_predict_knn)\n",
    "print(\"auc_knn = \", auc_knn)"
   ]
  },
  {
   "cell_type": "markdown",
   "metadata": {
    "id": "O_u24NE4_2ZD"
   },
   "source": [
    "### 📝 Universal Sentence Encoder"
   ]
  },
  {
   "cell_type": "code",
   "execution_count": null,
   "metadata": {
    "id": "Z1vVi4jy_UJ5"
   },
   "outputs": [],
   "source": [
    "import pyod\n",
    "from pyod.models import knn\n",
    "from sklearn.metrics import roc_auc_score\n",
    "\n",
    "# Создание модели\n",
    "knn_clf = knn.KNN(\n",
    "    contamination=0.1,\n",
    "    n_neighbors=120,\n",
    "    method='largest',\n",
    "    metric='l1',\n",
    "    n_jobs=-1,\n",
    ")\n",
    "\n",
    "# Тренировка и предсказание модели\n",
    "y_predict_knn = knn_clf.fit_predict(x_use)\n",
    "\n",
    "# Считаем метрику ROC AUC\n",
    "auc_knn = roc_auc_score(y, y_predict_knn)\n",
    "print(\"auc_knn = \", auc_knn)"
   ]
  },
  {
   "cell_type": "markdown",
   "metadata": {
    "id": "NdBuc3YKqz8q"
   },
   "source": [
    "## 4️⃣📊 [Copula-Based Outlier Detection](http://www.andrew.cmu.edu/user/yuezhao2/papers/20-icdm-copod.pdf) (COPOD)\n",
    "[Что такое копула?](https://ru.wikipedia.org/wiki/%D0%9A%D0%BE%D0%BF%D1%83%D0%BB%D0%B0)"
   ]
  },
  {
   "cell_type": "markdown",
   "metadata": {
    "id": "GJLgihvVAKDh"
   },
   "source": [
    "###  🎰  TF-IDF"
   ]
  },
  {
   "cell_type": "code",
   "execution_count": 18,
   "metadata": {
    "id": "MGZp6lKszRIp"
   },
   "outputs": [
    {
     "name": "stderr",
     "output_type": "stream",
     "text": [
      "/Users/pavelmamaev/Desktop/Sait/venv/lib/python3.8/site-packages/sklearn/utils/deprecation.py:86: FutureWarning: Function fit_predict_score is deprecated\n",
      "  warnings.warn(msg, category=FutureWarning)\n"
     ]
    },
    {
     "name": "stdout",
     "output_type": "stream",
     "text": [
      "roc_auc_score: 0.6908316831683168\n",
      "auc_copod =  0.6908316831683168\n"
     ]
    }
   ],
   "source": [
    "import pyod\n",
    "from pyod.models import copod\n",
    "from sklearn.metrics import roc_auc_score\n",
    "\n",
    "# Создание модели\n",
    "copod_clf = copod.COPOD(contamination=0.1)\n",
    "\n",
    "# Тренировка и предсказание модели\n",
    "# y_predict_copod = copod_clf.fit_predict(x)\n",
    "\n",
    "# Считаем метрику ROC AUC\n",
    "auc_copod = copod_clf.fit_predict_score(x, y)\n",
    "# auc_copod = roc_auc_score(y, y_predict_copod)\n",
    "print(\"auc_copod = \", auc_copod)"
   ]
  },
  {
   "cell_type": "markdown",
   "metadata": {
    "id": "xUoYmuLYAGPM"
   },
   "source": [
    "### 📝 Universal Sentence Encoder"
   ]
  },
  {
   "cell_type": "code",
   "execution_count": null,
   "metadata": {
    "id": "cLIkDMdCAAdy"
   },
   "outputs": [],
   "source": [
    "import pyod\n",
    "from pyod.models import copod\n",
    "from sklearn.metrics import roc_auc_score\n",
    "\n",
    "# Создание модели\n",
    "copod_clf = copod.COPOD(contamination=0.1)\n",
    "\n",
    "# Тренировка и предсказание модели\n",
    "y_predict_copod = copod_clf.fit_predict(x_use)\n",
    "\n",
    "# Считаем метрику ROC AUC\n",
    "auc_copod = roc_auc_score(y, y_predict_copod)\n",
    "print(\"auc_copod = \", auc_copod)"
   ]
  },
  {
   "cell_type": "markdown",
   "metadata": {
    "id": "enqIvLV2-rq0"
   },
   "source": [
    "## 5️⃣⌛️ AE (Автокодировщик)"
   ]
  },
  {
   "cell_type": "code",
   "execution_count": null,
   "metadata": {
    "colab": {
     "base_uri": "https://localhost:8080/"
    },
    "id": "QCAIbic--6UX",
    "outputId": "684bc84f-32cf-4ce2-810c-4b7b4aed5fde"
   },
   "outputs": [
    {
     "name": "stdout",
     "output_type": "stream",
     "text": [
      "Model: \"sequential\"\n",
      "_________________________________________________________________\n",
      "Layer (type)                 Output Shape              Param #   \n",
      "=================================================================\n",
      "dense (Dense)                (None, 13828)             191227412 \n",
      "_________________________________________________________________\n",
      "dropout (Dropout)            (None, 13828)             0         \n",
      "_________________________________________________________________\n",
      "dense_1 (Dense)              (None, 13828)             191227412 \n",
      "_________________________________________________________________\n",
      "dropout_1 (Dropout)          (None, 13828)             0         \n",
      "_________________________________________________________________\n",
      "dense_2 (Dense)              (None, 128)               1770112   \n",
      "_________________________________________________________________\n",
      "dropout_2 (Dropout)          (None, 128)               0         \n",
      "_________________________________________________________________\n",
      "dense_3 (Dense)              (None, 64)                8256      \n",
      "_________________________________________________________________\n",
      "dropout_3 (Dropout)          (None, 64)                0         \n",
      "_________________________________________________________________\n",
      "dense_4 (Dense)              (None, 32)                2080      \n",
      "_________________________________________________________________\n",
      "dropout_4 (Dropout)          (None, 32)                0         \n",
      "_________________________________________________________________\n",
      "dense_5 (Dense)              (None, 64)                2112      \n",
      "_________________________________________________________________\n",
      "dropout_5 (Dropout)          (None, 64)                0         \n",
      "_________________________________________________________________\n",
      "dense_6 (Dense)              (None, 128)               8320      \n",
      "_________________________________________________________________\n",
      "dropout_6 (Dropout)          (None, 128)               0         \n",
      "_________________________________________________________________\n",
      "dense_7 (Dense)              (None, 13828)             1783812   \n",
      "=================================================================\n",
      "Total params: 386,029,516\n",
      "Trainable params: 386,029,516\n",
      "Non-trainable params: 0\n",
      "_________________________________________________________________\n",
      "None\n",
      "Epoch 1/5\n",
      "9/9 [==============================] - 3s 120ms/step - loss: 19412.9451\n",
      "Epoch 2/5\n",
      "9/9 [==============================] - 1s 118ms/step - loss: 75215.7722\n",
      "Epoch 3/5\n",
      "9/9 [==============================] - 1s 119ms/step - loss: 86022.2431\n",
      "Epoch 4/5\n",
      "9/9 [==============================] - 1s 119ms/step - loss: 41101.7146\n",
      "Epoch 5/5\n",
      "9/9 [==============================] - 1s 119ms/step - loss: 22073.1412\n",
      "auc_ae =  0.8691180093619117\n"
     ]
    }
   ],
   "source": [
    "import pyod\n",
    "from pyod.models import auto_encoder\n",
    "from sklearn.metrics import roc_auc_score\n",
    "\n",
    "# Создание модели\n",
    "ae_clf = auto_encoder.AutoEncoder(\n",
    "    hidden_neurons=[128, 64, 32, 64, 128],\n",
    "    hidden_activation='relu',\n",
    "    output_activation='sigmoid',\n",
    "    optimizer='adam',\n",
    "    epochs=5,\n",
    "    batch_size=128,\n",
    "    dropout_rate=0.4,\n",
    "    l2_regularizer=0.4,\n",
    "    validation_size=0.0,\n",
    "    preprocessing=True,\n",
    "    verbose=1,\n",
    "    random_state=123,\n",
    "    contamination=0.1\n",
    ")\n",
    "\n",
    "# Считаем метрику ROC AUC\n",
    "ae_clf.fit(x)\n",
    "y_predict_ae = ae_clf.decision_function(x)\n",
    "auc_ae = roc_auc_score(y, y_predict_ae)\n",
    "print(\"auc_ae = \", auc_ae)"
   ]
  },
  {
   "cell_type": "markdown",
   "metadata": {
    "id": "h95y12Y95SNu"
   },
   "source": [
    "## 6️⃣⏲ VAE (Вариационный автокодировщик)"
   ]
  },
  {
   "cell_type": "markdown",
   "metadata": {
    "id": "9mGkH9OKLobR"
   },
   "source": []
  },
  {
   "cell_type": "code",
   "execution_count": null,
   "metadata": {
    "id": "9HxTa3KI5ni8"
   },
   "outputs": [],
   "source": [
    "import pyod\n",
    "from pyod.models import vae\n",
    "from sklearn.metrics import roc_auc_score\n",
    "\n",
    "\n",
    "# Создание модели\n",
    "vae_clf = vae.VAE(\n",
    "    contamination=0.1,\n",
    "    encoder_neurons=[256, 128, 64],\n",
    "    decoder_neurons=[64, 128, 256],\n",
    "    latent_dim=8,\n",
    "    hidden_activation='relu',\n",
    "    output_activation='sigmoid',\n",
    "    optimizer='adam',\n",
    "    epochs=0,\n",
    "    batch_size=128,\n",
    "    dropout_rate=0.3,\n",
    "    l2_regularizer=0.5,\n",
    "    validation_size=0.0,\n",
    "    preprocessing=True,\n",
    "    verbose=1,\n",
    "    random_state=123,\n",
    ")\n",
    "\n",
    "# Считаем метрику ROC AUC\n",
    "vae_clf.fit(x)\n",
    "y_predict_vae = vae_clf.predict(x)\n",
    "auc_vae = roc_auc_score(y, y_predict_vae)\n",
    "print(\"auc_vae = \", auc_vae)"
   ]
  },
  {
   "cell_type": "code",
   "execution_count": null,
   "metadata": {
    "id": "bWRDmx_u9a9J"
   },
   "outputs": [],
   "source": [
    "x[x == 1e-16] = 1e-5\n",
    "x.min()"
   ]
  },
  {
   "cell_type": "code",
   "execution_count": null,
   "metadata": {
    "id": "PbSPeHRd7ZK3"
   },
   "outputs": [],
   "source": []
  }
 ],
 "metadata": {
  "accelerator": "GPU",
  "colab": {
   "collapsed_sections": [],
   "name": "Classical_methods_examples.ipynb",
   "provenance": []
  },
  "kernelspec": {
   "display_name": "Python 3",
   "language": "python",
   "name": "python3"
  },
  "language_info": {
   "codemirror_mode": {
    "name": "ipython",
    "version": 3
   },
   "file_extension": ".py",
   "mimetype": "text/x-python",
   "name": "python",
   "nbconvert_exporter": "python",
   "pygments_lexer": "ipython3",
   "version": "3.8.8"
  }
 },
 "nbformat": 4,
 "nbformat_minor": 1
}
