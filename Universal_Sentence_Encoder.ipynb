{
  "nbformat": 4,
  "nbformat_minor": 0,
  "metadata": {
    "colab": {
      "name": "Universal Sentence Encoder.ipynb",
      "provenance": [],
      "collapsed_sections": []
    },
    "kernelspec": {
      "name": "python3",
      "display_name": "Python 3"
    },
    "accelerator": "GPU"
  },
  "cells": [
    {
      "cell_type": "markdown",
      "metadata": {
        "id": "4EakGWyzFURs"
      },
      "source": [
        "## Universal Sentence Encoder (trainable)\n",
        "\n",
        "[Исходный гайд](https://amitness.com/2020/02/tensorflow-hub-for-transfer-learning/)"
      ]
    },
    {
      "cell_type": "code",
      "metadata": {
        "colab": {
          "base_uri": "https://localhost:8080/",
          "height": 201
        },
        "id": "WcrX3xGBDlXc",
        "outputId": "7599f8c2-bac3-4067-8a4c-3751848742f5"
      },
      "source": [
        "import pandas as pd\n",
        "df = pd.read_csv('http://bit.ly/clickbait-data')\n",
        "df.head()"
      ],
      "execution_count": null,
      "outputs": [
        {
          "output_type": "execute_result",
          "data": {
            "text/html": [
              "<div>\n",
              "<style scoped>\n",
              "    .dataframe tbody tr th:only-of-type {\n",
              "        vertical-align: middle;\n",
              "    }\n",
              "\n",
              "    .dataframe tbody tr th {\n",
              "        vertical-align: top;\n",
              "    }\n",
              "\n",
              "    .dataframe thead th {\n",
              "        text-align: right;\n",
              "    }\n",
              "</style>\n",
              "<table border=\"1\" class=\"dataframe\">\n",
              "  <thead>\n",
              "    <tr style=\"text-align: right;\">\n",
              "      <th></th>\n",
              "      <th>title</th>\n",
              "      <th>label</th>\n",
              "    </tr>\n",
              "  </thead>\n",
              "  <tbody>\n",
              "    <tr>\n",
              "      <th>0</th>\n",
              "      <td>15 Highly Important Questions About Adulthood,...</td>\n",
              "      <td>1</td>\n",
              "    </tr>\n",
              "    <tr>\n",
              "      <th>1</th>\n",
              "      <td>250 Nuns Just Cycled All The Way From Kathmand...</td>\n",
              "      <td>1</td>\n",
              "    </tr>\n",
              "    <tr>\n",
              "      <th>2</th>\n",
              "      <td>Australian comedians \"could have been shot\" du...</td>\n",
              "      <td>0</td>\n",
              "    </tr>\n",
              "    <tr>\n",
              "      <th>3</th>\n",
              "      <td>Lycos launches screensaver to increase spammer...</td>\n",
              "      <td>0</td>\n",
              "    </tr>\n",
              "    <tr>\n",
              "      <th>4</th>\n",
              "      <td>Fußball-Bundesliga 2008–09: Goalkeeper Butt si...</td>\n",
              "      <td>0</td>\n",
              "    </tr>\n",
              "  </tbody>\n",
              "</table>\n",
              "</div>"
            ],
            "text/plain": [
              "                                               title  label\n",
              "0  15 Highly Important Questions About Adulthood,...      1\n",
              "1  250 Nuns Just Cycled All The Way From Kathmand...      1\n",
              "2  Australian comedians \"could have been shot\" du...      0\n",
              "3  Lycos launches screensaver to increase spammer...      0\n",
              "4  Fußball-Bundesliga 2008–09: Goalkeeper Butt si...      0"
            ]
          },
          "metadata": {
            "tags": []
          },
          "execution_count": 2
        }
      ]
    },
    {
      "cell_type": "code",
      "metadata": {
        "id": "NZWwZSmlDlOH"
      },
      "source": [
        "from sklearn.model_selection import train_test_split\n",
        "\n",
        "x_train, x_test, y_train, y_test = train_test_split(df['title'], \n",
        "                                                    df['label'], \n",
        "                                                    test_size=0.3, \n",
        "                                                    stratify=df['label'], \n",
        "                                                    random_state=42)"
      ],
      "execution_count": null,
      "outputs": []
    },
    {
      "cell_type": "code",
      "metadata": {
        "colab": {
          "base_uri": "https://localhost:8080/"
        },
        "id": "jbF1xdaNDlKx",
        "outputId": "839d8eb6-2749-48ba-bb5e-dbf6bb361d4c"
      },
      "source": [
        "import tensorflow_hub as hub\n",
        "\n",
        "encoder = hub.load('https://tfhub.dev/google/universal-sentence-encoder/4')\n",
        "print(type(encoder(['Hello World'])))"
      ],
      "execution_count": null,
      "outputs": [
        {
          "output_type": "stream",
          "text": [
            "WARNING:tensorflow:5 out of the last 5 calls to <function recreate_function.<locals>.restored_function_body at 0x7f58a046e950> triggered tf.function retracing. Tracing is expensive and the excessive number of tracings could be due to (1) creating @tf.function repeatedly in a loop, (2) passing tensors with different shapes, (3) passing Python objects instead of tensors. For (1), please define your @tf.function outside of the loop. For (2), @tf.function has experimental_relax_shapes=True option that relaxes argument shapes that can avoid unnecessary retracing. For (3), please refer to https://www.tensorflow.org/tutorials/customization/performance#python_or_tensor_args and https://www.tensorflow.org/api_docs/python/tf/function for  more details.\n"
          ],
          "name": "stdout"
        },
        {
          "output_type": "stream",
          "text": [
            "WARNING:tensorflow:5 out of the last 5 calls to <function recreate_function.<locals>.restored_function_body at 0x7f58a046e950> triggered tf.function retracing. Tracing is expensive and the excessive number of tracings could be due to (1) creating @tf.function repeatedly in a loop, (2) passing tensors with different shapes, (3) passing Python objects instead of tensors. For (1), please define your @tf.function outside of the loop. For (2), @tf.function has experimental_relax_shapes=True option that relaxes argument shapes that can avoid unnecessary retracing. For (3), please refer to https://www.tensorflow.org/tutorials/customization/performance#python_or_tensor_args and https://www.tensorflow.org/api_docs/python/tf/function for  more details.\n"
          ],
          "name": "stderr"
        },
        {
          "output_type": "stream",
          "text": [
            "WARNING:tensorflow:6 out of the last 6 calls to <function recreate_function.<locals>.restored_function_body at 0x7f59a6f2e488> triggered tf.function retracing. Tracing is expensive and the excessive number of tracings could be due to (1) creating @tf.function repeatedly in a loop, (2) passing tensors with different shapes, (3) passing Python objects instead of tensors. For (1), please define your @tf.function outside of the loop. For (2), @tf.function has experimental_relax_shapes=True option that relaxes argument shapes that can avoid unnecessary retracing. For (3), please refer to https://www.tensorflow.org/tutorials/customization/performance#python_or_tensor_args and https://www.tensorflow.org/api_docs/python/tf/function for  more details.\n"
          ],
          "name": "stdout"
        },
        {
          "output_type": "stream",
          "text": [
            "WARNING:tensorflow:6 out of the last 6 calls to <function recreate_function.<locals>.restored_function_body at 0x7f59a6f2e488> triggered tf.function retracing. Tracing is expensive and the excessive number of tracings could be due to (1) creating @tf.function repeatedly in a loop, (2) passing tensors with different shapes, (3) passing Python objects instead of tensors. For (1), please define your @tf.function outside of the loop. For (2), @tf.function has experimental_relax_shapes=True option that relaxes argument shapes that can avoid unnecessary retracing. For (3), please refer to https://www.tensorflow.org/tutorials/customization/performance#python_or_tensor_args and https://www.tensorflow.org/api_docs/python/tf/function for  more details.\n"
          ],
          "name": "stderr"
        },
        {
          "output_type": "stream",
          "text": [
            "WARNING:tensorflow:7 out of the last 7 calls to <function recreate_function.<locals>.restored_function_body at 0x7f58a04966a8> triggered tf.function retracing. Tracing is expensive and the excessive number of tracings could be due to (1) creating @tf.function repeatedly in a loop, (2) passing tensors with different shapes, (3) passing Python objects instead of tensors. For (1), please define your @tf.function outside of the loop. For (2), @tf.function has experimental_relax_shapes=True option that relaxes argument shapes that can avoid unnecessary retracing. For (3), please refer to https://www.tensorflow.org/tutorials/customization/performance#python_or_tensor_args and https://www.tensorflow.org/api_docs/python/tf/function for  more details.\n"
          ],
          "name": "stdout"
        },
        {
          "output_type": "stream",
          "text": [
            "WARNING:tensorflow:7 out of the last 7 calls to <function recreate_function.<locals>.restored_function_body at 0x7f58a04966a8> triggered tf.function retracing. Tracing is expensive and the excessive number of tracings could be due to (1) creating @tf.function repeatedly in a loop, (2) passing tensors with different shapes, (3) passing Python objects instead of tensors. For (1), please define your @tf.function outside of the loop. For (2), @tf.function has experimental_relax_shapes=True option that relaxes argument shapes that can avoid unnecessary retracing. For (3), please refer to https://www.tensorflow.org/tutorials/customization/performance#python_or_tensor_args and https://www.tensorflow.org/api_docs/python/tf/function for  more details.\n"
          ],
          "name": "stderr"
        },
        {
          "output_type": "stream",
          "text": [
            "(1, 512)\n"
          ],
          "name": "stdout"
        }
      ]
    },
    {
      "cell_type": "code",
      "metadata": {
        "colab": {
          "base_uri": "https://localhost:8080/"
        },
        "id": "9X0KmFbxQ4aX",
        "outputId": "07deeddf-a971-4a0f-b0f7-93f7bf027214"
      },
      "source": [
        "print(tf.cast(encoder(['Hello World']), dtype=tf.float64))"
      ],
      "execution_count": null,
      "outputs": [
        {
          "output_type": "stream",
          "text": [
            "tf.Tensor(\n",
            "[[-2.60742530e-02 -8.46000239e-02 -2.67866030e-02  5.67842238e-02\n",
            "   6.19704649e-02  3.82260047e-02  2.01149415e-02  2.74087563e-02\n",
            "   8.69832113e-02  3.07918098e-02  4.10411879e-02  2.55183522e-02\n",
            "   9.65159677e-04  5.89279756e-02  4.00954075e-02  4.67089228e-02\n",
            "  -3.31279486e-02  4.07041796e-02 -1.19929593e-02 -4.76170778e-02\n",
            "  -8.29666853e-03  7.05467537e-02  4.84353816e-03  8.09824839e-02\n",
            "  -5.70177324e-02 -6.43551424e-02  6.97147325e-02 -6.98838457e-02\n",
            "   2.64606159e-02 -2.35220436e-02  5.52375205e-02  4.91364114e-02\n",
            "   5.69897145e-02 -6.10719398e-02  3.60851213e-02  2.32446212e-02\n",
            "   5.60175218e-02 -1.09551847e-02  4.21308428e-02 -1.76954269e-02\n",
            "   7.12432154e-03  2.04703286e-02 -7.10126385e-02 -8.45577493e-02\n",
            "   4.36058305e-02  4.79397625e-02 -9.01802182e-02 -6.87343925e-02\n",
            "   1.27959941e-02  1.62498821e-02 -4.83131073e-02  3.08832061e-02\n",
            "   7.43833045e-03  3.39155607e-02  3.32343951e-02  4.33182493e-02\n",
            "   6.36333823e-02  4.92026955e-02 -2.83108559e-02  8.13513435e-03\n",
            "   6.13531433e-02 -4.55091782e-02  7.29005560e-02  2.35105343e-02\n",
            "   3.83348316e-02  5.08494563e-02  8.06404930e-03  8.62897001e-03\n",
            "   6.40241951e-02 -6.05040751e-02 -7.36794993e-02  2.69570593e-02\n",
            "  -5.77676371e-02  1.25013655e-02 -4.08308208e-02  3.32859419e-02\n",
            "  -3.23612392e-02 -1.61092859e-02 -2.48677097e-02 -5.35662062e-02\n",
            "  -3.74627858e-02  6.29036203e-02 -4.98672277e-02 -2.28666216e-02\n",
            "   4.40827087e-02  3.75327431e-02 -6.20824546e-02  4.28381413e-02\n",
            "  -3.76116335e-02  2.65850015e-02 -5.32959104e-02  8.69165547e-03\n",
            "  -4.62800674e-02  6.37023672e-02 -3.66368890e-03  3.64336334e-02\n",
            "   1.21065751e-02  2.30125245e-02 -1.27871921e-02 -8.17938149e-02\n",
            "   4.63207476e-02 -5.16177341e-02 -1.15763992e-02 -4.45202217e-02\n",
            "   3.64443995e-02 -6.70068990e-03 -4.42535765e-02  4.88680266e-02\n",
            "  -7.05861254e-03 -5.31740040e-02 -5.03168590e-02  5.56184724e-02\n",
            "  -5.25438935e-02  1.96676105e-02  5.11138886e-02  4.78590503e-02\n",
            "  -4.44897301e-02  7.92809064e-04  2.36185864e-02  6.46662489e-02\n",
            "  -6.73265709e-03 -2.22911052e-02 -4.31940332e-02  4.22831662e-02\n",
            "  -3.80826257e-02  1.30239944e-03  7.33893514e-02  9.22414660e-03\n",
            "   5.11264987e-02  5.28766736e-02  1.59421167e-03  6.54447302e-02\n",
            "   6.89913779e-02 -9.68999043e-03 -5.38371922e-03 -8.52041915e-02\n",
            "  -2.13744249e-02 -6.66424781e-02 -1.95669010e-02 -3.74438707e-03\n",
            "  -1.78493559e-02 -1.98682025e-02  3.18536721e-02  4.51908372e-02\n",
            "   2.49815080e-03 -9.52923745e-02  1.09563000e-03  3.67592536e-02\n",
            "  -2.77983397e-03  5.85181464e-04  5.27816713e-02 -1.95374582e-02\n",
            "  -5.73618822e-02  3.48535180e-02 -7.62959048e-02  1.13362027e-03\n",
            "   4.93207062e-03 -6.26855642e-02 -3.72669399e-02 -2.89979111e-02\n",
            "   1.54424710e-02 -1.10955304e-02 -3.56345996e-02  9.36220959e-03\n",
            "   5.60582057e-02  2.33557522e-02  3.69893783e-03 -8.49869773e-02\n",
            "   4.20443900e-02 -6.58992007e-02  7.92491343e-03  2.03064065e-02\n",
            "  -1.13738989e-02 -4.80088918e-03 -6.58503994e-02 -3.13581191e-02\n",
            "  -1.76833440e-02 -3.11461743e-02  2.57766098e-02 -6.42409399e-02\n",
            "   5.48408702e-02 -3.31307240e-02 -2.06242520e-02 -2.63731331e-02\n",
            "  -2.03021448e-02  2.06493605e-02  2.81628426e-02 -5.83699755e-02\n",
            "   5.95919080e-02 -9.14691668e-03  2.95740715e-03  2.21163454e-03\n",
            "   9.03765410e-02  2.45939139e-02  3.32328826e-02 -6.09733835e-02\n",
            "   4.33602408e-02  9.32767838e-02 -5.41661195e-02 -1.43824397e-02\n",
            "  -6.39715046e-02 -2.69169472e-02  5.96261434e-02  4.66896407e-02\n",
            "  -2.70995218e-02  4.30359468e-02  3.93449888e-02  6.83098733e-02\n",
            "  -6.43664151e-02  4.37395945e-02  7.17306063e-02 -1.63310766e-02\n",
            "   1.59165077e-02  4.96943220e-02 -2.06299797e-02  5.14803119e-02\n",
            "  -2.51142960e-02 -4.53334041e-02  1.49425454e-02  3.53007056e-02\n",
            "  -2.16533616e-02  5.52630015e-02  5.08353747e-02 -4.09516878e-02\n",
            "  -3.83847207e-02 -1.17984824e-02 -3.60060669e-02  2.16764361e-02\n",
            "   3.75643782e-02  1.69526646e-03 -9.02763382e-03 -2.26708986e-02\n",
            "   2.74833590e-02  9.64819267e-02 -2.78990413e-03 -1.64378267e-02\n",
            "   5.64871319e-02 -6.02529831e-02 -2.23186221e-02  8.58926307e-03\n",
            "  -9.62129235e-03  1.41767180e-02  5.79660237e-02 -5.63242435e-02\n",
            "   1.70243960e-02  4.20254059e-02 -7.59564154e-03 -3.66607234e-02\n",
            "   3.43124717e-02  6.90166131e-02 -7.24128410e-02  2.07565483e-02\n",
            "  -3.28471093e-03  1.13611156e-02  8.79604816e-02 -7.99725503e-02\n",
            "  -2.96542351e-03 -1.92952212e-02 -1.03388121e-02 -4.69879396e-02\n",
            "   3.84079628e-02  2.39850022e-02  2.08901670e-02 -3.82688418e-02\n",
            "  -5.75624220e-02  1.72497146e-02  4.09740023e-02  5.98704501e-04\n",
            "   1.68124177e-02  6.32370338e-02 -4.27634306e-02  8.11341479e-02\n",
            "   4.58501875e-02  8.91674310e-03  3.27869840e-02  3.61760221e-02\n",
            "   3.10239941e-03  6.55346736e-02  7.67164379e-02  9.13366154e-02\n",
            "   2.06146911e-02  1.06216650e-02  3.59857641e-02  4.54193540e-02\n",
            "  -3.46752554e-02 -1.67106614e-02  2.14491617e-02  9.38798673e-03\n",
            "  -6.24129511e-02 -1.85835809e-02  3.70531529e-02 -3.88284028e-02\n",
            "  -2.59618685e-02  2.92380806e-02 -1.44912945e-02 -3.74621362e-03\n",
            "   3.02939694e-02  5.40679507e-02  4.77524325e-02  5.29317111e-02\n",
            "  -4.39475030e-02 -1.28631229e-02 -6.77326322e-03 -4.93905209e-02\n",
            "  -7.27062076e-02  1.61287356e-02  5.46294674e-02  2.68698186e-02\n",
            "   2.99146809e-02  1.55111996e-03  2.75359713e-02 -4.64262664e-02\n",
            "   3.22091579e-02  2.66059628e-03  1.19944122e-02  4.31576036e-02\n",
            "   4.66606356e-02  5.22513352e-02 -1.93222389e-02 -1.66278724e-02\n",
            "  -2.71116663e-03  1.54648897e-05 -8.14615004e-03  2.14950945e-02\n",
            "  -1.18330296e-03  3.73656340e-02 -2.56142989e-02  7.61129111e-02\n",
            "   2.44104136e-02  3.92367542e-02  7.12005123e-02 -5.25086140e-03\n",
            "   5.43619469e-02 -6.22927137e-02 -2.94232033e-02 -3.29863057e-02\n",
            "   6.56582937e-02  7.21715018e-02  2.68781539e-02 -2.93161646e-02\n",
            "  -3.32963169e-02 -8.44248831e-02 -3.16015743e-02  2.79867947e-02\n",
            "  -8.23744982e-02  3.64788733e-02  4.88252565e-02 -6.83783516e-02\n",
            "   3.18668894e-02  1.66107975e-02  2.29781792e-02 -6.12197742e-02\n",
            "  -1.93398539e-02  5.13783209e-02  4.07583937e-02 -3.33075747e-02\n",
            "  -8.87005925e-02  5.66096138e-03 -6.40923381e-02 -1.86007284e-02\n",
            "   6.25708327e-02 -9.90175642e-03  6.61970675e-02  3.38725708e-02\n",
            "  -7.80232484e-03  3.48911993e-02 -3.66670154e-02  7.21683279e-02\n",
            "  -3.65502713e-03  2.45536193e-02  9.41811875e-03 -6.41648322e-02\n",
            "   6.45556599e-02  5.33294715e-02 -7.75077492e-02  8.18707943e-02\n",
            "   7.88642243e-02 -5.49658649e-02  2.22725198e-02 -8.89201239e-02\n",
            "  -2.62606647e-02  1.73204578e-02  3.16567011e-02  1.87993068e-02\n",
            "   8.76914635e-02  5.27185276e-02 -8.66078734e-02 -2.06336714e-02\n",
            "   1.02113420e-02  7.17167631e-02  3.00143138e-02 -1.02895517e-02\n",
            "   4.14276635e-03 -8.37659929e-03 -4.63809185e-02  1.67408139e-02\n",
            "  -4.28261161e-02 -2.61010299e-03  6.40727580e-02  6.88173547e-02\n",
            "   1.03705861e-02  5.19992560e-02 -5.15562296e-03 -2.71002599e-03\n",
            "   1.48352131e-03 -4.15059850e-02  6.25546416e-03 -4.25068773e-02\n",
            "   3.58885303e-02 -2.73590684e-02 -5.72057925e-02 -1.34983920e-02\n",
            "  -1.11883050e-02  2.88900919e-02 -6.43886700e-02  3.81065793e-02\n",
            "   1.59307476e-02  8.23506340e-02 -5.06881811e-02  5.58760129e-02\n",
            "  -2.79319976e-02  4.98601869e-02 -7.18506277e-02 -4.42551263e-03\n",
            "   6.04672693e-02  8.46776292e-02 -3.83321382e-02  5.73305413e-02\n",
            "  -3.55883911e-02  5.09444810e-02  1.30833918e-02 -6.83168918e-02\n",
            "  -5.64304702e-02  3.75824161e-02 -1.13892891e-02 -1.50790941e-02\n",
            "  -3.15334462e-02  1.66470595e-02  5.05045503e-02 -7.16641396e-02\n",
            "   5.06208204e-02  8.92124139e-03 -3.95122655e-02  3.03692091e-02\n",
            "  -3.07687558e-02  6.91801403e-03  2.46045683e-02 -4.05793600e-02\n",
            "  -6.49312735e-02 -4.28357385e-02 -4.39038426e-02  1.80413090e-02\n",
            "   8.50102827e-02 -7.99797103e-03 -3.54884677e-02 -3.85430679e-02\n",
            "  -1.43462792e-02 -3.44555192e-02  8.24159756e-02 -2.23659687e-02\n",
            "  -1.47825591e-02 -3.74615937e-02 -4.38764393e-02 -6.95464090e-02\n",
            "  -2.52644308e-02 -3.44678089e-02 -5.96645987e-03 -1.84871182e-02\n",
            "  -2.47849710e-02  7.08741173e-02  1.64442025e-02  4.18216549e-02\n",
            "   7.81708285e-02  6.50737435e-02 -4.84120399e-02 -5.01155220e-02\n",
            "  -5.78681715e-02 -3.48139964e-02  9.95444506e-03  4.20346148e-02\n",
            "  -5.46988845e-02  1.52088413e-02  7.73330927e-02 -1.08553041e-02\n",
            "  -1.29468013e-02  6.48383126e-02 -2.48345193e-02 -2.82439757e-02\n",
            "   1.74645279e-02 -1.51769873e-02 -4.95821722e-02 -8.01008344e-02\n",
            "  -1.37344683e-02  3.17384042e-02  5.67260571e-02  3.72413881e-02\n",
            "  -2.03021802e-02  7.13637052e-03  8.14114511e-02 -3.46040949e-02\n",
            "   2.47511826e-03 -2.48615351e-02 -6.22476153e-02 -7.91509822e-02\n",
            "  -3.39030102e-02  7.03757852e-02 -1.09078633e-02 -2.60082856e-02\n",
            "  -4.36639115e-02 -2.17357017e-02  1.26251858e-02 -6.14742748e-02]], shape=(1, 512), dtype=float64)\n"
          ],
          "name": "stdout"
        }
      ]
    },
    {
      "cell_type": "code",
      "metadata": {
        "id": "MerxcBnLDwDT"
      },
      "source": [
        "import tensorflow as tf\n",
        "import tensorflow_hub as hub"
      ],
      "execution_count": null,
      "outputs": []
    },
    {
      "cell_type": "code",
      "metadata": {
        "id": "0PJbzkL_D7HX"
      },
      "source": [
        "model = tf.keras.models.Sequential()"
      ],
      "execution_count": null,
      "outputs": []
    },
    {
      "cell_type": "code",
      "metadata": {
        "id": "iaFMuHSZEAZ4"
      },
      "source": [
        "model.add(hub.KerasLayer('https://tfhub.dev/google/universal-sentence-encoder/4', \n",
        "                        input_shape=[], \n",
        "                        dtype=tf.string, \n",
        "                        trainable=True))"
      ],
      "execution_count": null,
      "outputs": []
    },
    {
      "cell_type": "code",
      "metadata": {
        "id": "7NUHrF2cEDyQ"
      },
      "source": [
        "model.add(tf.keras.layers.Dense(1, activation='sigmoid'))"
      ],
      "execution_count": null,
      "outputs": []
    },
    {
      "cell_type": "code",
      "metadata": {
        "id": "DOWO46PuEVXf"
      },
      "source": [
        "x = tf.keras.layers.Input(shape=[], dtype=tf.string)\n",
        "y = hub.KerasLayer('https://tfhub.dev/google/universal-sentence-encoder/4', \n",
        "                    trainable=True)(x)\n",
        "z = tf.keras.layers.Dense(1, activation='sigmoid')(y)\n",
        "model = tf.keras.models.Model(x, z)"
      ],
      "execution_count": null,
      "outputs": []
    },
    {
      "cell_type": "code",
      "metadata": {
        "colab": {
          "base_uri": "https://localhost:8080/"
        },
        "id": "cR_Ylk0kEV2u",
        "outputId": "e9532800-9623-42ba-d069-caf886d0f7e0"
      },
      "source": [
        "model.summary()"
      ],
      "execution_count": null,
      "outputs": [
        {
          "output_type": "stream",
          "text": [
            "Model: \"functional_1\"\n",
            "_________________________________________________________________\n",
            "Layer (type)                 Output Shape              Param #   \n",
            "=================================================================\n",
            "input_1 (InputLayer)         [(None,)]                 0         \n",
            "_________________________________________________________________\n",
            "keras_layer_1 (KerasLayer)   (None, 512)               256797824 \n",
            "_________________________________________________________________\n",
            "dense_1 (Dense)              (None, 1)                 513       \n",
            "=================================================================\n",
            "Total params: 256,798,337\n",
            "Trainable params: 256,798,337\n",
            "Non-trainable params: 0\n",
            "_________________________________________________________________\n"
          ],
          "name": "stdout"
        }
      ]
    },
    {
      "cell_type": "code",
      "metadata": {
        "id": "c7jYYuEPEyz3"
      },
      "source": [
        "model.compile(optimizer='adam', \n",
        "              loss='binary_crossentropy', \n",
        "              metrics=['accuracy'])"
      ],
      "execution_count": null,
      "outputs": []
    },
    {
      "cell_type": "code",
      "metadata": {
        "colab": {
          "base_uri": "https://localhost:8080/"
        },
        "id": "chj-OrOALndD",
        "outputId": "b19bd50b-0f4f-4fa1-929e-f4c95f07758a"
      },
      "source": [
        "print(type(x_train))\n",
        "x_train.head"
      ],
      "execution_count": null,
      "outputs": [
        {
          "output_type": "stream",
          "text": [
            "<class 'pandas.core.series.Series'>\n"
          ],
          "name": "stdout"
        },
        {
          "output_type": "execute_result",
          "data": {
            "text/plain": [
              "<bound method NDFrame.head of 30111    22 Things You Totally Forgot You Used To Do On...\n",
              "19216       Sales Improve, but Profit Falls 9% at Walgreen\n",
              "21857            19 Ways To Make A Next-Level Reading Nook\n",
              "29826    Monday's no-confidence vote may signal end of ...\n",
              "1631              Do You Know The Disney Movie By The Food\n",
              "                               ...                        \n",
              "14525                 Pigskin A Blanket: NFL Week 15 Picks\n",
              "11252    17 Times The Internet Perfectly Summed Up Bein...\n",
              "9698     Swedish wrestler throws away Olympic bronze me...\n",
              "23604    Greenpeace activists clash with Japanese whali...\n",
              "31075    27 Tweets About Being Latino That Are Way Too ...\n",
              "Name: title, Length: 22390, dtype: object>"
            ]
          },
          "metadata": {
            "tags": []
          },
          "execution_count": 20
        }
      ]
    },
    {
      "cell_type": "code",
      "metadata": {
        "colab": {
          "base_uri": "https://localhost:8080/"
        },
        "id": "jcX8zrENE06h",
        "outputId": "c397b016-c742-446a-dd5c-72aa3077e5c2"
      },
      "source": [
        "model.fit(x_train, \n",
        "          y_train, \n",
        "          epochs=2, \n",
        "          validation_data=(x_test, y_test))"
      ],
      "execution_count": null,
      "outputs": [
        {
          "output_type": "stream",
          "text": [
            "Epoch 1/2\n",
            "700/700 [==============================] - 108s 155ms/step - loss: 0.0973 - accuracy: 0.9723 - val_loss: 0.0569 - val_accuracy: 0.9807\n",
            "Epoch 2/2\n",
            "700/700 [==============================] - 108s 154ms/step - loss: 0.0122 - accuracy: 0.9970 - val_loss: 0.0525 - val_accuracy: 0.9840\n"
          ],
          "name": "stdout"
        },
        {
          "output_type": "execute_result",
          "data": {
            "text/plain": [
              "<tensorflow.python.keras.callbacks.History at 0x7f58a1a1f828>"
            ]
          },
          "metadata": {
            "tags": []
          },
          "execution_count": 13
        }
      ]
    },
    {
      "cell_type": "code",
      "metadata": {
        "colab": {
          "base_uri": "https://localhost:8080/"
        },
        "id": "4-FQJhcGE5xf",
        "outputId": "c9c224f9-f3fc-408f-9ca4-14c3be01bd56"
      },
      "source": [
        "# Clickbait\n",
        "print(model.predict([\"21 Pictures That Will Make You Feel Like You're 99 Years Old\"]))\n",
        "\n",
        "# Not Clickbait\n",
        "print(model.predict(['Google announces TensorFlow 2.0']))"
      ],
      "execution_count": null,
      "outputs": [
        {
          "output_type": "stream",
          "text": [
            "[[0.9984434]]\n",
            "[[0.00692841]]\n"
          ],
          "name": "stdout"
        }
      ]
    },
    {
      "cell_type": "code",
      "metadata": {
        "id": "cMz8Zse1F5GF"
      },
      "source": [
        ""
      ],
      "execution_count": null,
      "outputs": []
    }
  ]
}