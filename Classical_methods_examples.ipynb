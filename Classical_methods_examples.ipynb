{
  "nbformat": 4,
  "nbformat_minor": 0,
  "metadata": {
    "colab": {
      "name": "Classical_methods_examples.ipynb",
      "provenance": [],
      "collapsed_sections": []
    },
    "kernelspec": {
      "display_name": "Python 3",
      "name": "python3"
    },
    "accelerator": "GPU"
  },
  "cells": [
    {
      "cell_type": "markdown",
      "metadata": {
        "id": "HuuWP8tqdwuo"
      },
      "source": [
        "# 🤵 Примеры работы классических *unsupervised* методов обнаружения аномалий"
      ]
    },
    {
      "cell_type": "markdown",
      "metadata": {
        "id": "EPIzrTvamj1z"
      },
      "source": [
        "### 🌐 Установка [pyod](https://github.com/yzhao062/pyod)"
      ]
    },
    {
      "cell_type": "code",
      "metadata": {
        "colab": {
          "base_uri": "https://localhost:8080/"
        },
        "id": "0LtDUqs-mxbQ",
        "outputId": "02e5bb8c-2415-45ad-ece9-c183305f2b5b"
      },
      "source": [
        "!pip3 install pyod"
      ],
      "execution_count": null,
      "outputs": [
        {
          "output_type": "stream",
          "text": [
            "Collecting pyod\n",
            "\u001b[?25l  Downloading https://files.pythonhosted.org/packages/37/50/94ac3c301b06e291ce52938e4a037b147cf01b40ff458dea5441ac42addf/pyod-0.8.7.tar.gz (101kB)\n",
            "\r\u001b[K     |███▎                            | 10kB 26.3MB/s eta 0:00:01\r\u001b[K     |██████▌                         | 20kB 30.7MB/s eta 0:00:01\r\u001b[K     |█████████▊                      | 30kB 28.3MB/s eta 0:00:01\r\u001b[K     |█████████████                   | 40kB 32.0MB/s eta 0:00:01\r\u001b[K     |████████████████▏               | 51kB 31.5MB/s eta 0:00:01\r\u001b[K     |███████████████████▍            | 61kB 34.1MB/s eta 0:00:01\r\u001b[K     |██████████████████████▊         | 71kB 25.3MB/s eta 0:00:01\r\u001b[K     |██████████████████████████      | 81kB 26.1MB/s eta 0:00:01\r\u001b[K     |█████████████████████████████▏  | 92kB 23.0MB/s eta 0:00:01\r\u001b[K     |████████████████████████████████| 102kB 9.9MB/s \n",
            "\u001b[?25hRequirement already satisfied: joblib in /usr/local/lib/python3.7/dist-packages (from pyod) (1.0.1)\n",
            "Requirement already satisfied: matplotlib in /usr/local/lib/python3.7/dist-packages (from pyod) (3.2.2)\n",
            "Requirement already satisfied: numpy>=1.13 in /usr/local/lib/python3.7/dist-packages (from pyod) (1.19.5)\n",
            "Requirement already satisfied: numba>=0.35 in /usr/local/lib/python3.7/dist-packages (from pyod) (0.51.2)\n",
            "Requirement already satisfied: pandas>=0.25 in /usr/local/lib/python3.7/dist-packages (from pyod) (1.1.5)\n",
            "Requirement already satisfied: scipy>=0.19.1 in /usr/local/lib/python3.7/dist-packages (from pyod) (1.4.1)\n",
            "Requirement already satisfied: scikit_learn>=0.19.1 in /usr/local/lib/python3.7/dist-packages (from pyod) (0.22.2.post1)\n",
            "Requirement already satisfied: six in /usr/local/lib/python3.7/dist-packages (from pyod) (1.15.0)\n",
            "Requirement already satisfied: statsmodels in /usr/local/lib/python3.7/dist-packages (from pyod) (0.10.2)\n",
            "Requirement already satisfied: kiwisolver>=1.0.1 in /usr/local/lib/python3.7/dist-packages (from matplotlib->pyod) (1.3.1)\n",
            "Requirement already satisfied: cycler>=0.10 in /usr/local/lib/python3.7/dist-packages (from matplotlib->pyod) (0.10.0)\n",
            "Requirement already satisfied: python-dateutil>=2.1 in /usr/local/lib/python3.7/dist-packages (from matplotlib->pyod) (2.8.1)\n",
            "Requirement already satisfied: pyparsing!=2.0.4,!=2.1.2,!=2.1.6,>=2.0.1 in /usr/local/lib/python3.7/dist-packages (from matplotlib->pyod) (2.4.7)\n",
            "Requirement already satisfied: llvmlite<0.35,>=0.34.0.dev0 in /usr/local/lib/python3.7/dist-packages (from numba>=0.35->pyod) (0.34.0)\n",
            "Requirement already satisfied: setuptools in /usr/local/lib/python3.7/dist-packages (from numba>=0.35->pyod) (54.0.0)\n",
            "Requirement already satisfied: pytz>=2017.2 in /usr/local/lib/python3.7/dist-packages (from pandas>=0.25->pyod) (2018.9)\n",
            "Requirement already satisfied: patsy>=0.4.0 in /usr/local/lib/python3.7/dist-packages (from statsmodels->pyod) (0.5.1)\n",
            "Building wheels for collected packages: pyod\n",
            "  Building wheel for pyod (setup.py) ... \u001b[?25l\u001b[?25hdone\n",
            "  Created wheel for pyod: filename=pyod-0.8.7-cp37-none-any.whl size=115979 sha256=0f688a4722c36d3146f7289c88a8d178c37d6b68b5c9875e8c8be2b7ca45888d\n",
            "  Stored in directory: /root/.cache/pip/wheels/b7/8a/c9/5fe3f32692ad445fe573cf5b953d7a0d55dc1f7c8e229ebda0\n",
            "Successfully built pyod\n",
            "Installing collected packages: pyod\n",
            "Successfully installed pyod-0.8.7\n"
          ],
          "name": "stdout"
        }
      ]
    },
    {
      "cell_type": "markdown",
      "metadata": {
        "id": "72kLNO3zHEqB"
      },
      "source": [
        "## ⚙️ Загрузка данных"
      ]
    },
    {
      "cell_type": "code",
      "metadata": {
        "colab": {
          "base_uri": "https://localhost:8080/"
        },
        "id": "Nzkj-zxjGPrK",
        "outputId": "492a733f-22f0-42d2-f32b-c9b6214dcc17"
      },
      "source": [
        "from sklearn.datasets import fetch_20newsgroups\n",
        "\n",
        "\n",
        "c = 0.1  # отношение количества аномальных экземпляров к нормальным\n",
        "\n",
        "normal_data = fetch_20newsgroups(subset='all', categories=['sci.electronics'],\n",
        "                               shuffle=True, random_state=123, \n",
        "                               remove=['headers', 'footers'], return_X_y=True)[0]\n",
        "anomal_data = fetch_20newsgroups(subset='all', categories=['talk.politics.mideast'],\n",
        "                               shuffle=True, random_state=123,\n",
        "                               remove=['headers', 'footers'],\n",
        "                               return_X_y=True)[0][:int(c * len(normal_data)) + 1]\n",
        "\n",
        "print(\"Количество нормальных экземпляров = {}\".format(len(normal_data)))\n",
        "print(\"Количество аномальных экземпляров = {}\".format(len(anomal_data)))"
      ],
      "execution_count": null,
      "outputs": [
        {
          "output_type": "stream",
          "text": [
            "Количество нормальных экземпляров = 984\n",
            "Количество аномальных экземпляров = 99\n"
          ],
          "name": "stdout"
        }
      ]
    },
    {
      "cell_type": "markdown",
      "metadata": {
        "id": "7zAKhE3pOLka"
      },
      "source": [
        "## 💅 Предобработка данных"
      ]
    },
    {
      "cell_type": "markdown",
      "metadata": {
        "id": "Wko9QDeE694U"
      },
      "source": [
        ""
      ]
    },
    {
      "cell_type": "code",
      "metadata": {
        "colab": {
          "base_uri": "https://localhost:8080/"
        },
        "id": "bZ3bvuYgOJ_b",
        "outputId": "1ae01349-2904-46f0-e29e-4d73b1de4bef"
      },
      "source": [
        "from bs4 import BeautifulSoup\n",
        "from gensim.parsing.preprocessing import remove_stopwords\n",
        "from gensim.parsing.preprocessing import strip_short\n",
        "from gensim.parsing.preprocessing import strip_non_alphanum\n",
        "from gensim.parsing.preprocessing import strip_numeric\n",
        "from gensim.utils import tokenize\n",
        "import nltk; nltk.download('wordnet')\n",
        "from nltk.stem import WordNetLemmatizer\n",
        "# from nltk.util import ngrams\n",
        "\n",
        "\n",
        "def strip_html_tags(text):\n",
        "    \"\"\"Удаление html tags из текста.\"\"\"\n",
        "    soup = BeautifulSoup(text, \"html.parser\")\n",
        "    stripped_text = soup.get_text(separator=\" \")\n",
        "    return stripped_text\n",
        "\n",
        "\n",
        "def get_wordnet_pos(word):\n",
        "    \"\"\"Map POS tag to first character lemmatize() accepts\"\"\"\n",
        "    tag = nltk.pos_tag([word])[0][1][0].upper()\n",
        "    tag_dict = {\"J\": wordnet.ADJ,\n",
        "                \"N\": wordnet.NOUN,\n",
        "                \"V\": wordnet.VERB,\n",
        "                \"R\": wordnet.ADV}\n",
        "    return tag_dict.get(tag, wordnet.NOUN)\n",
        "\n",
        "\n",
        "def preprocess_text(text):\n",
        "    text = strip_html_tags(text)  # удаление html tags\n",
        "    text = strip_non_alphanum(text) # заменили все небуквенные символы на пробел\n",
        "    text = strip_numeric(text) # удалили все цифры\n",
        "    text = remove_stopwords(text) # удалили все стоп-слова\n",
        "    # text = strip_short(text, minsize=2) # удалили короткие слова\n",
        "    word_list = list(tokenize(text, deacc=True, to_lower=True)) # токенизация, deacc - избавляет от ударений\n",
        "    word_list = [WordNetLemmatizer().lemmatize(word) for word in word_list] # лемматизация\n",
        "    return ' '.join(word for word in word_list)"
      ],
      "execution_count": null,
      "outputs": [
        {
          "output_type": "stream",
          "text": [
            "[nltk_data] Downloading package wordnet to /root/nltk_data...\n",
            "[nltk_data]   Package wordnet is already up-to-date!\n"
          ],
          "name": "stdout"
        }
      ]
    },
    {
      "cell_type": "code",
      "metadata": {
        "id": "bE42ivwoOau9"
      },
      "source": [
        "normal_data = [preprocess_text(text) for text in normal_data]\n",
        "anomal_data = [preprocess_text(text) for text in anomal_data]\n",
        "all_data = normal_data + anomal_data"
      ],
      "execution_count": null,
      "outputs": []
    },
    {
      "cell_type": "markdown",
      "metadata": {
        "id": "M3r_-dbtQTuZ"
      },
      "source": [
        "## 🎰 TF-IDF векторизация"
      ]
    },
    {
      "cell_type": "code",
      "metadata": {
        "colab": {
          "base_uri": "https://localhost:8080/"
        },
        "id": "9QKse8S4QShs",
        "outputId": "afd1c795-8438-4bf1-e476-51c6474c7981"
      },
      "source": [
        "from sklearn.feature_extraction.text import TfidfVectorizer\n",
        "\n",
        "vectorizer = TfidfVectorizer()\n",
        "all_data_tf = vectorizer.fit_transform(all_data).toarray()\n",
        "\n",
        "print(all_data_tf.shape)"
      ],
      "execution_count": null,
      "outputs": [
        {
          "output_type": "stream",
          "text": [
            "(1083, 13828)\n"
          ],
          "name": "stdout"
        }
      ]
    },
    {
      "cell_type": "markdown",
      "metadata": {
        "id": "5wTti6uN7OqZ"
      },
      "source": [
        "## 📝 Universal Sentence Encoder (USE)"
      ]
    },
    {
      "cell_type": "code",
      "metadata": {
        "colab": {
          "base_uri": "https://localhost:8080/"
        },
        "id": "U9iM2RCm68Sp",
        "outputId": "cac264e3-30eb-414f-f96a-74dd2da431ff"
      },
      "source": [
        "import tensorflow as tf\r\n",
        "import tensorflow_hub as hub\r\n",
        "hub_layer = hub.KerasLayer(\r\n",
        "    'https://tfhub.dev/google/universal-sentence-encoder/4',\r\n",
        "    input_shape=[], \r\n",
        "    dtype=tf.string,\r\n",
        "    trainable=False)"
      ],
      "execution_count": null,
      "outputs": [
        {
          "output_type": "stream",
          "text": [
            "WARNING:tensorflow:6 out of the last 9 calls to <function recreate_function.<locals>.restored_function_body at 0x7fb107cc7a70> triggered tf.function retracing. Tracing is expensive and the excessive number of tracings could be due to (1) creating @tf.function repeatedly in a loop, (2) passing tensors with different shapes, (3) passing Python objects instead of tensors. For (1), please define your @tf.function outside of the loop. For (2), @tf.function has experimental_relax_shapes=True option that relaxes argument shapes that can avoid unnecessary retracing. For (3), please refer to https://www.tensorflow.org/guide/function#controlling_retracing and https://www.tensorflow.org/api_docs/python/tf/function for  more details.\n"
          ],
          "name": "stdout"
        },
        {
          "output_type": "stream",
          "text": [
            "WARNING:tensorflow:6 out of the last 9 calls to <function recreate_function.<locals>.restored_function_body at 0x7fb107cc7a70> triggered tf.function retracing. Tracing is expensive and the excessive number of tracings could be due to (1) creating @tf.function repeatedly in a loop, (2) passing tensors with different shapes, (3) passing Python objects instead of tensors. For (1), please define your @tf.function outside of the loop. For (2), @tf.function has experimental_relax_shapes=True option that relaxes argument shapes that can avoid unnecessary retracing. For (3), please refer to https://www.tensorflow.org/guide/function#controlling_retracing and https://www.tensorflow.org/api_docs/python/tf/function for  more details.\n"
          ],
          "name": "stderr"
        },
        {
          "output_type": "stream",
          "text": [
            "WARNING:tensorflow:7 out of the last 10 calls to <function recreate_function.<locals>.restored_function_body at 0x7fb108117320> triggered tf.function retracing. Tracing is expensive and the excessive number of tracings could be due to (1) creating @tf.function repeatedly in a loop, (2) passing tensors with different shapes, (3) passing Python objects instead of tensors. For (1), please define your @tf.function outside of the loop. For (2), @tf.function has experimental_relax_shapes=True option that relaxes argument shapes that can avoid unnecessary retracing. For (3), please refer to https://www.tensorflow.org/guide/function#controlling_retracing and https://www.tensorflow.org/api_docs/python/tf/function for  more details.\n"
          ],
          "name": "stdout"
        },
        {
          "output_type": "stream",
          "text": [
            "WARNING:tensorflow:7 out of the last 10 calls to <function recreate_function.<locals>.restored_function_body at 0x7fb108117320> triggered tf.function retracing. Tracing is expensive and the excessive number of tracings could be due to (1) creating @tf.function repeatedly in a loop, (2) passing tensors with different shapes, (3) passing Python objects instead of tensors. For (1), please define your @tf.function outside of the loop. For (2), @tf.function has experimental_relax_shapes=True option that relaxes argument shapes that can avoid unnecessary retracing. For (3), please refer to https://www.tensorflow.org/guide/function#controlling_retracing and https://www.tensorflow.org/api_docs/python/tf/function for  more details.\n"
          ],
          "name": "stderr"
        }
      ]
    },
    {
      "cell_type": "markdown",
      "metadata": {
        "id": "dUlKcje3HUc4"
      },
      "source": [
        "## 🤹‍♂️ Формирование выборок\n",
        "\n"
      ]
    },
    {
      "cell_type": "code",
      "metadata": {
        "colab": {
          "base_uri": "https://localhost:8080/"
        },
        "id": "fB0UmaY5HVEY",
        "outputId": "402b1c41-fe57-407b-f6d2-d037883c2c43"
      },
      "source": [
        "from sklearn.utils import shuffle\n",
        "import numpy as np\n",
        "\n",
        "x = all_data_tf\n",
        "# x_use = (hub_layer(all_data)).numpy()\n",
        "y = np.array([False] * len(normal_data) + [True] * len(anomal_data))\n",
        "\n",
        "all_data, x, y = shuffle(all_data, x, y, random_state=123)\n",
        "print(\"Всего экземпляров = {}\".format(len(all_data)))\n",
        "print(\"(Кол-во текстов, число признаков текста) = {}\".format(x.shape))\n",
        "print(\"Кол-во меток = {}\".format(len(y)))\n",
        "print(\"Кол-во нормальных экземпляров = {}\".format(len(normal_data)))\n",
        "print(\"Кол-во аномальных экземпляров = {}\".format(len(anomal_data)))"
      ],
      "execution_count": null,
      "outputs": [
        {
          "output_type": "stream",
          "text": [
            "Всего экземпляров = 1083\n",
            "(Кол-во текстов, число признаков текста) = (1083, 13828)\n",
            "Кол-во меток = 1083\n",
            "Кол-во нормальных экземпляров = 984\n",
            "Кол-во аномальных экземпляров = 99\n"
          ],
          "name": "stdout"
        }
      ]
    },
    {
      "cell_type": "markdown",
      "metadata": {
        "id": "JH2Qph3bgIEI"
      },
      "source": [
        "## 1️⃣ 🌲 Isolation Forest (IF, Изолирующий лес)\r\n",
        "У меня на практике 5000 деревьев дают такой же результат, что и 15000."
      ]
    },
    {
      "cell_type": "markdown",
      "metadata": {
        "id": "ZXX1nDiPjIQq"
      },
      "source": [
        "### 🅰️ Метод из [sklearn](https://scikit-learn.org/stable/modules/generated/sklearn.ensemble.IsolationForest.html)"
      ]
    },
    {
      "cell_type": "code",
      "metadata": {
        "id": "MGAsBGlDO0ek",
        "colab": {
          "base_uri": "https://localhost:8080/",
          "height": 369
        },
        "outputId": "d691b691-9af2-463f-bc10-6401fc1862bf"
      },
      "source": [
        "from sklearn.ensemble import IsolationForest\n",
        "from sklearn.metrics import roc_auc_score\n",
        "\n",
        "# Задаем модель\n",
        "clf = IsolationForest(\n",
        "    contamination=0.1, # отношение аномалий к выборке\n",
        "    n_estimators=5000, # кол-во деревьев в ансамбле\n",
        "    max_samples=0.7,\n",
        "    max_features=0.7,\n",
        "    random_state=123, \n",
        "    bootstrap=True,\n",
        "    n_jobs=-1, # задействем все процессы в распоряжении\n",
        ")\n",
        "\n",
        "# Тренировка модели\n",
        "clf.fit(x)\n",
        "\n",
        "# Предсказание модели\n",
        "y_predict_iforest = clf.predict(x)\n",
        "\n",
        "# Переименовываем метки в соответствии с нашими\n",
        "y_predict_iforest[y_predict_iforest == 1] = False\n",
        "y_predict_iforest[y_predict_iforest == -1] = True\n",
        "\n",
        "# Считаем метрику ROC AUC\n",
        "auc_iforest = roc_auc_score(y, y_predict_iforest)\n",
        "print(\"auc_iforest = \", auc_iforest)"
      ],
      "execution_count": null,
      "outputs": [
        {
          "output_type": "error",
          "ename": "KeyboardInterrupt",
          "evalue": "ignored",
          "traceback": [
            "\u001b[0;31m---------------------------------------------------------------------------\u001b[0m",
            "\u001b[0;31mKeyboardInterrupt\u001b[0m                         Traceback (most recent call last)",
            "\u001b[0;32m<ipython-input-48-fd3f96df95cc>\u001b[0m in \u001b[0;36m<module>\u001b[0;34m()\u001b[0m\n\u001b[1;32m     14\u001b[0m \u001b[0;34m\u001b[0m\u001b[0m\n\u001b[1;32m     15\u001b[0m \u001b[0;31m# Тренировка модели\u001b[0m\u001b[0;34m\u001b[0m\u001b[0;34m\u001b[0m\u001b[0;34m\u001b[0m\u001b[0m\n\u001b[0;32m---> 16\u001b[0;31m \u001b[0mclf\u001b[0m\u001b[0;34m.\u001b[0m\u001b[0mfit\u001b[0m\u001b[0;34m(\u001b[0m\u001b[0mx\u001b[0m\u001b[0;34m)\u001b[0m\u001b[0;34m\u001b[0m\u001b[0;34m\u001b[0m\u001b[0m\n\u001b[0m\u001b[1;32m     17\u001b[0m \u001b[0;34m\u001b[0m\u001b[0m\n\u001b[1;32m     18\u001b[0m \u001b[0;31m# Предсказание модели\u001b[0m\u001b[0;34m\u001b[0m\u001b[0;34m\u001b[0m\u001b[0;34m\u001b[0m\u001b[0m\n",
            "\u001b[0;32m/usr/local/lib/python3.7/dist-packages/sklearn/ensemble/_iforest.py\u001b[0m in \u001b[0;36mfit\u001b[0;34m(self, X, y, sample_weight)\u001b[0m\n\u001b[1;32m    302\u001b[0m \u001b[0;34m\u001b[0m\u001b[0m\n\u001b[1;32m    303\u001b[0m         \u001b[0;31m# else, define offset_ wrt contamination parameter\u001b[0m\u001b[0;34m\u001b[0m\u001b[0;34m\u001b[0m\u001b[0;34m\u001b[0m\u001b[0m\n\u001b[0;32m--> 304\u001b[0;31m         self.offset_ = np.percentile(self.score_samples(X),\n\u001b[0m\u001b[1;32m    305\u001b[0m                                      100. * self.contamination)\n\u001b[1;32m    306\u001b[0m \u001b[0;34m\u001b[0m\u001b[0m\n",
            "\u001b[0;32m/usr/local/lib/python3.7/dist-packages/sklearn/ensemble/_iforest.py\u001b[0m in \u001b[0;36mscore_samples\u001b[0;34m(self, X)\u001b[0m\n\u001b[1;32m    399\u001b[0m         \u001b[0;31m# Take the opposite of the scores as bigger is better (here less\u001b[0m\u001b[0;34m\u001b[0m\u001b[0;34m\u001b[0m\u001b[0;34m\u001b[0m\u001b[0m\n\u001b[1;32m    400\u001b[0m         \u001b[0;31m# abnormal)\u001b[0m\u001b[0;34m\u001b[0m\u001b[0;34m\u001b[0m\u001b[0;34m\u001b[0m\u001b[0m\n\u001b[0;32m--> 401\u001b[0;31m         \u001b[0;32mreturn\u001b[0m \u001b[0;34m-\u001b[0m\u001b[0mself\u001b[0m\u001b[0;34m.\u001b[0m\u001b[0m_compute_chunked_score_samples\u001b[0m\u001b[0;34m(\u001b[0m\u001b[0mX\u001b[0m\u001b[0;34m)\u001b[0m\u001b[0;34m\u001b[0m\u001b[0;34m\u001b[0m\u001b[0m\n\u001b[0m\u001b[1;32m    402\u001b[0m \u001b[0;34m\u001b[0m\u001b[0m\n\u001b[1;32m    403\u001b[0m     \u001b[0;32mdef\u001b[0m \u001b[0m_compute_chunked_score_samples\u001b[0m\u001b[0;34m(\u001b[0m\u001b[0mself\u001b[0m\u001b[0;34m,\u001b[0m \u001b[0mX\u001b[0m\u001b[0;34m)\u001b[0m\u001b[0;34m:\u001b[0m\u001b[0;34m\u001b[0m\u001b[0;34m\u001b[0m\u001b[0m\n",
            "\u001b[0;32m/usr/local/lib/python3.7/dist-packages/sklearn/ensemble/_iforest.py\u001b[0m in \u001b[0;36m_compute_chunked_score_samples\u001b[0;34m(self, X)\u001b[0m\n\u001b[1;32m    429\u001b[0m         \u001b[0;32mfor\u001b[0m \u001b[0msl\u001b[0m \u001b[0;32min\u001b[0m \u001b[0mslices\u001b[0m\u001b[0;34m:\u001b[0m\u001b[0;34m\u001b[0m\u001b[0;34m\u001b[0m\u001b[0m\n\u001b[1;32m    430\u001b[0m             \u001b[0;31m# compute score on the slices of test samples:\u001b[0m\u001b[0;34m\u001b[0m\u001b[0;34m\u001b[0m\u001b[0;34m\u001b[0m\u001b[0m\n\u001b[0;32m--> 431\u001b[0;31m             \u001b[0mscores\u001b[0m\u001b[0;34m[\u001b[0m\u001b[0msl\u001b[0m\u001b[0;34m]\u001b[0m \u001b[0;34m=\u001b[0m \u001b[0mself\u001b[0m\u001b[0;34m.\u001b[0m\u001b[0m_compute_score_samples\u001b[0m\u001b[0;34m(\u001b[0m\u001b[0mX\u001b[0m\u001b[0;34m[\u001b[0m\u001b[0msl\u001b[0m\u001b[0;34m]\u001b[0m\u001b[0;34m,\u001b[0m \u001b[0msubsample_features\u001b[0m\u001b[0;34m)\u001b[0m\u001b[0;34m\u001b[0m\u001b[0;34m\u001b[0m\u001b[0m\n\u001b[0m\u001b[1;32m    432\u001b[0m \u001b[0;34m\u001b[0m\u001b[0m\n\u001b[1;32m    433\u001b[0m         \u001b[0;32mreturn\u001b[0m \u001b[0mscores\u001b[0m\u001b[0;34m\u001b[0m\u001b[0;34m\u001b[0m\u001b[0m\n",
            "\u001b[0;32m/usr/local/lib/python3.7/dist-packages/sklearn/ensemble/_iforest.py\u001b[0m in \u001b[0;36m_compute_score_samples\u001b[0;34m(self, X, subsample_features)\u001b[0m\n\u001b[1;32m    449\u001b[0m \u001b[0;34m\u001b[0m\u001b[0m\n\u001b[1;32m    450\u001b[0m         \u001b[0;32mfor\u001b[0m \u001b[0mtree\u001b[0m\u001b[0;34m,\u001b[0m \u001b[0mfeatures\u001b[0m \u001b[0;32min\u001b[0m \u001b[0mzip\u001b[0m\u001b[0;34m(\u001b[0m\u001b[0mself\u001b[0m\u001b[0;34m.\u001b[0m\u001b[0mestimators_\u001b[0m\u001b[0;34m,\u001b[0m \u001b[0mself\u001b[0m\u001b[0;34m.\u001b[0m\u001b[0mestimators_features_\u001b[0m\u001b[0;34m)\u001b[0m\u001b[0;34m:\u001b[0m\u001b[0;34m\u001b[0m\u001b[0;34m\u001b[0m\u001b[0m\n\u001b[0;32m--> 451\u001b[0;31m             \u001b[0mX_subset\u001b[0m \u001b[0;34m=\u001b[0m \u001b[0mX\u001b[0m\u001b[0;34m[\u001b[0m\u001b[0;34m:\u001b[0m\u001b[0;34m,\u001b[0m \u001b[0mfeatures\u001b[0m\u001b[0;34m]\u001b[0m \u001b[0;32mif\u001b[0m \u001b[0msubsample_features\u001b[0m \u001b[0;32melse\u001b[0m \u001b[0mX\u001b[0m\u001b[0;34m\u001b[0m\u001b[0;34m\u001b[0m\u001b[0m\n\u001b[0m\u001b[1;32m    452\u001b[0m \u001b[0;34m\u001b[0m\u001b[0m\n\u001b[1;32m    453\u001b[0m             \u001b[0mleaves_index\u001b[0m \u001b[0;34m=\u001b[0m \u001b[0mtree\u001b[0m\u001b[0;34m.\u001b[0m\u001b[0mapply\u001b[0m\u001b[0;34m(\u001b[0m\u001b[0mX_subset\u001b[0m\u001b[0;34m)\u001b[0m\u001b[0;34m\u001b[0m\u001b[0;34m\u001b[0m\u001b[0m\n",
            "\u001b[0;31mKeyboardInterrupt\u001b[0m: "
          ]
        }
      ]
    },
    {
      "cell_type": "markdown",
      "metadata": {
        "id": "dMspwEzGl3E3"
      },
      "source": [
        "### 🅱️ Метод из [pyod](https://github.com/yzhao062/pyod)\r\n",
        "Ответы показывает такие же, что и в sclearn, так как интерпретация на основе их реализации."
      ]
    },
    {
      "cell_type": "markdown",
      "metadata": {
        "id": "ktu_UC1n81AZ"
      },
      "source": [
        "####  🎰  TF-IDF"
      ]
    },
    {
      "cell_type": "code",
      "metadata": {
        "colab": {
          "base_uri": "https://localhost:8080/"
        },
        "id": "1wzuI-ULoPh2",
        "outputId": "6d85c3d2-758d-4aa6-9353-447059ff8db1"
      },
      "source": [
        "### TF-IDF ###\r\n",
        "\r\n",
        "import pyod\r\n",
        "from pyod.models import iforest\r\n",
        "from sklearn.metrics import roc_auc_score\r\n",
        "\r\n",
        "# Задаем модель\r\n",
        "iforest_clf = iforest.IForest(\r\n",
        "    contamination=0.1,\r\n",
        "    n_estimators=5000,\r\n",
        "    max_samples=1.0,\r\n",
        "    bootstrap=True,\r\n",
        "    random_state=123,\r\n",
        "    n_jobs=-1,\r\n",
        ")\r\n",
        "\r\n",
        "# Тренировка и предсказание модели\r\n",
        "# y_predict_iforest = iforest_clf.fit_predict(x)\r\n",
        "\r\n",
        "# Считаем метрику ROC AUC\r\n",
        "# auc_iforest = roc_auc_score(y, y_predict_iforest)\r\n",
        "auc_iforest = iforest_clf.fit_predict_score(x, y)\r\n",
        "print(\"auc_iforest = \", auc_iforest)"
      ],
      "execution_count": null,
      "outputs": [
        {
          "output_type": "stream",
          "text": [
            "/usr/local/lib/python3.7/dist-packages/sklearn/utils/deprecation.py:87: FutureWarning: Function fit_predict_score is deprecated\n",
            "  warnings.warn(msg, category=FutureWarning)\n"
          ],
          "name": "stderr"
        }
      ]
    },
    {
      "cell_type": "markdown",
      "metadata": {
        "id": "J4EUjDwb9ZuY"
      },
      "source": [
        "#### 📝 Universal Sentence Encoder"
      ]
    },
    {
      "cell_type": "code",
      "metadata": {
        "colab": {
          "base_uri": "https://localhost:8080/"
        },
        "id": "HRW8D4yB8jcm",
        "outputId": "64d03501-e12b-4e50-fb35-31d208a11b64"
      },
      "source": [
        "### Universal Sentence Encoder ###\r\n",
        "\r\n",
        "import pyod\r\n",
        "from pyod.models import iforest\r\n",
        "from sklearn.metrics import roc_auc_score\r\n",
        "\r\n",
        "# Задаем модель\r\n",
        "iforest_clf = iforest.IForest(\r\n",
        "    contamination=0.1,\r\n",
        "    n_estimators=5000,\r\n",
        "    max_samples=1.0,\r\n",
        "    bootstrap=True,\r\n",
        "    random_state=123,\r\n",
        "    n_jobs=-1,\r\n",
        ")\r\n",
        "\r\n",
        "# Тренировка и предсказание модели\r\n",
        "y_predict_iforest = iforest_clf.fit_predict(x_use)\r\n",
        "\r\n",
        "# Считаем метрику ROC AUC\r\n",
        "auc_iforest = roc_auc_score(y, y_predict_iforest)\r\n",
        "print(\"auc_iforest = \", auc_iforest)"
      ],
      "execution_count": null,
      "outputs": [
        {
          "output_type": "stream",
          "text": [
            "/usr/local/lib/python3.7/dist-packages/sklearn/utils/deprecation.py:87: FutureWarning: Function fit_predict is deprecated\n",
            "  warnings.warn(msg, category=FutureWarning)\n"
          ],
          "name": "stderr"
        },
        {
          "output_type": "stream",
          "text": [
            "auc_iforest =  0.5224347129834934\n"
          ],
          "name": "stdout"
        }
      ]
    },
    {
      "cell_type": "markdown",
      "metadata": {
        "id": "ShRAnPCmoQxu"
      },
      "source": [
        "## 2️⃣ 🧮 Local Outlier Factor (LOF, Локальный уровень выброса)"
      ]
    },
    {
      "cell_type": "markdown",
      "metadata": {
        "id": "koLxlaxL-01u"
      },
      "source": [
        "###  🎰  TF-IDF"
      ]
    },
    {
      "cell_type": "code",
      "metadata": {
        "colab": {
          "base_uri": "https://localhost:8080/"
        },
        "id": "_zn_2prZppeC",
        "outputId": "e9daaab3-2536-4da2-ae67-4ef66616e51b"
      },
      "source": [
        "import pyod\r\n",
        "from pyod.models import lof\r\n",
        "from sklearn.metrics import roc_auc_score\r\n",
        "\r\n",
        "\r\n",
        "# Создание модели\r\n",
        "lof_clf = lof.LOF(\r\n",
        "    contamination=0.1,\r\n",
        "    n_neighbors=5,\r\n",
        "    metric='canberra',\r\n",
        "    n_jobs=-1,\r\n",
        ")\r\n",
        "\r\n",
        "# Тренировка и предсказание модели\r\n",
        "# y_predict_lof = lof_clf.fit_predict(x)\r\n",
        "# auc_lof = roc_auc_score(y, y_predict_lof)\r\n",
        "\r\n",
        "auc_lof = lof_clf.fit_predict_score(x, y)\r\n",
        "\r\n",
        "# Считаем метрику ROC AUC\r\n",
        "print(\"auc_lof = \", auc_lof)"
      ],
      "execution_count": null,
      "outputs": [
        {
          "output_type": "stream",
          "text": [
            "/usr/local/lib/python3.7/dist-packages/sklearn/utils/deprecation.py:87: FutureWarning: Function fit_predict_score is deprecated\n",
            "  warnings.warn(msg, category=FutureWarning)\n"
          ],
          "name": "stderr"
        },
        {
          "output_type": "stream",
          "text": [
            "roc_auc_score: 0.7647511702389751\n",
            "auc_lof =  0.7647511702389751\n"
          ],
          "name": "stdout"
        }
      ]
    },
    {
      "cell_type": "markdown",
      "metadata": {
        "id": "N2DvgCrQ_LsI"
      },
      "source": [
        "### 📝 Universal Sentence Encoder"
      ]
    },
    {
      "cell_type": "code",
      "metadata": {
        "colab": {
          "base_uri": "https://localhost:8080/"
        },
        "id": "Y0YkknqT8xrY",
        "outputId": "f069e7c5-53b9-4ef6-fbf4-4585faa8f91e"
      },
      "source": [
        "import pyod\r\n",
        "from pyod.models import lof\r\n",
        "from sklearn.metrics import roc_auc_score\r\n",
        "\r\n",
        "\r\n",
        "# Создание модели\r\n",
        "lof_clf = lof.LOF(\r\n",
        "    contamination=0.1,\r\n",
        "    n_neighbors=13,\r\n",
        "    metric='canberra',\r\n",
        "    n_jobs=-1,\r\n",
        ")\r\n",
        "\r\n",
        "# Тренировка и предсказание модели\r\n",
        "y_predict_lof = lof_clf.fit_predict(x_use)\r\n",
        "\r\n",
        "# Считаем метрику ROC AUC\r\n",
        "auc_lof = roc_auc_score(y, y_predict_lof)\r\n",
        "print(\"auc_lof = \", auc_lof)"
      ],
      "execution_count": null,
      "outputs": [
        {
          "output_type": "stream",
          "text": [
            "/usr/local/lib/python3.7/dist-packages/sklearn/utils/deprecation.py:87: FutureWarning: Function fit_predict is deprecated\n",
            "  warnings.warn(msg, category=FutureWarning)\n"
          ],
          "name": "stderr"
        },
        {
          "output_type": "stream",
          "text": [
            "auc_lof =  0.5335519832471052\n"
          ],
          "name": "stdout"
        }
      ]
    },
    {
      "cell_type": "markdown",
      "metadata": {
        "id": "nY1CGDUopqyo"
      },
      "source": [
        "## 3️⃣👬🏻 k-nearest neighbors (kNN, Метод k-ближайших соседей)"
      ]
    },
    {
      "cell_type": "markdown",
      "metadata": {
        "id": "iLG8Wug8_zoo"
      },
      "source": [
        "###  🎰  TF-IDF"
      ]
    },
    {
      "cell_type": "code",
      "metadata": {
        "colab": {
          "base_uri": "https://localhost:8080/"
        },
        "id": "FnIRHb5dvmDA",
        "outputId": "ba7606f5-9284-4cdf-9f23-a7eec082be3f"
      },
      "source": [
        "import pyod\r\n",
        "from pyod.models import knn\r\n",
        "from sklearn.metrics import roc_auc_score\r\n",
        "\r\n",
        "# Создание модели\r\n",
        "knn_clf = knn.KNN(\r\n",
        "    contamination=0.1,\r\n",
        "    n_neighbors=3,\r\n",
        "    method='largest',\r\n",
        "    metric='canberra',\r\n",
        "    n_jobs=-1,\r\n",
        ")\r\n",
        "\r\n",
        "# Тренировка и предсказание модели\r\n",
        "# y_predict_knn = knn_clf.fit_predict(x)\r\n",
        "\r\n",
        "# Считаем метрику ROC AUC\r\n",
        "auc_knn = knn_clf.fit_predict_score(x, y)\r\n",
        "# auc_knn = roc_auc_score(y, y_predict_knn)\r\n",
        "print(\"auc_knn = \", auc_knn)"
      ],
      "execution_count": null,
      "outputs": [
        {
          "output_type": "stream",
          "text": [
            "/usr/local/lib/python3.7/dist-packages/sklearn/utils/deprecation.py:87: FutureWarning: Function fit_predict_score is deprecated\n",
            "  warnings.warn(msg, category=FutureWarning)\n"
          ],
          "name": "stderr"
        },
        {
          "output_type": "stream",
          "text": [
            "roc_auc_score: 0.7340272645150694\n",
            "auc_knn =  0.7340272645150694\n"
          ],
          "name": "stdout"
        }
      ]
    },
    {
      "cell_type": "markdown",
      "metadata": {
        "id": "O_u24NE4_2ZD"
      },
      "source": [
        "### 📝 Universal Sentence Encoder"
      ]
    },
    {
      "cell_type": "code",
      "metadata": {
        "colab": {
          "base_uri": "https://localhost:8080/"
        },
        "id": "Z1vVi4jy_UJ5",
        "outputId": "2e188b90-b64d-4ec4-a736-51c0a04a19e6"
      },
      "source": [
        "import pyod\r\n",
        "from pyod.models import knn\r\n",
        "from sklearn.metrics import roc_auc_score\r\n",
        "\r\n",
        "# Создание модели\r\n",
        "knn_clf = knn.KNN(\r\n",
        "    contamination=0.1,\r\n",
        "    n_neighbors=120,\r\n",
        "    method='largest',\r\n",
        "    metric='l1',\r\n",
        "    n_jobs=-1,\r\n",
        ")\r\n",
        "\r\n",
        "# Тренировка и предсказание модели\r\n",
        "y_predict_knn = knn_clf.fit_predict(x_use)\r\n",
        "\r\n",
        "# Считаем метрику ROC AUC\r\n",
        "auc_knn = roc_auc_score(y, y_predict_knn)\r\n",
        "print(\"auc_knn = \", auc_knn)"
      ],
      "execution_count": null,
      "outputs": [
        {
          "output_type": "stream",
          "text": [
            "/usr/local/lib/python3.7/dist-packages/sklearn/utils/deprecation.py:87: FutureWarning: Function fit_predict is deprecated\n",
            "  warnings.warn(msg, category=FutureWarning)\n"
          ],
          "name": "stderr"
        },
        {
          "output_type": "stream",
          "text": [
            "auc_knn =  0.5502278886425228\n"
          ],
          "name": "stdout"
        }
      ]
    },
    {
      "cell_type": "markdown",
      "metadata": {
        "id": "NdBuc3YKqz8q"
      },
      "source": [
        "## 4️⃣📊 [Copula-Based Outlier Detection](http://www.andrew.cmu.edu/user/yuezhao2/papers/20-icdm-copod.pdf) (COPOD)\r\n",
        "[Что такое копула?](https://ru.wikipedia.org/wiki/%D0%9A%D0%BE%D0%BF%D1%83%D0%BB%D0%B0)"
      ]
    },
    {
      "cell_type": "markdown",
      "metadata": {
        "id": "GJLgihvVAKDh"
      },
      "source": [
        "###  🎰  TF-IDF"
      ]
    },
    {
      "cell_type": "code",
      "metadata": {
        "colab": {
          "base_uri": "https://localhost:8080/"
        },
        "id": "MGZp6lKszRIp",
        "outputId": "7098da6c-8866-4601-c420-0ea162d89a00"
      },
      "source": [
        "import pyod\r\n",
        "from pyod.models import copod\r\n",
        "from sklearn.metrics import roc_auc_score\r\n",
        "\r\n",
        "# Создание модели\r\n",
        "copod_clf = copod.COPOD(contamination=0.1)\r\n",
        "\r\n",
        "# Тренировка и предсказание модели\r\n",
        "# y_predict_copod = copod_clf.fit_predict(x)\r\n",
        "\r\n",
        "# Считаем метрику ROC AUC\r\n",
        "auc_copod = copod_clf.fit_predict_score(x, y)\r\n",
        "# auc_copod = roc_auc_score(y, y_predict_copod)\r\n",
        "print(\"auc_copod = \", auc_copod)"
      ],
      "execution_count": null,
      "outputs": [
        {
          "output_type": "stream",
          "text": [
            "/usr/local/lib/python3.7/dist-packages/statsmodels/tools/_testing.py:19: FutureWarning: pandas.util.testing is deprecated. Use the functions in the public API at pandas.testing instead.\n",
            "  import pandas.util.testing as tm\n"
          ],
          "name": "stderr"
        },
        {
          "output_type": "stream",
          "text": [
            "auc_copod =  0.7503079576250308\n"
          ],
          "name": "stdout"
        }
      ]
    },
    {
      "cell_type": "markdown",
      "metadata": {
        "id": "xUoYmuLYAGPM"
      },
      "source": [
        "### 📝 Universal Sentence Encoder"
      ]
    },
    {
      "cell_type": "code",
      "metadata": {
        "colab": {
          "base_uri": "https://localhost:8080/"
        },
        "id": "cLIkDMdCAAdy",
        "outputId": "9449091d-cb32-46bb-d4bd-7c5a8cb12e2b"
      },
      "source": [
        "import pyod\r\n",
        "from pyod.models import copod\r\n",
        "from sklearn.metrics import roc_auc_score\r\n",
        "\r\n",
        "# Создание модели\r\n",
        "copod_clf = copod.COPOD(contamination=0.1)\r\n",
        "\r\n",
        "# Тренировка и предсказание модели\r\n",
        "y_predict_copod = copod_clf.fit_predict(x_use)\r\n",
        "\r\n",
        "# Считаем метрику ROC AUC\r\n",
        "auc_copod = roc_auc_score(y, y_predict_copod)\r\n",
        "print(\"auc_copod = \", auc_copod)"
      ],
      "execution_count": null,
      "outputs": [
        {
          "output_type": "stream",
          "text": [
            "/usr/local/lib/python3.7/dist-packages/sklearn/utils/deprecation.py:87: FutureWarning: Function fit_predict is deprecated\n",
            "  warnings.warn(msg, category=FutureWarning)\n"
          ],
          "name": "stderr"
        },
        {
          "output_type": "stream",
          "text": [
            "auc_copod =  0.5168760778516875\n"
          ],
          "name": "stdout"
        }
      ]
    },
    {
      "cell_type": "markdown",
      "metadata": {
        "id": "enqIvLV2-rq0"
      },
      "source": [
        "## 5️⃣⌛️ AE (Автокодировщик)"
      ]
    },
    {
      "cell_type": "code",
      "metadata": {
        "colab": {
          "base_uri": "https://localhost:8080/"
        },
        "id": "QCAIbic--6UX",
        "outputId": "073fa259-3b3b-4bcf-8748-306b29f19181"
      },
      "source": [
        "import pyod\r\n",
        "from pyod.models import auto_encoder\r\n",
        "from sklearn.metrics import roc_auc_score\r\n",
        "\r\n",
        "# Создание модели\r\n",
        "ae_clf = auto_encoder.AutoEncoder(\r\n",
        "    hidden_neurons=[1024, 512, 256, 128, 256, 512, 1024],\r\n",
        "    hidden_activation='relu',\r\n",
        "    output_activation='sigmoid',\r\n",
        "    optimizer='adam',\r\n",
        "    epochs=50,\r\n",
        "    batch_size=256,\r\n",
        "    dropout_rate=0.3,\r\n",
        "    l2_regularizer=0.1,\r\n",
        "    validation_size=0.1,\r\n",
        "    preprocessing=True,\r\n",
        "    verbose=1,\r\n",
        "    random_state=123,\r\n",
        "    contamination=0.1\r\n",
        ")\r\n",
        "\r\n",
        "# Считаем метрику ROC AUC\r\n",
        "ae_clf.fit(x)\r\n",
        "y_predict_ae = ae_clf.decision_function(x)\r\n",
        "auc_ae = roc_auc_score(y, y_predict_ae)\r\n",
        "print(\"auc_ae = \", auc_ae)"
      ],
      "execution_count": null,
      "outputs": [
        {
          "output_type": "stream",
          "text": [
            "Model: \"sequential_1\"\n",
            "_________________________________________________________________\n",
            "Layer (type)                 Output Shape              Param #   \n",
            "=================================================================\n",
            "dense_43 (Dense)             (None, 13828)             191227412 \n",
            "_________________________________________________________________\n",
            "dropout_27 (Dropout)         (None, 13828)             0         \n",
            "_________________________________________________________________\n",
            "dense_44 (Dense)             (None, 13828)             191227412 \n",
            "_________________________________________________________________\n",
            "dropout_28 (Dropout)         (None, 13828)             0         \n",
            "_________________________________________________________________\n",
            "dense_45 (Dense)             (None, 1024)              14160896  \n",
            "_________________________________________________________________\n",
            "dropout_29 (Dropout)         (None, 1024)              0         \n",
            "_________________________________________________________________\n",
            "dense_46 (Dense)             (None, 512)               524800    \n",
            "_________________________________________________________________\n",
            "dropout_30 (Dropout)         (None, 512)               0         \n",
            "_________________________________________________________________\n",
            "dense_47 (Dense)             (None, 256)               131328    \n",
            "_________________________________________________________________\n",
            "dropout_31 (Dropout)         (None, 256)               0         \n",
            "_________________________________________________________________\n",
            "dense_48 (Dense)             (None, 128)               32896     \n",
            "_________________________________________________________________\n",
            "dropout_32 (Dropout)         (None, 128)               0         \n",
            "_________________________________________________________________\n",
            "dense_49 (Dense)             (None, 256)               33024     \n",
            "_________________________________________________________________\n",
            "dropout_33 (Dropout)         (None, 256)               0         \n",
            "_________________________________________________________________\n",
            "dense_50 (Dense)             (None, 512)               131584    \n",
            "_________________________________________________________________\n",
            "dropout_34 (Dropout)         (None, 512)               0         \n",
            "_________________________________________________________________\n",
            "dense_51 (Dense)             (None, 1024)              525312    \n",
            "_________________________________________________________________\n",
            "dropout_35 (Dropout)         (None, 1024)              0         \n",
            "_________________________________________________________________\n",
            "dense_52 (Dense)             (None, 13828)             14173700  \n",
            "=================================================================\n",
            "Total params: 412,168,364\n",
            "Trainable params: 412,168,364\n",
            "Non-trainable params: 0\n",
            "_________________________________________________________________\n",
            "None\n",
            "Epoch 1/50\n",
            "4/4 [==============================] - 2s 281ms/step - loss: 6201.8047 - val_loss: 9876.1855\n",
            "Epoch 2/50\n",
            "4/4 [==============================] - 1s 207ms/step - loss: 1170.0645 - val_loss: 27112.2402\n",
            "Epoch 3/50\n",
            "4/4 [==============================] - 1s 205ms/step - loss: 771.1944 - val_loss: 51586.7734\n",
            "Epoch 4/50\n",
            "4/4 [==============================] - 1s 206ms/step - loss: 570.3193 - val_loss: 83648.7344\n",
            "Epoch 5/50\n",
            "4/4 [==============================] - 1s 208ms/step - loss: 352.3599 - val_loss: 127494.6719\n",
            "Epoch 6/50\n",
            "4/4 [==============================] - 1s 210ms/step - loss: 180.8441 - val_loss: 169551.0781\n",
            "Epoch 7/50\n",
            "4/4 [==============================] - 1s 210ms/step - loss: 114.3619 - val_loss: 216820.9062\n",
            "Epoch 8/50\n",
            "4/4 [==============================] - 1s 208ms/step - loss: 76.8589 - val_loss: 263490.4375\n",
            "Epoch 9/50\n",
            "4/4 [==============================] - 1s 210ms/step - loss: 48.7838 - val_loss: 305894.0000\n",
            "Epoch 10/50\n",
            "4/4 [==============================] - 1s 207ms/step - loss: 28.0971 - val_loss: 342143.9375\n",
            "Epoch 11/50\n",
            "4/4 [==============================] - 1s 211ms/step - loss: 15.3420 - val_loss: 371606.8750\n",
            "Epoch 12/50\n",
            "4/4 [==============================] - 1s 207ms/step - loss: 9.7597 - val_loss: 394619.3750\n",
            "Epoch 13/50\n",
            "4/4 [==============================] - 1s 208ms/step - loss: 7.8928 - val_loss: 412065.3438\n",
            "Epoch 14/50\n",
            "4/4 [==============================] - 1s 207ms/step - loss: 6.2079 - val_loss: 424923.2812\n",
            "Epoch 15/50\n",
            "4/4 [==============================] - 1s 204ms/step - loss: 5.6188 - val_loss: 434194.3125\n",
            "Epoch 16/50\n",
            "4/4 [==============================] - 1s 206ms/step - loss: 5.2612 - val_loss: 440763.8750\n",
            "Epoch 17/50\n",
            "4/4 [==============================] - 1s 207ms/step - loss: 5.0876 - val_loss: 445362.3125\n",
            "Epoch 18/50\n",
            "4/4 [==============================] - 1s 208ms/step - loss: 4.9906 - val_loss: 448546.8125\n",
            "Epoch 19/50\n",
            "4/4 [==============================] - 1s 209ms/step - loss: 4.8788 - val_loss: 450735.0938\n",
            "Epoch 20/50\n",
            "4/4 [==============================] - 1s 210ms/step - loss: 4.7884 - val_loss: 452229.2188\n",
            "Epoch 21/50\n",
            "4/4 [==============================] - 1s 211ms/step - loss: 4.6821 - val_loss: 453244.7188\n",
            "Epoch 22/50\n",
            "4/4 [==============================] - 1s 209ms/step - loss: 4.6741 - val_loss: 453932.5625\n",
            "Epoch 23/50\n",
            "4/4 [==============================] - 1s 211ms/step - loss: 4.5939 - val_loss: 454397.6875\n",
            "Epoch 24/50\n",
            "4/4 [==============================] - 1s 213ms/step - loss: 4.5973 - val_loss: 454711.3750\n",
            "Epoch 25/50\n",
            "4/4 [==============================] - 1s 211ms/step - loss: 4.5560 - val_loss: 454922.6562\n",
            "Epoch 26/50\n",
            "4/4 [==============================] - 1s 209ms/step - loss: 4.4754 - val_loss: 455064.6875\n",
            "Epoch 27/50\n",
            "4/4 [==============================] - 1s 210ms/step - loss: 4.4309 - val_loss: 455160.1562\n",
            "Epoch 28/50\n",
            "4/4 [==============================] - 1s 211ms/step - loss: 4.3635 - val_loss: 455224.2500\n",
            "Epoch 29/50\n",
            "4/4 [==============================] - 1s 212ms/step - loss: 4.3507 - val_loss: 455267.3125\n",
            "Epoch 30/50\n",
            "4/4 [==============================] - 1s 211ms/step - loss: 4.2068 - val_loss: 455296.2812\n",
            "Epoch 31/50\n",
            "4/4 [==============================] - 1s 211ms/step - loss: 4.2695 - val_loss: 455315.6562\n",
            "Epoch 32/50\n",
            "4/4 [==============================] - 1s 211ms/step - loss: 4.1331 - val_loss: 455328.6875\n",
            "Epoch 33/50\n",
            "4/4 [==============================] - 1s 212ms/step - loss: 4.0608 - val_loss: 455337.4688\n",
            "Epoch 34/50\n",
            "4/4 [==============================] - 1s 214ms/step - loss: 4.0648 - val_loss: 455343.5000\n",
            "Epoch 35/50\n",
            "4/4 [==============================] - 1s 209ms/step - loss: 3.9527 - val_loss: 455347.4062\n",
            "Epoch 36/50\n",
            "4/4 [==============================] - 1s 207ms/step - loss: 3.9621 - val_loss: 455350.1562\n",
            "Epoch 37/50\n",
            "4/4 [==============================] - 1s 211ms/step - loss: 3.9456 - val_loss: 455352.0000\n",
            "Epoch 38/50\n",
            "4/4 [==============================] - 1s 213ms/step - loss: 3.8426 - val_loss: 455353.2500\n",
            "Epoch 39/50\n",
            "4/4 [==============================] - 1s 211ms/step - loss: 3.8737 - val_loss: 455354.0938\n",
            "Epoch 40/50\n",
            "4/4 [==============================] - 1s 208ms/step - loss: 3.8037 - val_loss: 455354.6875\n",
            "Epoch 41/50\n",
            "4/4 [==============================] - 1s 209ms/step - loss: 3.7169 - val_loss: 455355.0312\n",
            "Epoch 42/50\n",
            "4/4 [==============================] - 1s 211ms/step - loss: 3.6549 - val_loss: 455355.3125\n",
            "Epoch 43/50\n",
            "4/4 [==============================] - 1s 210ms/step - loss: 3.6716 - val_loss: 455355.4375\n",
            "Epoch 44/50\n",
            "4/4 [==============================] - 1s 208ms/step - loss: 3.6278 - val_loss: 455355.5312\n",
            "Epoch 45/50\n",
            "4/4 [==============================] - 1s 211ms/step - loss: 3.6259 - val_loss: 455355.5000\n",
            "Epoch 46/50\n",
            "4/4 [==============================] - 1s 210ms/step - loss: 3.5779 - val_loss: 455355.5938\n",
            "Epoch 47/50\n",
            "4/4 [==============================] - 1s 207ms/step - loss: 3.5768 - val_loss: 455355.6250\n",
            "Epoch 48/50\n",
            "4/4 [==============================] - 1s 209ms/step - loss: 3.4439 - val_loss: 455355.5938\n",
            "Epoch 49/50\n",
            "4/4 [==============================] - 1s 212ms/step - loss: 3.4945 - val_loss: 455355.5938\n",
            "Epoch 50/50\n",
            "4/4 [==============================] - 1s 208ms/step - loss: 3.4480 - val_loss: 455355.5625\n",
            "auc_ae =  0.8693951712244394\n"
          ],
          "name": "stdout"
        }
      ]
    },
    {
      "cell_type": "markdown",
      "metadata": {
        "id": "h95y12Y95SNu"
      },
      "source": [
        "## 6️⃣⏲ VAE (Вариационный автокодировщик)"
      ]
    },
    {
      "cell_type": "code",
      "metadata": {
        "colab": {
          "base_uri": "https://localhost:8080/"
        },
        "id": "9HxTa3KI5ni8",
        "outputId": "f0a6bdd6-f09f-4ce2-cdfd-1c1a505877db"
      },
      "source": [
        "import pyod\r\n",
        "from pyod.models import vae\r\n",
        "from sklearn.metrics import roc_auc_score\r\n",
        "\r\n",
        "# Создание модели\r\n",
        "vae_clf = vae.VAE(\r\n",
        "    contamination=0.1,\r\n",
        "    encoder_neurons=[1024, 512, 256],\r\n",
        "    decoder_neurons=[256, 512, 1024],\r\n",
        "    latent_dim=5,\r\n",
        "    hidden_activation='relu',\r\n",
        "    output_activation='sigmoid',\r\n",
        "    optimizer='adam',\r\n",
        "    epochs=50,\r\n",
        "    batch_size=256,\r\n",
        "    dropout_rate=0.3,\r\n",
        "    l2_regularizer=0.1,\r\n",
        "    validation_size=0.1,\r\n",
        "    preprocessing=True,\r\n",
        "    verbose=1,\r\n",
        "    random_state=123,\r\n",
        ")\r\n",
        "\r\n",
        "# Считаем метрику ROC AUC\r\n",
        "vae_clf.fit(x)\r\n",
        "y_predict_vae = vae_clf.decision_function(x)\r\n",
        "auc_vae = roc_auc_score(y, y_predict_vae)\r\n",
        "print(\"auc_vae = \", auc_vae)"
      ],
      "execution_count": null,
      "outputs": [
        {
          "output_type": "stream",
          "text": [
            "Model: \"model_3\"\n",
            "__________________________________________________________________________________________________\n",
            "Layer (type)                    Output Shape         Param #     Connected to                     \n",
            "==================================================================================================\n",
            "input_3 (InputLayer)            [(None, 13828)]      0                                            \n",
            "__________________________________________________________________________________________________\n",
            "dense_11 (Dense)                (None, 13828)        191227412   input_3[0][0]                    \n",
            "__________________________________________________________________________________________________\n",
            "dense_12 (Dense)                (None, 1024)         14160896    dense_11[0][0]                   \n",
            "__________________________________________________________________________________________________\n",
            "dropout_6 (Dropout)             (None, 1024)         0           dense_12[0][0]                   \n",
            "__________________________________________________________________________________________________\n",
            "dense_13 (Dense)                (None, 512)          524800      dropout_6[0][0]                  \n",
            "__________________________________________________________________________________________________\n",
            "dropout_7 (Dropout)             (None, 512)          0           dense_13[0][0]                   \n",
            "__________________________________________________________________________________________________\n",
            "dense_14 (Dense)                (None, 256)          131328      dropout_7[0][0]                  \n",
            "__________________________________________________________________________________________________\n",
            "dropout_8 (Dropout)             (None, 256)          0           dense_14[0][0]                   \n",
            "__________________________________________________________________________________________________\n",
            "dense_15 (Dense)                (None, 5)            1285        dropout_8[0][0]                  \n",
            "__________________________________________________________________________________________________\n",
            "dense_16 (Dense)                (None, 5)            1285        dropout_8[0][0]                  \n",
            "__________________________________________________________________________________________________\n",
            "lambda_1 (Lambda)               (None, 5)            0           dense_15[0][0]                   \n",
            "                                                                 dense_16[0][0]                   \n",
            "==================================================================================================\n",
            "Total params: 206,047,006\n",
            "Trainable params: 206,047,006\n",
            "Non-trainable params: 0\n",
            "__________________________________________________________________________________________________\n",
            "Model: \"model_4\"\n",
            "_________________________________________________________________\n",
            "Layer (type)                 Output Shape              Param #   \n",
            "=================================================================\n",
            "input_4 (InputLayer)         [(None, 5)]               0         \n",
            "_________________________________________________________________\n",
            "dense_17 (Dense)             (None, 5)                 30        \n",
            "_________________________________________________________________\n",
            "dense_18 (Dense)             (None, 256)               1536      \n",
            "_________________________________________________________________\n",
            "dropout_9 (Dropout)          (None, 256)               0         \n",
            "_________________________________________________________________\n",
            "dense_19 (Dense)             (None, 512)               131584    \n",
            "_________________________________________________________________\n",
            "dropout_10 (Dropout)         (None, 512)               0         \n",
            "_________________________________________________________________\n",
            "dense_20 (Dense)             (None, 1024)              525312    \n",
            "_________________________________________________________________\n",
            "dropout_11 (Dropout)         (None, 1024)              0         \n",
            "_________________________________________________________________\n",
            "dense_21 (Dense)             (None, 13828)             14173700  \n",
            "=================================================================\n",
            "Total params: 14,832,162\n",
            "Trainable params: 14,832,162\n",
            "Non-trainable params: 0\n",
            "_________________________________________________________________\n",
            "Model: \"model_5\"\n",
            "__________________________________________________________________________________________________\n",
            "Layer (type)                    Output Shape         Param #     Connected to                     \n",
            "==================================================================================================\n",
            "input_3 (InputLayer)            [(None, 13828)]      0                                            \n",
            "__________________________________________________________________________________________________\n",
            "model_3 (Functional)            [(None, 5), (None, 5 206047006   input_3[0][0]                    \n",
            "__________________________________________________________________________________________________\n",
            "model_4 (Functional)            (None, 13828)        14832162    model_3[0][2]                    \n",
            "__________________________________________________________________________________________________\n",
            "dense_11 (Dense)                (None, 13828)        191227412   input_3[0][0]                    \n",
            "__________________________________________________________________________________________________\n",
            "dense_12 (Dense)                (None, 1024)         14160896    dense_11[0][0]                   \n",
            "__________________________________________________________________________________________________\n",
            "dropout_6 (Dropout)             (None, 1024)         0           dense_12[0][0]                   \n",
            "__________________________________________________________________________________________________\n",
            "dense_13 (Dense)                (None, 512)          524800      dropout_6[0][0]                  \n",
            "__________________________________________________________________________________________________\n",
            "dropout_7 (Dropout)             (None, 512)          0           dense_13[0][0]                   \n",
            "__________________________________________________________________________________________________\n",
            "dense_14 (Dense)                (None, 256)          131328      dropout_7[0][0]                  \n",
            "__________________________________________________________________________________________________\n",
            "dropout_8 (Dropout)             (None, 256)          0           dense_14[0][0]                   \n",
            "__________________________________________________________________________________________________\n",
            "dense_16 (Dense)                (None, 5)            1285        dropout_8[0][0]                  \n",
            "__________________________________________________________________________________________________\n",
            "dense_15 (Dense)                (None, 5)            1285        dropout_8[0][0]                  \n",
            "__________________________________________________________________________________________________\n",
            "tf.__operators__.add_2 (TFOpLam (None, 5)            0           dense_16[0][0]                   \n",
            "__________________________________________________________________________________________________\n",
            "tf.math.square_1 (TFOpLambda)   (None, 5)            0           dense_15[0][0]                   \n",
            "__________________________________________________________________________________________________\n",
            "tf.math.subtract_3 (TFOpLambda) (None, 5)            0           tf.__operators__.add_2[0][0]     \n",
            "                                                                 tf.math.square_1[0][0]           \n",
            "__________________________________________________________________________________________________\n",
            "tf.math.exp_1 (TFOpLambda)      (None, 5)            0           dense_16[0][0]                   \n",
            "__________________________________________________________________________________________________\n",
            "tf.math.subtract_4 (TFOpLambda) (None, 5)            0           tf.math.subtract_3[0][0]         \n",
            "                                                                 tf.math.exp_1[0][0]              \n",
            "__________________________________________________________________________________________________\n",
            "tf.math.reduce_sum_1 (TFOpLambd (None,)              0           tf.math.subtract_4[0][0]         \n",
            "__________________________________________________________________________________________________\n",
            "tf.convert_to_tensor_1 (TFOpLam (None, 13828)        0           model_4[0][0]                    \n",
            "__________________________________________________________________________________________________\n",
            "tf.cast_1 (TFOpLambda)          (None, 13828)        0           input_3[0][0]                    \n",
            "__________________________________________________________________________________________________\n",
            "tf.math.multiply_4 (TFOpLambda) (None,)              0           tf.math.reduce_sum_1[0][0]       \n",
            "__________________________________________________________________________________________________\n",
            "tf.math.squared_difference_1 (T (None, 13828)        0           tf.convert_to_tensor_1[0][0]     \n",
            "                                                                 tf.cast_1[0][0]                  \n",
            "__________________________________________________________________________________________________\n",
            "tf.math.subtract_5 (TFOpLambda) (None,)              0           tf.math.multiply_4[0][0]         \n",
            "__________________________________________________________________________________________________\n",
            "tf.math.reduce_mean_2 (TFOpLamb (None,)              0           tf.math.squared_difference_1[0][0\n",
            "__________________________________________________________________________________________________\n",
            "tf.math.abs_1 (TFOpLambda)      (None,)              0           tf.math.subtract_5[0][0]         \n",
            "__________________________________________________________________________________________________\n",
            "tf.math.multiply_3 (TFOpLambda) (None,)              0           tf.math.reduce_mean_2[0][0]      \n",
            "__________________________________________________________________________________________________\n",
            "tf.math.multiply_5 (TFOpLambda) (None,)              0           tf.math.abs_1[0][0]              \n",
            "__________________________________________________________________________________________________\n",
            "tf.__operators__.add_3 (TFOpLam (None,)              0           tf.math.multiply_3[0][0]         \n",
            "                                                                 tf.math.multiply_5[0][0]         \n",
            "__________________________________________________________________________________________________\n",
            "tf.math.reduce_mean_3 (TFOpLamb ()                   0           tf.__operators__.add_3[0][0]     \n",
            "__________________________________________________________________________________________________\n",
            "add_loss_1 (AddLoss)            ()                   0           tf.math.reduce_mean_3[0][0]      \n",
            "==================================================================================================\n",
            "Total params: 220,879,168\n",
            "Trainable params: 220,879,168\n",
            "Non-trainable params: 0\n",
            "__________________________________________________________________________________________________\n",
            "Epoch 1/50\n",
            "4/4 [==============================] - 2s 244ms/step - loss: 478997.8766 - val_loss: 16056.9062\n",
            "Epoch 2/50\n",
            "4/4 [==============================] - 1s 170ms/step - loss: 456251.0812 - val_loss: 17177.7617\n",
            "Epoch 3/50\n",
            "4/4 [==============================] - 1s 172ms/step - loss: nan - val_loss: nan\n",
            "Epoch 4/50\n",
            "4/4 [==============================] - 1s 157ms/step - loss: nan - val_loss: nan\n",
            "Epoch 5/50\n",
            "4/4 [==============================] - 1s 157ms/step - loss: nan - val_loss: nan\n",
            "Epoch 6/50\n",
            "4/4 [==============================] - 1s 158ms/step - loss: nan - val_loss: nan\n",
            "Epoch 7/50\n",
            "4/4 [==============================] - 1s 158ms/step - loss: nan - val_loss: nan\n",
            "Epoch 8/50\n",
            "4/4 [==============================] - 1s 159ms/step - loss: nan - val_loss: nan\n",
            "Epoch 9/50\n",
            "4/4 [==============================] - 1s 159ms/step - loss: nan - val_loss: nan\n",
            "Epoch 10/50\n",
            "4/4 [==============================] - 1s 158ms/step - loss: nan - val_loss: nan\n",
            "Epoch 11/50\n",
            "4/4 [==============================] - 1s 159ms/step - loss: nan - val_loss: nan\n",
            "Epoch 12/50\n",
            "4/4 [==============================] - 1s 158ms/step - loss: nan - val_loss: nan\n",
            "Epoch 13/50\n",
            "4/4 [==============================] - 1s 159ms/step - loss: nan - val_loss: nan\n",
            "Epoch 14/50\n",
            "4/4 [==============================] - 1s 157ms/step - loss: nan - val_loss: nan\n",
            "Epoch 15/50\n",
            "4/4 [==============================] - 1s 159ms/step - loss: nan - val_loss: nan\n",
            "Epoch 16/50\n",
            "4/4 [==============================] - 1s 163ms/step - loss: nan - val_loss: nan\n",
            "Epoch 17/50\n",
            "4/4 [==============================] - 1s 159ms/step - loss: nan - val_loss: nan\n",
            "Epoch 18/50\n",
            "4/4 [==============================] - 1s 159ms/step - loss: nan - val_loss: nan\n",
            "Epoch 19/50\n",
            "4/4 [==============================] - 1s 160ms/step - loss: nan - val_loss: nan\n",
            "Epoch 20/50\n",
            "4/4 [==============================] - 1s 158ms/step - loss: nan - val_loss: nan\n",
            "Epoch 21/50\n",
            "4/4 [==============================] - 1s 159ms/step - loss: nan - val_loss: nan\n",
            "Epoch 22/50\n",
            "4/4 [==============================] - 1s 159ms/step - loss: nan - val_loss: nan\n",
            "Epoch 23/50\n",
            "4/4 [==============================] - 1s 156ms/step - loss: nan - val_loss: nan\n",
            "Epoch 24/50\n",
            "4/4 [==============================] - 1s 159ms/step - loss: nan - val_loss: nan\n",
            "Epoch 25/50\n",
            "4/4 [==============================] - 1s 158ms/step - loss: nan - val_loss: nan\n",
            "Epoch 26/50\n",
            "4/4 [==============================] - 1s 160ms/step - loss: nan - val_loss: nan\n",
            "Epoch 27/50\n",
            "4/4 [==============================] - 1s 159ms/step - loss: nan - val_loss: nan\n",
            "Epoch 28/50\n",
            "4/4 [==============================] - 1s 159ms/step - loss: nan - val_loss: nan\n",
            "Epoch 29/50\n",
            "4/4 [==============================] - 1s 161ms/step - loss: nan - val_loss: nan\n",
            "Epoch 30/50\n",
            "4/4 [==============================] - 1s 159ms/step - loss: nan - val_loss: nan\n",
            "Epoch 31/50\n",
            "4/4 [==============================] - 1s 160ms/step - loss: nan - val_loss: nan\n",
            "Epoch 32/50\n",
            "4/4 [==============================] - 1s 161ms/step - loss: nan - val_loss: nan\n",
            "Epoch 33/50\n",
            "4/4 [==============================] - 1s 161ms/step - loss: nan - val_loss: nan\n",
            "Epoch 34/50\n",
            "4/4 [==============================] - 1s 161ms/step - loss: nan - val_loss: nan\n",
            "Epoch 35/50\n",
            "4/4 [==============================] - 1s 162ms/step - loss: nan - val_loss: nan\n",
            "Epoch 36/50\n",
            "4/4 [==============================] - 1s 162ms/step - loss: nan - val_loss: nan\n",
            "Epoch 37/50\n",
            "4/4 [==============================] - 1s 163ms/step - loss: nan - val_loss: nan\n",
            "Epoch 38/50\n",
            "4/4 [==============================] - 1s 162ms/step - loss: nan - val_loss: nan\n",
            "Epoch 39/50\n",
            "4/4 [==============================] - 1s 159ms/step - loss: nan - val_loss: nan\n",
            "Epoch 40/50\n",
            "4/4 [==============================] - 1s 158ms/step - loss: nan - val_loss: nan\n",
            "Epoch 41/50\n",
            "4/4 [==============================] - 1s 160ms/step - loss: nan - val_loss: nan\n",
            "Epoch 42/50\n",
            "4/4 [==============================] - 1s 163ms/step - loss: nan - val_loss: nan\n",
            "Epoch 43/50\n",
            "4/4 [==============================] - 1s 160ms/step - loss: nan - val_loss: nan\n",
            "Epoch 44/50\n",
            "4/4 [==============================] - 1s 161ms/step - loss: nan - val_loss: nan\n",
            "Epoch 45/50\n",
            "4/4 [==============================] - 1s 162ms/step - loss: nan - val_loss: nan\n",
            "Epoch 46/50\n",
            "4/4 [==============================] - 1s 161ms/step - loss: nan - val_loss: nan\n",
            "Epoch 47/50\n",
            "4/4 [==============================] - 1s 160ms/step - loss: nan - val_loss: nan\n",
            "Epoch 48/50\n",
            "4/4 [==============================] - 1s 159ms/step - loss: nan - val_loss: nan\n",
            "Epoch 49/50\n",
            "4/4 [==============================] - 1s 160ms/step - loss: nan - val_loss: nan\n",
            "Epoch 50/50\n",
            "4/4 [==============================] - 1s 158ms/step - loss: nan - val_loss: nan\n",
            "auc_vae =  0.8693130491910979\n"
          ],
          "name": "stdout"
        }
      ]
    },
    {
      "cell_type": "code",
      "metadata": {
        "id": "PbSPeHRd7ZK3"
      },
      "source": [
        ""
      ],
      "execution_count": null,
      "outputs": []
    }
  ]
}