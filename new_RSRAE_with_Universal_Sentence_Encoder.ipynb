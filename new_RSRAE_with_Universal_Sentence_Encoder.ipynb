{
  "nbformat": 4,
  "nbformat_minor": 0,
  "metadata": {
    "colab": {
      "name": "new RSRAE_with_Universal_Sentence_Encoder.ipynb",
      "provenance": [],
      "collapsed_sections": []
    },
    "kernelspec": {
      "name": "python3",
      "display_name": "Python 3"
    },
    "accelerator": "GPU"
  },
  "cells": [
    {
      "cell_type": "markdown",
      "metadata": {
        "id": "72kLNO3zHEqB"
      },
      "source": [
        "## Загрузка данных"
      ]
    },
    {
      "cell_type": "code",
      "metadata": {
        "colab": {
          "base_uri": "https://localhost:8080/"
        },
        "id": "Nzkj-zxjGPrK",
        "outputId": "7574a20e-d537-42ea-d710-36015de07214"
      },
      "source": [
        "from sklearn.datasets import fetch_20newsgroups\n",
        "\n",
        "\n",
        "c = 0.1  # отношение количества аномальных экземпляров к нормальным\n",
        "\n",
        "# загужаем данные\n",
        "normal_data = fetch_20newsgroups(subset='all', categories=['sci.electronics'],\n",
        "                               shuffle=True, random_state=123, \n",
        "                               remove=['headers', 'footers'], return_X_y=True)[0]\n",
        "anomal_data = fetch_20newsgroups(subset='all', categories=['talk.politics.mideast'],\n",
        "                               shuffle=True, random_state=123,\n",
        "                               remove=['headers', 'footers'],\n",
        "                               return_X_y=True)[0][:int(c * len(normal_data)) + 1]\n",
        "\n",
        "# # приводим к одинаковой длине\n",
        "# min_len = max(len(normal_data), len(anomal_data))\n",
        "# normal_data = normal_data[:min_len]\n",
        "# anomal_data = anomal_data[:min_len]\n",
        "print(\"Количество нормальных экземпляров = {}\".format(len(normal_data)))\n",
        "print(\"Количество аномальных экземпляров = {}\".format(len(anomal_data)))"
      ],
      "execution_count": null,
      "outputs": [
        {
          "output_type": "stream",
          "text": [
            "Downloading 20news dataset. This may take a few minutes.\n",
            "Downloading dataset from https://ndownloader.figshare.com/files/5975967 (14 MB)\n"
          ],
          "name": "stderr"
        },
        {
          "output_type": "stream",
          "text": [
            "Количество нормальных экземпляров = 984\n",
            "Количество аномальных экземпляров = 99\n"
          ],
          "name": "stdout"
        }
      ]
    },
    {
      "cell_type": "markdown",
      "metadata": {
        "id": "nUlM_FvsA8vz"
      },
      "source": [
        "## Предобработка данных"
      ]
    },
    {
      "cell_type": "code",
      "metadata": {
        "colab": {
          "base_uri": "https://localhost:8080/"
        },
        "id": "gFgsbBocA79X",
        "outputId": "5552d7d3-46e4-4cc9-d190-25c0198fa6a6"
      },
      "source": [
        "from bs4 import BeautifulSoup\n",
        "from gensim.parsing.preprocessing import remove_stopwords\n",
        "from gensim.parsing.preprocessing import strip_short\n",
        "from gensim.parsing.preprocessing import strip_non_alphanum\n",
        "from gensim.parsing.preprocessing import strip_numeric\n",
        "from gensim.utils import tokenize\n",
        "import nltk; nltk.download('wordnet')\n",
        "from nltk.stem import WordNetLemmatizer\n",
        "\n",
        "\n",
        "def strip_html_tags(text):\n",
        "    \"\"\"Удаление html tags из текста.\"\"\"\n",
        "    soup = BeautifulSoup(text, \"html.parser\")\n",
        "    stripped_text = soup.get_text(separator=\" \")\n",
        "    return stripped_text\n",
        "\n",
        "\n",
        "def get_wordnet_pos(word):\n",
        "    \"\"\"Map POS tag to first character lemmatize() accepts\"\"\"\n",
        "    tag = nltk.pos_tag([word])[0][1][0].upper()\n",
        "    tag_dict = {\"J\": wordnet.ADJ,\n",
        "                \"N\": wordnet.NOUN,\n",
        "                \"V\": wordnet.VERB,\n",
        "                \"R\": wordnet.ADV}\n",
        "    return tag_dict.get(tag, wordnet.NOUN)\n",
        "\n",
        "\n",
        "def preprocess_text(text):\n",
        "    text = strip_html_tags(text)  # удаление html tags\n",
        "    text = strip_non_alphanum(text) # заменили все небуквенные символы на пробел\n",
        "    text = strip_numeric(text) # удалили все цифры\n",
        "    text = remove_stopwords(text) # удалили все стоп-слова\n",
        "    # text = strip_short(text, minsize=2) # удалили короткие слова\n",
        "    word_list = list(tokenize(text, deacc=True, to_lower=True)) # токенизация, deacc - избавляет от ударений\n",
        "    word_list = [WordNetLemmatizer().lemmatize(word) for word in word_list] # лемматизация\n",
        "    return ' '.join(word for word in word_list)"
      ],
      "execution_count": null,
      "outputs": [
        {
          "output_type": "stream",
          "text": [
            "[nltk_data] Downloading package wordnet to /root/nltk_data...\n",
            "[nltk_data]   Unzipping corpora/wordnet.zip.\n"
          ],
          "name": "stdout"
        }
      ]
    },
    {
      "cell_type": "code",
      "metadata": {
        "id": "2q1cIUC-B3Ia"
      },
      "source": [
        "normal_data = [preprocess_text(text) for text in normal_data]\n",
        "anomal_data = [preprocess_text(text) for text in anomal_data]"
      ],
      "execution_count": null,
      "outputs": []
    },
    {
      "cell_type": "markdown",
      "metadata": {
        "id": "dUlKcje3HUc4"
      },
      "source": [
        "## Формирование выборок\n",
        "\n"
      ]
    },
    {
      "cell_type": "code",
      "metadata": {
        "colab": {
          "base_uri": "https://localhost:8080/"
        },
        "id": "fB0UmaY5HVEY",
        "outputId": "3c39f324-4940-4569-f5c6-246624e92e3c"
      },
      "source": [
        "import numpy as np\n",
        "from sklearn.utils import shuffle\n",
        "import pandas as pd\n",
        "\n",
        "all_data = normal_data + anomal_data\n",
        "x = pd.Series(all_data)\n",
        "y = np.array([False] * len(normal_data) + [True] * len(anomal_data))\n",
        "\n",
        "all_data, x, y = shuffle(all_data, x, y, random_state=123)\n",
        "print(\"Всего экземпляров = {}\".format(len(all_data)))\n",
        "# print(\"(Кол-во текстов, число признаков текста) = {}\".format(x.shape))\n",
        "print(\"Кол-во меток = {}\".format(len(y)))\n",
        "print(\"Кол-во нормальных экземпляров = {}\".format(len(normal_data)))\n",
        "print(\"Кол-во аномальных экземпляров = {}\".format(len(anomal_data)))"
      ],
      "execution_count": null,
      "outputs": [
        {
          "output_type": "stream",
          "text": [
            "Всего экземпляров = 1083\n",
            "Кол-во меток = 1083\n",
            "Кол-во нормальных экземпляров = 984\n",
            "Кол-во аномальных экземпляров = 99\n"
          ],
          "name": "stdout"
        }
      ]
    },
    {
      "cell_type": "markdown",
      "metadata": {
        "id": "zHUTrmZ-HfjC"
      },
      "source": [
        "## Функция Cosine similarity"
      ]
    },
    {
      "cell_type": "code",
      "metadata": {
        "id": "CoC4pVv3HgF0"
      },
      "source": [
        "def cosine_similarity(x_predict, x):\n",
        "    if type(x_predict) is np.ndarray:\n",
        "        flat_output = x_predict\n",
        "        flat_input = x_predict\n",
        "        # flat_output = np.reshape(x_predict, (np.shape(x)[0], -1))\n",
        "        # flat_input = np.reshape(x_predict, (np.shape(x)[0], -1))\n",
        "        sum = np.sum(flat_output * flat_input, -1)\n",
        "        norm1 = np.linalg.norm(flat_output, axis=-1) + 0.000001\n",
        "        norm2 = np.linalg.norm(flat_input, axis=-1) + 0.000001 \n",
        "        return -(sum / norm1 / norm2)\n",
        "    else:\n",
        "        # ДЛЯ НЕ ПОЛНОСВЯЗНЫХ СЛОЕВ НУЖЕН ДРУГОЙ shape\n",
        "        flat_output = x_predict\n",
        "        flat_input = x_predict\n",
        "        # flat_output = tf.reshape(tensor=x_predict, shape=[x.shape.as_list()[0], -1])\n",
        "        # flat_input = tf.reshape(tensor=x_predict, shape=[x.shape.as_list()[0], -1])\n",
        "        sum = tf.math.reduce_sum(tf.math.multiply(flat_output, flat_input), axis=-1)\n",
        "        norm1 = tf.norm(flat_output, axis=-1) + 0.000001\n",
        "        norm2 = tf.norm(flat_input, axis=-1) + 0.000001\n",
        "        return -(tf.math.divide(tf.math.divide(sum, norm1), norm2))"
      ],
      "execution_count": null,
      "outputs": []
    },
    {
      "cell_type": "markdown",
      "metadata": {
        "id": "gHe2b9uEHlwq"
      },
      "source": [
        "## RSRAE model"
      ]
    },
    {
      "cell_type": "code",
      "metadata": {
        "id": "ssId3mthN4cZ"
      },
      "source": [
        "import tensorflow as tf\n",
        "import tensorflow_hub as hub\n",
        "hub_layer = hub.KerasLayer(\n",
        "    'https://tfhub.dev/google/universal-sentence-encoder/4',\n",
        "    input_shape=[], \n",
        "    dtype=tf.string,\n",
        "    trainable=True)"
      ],
      "execution_count": null,
      "outputs": []
    },
    {
      "cell_type": "code",
      "metadata": {
        "colab": {
          "base_uri": "https://localhost:8080/"
        },
        "id": "IWqarT6eHmGn",
        "outputId": "28a73e07-d497-4562-edda-53327fb6c02f"
      },
      "source": [
        "import numpy as np\n",
        "import tensorflow as tf\n",
        "print(\"Tensorflow version = {}\".format(tf.__version__)) # текущая версия tf\n",
        "\n",
        "from tensorflow.keras import Model, optimizers, metrics\n",
        "from tensorflow.keras.layers import Layer, Flatten, Dense, BatchNormalization, Dropout, LSTM\n",
        "\n",
        "# from tensorflow.keras import activations, Sequential, Input\n",
        "# from tensorflow.keras.layers import Conv2D, Conv2DTranspose, Reshape\n",
        "# from sklearn.metrics import roc_auc_score, average_precision_score\n",
        "\n",
        "from sklearn.metrics import roc_auc_score, average_precision_score\n",
        "\n",
        "# Задаем random_seed для tensorflow и numpy\n",
        "random_seed = 123\n",
        "tf.random.set_seed(random_seed)\n",
        "np.random.seed(random_seed)\n",
        "\n",
        "# Sets the default float type\n",
        "tf.keras.backend.set_floatx('float64')\n",
        "\n",
        "# Set random seed\n",
        "tf.random.set_seed(123)\n",
        "np.random.seed(123)\n",
        "\n",
        "\n",
        "class RSR(Layer):\n",
        "    \"\"\"\n",
        "    Robust Subspace Recovery (RSR) layer.\n",
        "    Робастный слой, восстанавливающий подпространство. Задача данного слоя - отобразить\n",
        "    закодированные энкодером данные в подпростраство так, чтобы после их обратного\n",
        "    отображения декодером дивергенция между экземпляром исходных данных и его образом,\n",
        "    полученным от автоэнкодера была незначительной для нормального экземпляра и была\n",
        "    большой для аномального экземпляра. \n",
        "\n",
        "    # Example\n",
        "    ```\n",
        "        z_rsr, A = RSR(intrinsic_size=10)(z)\n",
        "    ```\n",
        "    # Arguments\n",
        "        intrinsic_size: размерность z_rsr.\n",
        "    # Input shape\n",
        "        2D tensor with shape: `(n_samples, n_features)` after encoding.\n",
        "    # Output shape\n",
        "        2D tensor with shape: `(n_samples, intrinsic_size)`.\n",
        "    \"\"\"\n",
        "\n",
        "    def __init__(self, intrinsic_size: int, name=\"RSR_layer\", **kwargs):\n",
        "        super(RSR, self).__init__(name=name, **kwargs)\n",
        "        # Если присваивать экземпляр слоя, как атрибут другого слоя, то хорошей\n",
        "        # практикой делать создавать такие подслои в __init__ (поскольку подслои обычно\n",
        "        # имеют метод build, они будут собраны, когда будет собран внешний слой). \n",
        "        self.flatten = Flatten()\n",
        "        self.intrinsic_size = intrinsic_size\n",
        "        \n",
        "    def build(self, input_shape):\n",
        "        \"\"\"Определяет веса слоя, а именно задает матрицу A.\"\"\"\n",
        "        self.A = self.add_weight(name=\"A\",\n",
        "                                 shape=[int(input_shape[-1]), self.intrinsic_size],\n",
        "                                 initializer='random_normal',\n",
        "                                 trainable=True,)\n",
        "        \n",
        "    def call(self, z):\n",
        "        \"\"\"\n",
        "        Логика слоя. Умножение выхода энкодера - вектора z на матрицу A.\n",
        "        Возвращает отображенный z_rsr и матрицу A, которая потребуется далее.\n",
        "        \"\"\"\n",
        "        z = self.flatten(z)\n",
        "        z_rsr = tf.linalg.matmul(z, self.A) \n",
        "        return z_rsr\n",
        "\n",
        "    # Опционально, пользовательский слой может быть сериализован реализацией метода \n",
        "    # get_config и метода класса (@classmethod) from_config.\n",
        "    def get_config(self):\n",
        "        config = super(Layer, self).get_config()\n",
        "        config.update({'intrinsic_size': self.intrinsic_size})\n",
        "        return config\n",
        "\n",
        "    # На самом деле нет необходимости определять `from_config` здесь, поскольку \n",
        "    # возвращение `cls(**config)` - поведение по умолчанию.\n",
        "    @classmethod\n",
        "    def from_config(cls, config):\n",
        "        return cls(**config)\n",
        "\n",
        "\n",
        "class L2Normalization(Layer):\n",
        "    \"\"\"Слой для l_2 нормализации, который будет применяться к выходу RSR layer.\"\"\"\n",
        "    \n",
        "    def __init__(self, name=\"L2Normalization\", **kwargs):\n",
        "        super(L2Normalization, self).__init__(name=name, **kwargs)\n",
        "\n",
        "    def call(self, z_rsr):\n",
        "        \"\"\"\n",
        "        Выполняет l_2 нормализацию векторов, полученных после применения RSR layer\n",
        "        вдоль оси, соответсвующей числу признаков. То есть производится нормализация\n",
        "        каждого экземпляра выборки, в результате которой признаки экземпляров будут\n",
        "        находиться в отрезке [-1; 1].\n",
        "        \"\"\"\n",
        "        z_tilde = tf.math.l2_normalize(z_rsr, axis=-1)\n",
        "        return z_tilde\n",
        "\n",
        "    # Опционально, пользовательский слой может быть сериализован реализацией метода \n",
        "    # get_config и метода класса (@classmethod) from_config.\n",
        "    def get_config(self):\n",
        "        config = super(Layer, self).get_config()\n",
        "        return config\n",
        "\n",
        "    # На самом деле нет необходимости определять `from_config` здесь, поскольку \n",
        "    # возвращение `cls(**config)` - поведение по умолчанию.\n",
        "    @classmethod\n",
        "    def from_config(cls, config):\n",
        "        return cls(**config)\n",
        "\n",
        "\n",
        "class Encoder(Layer):\n",
        "    \"\"\"\n",
        "    Класс для encoder модели RSRAE. Отображает исходные данные input_data в вектор z,\n",
        "    кодирующий исходные данные.\n",
        "    \"\"\"\n",
        "\n",
        "    def __init__(self,\n",
        "                 hidden_layer_dimensions,\n",
        "                 activation,\n",
        "                 flag_bn=True, \n",
        "                 name=\"Encoder\",\n",
        "                 **kwargs):\n",
        "        super(Encoder, self).__init__(name=name, **kwargs)\n",
        "        self.hidden_layer_dimensions = hidden_layer_dimensions\n",
        "        self.activation = activation\n",
        "        self.flag_bn = flag_bn\n",
        "        self.dense0 = Dense(hidden_layer_dimensions[0], activation=activation,\n",
        "                            name='encoder_0')\n",
        "        self.dense1 = Dense(hidden_layer_dimensions[1], activation=activation,\n",
        "                            name='encoder_1')\n",
        "        self.dense2 = Dense(hidden_layer_dimensions[2], activation=activation,\n",
        "                            name='encoder_2')\n",
        "        if flag_bn:\n",
        "            self.batch_normalization0 = BatchNormalization(name=\"encoder_bn_layer_0\")\n",
        "            self.batch_normalization1 = BatchNormalization(name=\"encoder_bn_layer_1\")\n",
        "            self.batch_normalization2 = BatchNormalization(name=\"encoder_bn_layer_2\")\n",
        "\n",
        "    def call(self, inputs):\n",
        "        \"\"\"Отображние исходных данных x -> в закодированный вектор z.\"\"\"\n",
        "        x = inputs\n",
        "        # x = tf.expand_dims(x, axis = 0)\n",
        "        # print(x.shape)\n",
        "        # x = LSTM(5)(x)\n",
        "        x = self.dense0(x)\n",
        "        if self.flag_bn:\n",
        "            x = self.batch_normalization0(x)\n",
        "        x = self.dense1(x)\n",
        "        if self.flag_bn:\n",
        "            x = self.batch_normalization1(x)\n",
        "        x = self.dense2(x)\n",
        "        if self.flag_bn:\n",
        "            x = self.batch_normalization2(x)\n",
        "        z = x\n",
        "        return z\n",
        "    \n",
        "    # Опционально, пользовательский слой может быть сериализован реализацией метода \n",
        "    # get_config и метода класса (@classmethod) from_config.\n",
        "    def get_config(self):\n",
        "        config = super(Layer, self).get_config()\n",
        "        config.update({'hidden_layer_dimensions': self.hidden_layer_dimensions})\n",
        "        config.update({'activation': self.activation})\n",
        "        config.update({'flag_bn': self.flag_bn})\n",
        "        return config\n",
        "\n",
        "    # На самом деле нет необходимости определять `from_config` здесь, поскольку \n",
        "    # возвращение `cls(**config)` - поведение по умолчанию.\n",
        "    @classmethod\n",
        "    def from_config(cls, config):\n",
        "        return cls(**config)\n",
        "\n",
        "\n",
        "class Decoder(Layer):\n",
        "    \"\"\"\n",
        "    Класс для decoder модели RSRAE. Отображает вектор z_rsr, полученный в результате\n",
        "    кодирования исходных данных в вектор z, и последующим отображением вектора z при\n",
        "    помощи RSR layer (x -> z -> z_rsr), обратно в пространство исходных данных \n",
        "    (z_rsr -> x_tilde).\n",
        "    \"\"\"\n",
        "\n",
        "    def __init__(self,\n",
        "                 inputs_dim,\n",
        "                 hidden_layer_dimensions,\n",
        "                 activation,\n",
        "                 flag_bn=True, \n",
        "                 name=\"Decoder\",\n",
        "                 **kwargs):\n",
        "        super(Decoder, self).__init__(name=name, **kwargs)\n",
        "        self.hidden_layer_dimensions = hidden_layer_dimensions\n",
        "        self.activation = activation\n",
        "        self.flag_bn = flag_bn\n",
        "        self.dense2 = Dense(hidden_layer_dimensions[2], activation=activation,\n",
        "                            name='decoder_2')\n",
        "        self.dense1 = Dense(hidden_layer_dimensions[1], activation=activation,\n",
        "                            name='decoder_1')\n",
        "        self.dense0 = Dense(hidden_layer_dimensions[0], activation=activation,\n",
        "                            name='decoder_0')\n",
        "        self.dense_output = Dense(inputs_dim, activation=activation,\n",
        "                            name='decoder_output')\n",
        "        if flag_bn:\n",
        "            self.batch_normalization2 = BatchNormalization(name=\"decoder_bn_layer_2\")\n",
        "            self.batch_normalization1 = BatchNormalization(name=\"decoder_bn_layer_1\")\n",
        "            self.batch_normalization0 = BatchNormalization(name=\"decoder_bn_layer_0\")\n",
        "    def call(self, inputs):\n",
        "        \"\"\"\n",
        "        Отображние z_rsr -> x_tilde, где x_tilde - вектор, лежащий в пространстве\n",
        "        исходных даных.\n",
        "        \"\"\"\n",
        "        z_rsr = inputs\n",
        "        z_rsr = self.dense2(z_rsr)\n",
        "        if self.flag_bn:\n",
        "            z_rsr = self.batch_normalization2(z_rsr)\n",
        "        z_rsr = self.dense1(z_rsr)\n",
        "        if self.flag_bn:\n",
        "            z_rsr = self.batch_normalization1(z_rsr)\n",
        "        z_rsr = Dropout(0.1)((z_rsr))\n",
        "        z_rsr = self.dense0(z_rsr)\n",
        "        if self.flag_bn:\n",
        "            z_rsr = self.batch_normalization0(z_rsr)\n",
        "        z_rsr = Dropout(0.15)((z_rsr))\n",
        "        x_tilde = self.dense_output(z_rsr)\n",
        "        return x_tilde\n",
        "    \n",
        "    # Опционально, пользовательский слой может быть сериализован реализацией метода \n",
        "    # get_config и метода класса (@classmethod) from_config.\n",
        "    def get_config(self):\n",
        "        config = super(Layer, self).get_config()\n",
        "        config.update({'hidden_layer_dimensions': self.hidden_layer_dimensions})\n",
        "        config.update({'activation': self.activation})\n",
        "        config.update({'flag_bn': self.flag_bn})\n",
        "        return config\n",
        "\n",
        "    # На самом деле нет необходимости определять `from_config` здесь, поскольку \n",
        "    # возвращение `cls(**config)` - поведение по умолчанию.\n",
        "    @classmethod\n",
        "    def from_config(cls, config):\n",
        "        return cls(**config)\n",
        "\n",
        "\n",
        "class RSRAE(Model):\n",
        "    \"\"\"\n",
        "    Нейросетевая модель-автоэнкодер для обнаружения аномалий с робастным слоем,\n",
        "    восстанавливающим подпространство (RSR layer между encoder и decoder).\n",
        "    Комбинируем encoder + RSR layer + decoder в end-to-end модель.\n",
        "    \"\"\"\n",
        "\n",
        "    def __init__(self,\n",
        "                 inputs_dim, # размерность вектора признаков\n",
        "                 hidden_layer_dimensions,\n",
        "                 intrinsic_size, # разерность z_rsr после RSR layer\n",
        "                 activation,\n",
        "                 flag_bn=True,\n",
        "                 flag_normalize=True,\n",
        "                 learning_rate=1e-3,\n",
        "                 ae_loss_norm_type='MSE',\n",
        "                 rsr_loss_norm_type='MSE',\n",
        "                 name='RSRAE',\n",
        "                 **kwargs):\n",
        "        super(RSRAE, self).__init__(name=name, **kwargs)\n",
        "        self.inputs_dim = inputs_dim\n",
        "        self.hidden_layer_dimensions = hidden_layer_dimensions\n",
        "        self.intrinsic_size = intrinsic_size\n",
        "        self.activation = activation\n",
        "        self.flag_bn = flag_bn\n",
        "        self.flag_normalize = flag_normalize\n",
        "        self.learning_rate = learning_rate\n",
        "        self.ae_loss_norm_type = ae_loss_norm_type\n",
        "        self.rsr_loss_norm_type = rsr_loss_norm_type\n",
        "        # Для вычисления среднего loss по loss всех батчей в эпохе\n",
        "        self.loss_tracker = metrics.Mean(name=\"loss\")\n",
        "        self.auc_tracker = metrics.Mean(name=\"auc\")\n",
        "        self.ap_tracker = metrics.Mean(name=\"ap\")\n",
        "\n",
        "        # Создание экземпляров оптимизаторов\n",
        "        self.optimizer_ae = optimizers.Adam(learning_rate=learning_rate)\n",
        "        self.optimizer_rsr1 = optimizers.Adam(learning_rate=10 * learning_rate)\n",
        "        self.optimizer_rsr2 = optimizers.Adam(learning_rate=10 * learning_rate)\n",
        "\n",
        "        # Слои\n",
        "        self.emnedding_layer = hub_layer\n",
        "        self.encoder = Encoder(hidden_layer_dimensions=hidden_layer_dimensions,\n",
        "                               activation=activation,\n",
        "                               flag_bn=flag_bn)\n",
        "        self.rsr = RSR(intrinsic_size=intrinsic_size)\n",
        "        if flag_normalize:\n",
        "            self.l2normalization = L2Normalization()\n",
        "        self.decoder = Decoder(inputs_dim=inputs_dim,\n",
        "                               hidden_layer_dimensions=hidden_layer_dimensions,\n",
        "                               activation=activation,\n",
        "                               flag_bn=flag_bn)\n",
        "        \n",
        "    def call(self, inputs):\n",
        "        e = self.emnedding_layer(inputs)\n",
        "        e = tf.cast(e, dtype=tf.float64)\n",
        "        z = self.encoder(e)\n",
        "        print(z.shape)\n",
        "        z_rsr = self.rsr(z)\n",
        "        if self.flag_normalize:\n",
        "            z_rsr = self.l2normalization(z_rsr)\n",
        "        x_tilde = self.decoder(z_rsr)\n",
        "        return e, z, z_rsr, x_tilde\n",
        "\n",
        "    def ae_loss(self, x, x_tilde):\n",
        "        \"\"\"Функция потерь реконструкции автоэнкодера - L_AE.\"\"\"\n",
        "\n",
        "        x = tf.reshape(x, (tf.shape(x)[0], -1))\n",
        "        x_tilde = tf.reshape(x_tilde, (tf.shape(x_tilde)[0], -1))\n",
        "\n",
        "        # axis=1 для tf.norm => вычисление вдоль оси признаков\n",
        "        # tf.math.reduce_mean без параметров - mean от элементов матрицы\n",
        "        if self.ae_loss_norm_type in ['MSE', 'mse', 'Frob', 'F']:\n",
        "            return tf.math.reduce_mean(tf.math.square(tf.norm(x-x_tilde, \n",
        "                                                              ord=2, axis=1)))\n",
        "        elif self.ae_loss_norm_type in ['L1', 'l1']:\n",
        "            return tf.math.reduce_mean(tf.norm(x-x_tilde, ord=1, axis=1))\n",
        "        elif self.ae_loss_norm_type in ['LAD', 'lad', 'L21', 'l21', 'L2', 'l2']:\n",
        "            return tf.math.reduce_mean(tf.norm(x-x_tilde, ord=2, axis=1))\n",
        "        else:\n",
        "            raise Exception(\"Norm type error!\")\n",
        "    \n",
        "    def rsr1_loss(self, z, z_rsr):\n",
        "        \"\"\"Функция потери для RSR layer - L_RSR1.\"\"\"\n",
        "        z_rsr = tf.matmul(z_rsr, tf.transpose(self.rsr.A))\n",
        "\n",
        "        if self.rsr_loss_norm_type in ['MSE', 'mse', 'Frob', 'F']:\n",
        "            return tf.math.reduce_mean(tf.math.square(tf.norm(z-z_rsr, ord=2, \n",
        "                                                            axis=1)))\n",
        "        elif self.rsr_loss_norm_type in ['L1', 'l1']:\n",
        "            return tf.math.reduce_mean(tf.norm(z-z_rsr, ord=1, axis=1))\n",
        "        elif self.rsr_loss_norm_type in ['LAD', 'lad', 'L21', 'l21', 'L2', 'l2']:\n",
        "            return tf.math.reduce_mean(tf.norm(z-z_rsr, ord=2, axis=1))\n",
        "        else:\n",
        "            raise Exception(\"Norm type error!\")\n",
        "    \n",
        "    def rsr2_loss(self):\n",
        "        \"\"\"Функция потери для RSR layer - L_RSR2.\"\"\"\n",
        "        A = self.rsr.A\n",
        "        A_T = tf.transpose(A)\n",
        "        I = tf.eye(self.intrinsic_size, dtype=tf.float64)\n",
        "        return tf.math.reduce_mean(tf.math.square(tf.linalg.matmul(A_T, A) - I))\n",
        "        \n",
        "    def gradients(model, inputs, targets):\n",
        "        with tf.GradientTape() as tape:\n",
        "            loss_value = loss_fn(model, inputs, targets)\n",
        "        return tape.gradient(loss_value, model.trainable_variables)\n",
        "    \n",
        "    @tf.function()\n",
        "    def train_step(self, data):\n",
        "        \"\"\"\n",
        "        Override the method. Будет вызываться при 'model.fit()'.\n",
        "        Один шаг обучения, на котором вычисляются функции потерь для автоэнкодера и\n",
        "        RSR layer, и в соотвествии с ними обновляются значения обучаемых переменных - \n",
        "        весов нейросети и матрицы A соответсвенно. Будет вызываться от одного батча.\n",
        "        Заметим, что в этом методе мы используем пользовательские оптимизаторы и функции\n",
        "        потерь, поэтому перед тренировкой метод compile вызывать не придется.\n",
        "        \"\"\"\n",
        "\n",
        "\n",
        "        x, y = data\n",
        "\n",
        "        # tf.GradientTape() - записывает операции для автоматического дифференцирования\n",
        "\n",
        "        # По умолчанию persistent=False и удерживаемые GradientTape, высвобождаются,\n",
        "        # как только вызывается метод GradientTape.gradient(). Чтобы вычислить несколько\n",
        "        # градиентов за одно вычисление, требуется задать persistent=true. Это позволяет\n",
        "        # многократно вызывать метод gradient(), тогда требуется самостоятельно\n",
        "        # освободить ресурсы с помощью 'del tape'.\n",
        "\n",
        "        # watch_accessed_variables=True => автоматическое отслеживание всех обучаемых\n",
        "        # переменные, к которым осуществляется доступ. Так градиенты могут быть\n",
        "        # запрошены c любого вычисленного результата в tape.\n",
        "        with tf.GradientTape(persistent=True, watch_accessed_variables=True) as tape:\n",
        "            # Здесь требуется запустить прямой проход нейросети. Операции применяемые\n",
        "            # при проходе к входных данным будут записаны на GradientTape. \n",
        "            e, z, z_rsr, x_tilde = self.call(x) # прямой проход RSRAE\n",
        "            z = tf.keras.layers.Flatten()(z) # вроде для текстовых данных необязательно\n",
        "            # Вычисляем значения функций потерь для этого прохода\n",
        "            loss_ae = self.ae_loss(e, x_tilde)\n",
        "            loss_rsr1 = self.rsr1_loss(z, z_rsr)\n",
        "            loss_rsr2 = self.rsr2_loss()\n",
        "  \n",
        "        # Метод gradient вычисляет градиенты обучаемых параметров(весов) для минимизации\n",
        "        # функции потерь, используя операции, записанные в контексте этого tape.\n",
        "        gradients_ae = tape.gradient(loss_ae, self.trainable_weights)\n",
        "        gradients_rsr1 = tape.gradient(loss_rsr1, self.rsr.A)\n",
        "        gradients_rsr2 = tape.gradient(loss_rsr2, self.rsr.A)\n",
        "\n",
        "        # Обновим значения обучаемых переменных - градиентный шаг чтобы min loss.\n",
        "        self.optimizer_ae.apply_gradients(grads_and_vars=\n",
        "                                          zip(gradients_ae, self.trainable_weights))\n",
        "        self.optimizer_rsr1.apply_gradients(grads_and_vars=\n",
        "                                            zip([gradients_rsr1], [self.rsr.A]))\n",
        "        self.optimizer_rsr2.apply_gradients(grads_and_vars=\n",
        "                                            zip([gradients_rsr2], [self.rsr.A]))\n",
        "        \n",
        "        self.loss_tracker.update_state(loss_ae) # обновляем средний loss по батчам\n",
        "\n",
        "        # Обновляем метрики\n",
        "        if len(tf.unique(y)[0]) == 2:\n",
        "            # иначе roc_auc_score бросит ValueError и обучение приостановится\n",
        "            auc = self.auc_metric(y, cosine_similarity(x_tilde, e))\n",
        "            self.auc_tracker.update_state(auc)\n",
        "\n",
        "        ap = self.ap_metric(y, cosine_similarity(x_tilde, e))\n",
        "        self.ap_tracker.update_state(ap)\n",
        "\n",
        "        del tape # persistent=True => требуется самостоятельно освободить ресурсы\n",
        "        return {\"loss\": self.loss_tracker.result(),\n",
        "                \"auc\": self.auc_tracker.result(),\n",
        "                \"ap\": self.ap_tracker.result(),}\n",
        "\n",
        "    @property\n",
        "    def metrics(self):\n",
        "        \"\"\"\n",
        "        В пару к train_step. Сбрасывает метрики (`reset_states()`) в начале каждой\n",
        "        эпохи обучения с помощью 'fit()'. Без этого свойства 'result()' будет \n",
        "        возвращать среднее значение с начала обучения.\n",
        "        \"\"\"\n",
        "        return [self.loss_tracker, self.auc_tracker, self.ap_tracker]\n",
        "\n",
        "    def auc_metric(self, y_true, y_pred):\n",
        "        return tf.py_function(roc_auc_score, (y_true, y_pred), tf.float64)\n",
        "\n",
        "    def ap_metric(self, y_true, y_pred):\n",
        "        return tf.py_function(average_precision_score, (y_true, y_pred), tf.float64)"
      ],
      "execution_count": null,
      "outputs": [
        {
          "output_type": "stream",
          "text": [
            "Tensorflow version = 2.4.1\n"
          ],
          "name": "stdout"
        }
      ]
    },
    {
      "cell_type": "markdown",
      "metadata": {
        "id": "k8n3rxAbHv25"
      },
      "source": [
        "## Тренировка модели"
      ]
    },
    {
      "cell_type": "code",
      "metadata": {
        "colab": {
          "base_uri": "https://localhost:8080/",
          "height": 513
        },
        "id": "Xd7ieHfIHo0n",
        "outputId": "84e1d6f8-cacc-46a2-cf14-336c5dd16e5b"
      },
      "source": [
        "model_rsrae = RSRAE(inputs_dim=512,\n",
        "                    hidden_layer_dimensions=[64, 128, 256],\n",
        "                    intrinsic_size=10,\n",
        "                    activation='relu',\n",
        "                    learning_rate=1e-4,\n",
        "                    ae_loss_norm_type='MSE',\n",
        "                 rsr_loss_norm_type='MSE',)\n",
        "model_rsrae.compile(run_eagerly=True)\n",
        "model_rsrae.fit(x, y,\n",
        "                batch_size=128,\n",
        "                epochs=60)"
      ],
      "execution_count": null,
      "outputs": [
        {
          "output_type": "stream",
          "text": [
            "Epoch 1/60\n",
            "(None, 256)\n",
            "(None, 256)\n",
            "8/9 [=========================>....] - ETA: 0s - loss: 0.6284 - auc: 0.5312 - ap: 0.1397(None, 256)\n",
            "9/9 [==============================] - 12s 815ms/step - loss: 0.6200 - auc: 0.5398 - ap: 0.1644\n",
            "Epoch 2/60\n",
            "9/9 [==============================] - 3s 299ms/step - loss: 0.4836 - auc: 0.6133 - ap: 0.1656\n",
            "Epoch 3/60\n",
            "9/9 [==============================] - 2s 275ms/step - loss: 0.3980 - auc: 0.6962 - ap: 0.2693\n",
            "Epoch 4/60\n"
          ],
          "name": "stdout"
        },
        {
          "output_type": "error",
          "ename": "KeyboardInterrupt",
          "evalue": "ignored",
          "traceback": [
            "\u001b[0;31m---------------------------------------------------------------------------\u001b[0m",
            "\u001b[0;31mKeyboardInterrupt\u001b[0m                         Traceback (most recent call last)",
            "\u001b[0;32m<ipython-input-10-dd00b72d195d>\u001b[0m in \u001b[0;36m<module>\u001b[0;34m()\u001b[0m\n\u001b[1;32m      9\u001b[0m model_rsrae.fit(x, y,\n\u001b[1;32m     10\u001b[0m                 \u001b[0mbatch_size\u001b[0m\u001b[0;34m=\u001b[0m\u001b[0;36m128\u001b[0m\u001b[0;34m,\u001b[0m\u001b[0;34m\u001b[0m\u001b[0;34m\u001b[0m\u001b[0m\n\u001b[0;32m---> 11\u001b[0;31m                 epochs=60)\n\u001b[0m",
            "\u001b[0;32m/usr/local/lib/python3.6/dist-packages/tensorflow/python/keras/engine/training.py\u001b[0m in \u001b[0;36mfit\u001b[0;34m(self, x, y, batch_size, epochs, verbose, callbacks, validation_split, validation_data, shuffle, class_weight, sample_weight, initial_epoch, steps_per_epoch, validation_steps, validation_batch_size, validation_freq, max_queue_size, workers, use_multiprocessing)\u001b[0m\n\u001b[1;32m   1103\u001b[0m               \u001b[0mlogs\u001b[0m \u001b[0;34m=\u001b[0m \u001b[0mtmp_logs\u001b[0m  \u001b[0;31m# No error, now safe to assign to logs.\u001b[0m\u001b[0;34m\u001b[0m\u001b[0;34m\u001b[0m\u001b[0m\n\u001b[1;32m   1104\u001b[0m               \u001b[0mend_step\u001b[0m \u001b[0;34m=\u001b[0m \u001b[0mstep\u001b[0m \u001b[0;34m+\u001b[0m \u001b[0mdata_handler\u001b[0m\u001b[0;34m.\u001b[0m\u001b[0mstep_increment\u001b[0m\u001b[0;34m\u001b[0m\u001b[0;34m\u001b[0m\u001b[0m\n\u001b[0;32m-> 1105\u001b[0;31m               \u001b[0mcallbacks\u001b[0m\u001b[0;34m.\u001b[0m\u001b[0mon_train_batch_end\u001b[0m\u001b[0;34m(\u001b[0m\u001b[0mend_step\u001b[0m\u001b[0;34m,\u001b[0m \u001b[0mlogs\u001b[0m\u001b[0;34m)\u001b[0m\u001b[0;34m\u001b[0m\u001b[0;34m\u001b[0m\u001b[0m\n\u001b[0m\u001b[1;32m   1106\u001b[0m               \u001b[0;32mif\u001b[0m \u001b[0mself\u001b[0m\u001b[0;34m.\u001b[0m\u001b[0mstop_training\u001b[0m\u001b[0;34m:\u001b[0m\u001b[0;34m\u001b[0m\u001b[0;34m\u001b[0m\u001b[0m\n\u001b[1;32m   1107\u001b[0m                 \u001b[0;32mbreak\u001b[0m\u001b[0;34m\u001b[0m\u001b[0;34m\u001b[0m\u001b[0m\n",
            "\u001b[0;32m/usr/local/lib/python3.6/dist-packages/tensorflow/python/keras/callbacks.py\u001b[0m in \u001b[0;36mon_train_batch_end\u001b[0;34m(self, batch, logs)\u001b[0m\n\u001b[1;32m    452\u001b[0m     \"\"\"\n\u001b[1;32m    453\u001b[0m     \u001b[0;32mif\u001b[0m \u001b[0mself\u001b[0m\u001b[0;34m.\u001b[0m\u001b[0m_should_call_train_batch_hooks\u001b[0m\u001b[0;34m:\u001b[0m\u001b[0;34m\u001b[0m\u001b[0;34m\u001b[0m\u001b[0m\n\u001b[0;32m--> 454\u001b[0;31m       \u001b[0mself\u001b[0m\u001b[0;34m.\u001b[0m\u001b[0m_call_batch_hook\u001b[0m\u001b[0;34m(\u001b[0m\u001b[0mModeKeys\u001b[0m\u001b[0;34m.\u001b[0m\u001b[0mTRAIN\u001b[0m\u001b[0;34m,\u001b[0m \u001b[0;34m'end'\u001b[0m\u001b[0;34m,\u001b[0m \u001b[0mbatch\u001b[0m\u001b[0;34m,\u001b[0m \u001b[0mlogs\u001b[0m\u001b[0;34m=\u001b[0m\u001b[0mlogs\u001b[0m\u001b[0;34m)\u001b[0m\u001b[0;34m\u001b[0m\u001b[0;34m\u001b[0m\u001b[0m\n\u001b[0m\u001b[1;32m    455\u001b[0m \u001b[0;34m\u001b[0m\u001b[0m\n\u001b[1;32m    456\u001b[0m   \u001b[0;32mdef\u001b[0m \u001b[0mon_test_batch_begin\u001b[0m\u001b[0;34m(\u001b[0m\u001b[0mself\u001b[0m\u001b[0;34m,\u001b[0m \u001b[0mbatch\u001b[0m\u001b[0;34m,\u001b[0m \u001b[0mlogs\u001b[0m\u001b[0;34m=\u001b[0m\u001b[0;32mNone\u001b[0m\u001b[0;34m)\u001b[0m\u001b[0;34m:\u001b[0m\u001b[0;34m\u001b[0m\u001b[0;34m\u001b[0m\u001b[0m\n",
            "\u001b[0;32m/usr/local/lib/python3.6/dist-packages/tensorflow/python/keras/callbacks.py\u001b[0m in \u001b[0;36m_call_batch_hook\u001b[0;34m(self, mode, hook, batch, logs)\u001b[0m\n\u001b[1;32m    294\u001b[0m       \u001b[0mself\u001b[0m\u001b[0;34m.\u001b[0m\u001b[0m_call_batch_begin_hook\u001b[0m\u001b[0;34m(\u001b[0m\u001b[0mmode\u001b[0m\u001b[0;34m,\u001b[0m \u001b[0mbatch\u001b[0m\u001b[0;34m,\u001b[0m \u001b[0mlogs\u001b[0m\u001b[0;34m)\u001b[0m\u001b[0;34m\u001b[0m\u001b[0;34m\u001b[0m\u001b[0m\n\u001b[1;32m    295\u001b[0m     \u001b[0;32melif\u001b[0m \u001b[0mhook\u001b[0m \u001b[0;34m==\u001b[0m \u001b[0;34m'end'\u001b[0m\u001b[0;34m:\u001b[0m\u001b[0;34m\u001b[0m\u001b[0;34m\u001b[0m\u001b[0m\n\u001b[0;32m--> 296\u001b[0;31m       \u001b[0mself\u001b[0m\u001b[0;34m.\u001b[0m\u001b[0m_call_batch_end_hook\u001b[0m\u001b[0;34m(\u001b[0m\u001b[0mmode\u001b[0m\u001b[0;34m,\u001b[0m \u001b[0mbatch\u001b[0m\u001b[0;34m,\u001b[0m \u001b[0mlogs\u001b[0m\u001b[0;34m)\u001b[0m\u001b[0;34m\u001b[0m\u001b[0;34m\u001b[0m\u001b[0m\n\u001b[0m\u001b[1;32m    297\u001b[0m     \u001b[0;32melse\u001b[0m\u001b[0;34m:\u001b[0m\u001b[0;34m\u001b[0m\u001b[0;34m\u001b[0m\u001b[0m\n\u001b[1;32m    298\u001b[0m       \u001b[0;32mraise\u001b[0m \u001b[0mValueError\u001b[0m\u001b[0;34m(\u001b[0m\u001b[0;34m'Unrecognized hook: {}'\u001b[0m\u001b[0;34m.\u001b[0m\u001b[0mformat\u001b[0m\u001b[0;34m(\u001b[0m\u001b[0mhook\u001b[0m\u001b[0;34m)\u001b[0m\u001b[0;34m)\u001b[0m\u001b[0;34m\u001b[0m\u001b[0;34m\u001b[0m\u001b[0m\n",
            "\u001b[0;32m/usr/local/lib/python3.6/dist-packages/tensorflow/python/keras/callbacks.py\u001b[0m in \u001b[0;36m_call_batch_end_hook\u001b[0;34m(self, mode, batch, logs)\u001b[0m\n\u001b[1;32m    314\u001b[0m       \u001b[0mself\u001b[0m\u001b[0;34m.\u001b[0m\u001b[0m_batch_times\u001b[0m\u001b[0;34m.\u001b[0m\u001b[0mappend\u001b[0m\u001b[0;34m(\u001b[0m\u001b[0mbatch_time\u001b[0m\u001b[0;34m)\u001b[0m\u001b[0;34m\u001b[0m\u001b[0;34m\u001b[0m\u001b[0m\n\u001b[1;32m    315\u001b[0m \u001b[0;34m\u001b[0m\u001b[0m\n\u001b[0;32m--> 316\u001b[0;31m     \u001b[0mself\u001b[0m\u001b[0;34m.\u001b[0m\u001b[0m_call_batch_hook_helper\u001b[0m\u001b[0;34m(\u001b[0m\u001b[0mhook_name\u001b[0m\u001b[0;34m,\u001b[0m \u001b[0mbatch\u001b[0m\u001b[0;34m,\u001b[0m \u001b[0mlogs\u001b[0m\u001b[0;34m)\u001b[0m\u001b[0;34m\u001b[0m\u001b[0;34m\u001b[0m\u001b[0m\n\u001b[0m\u001b[1;32m    317\u001b[0m \u001b[0;34m\u001b[0m\u001b[0m\n\u001b[1;32m    318\u001b[0m     \u001b[0;32mif\u001b[0m \u001b[0mlen\u001b[0m\u001b[0;34m(\u001b[0m\u001b[0mself\u001b[0m\u001b[0;34m.\u001b[0m\u001b[0m_batch_times\u001b[0m\u001b[0;34m)\u001b[0m \u001b[0;34m>=\u001b[0m \u001b[0mself\u001b[0m\u001b[0;34m.\u001b[0m\u001b[0m_num_batches_for_timing_check\u001b[0m\u001b[0;34m:\u001b[0m\u001b[0;34m\u001b[0m\u001b[0;34m\u001b[0m\u001b[0m\n",
            "\u001b[0;32m/usr/local/lib/python3.6/dist-packages/tensorflow/python/keras/callbacks.py\u001b[0m in \u001b[0;36m_call_batch_hook_helper\u001b[0;34m(self, hook_name, batch, logs)\u001b[0m\n\u001b[1;32m    354\u001b[0m       \u001b[0mhook\u001b[0m \u001b[0;34m=\u001b[0m \u001b[0mgetattr\u001b[0m\u001b[0;34m(\u001b[0m\u001b[0mcallback\u001b[0m\u001b[0;34m,\u001b[0m \u001b[0mhook_name\u001b[0m\u001b[0;34m)\u001b[0m\u001b[0;34m\u001b[0m\u001b[0;34m\u001b[0m\u001b[0m\n\u001b[1;32m    355\u001b[0m       \u001b[0;32mif\u001b[0m \u001b[0mgetattr\u001b[0m\u001b[0;34m(\u001b[0m\u001b[0mcallback\u001b[0m\u001b[0;34m,\u001b[0m \u001b[0;34m'_supports_tf_logs'\u001b[0m\u001b[0;34m,\u001b[0m \u001b[0;32mFalse\u001b[0m\u001b[0;34m)\u001b[0m\u001b[0;34m:\u001b[0m\u001b[0;34m\u001b[0m\u001b[0;34m\u001b[0m\u001b[0m\n\u001b[0;32m--> 356\u001b[0;31m         \u001b[0mhook\u001b[0m\u001b[0;34m(\u001b[0m\u001b[0mbatch\u001b[0m\u001b[0;34m,\u001b[0m \u001b[0mlogs\u001b[0m\u001b[0;34m)\u001b[0m\u001b[0;34m\u001b[0m\u001b[0;34m\u001b[0m\u001b[0m\n\u001b[0m\u001b[1;32m    357\u001b[0m       \u001b[0;32melse\u001b[0m\u001b[0;34m:\u001b[0m\u001b[0;34m\u001b[0m\u001b[0;34m\u001b[0m\u001b[0m\n\u001b[1;32m    358\u001b[0m         \u001b[0;32mif\u001b[0m \u001b[0mnumpy_logs\u001b[0m \u001b[0;32mis\u001b[0m \u001b[0;32mNone\u001b[0m\u001b[0;34m:\u001b[0m  \u001b[0;31m# Only convert once.\u001b[0m\u001b[0;34m\u001b[0m\u001b[0;34m\u001b[0m\u001b[0m\n",
            "\u001b[0;32m/usr/local/lib/python3.6/dist-packages/tensorflow/python/keras/callbacks.py\u001b[0m in \u001b[0;36mon_train_batch_end\u001b[0;34m(self, batch, logs)\u001b[0m\n\u001b[1;32m   1018\u001b[0m \u001b[0;34m\u001b[0m\u001b[0m\n\u001b[1;32m   1019\u001b[0m   \u001b[0;32mdef\u001b[0m \u001b[0mon_train_batch_end\u001b[0m\u001b[0;34m(\u001b[0m\u001b[0mself\u001b[0m\u001b[0;34m,\u001b[0m \u001b[0mbatch\u001b[0m\u001b[0;34m,\u001b[0m \u001b[0mlogs\u001b[0m\u001b[0;34m=\u001b[0m\u001b[0;32mNone\u001b[0m\u001b[0;34m)\u001b[0m\u001b[0;34m:\u001b[0m\u001b[0;34m\u001b[0m\u001b[0;34m\u001b[0m\u001b[0m\n\u001b[0;32m-> 1020\u001b[0;31m     \u001b[0mself\u001b[0m\u001b[0;34m.\u001b[0m\u001b[0m_batch_update_progbar\u001b[0m\u001b[0;34m(\u001b[0m\u001b[0mbatch\u001b[0m\u001b[0;34m,\u001b[0m \u001b[0mlogs\u001b[0m\u001b[0;34m)\u001b[0m\u001b[0;34m\u001b[0m\u001b[0;34m\u001b[0m\u001b[0m\n\u001b[0m\u001b[1;32m   1021\u001b[0m \u001b[0;34m\u001b[0m\u001b[0m\n\u001b[1;32m   1022\u001b[0m   \u001b[0;32mdef\u001b[0m \u001b[0mon_test_batch_end\u001b[0m\u001b[0;34m(\u001b[0m\u001b[0mself\u001b[0m\u001b[0;34m,\u001b[0m \u001b[0mbatch\u001b[0m\u001b[0;34m,\u001b[0m \u001b[0mlogs\u001b[0m\u001b[0;34m=\u001b[0m\u001b[0;32mNone\u001b[0m\u001b[0;34m)\u001b[0m\u001b[0;34m:\u001b[0m\u001b[0;34m\u001b[0m\u001b[0;34m\u001b[0m\u001b[0m\n",
            "\u001b[0;32m/usr/local/lib/python3.6/dist-packages/tensorflow/python/keras/callbacks.py\u001b[0m in \u001b[0;36m_batch_update_progbar\u001b[0;34m(self, batch, logs)\u001b[0m\n\u001b[1;32m   1082\u001b[0m     \u001b[0;32mif\u001b[0m \u001b[0mself\u001b[0m\u001b[0;34m.\u001b[0m\u001b[0mverbose\u001b[0m \u001b[0;34m==\u001b[0m \u001b[0;36m1\u001b[0m\u001b[0;34m:\u001b[0m\u001b[0;34m\u001b[0m\u001b[0;34m\u001b[0m\u001b[0m\n\u001b[1;32m   1083\u001b[0m       \u001b[0;31m# Only block async when verbose = 1.\u001b[0m\u001b[0;34m\u001b[0m\u001b[0;34m\u001b[0m\u001b[0;34m\u001b[0m\u001b[0m\n\u001b[0;32m-> 1084\u001b[0;31m       \u001b[0mlogs\u001b[0m \u001b[0;34m=\u001b[0m \u001b[0mtf_utils\u001b[0m\u001b[0;34m.\u001b[0m\u001b[0mto_numpy_or_python_type\u001b[0m\u001b[0;34m(\u001b[0m\u001b[0mlogs\u001b[0m\u001b[0;34m)\u001b[0m\u001b[0;34m\u001b[0m\u001b[0;34m\u001b[0m\u001b[0m\n\u001b[0m\u001b[1;32m   1085\u001b[0m       \u001b[0mself\u001b[0m\u001b[0;34m.\u001b[0m\u001b[0mprogbar\u001b[0m\u001b[0;34m.\u001b[0m\u001b[0mupdate\u001b[0m\u001b[0;34m(\u001b[0m\u001b[0mself\u001b[0m\u001b[0;34m.\u001b[0m\u001b[0mseen\u001b[0m\u001b[0;34m,\u001b[0m \u001b[0mlist\u001b[0m\u001b[0;34m(\u001b[0m\u001b[0mlogs\u001b[0m\u001b[0;34m.\u001b[0m\u001b[0mitems\u001b[0m\u001b[0;34m(\u001b[0m\u001b[0;34m)\u001b[0m\u001b[0;34m)\u001b[0m\u001b[0;34m,\u001b[0m \u001b[0mfinalize\u001b[0m\u001b[0;34m=\u001b[0m\u001b[0;32mFalse\u001b[0m\u001b[0;34m)\u001b[0m\u001b[0;34m\u001b[0m\u001b[0;34m\u001b[0m\u001b[0m\n\u001b[1;32m   1086\u001b[0m \u001b[0;34m\u001b[0m\u001b[0m\n",
            "\u001b[0;32m/usr/local/lib/python3.6/dist-packages/tensorflow/python/keras/utils/tf_utils.py\u001b[0m in \u001b[0;36mto_numpy_or_python_type\u001b[0;34m(tensors)\u001b[0m\n\u001b[1;32m    512\u001b[0m     \u001b[0;32mreturn\u001b[0m \u001b[0mt\u001b[0m  \u001b[0;31m# Don't turn ragged or sparse tensors to NumPy.\u001b[0m\u001b[0;34m\u001b[0m\u001b[0;34m\u001b[0m\u001b[0m\n\u001b[1;32m    513\u001b[0m \u001b[0;34m\u001b[0m\u001b[0m\n\u001b[0;32m--> 514\u001b[0;31m   \u001b[0;32mreturn\u001b[0m \u001b[0mnest\u001b[0m\u001b[0;34m.\u001b[0m\u001b[0mmap_structure\u001b[0m\u001b[0;34m(\u001b[0m\u001b[0m_to_single_numpy_or_python_type\u001b[0m\u001b[0;34m,\u001b[0m \u001b[0mtensors\u001b[0m\u001b[0;34m)\u001b[0m\u001b[0;34m\u001b[0m\u001b[0;34m\u001b[0m\u001b[0m\n\u001b[0m\u001b[1;32m    515\u001b[0m \u001b[0;34m\u001b[0m\u001b[0m\n\u001b[1;32m    516\u001b[0m \u001b[0;34m\u001b[0m\u001b[0m\n",
            "\u001b[0;32m/usr/local/lib/python3.6/dist-packages/tensorflow/python/util/nest.py\u001b[0m in \u001b[0;36mmap_structure\u001b[0;34m(func, *structure, **kwargs)\u001b[0m\n\u001b[1;32m    657\u001b[0m \u001b[0;34m\u001b[0m\u001b[0m\n\u001b[1;32m    658\u001b[0m   return pack_sequence_as(\n\u001b[0;32m--> 659\u001b[0;31m       \u001b[0mstructure\u001b[0m\u001b[0;34m[\u001b[0m\u001b[0;36m0\u001b[0m\u001b[0;34m]\u001b[0m\u001b[0;34m,\u001b[0m \u001b[0;34m[\u001b[0m\u001b[0mfunc\u001b[0m\u001b[0;34m(\u001b[0m\u001b[0;34m*\u001b[0m\u001b[0mx\u001b[0m\u001b[0;34m)\u001b[0m \u001b[0;32mfor\u001b[0m \u001b[0mx\u001b[0m \u001b[0;32min\u001b[0m \u001b[0mentries\u001b[0m\u001b[0;34m]\u001b[0m\u001b[0;34m,\u001b[0m\u001b[0;34m\u001b[0m\u001b[0;34m\u001b[0m\u001b[0m\n\u001b[0m\u001b[1;32m    660\u001b[0m       expand_composites=expand_composites)\n\u001b[1;32m    661\u001b[0m \u001b[0;34m\u001b[0m\u001b[0m\n",
            "\u001b[0;32m/usr/local/lib/python3.6/dist-packages/tensorflow/python/util/nest.py\u001b[0m in \u001b[0;36m<listcomp>\u001b[0;34m(.0)\u001b[0m\n\u001b[1;32m    657\u001b[0m \u001b[0;34m\u001b[0m\u001b[0m\n\u001b[1;32m    658\u001b[0m   return pack_sequence_as(\n\u001b[0;32m--> 659\u001b[0;31m       \u001b[0mstructure\u001b[0m\u001b[0;34m[\u001b[0m\u001b[0;36m0\u001b[0m\u001b[0;34m]\u001b[0m\u001b[0;34m,\u001b[0m \u001b[0;34m[\u001b[0m\u001b[0mfunc\u001b[0m\u001b[0;34m(\u001b[0m\u001b[0;34m*\u001b[0m\u001b[0mx\u001b[0m\u001b[0;34m)\u001b[0m \u001b[0;32mfor\u001b[0m \u001b[0mx\u001b[0m \u001b[0;32min\u001b[0m \u001b[0mentries\u001b[0m\u001b[0;34m]\u001b[0m\u001b[0;34m,\u001b[0m\u001b[0;34m\u001b[0m\u001b[0;34m\u001b[0m\u001b[0m\n\u001b[0m\u001b[1;32m    660\u001b[0m       expand_composites=expand_composites)\n\u001b[1;32m    661\u001b[0m \u001b[0;34m\u001b[0m\u001b[0m\n",
            "\u001b[0;32m/usr/local/lib/python3.6/dist-packages/tensorflow/python/keras/utils/tf_utils.py\u001b[0m in \u001b[0;36m_to_single_numpy_or_python_type\u001b[0;34m(t)\u001b[0m\n\u001b[1;32m    508\u001b[0m   \u001b[0;32mdef\u001b[0m \u001b[0m_to_single_numpy_or_python_type\u001b[0m\u001b[0;34m(\u001b[0m\u001b[0mt\u001b[0m\u001b[0;34m)\u001b[0m\u001b[0;34m:\u001b[0m\u001b[0;34m\u001b[0m\u001b[0;34m\u001b[0m\u001b[0m\n\u001b[1;32m    509\u001b[0m     \u001b[0;32mif\u001b[0m \u001b[0misinstance\u001b[0m\u001b[0;34m(\u001b[0m\u001b[0mt\u001b[0m\u001b[0;34m,\u001b[0m \u001b[0mops\u001b[0m\u001b[0;34m.\u001b[0m\u001b[0mTensor\u001b[0m\u001b[0;34m)\u001b[0m\u001b[0;34m:\u001b[0m\u001b[0;34m\u001b[0m\u001b[0;34m\u001b[0m\u001b[0m\n\u001b[0;32m--> 510\u001b[0;31m       \u001b[0mx\u001b[0m \u001b[0;34m=\u001b[0m \u001b[0mt\u001b[0m\u001b[0;34m.\u001b[0m\u001b[0mnumpy\u001b[0m\u001b[0;34m(\u001b[0m\u001b[0;34m)\u001b[0m\u001b[0;34m\u001b[0m\u001b[0;34m\u001b[0m\u001b[0m\n\u001b[0m\u001b[1;32m    511\u001b[0m       \u001b[0;32mreturn\u001b[0m \u001b[0mx\u001b[0m\u001b[0;34m.\u001b[0m\u001b[0mitem\u001b[0m\u001b[0;34m(\u001b[0m\u001b[0;34m)\u001b[0m \u001b[0;32mif\u001b[0m \u001b[0mnp\u001b[0m\u001b[0;34m.\u001b[0m\u001b[0mndim\u001b[0m\u001b[0;34m(\u001b[0m\u001b[0mx\u001b[0m\u001b[0;34m)\u001b[0m \u001b[0;34m==\u001b[0m \u001b[0;36m0\u001b[0m \u001b[0;32melse\u001b[0m \u001b[0mx\u001b[0m\u001b[0;34m\u001b[0m\u001b[0;34m\u001b[0m\u001b[0m\n\u001b[1;32m    512\u001b[0m     \u001b[0;32mreturn\u001b[0m \u001b[0mt\u001b[0m  \u001b[0;31m# Don't turn ragged or sparse tensors to NumPy.\u001b[0m\u001b[0;34m\u001b[0m\u001b[0;34m\u001b[0m\u001b[0m\n",
            "\u001b[0;32m/usr/local/lib/python3.6/dist-packages/tensorflow/python/framework/ops.py\u001b[0m in \u001b[0;36mnumpy\u001b[0;34m(self)\u001b[0m\n\u001b[1;32m   1069\u001b[0m     \"\"\"\n\u001b[1;32m   1070\u001b[0m     \u001b[0;31m# TODO(slebedev): Consider avoiding a copy for non-CPU or remote tensors.\u001b[0m\u001b[0;34m\u001b[0m\u001b[0;34m\u001b[0m\u001b[0;34m\u001b[0m\u001b[0m\n\u001b[0;32m-> 1071\u001b[0;31m     \u001b[0mmaybe_arr\u001b[0m \u001b[0;34m=\u001b[0m \u001b[0mself\u001b[0m\u001b[0;34m.\u001b[0m\u001b[0m_numpy\u001b[0m\u001b[0;34m(\u001b[0m\u001b[0;34m)\u001b[0m  \u001b[0;31m# pylint: disable=protected-access\u001b[0m\u001b[0;34m\u001b[0m\u001b[0;34m\u001b[0m\u001b[0m\n\u001b[0m\u001b[1;32m   1072\u001b[0m     \u001b[0;32mreturn\u001b[0m \u001b[0mmaybe_arr\u001b[0m\u001b[0;34m.\u001b[0m\u001b[0mcopy\u001b[0m\u001b[0;34m(\u001b[0m\u001b[0;34m)\u001b[0m \u001b[0;32mif\u001b[0m \u001b[0misinstance\u001b[0m\u001b[0;34m(\u001b[0m\u001b[0mmaybe_arr\u001b[0m\u001b[0;34m,\u001b[0m \u001b[0mnp\u001b[0m\u001b[0;34m.\u001b[0m\u001b[0mndarray\u001b[0m\u001b[0;34m)\u001b[0m \u001b[0;32melse\u001b[0m \u001b[0mmaybe_arr\u001b[0m\u001b[0;34m\u001b[0m\u001b[0;34m\u001b[0m\u001b[0m\n\u001b[1;32m   1073\u001b[0m \u001b[0;34m\u001b[0m\u001b[0m\n",
            "\u001b[0;32m/usr/local/lib/python3.6/dist-packages/tensorflow/python/framework/ops.py\u001b[0m in \u001b[0;36m_numpy\u001b[0;34m(self)\u001b[0m\n\u001b[1;32m   1035\u001b[0m   \u001b[0;32mdef\u001b[0m \u001b[0m_numpy\u001b[0m\u001b[0;34m(\u001b[0m\u001b[0mself\u001b[0m\u001b[0;34m)\u001b[0m\u001b[0;34m:\u001b[0m\u001b[0;34m\u001b[0m\u001b[0;34m\u001b[0m\u001b[0m\n\u001b[1;32m   1036\u001b[0m     \u001b[0;32mtry\u001b[0m\u001b[0;34m:\u001b[0m\u001b[0;34m\u001b[0m\u001b[0;34m\u001b[0m\u001b[0m\n\u001b[0;32m-> 1037\u001b[0;31m       \u001b[0;32mreturn\u001b[0m \u001b[0mself\u001b[0m\u001b[0;34m.\u001b[0m\u001b[0m_numpy_internal\u001b[0m\u001b[0;34m(\u001b[0m\u001b[0;34m)\u001b[0m\u001b[0;34m\u001b[0m\u001b[0;34m\u001b[0m\u001b[0m\n\u001b[0m\u001b[1;32m   1038\u001b[0m     \u001b[0;32mexcept\u001b[0m \u001b[0mcore\u001b[0m\u001b[0;34m.\u001b[0m\u001b[0m_NotOkStatusException\u001b[0m \u001b[0;32mas\u001b[0m \u001b[0me\u001b[0m\u001b[0;34m:\u001b[0m  \u001b[0;31m# pylint: disable=protected-access\u001b[0m\u001b[0;34m\u001b[0m\u001b[0;34m\u001b[0m\u001b[0m\n\u001b[1;32m   1039\u001b[0m       \u001b[0msix\u001b[0m\u001b[0;34m.\u001b[0m\u001b[0mraise_from\u001b[0m\u001b[0;34m(\u001b[0m\u001b[0mcore\u001b[0m\u001b[0;34m.\u001b[0m\u001b[0m_status_to_exception\u001b[0m\u001b[0;34m(\u001b[0m\u001b[0me\u001b[0m\u001b[0;34m.\u001b[0m\u001b[0mcode\u001b[0m\u001b[0;34m,\u001b[0m \u001b[0me\u001b[0m\u001b[0;34m.\u001b[0m\u001b[0mmessage\u001b[0m\u001b[0;34m)\u001b[0m\u001b[0;34m,\u001b[0m \u001b[0;32mNone\u001b[0m\u001b[0;34m)\u001b[0m  \u001b[0;31m# pylint: disable=protected-access\u001b[0m\u001b[0;34m\u001b[0m\u001b[0;34m\u001b[0m\u001b[0m\n",
            "\u001b[0;31mKeyboardInterrupt\u001b[0m: "
          ]
        }
      ]
    },
    {
      "cell_type": "code",
      "metadata": {
        "id": "3lxGKBy4hVVH"
      },
      "source": [
        "# from matplotlib import pyplot as plt\n",
        "\n",
        "# plt.plot(history.history['loss'])\n",
        "# plt.title('model loss')\n",
        "# plt.ylabel('loss')\n",
        "# plt.xlabel('epoch')\n",
        "# plt.legend(['train'], loc='upper left')\n",
        "# plt.show()"
      ],
      "execution_count": null,
      "outputs": []
    },
    {
      "cell_type": "markdown",
      "metadata": {
        "id": "Ci8n2ixwH8si"
      },
      "source": [
        "## Тестирование модели"
      ]
    },
    {
      "cell_type": "code",
      "metadata": {
        "colab": {
          "base_uri": "https://localhost:8080/"
        },
        "id": "2PzM-V7oH7hE",
        "outputId": "4186205b-6f01-48c1-dbf4-1ddb57b987db"
      },
      "source": [
        "# model_rsrae.predict(x) - ВЫДАЕТ НЕПОНЯТНЫЕ ОШИБКИ\n",
        "e, _, _, x_predict = model_rsrae.call(x)\n",
        "\n",
        "auc = roc_auc_score(y, cosine_similarity(x_predict, e))\n",
        "ap = average_precision_score(y, cosine_similarity(x_predict, e))\n",
        "                                    \n",
        "print(\"auc = \", auc)\n",
        "print(\"ap = \", ap)\n"
      ],
      "execution_count": null,
      "outputs": [
        {
          "output_type": "stream",
          "text": [
            "auc =  0.8977580684897758\n",
            "ap =  0.5453807869247805\n"
          ],
          "name": "stdout"
        }
      ]
    },
    {
      "cell_type": "code",
      "metadata": {
        "colab": {
          "base_uri": "https://localhost:8080/"
        },
        "id": "2ActbTm8PcKh",
        "outputId": "465feb80-d72d-4611-cb09-830dcd3c0786"
      },
      "source": [
        "\n",
        "x.shape"
      ],
      "execution_count": null,
      "outputs": [
        {
          "output_type": "execute_result",
          "data": {
            "text/plain": [
              "(1083,)"
            ]
          },
          "metadata": {
            "tags": []
          },
          "execution_count": 11
        }
      ]
    },
    {
      "cell_type": "code",
      "metadata": {
        "id": "-El0X-36Pga6",
        "colab": {
          "base_uri": "https://localhost:8080/"
        },
        "outputId": "cb5e7351-1dfc-455a-cb4e-1564b5fec3c2"
      },
      "source": [
        "pd.Series(all_data).shape"
      ],
      "execution_count": null,
      "outputs": [
        {
          "output_type": "execute_result",
          "data": {
            "text/plain": [
              "(1083,)"
            ]
          },
          "metadata": {
            "tags": []
          },
          "execution_count": 12
        }
      ]
    },
    {
      "cell_type": "code",
      "metadata": {
        "id": "9AyDhgUlfyul"
      },
      "source": [
        ""
      ],
      "execution_count": null,
      "outputs": []
    }
  ]
}