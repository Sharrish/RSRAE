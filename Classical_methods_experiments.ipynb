{
  "nbformat": 4,
  "nbformat_minor": 0,
  "metadata": {
    "colab": {
      "name": "Classical_methods_experiments.ipynb",
      "provenance": [],
      "collapsed_sections": []
    },
    "kernelspec": {
      "display_name": "Python 3",
      "language": "python",
      "name": "python3"
    },
    "language_info": {
      "codemirror_mode": {
        "name": "ipython",
        "version": 3
      },
      "file_extension": ".py",
      "mimetype": "text/x-python",
      "name": "python",
      "nbconvert_exporter": "python",
      "pygments_lexer": "ipython3",
      "version": "3.8.8"
    }
  },
  "cells": [
    {
      "cell_type": "markdown",
      "metadata": {
        "id": "HuuWP8tqdwuo"
      },
      "source": [
        "# 🧫 🧪 Эксперименты с классическими *unsupervised* методами обнаружения аномалий"
      ]
    },
    {
      "cell_type": "markdown",
      "metadata": {
        "id": "EPIzrTvamj1z"
      },
      "source": [
        "### 🌐 Установка [pyod](https://github.com/yzhao062/pyod)"
      ]
    },
    {
      "cell_type": "code",
      "metadata": {
        "id": "0LtDUqs-mxbQ"
      },
      "source": [
        "# !pip3 install pyod"
      ],
      "execution_count": null,
      "outputs": []
    },
    {
      "cell_type": "markdown",
      "metadata": {
        "id": "7zAKhE3pOLka"
      },
      "source": [
        "## 💅 Предобработка данных"
      ]
    },
    {
      "cell_type": "code",
      "metadata": {
        "colab": {
          "base_uri": "https://localhost:8080/"
        },
        "id": "bZ3bvuYgOJ_b",
        "outputId": "bb322d86-442b-4ed2-8f19-8f26b892c19a"
      },
      "source": [
        "from bs4 import BeautifulSoup\n",
        "from gensim.parsing.preprocessing import remove_stopwords\n",
        "from gensim.parsing.preprocessing import strip_short\n",
        "from gensim.parsing.preprocessing import strip_non_alphanum\n",
        "from gensim.parsing.preprocessing import strip_numeric\n",
        "from gensim.utils import tokenize\n",
        "import nltk; nltk.download('wordnet')\n",
        "from nltk.stem import WordNetLemmatizer\n",
        "\n",
        "\n",
        "def strip_html_tags(text):\n",
        "    \"\"\"Удаление html tags из текста.\"\"\"\n",
        "    soup = BeautifulSoup(text, \"html.parser\")\n",
        "    stripped_text = soup.get_text(separator=\" \")\n",
        "    return stripped_text\n",
        "\n",
        "\n",
        "def get_wordnet_pos(word):\n",
        "    \"\"\"Map POS tag to first character lemmatize() accepts\"\"\"\n",
        "    tag = nltk.pos_tag([word])[0][1][0].upper()\n",
        "    tag_dict = {\"J\": wordnet.ADJ,\n",
        "                \"N\": wordnet.NOUN,\n",
        "                \"V\": wordnet.VERB,\n",
        "                \"R\": wordnet.ADV}\n",
        "    return tag_dict.get(tag, wordnet.NOUN)\n",
        "\n",
        "\n",
        "def preprocess_text(text):\n",
        "    text = strip_html_tags(text)  # удаление html tags\n",
        "    text = strip_non_alphanum(text) # заменили все небуквенные символы на пробел\n",
        "    text = strip_numeric(text) # удалили все цифры\n",
        "    text = remove_stopwords(text) # удалили все стоп-слова\n",
        "    # text = strip_short(text, minsize=2) # удалили короткие слова\n",
        "    word_list = list(tokenize(text, deacc=True, to_lower=True)) # токенизация, deacc - избавляет от ударений\n",
        "    word_list = [WordNetLemmatizer().lemmatize(word) for word in word_list] # лемматизация\n",
        "    return ' '.join(word for word in word_list)"
      ],
      "execution_count": null,
      "outputs": [
        {
          "output_type": "stream",
          "text": [
            "[nltk_data] Downloading package wordnet to\n",
            "[nltk_data]     /Users/pavelmamaev/nltk_data...\n",
            "[nltk_data]   Package wordnet is already up-to-date!\n"
          ],
          "name": "stderr"
        }
      ]
    },
    {
      "cell_type": "markdown",
      "metadata": {
        "id": "72kLNO3zHEqB"
      },
      "source": [
        "## 🧬 Экперименты"
      ]
    },
    {
      "cell_type": "code",
      "metadata": {
        "colab": {
          "base_uri": "https://localhost:8080/"
        },
        "id": "Nzkj-zxjGPrK",
        "outputId": "81c9f66a-f035-4af1-b313-0afb90c3db34"
      },
      "source": [
        "import numpy as np\n",
        "import pandas as pd\n",
        "\n",
        "from sklearn.datasets import fetch_20newsgroups\n",
        "from sklearn.utils import shuffle\n",
        "from sklearn.feature_extraction.text import TfidfVectorizer\n",
        "from sklearn.metrics import roc_auc_score\n",
        "\n",
        "import pyod\n",
        "from pyod.models import iforest\n",
        "from pyod.models import lof\n",
        "from pyod.models import knn\n",
        "from pyod.models import copod\n",
        "\n",
        "c = 0.1  # отношение количества аномальных экземпляров к нормальным\n",
        "\n",
        "categories = [\"comp.graphics\",\n",
        "              'talk.politics.mideast',\n",
        "              \"rec.sport.hockey\",\n",
        "              \"sci.med\",\n",
        "              \"sci.space\",\n",
        "              'misc.forsale',\n",
        "              'soc.religion.christian',\n",
        "              'talk.politics.misc']\n",
        "\n",
        "experimant_cnt = 0\n",
        "all_experiments = len(categories) * (len(categories) -  1)\n",
        "auc_list_iforest = []\n",
        "auc_list_lof = []\n",
        "auc_list_knn = []\n",
        "auc_list_copod = []\n",
        "\n",
        "# Формирование словаря с категориями\n",
        "dataset = {}\n",
        "for cat in categories:\n",
        "    # Загрузка\n",
        "    dataset[cat] = fetch_20newsgroups(subset='all', categories=[cat],\n",
        "                            shuffle=True, random_state=123,\n",
        "                            remove=('headers', 'footers'), return_X_y=True)[0]\n",
        "    # Предобработка\n",
        "    dataset[cat] = [preprocess_text(text) for text in dataset[cat]]\n",
        "\n",
        "# Перебираем пары категорий\n",
        "for i in range(len(categories)):\n",
        "    for j in range(len(categories)):\n",
        "        if i == j:\n",
        "            continue\n",
        "\n",
        "        c1 = categories[i]\n",
        "        c2 = categories[j]\n",
        "\n",
        "        experimant_cnt += 1\n",
        "\n",
        "        # Формирование нормальной и аномальной выборок\n",
        "        normal_data = dataset[c1]\n",
        "        anomal_data = dataset[c2][:min(int(c * len(normal_data)) + 1, len(dataset[c2]))]\n",
        "        all_data = normal_data + anomal_data\n",
        "\n",
        "        # TF-IDF векторизация\n",
        "        vectorizer = TfidfVectorizer()\n",
        "        all_data_tf = vectorizer.fit_transform(all_data).toarray()\n",
        "\n",
        "        # Формирование выборок\n",
        "        x = all_data_tf\n",
        "        y = np.array([False] * len(normal_data) + [True] * len(anomal_data))\n",
        "        all_data, x, y = shuffle(all_data, x, y, random_state=123)\n",
        "\n",
        "        # Задаем модели\n",
        "\n",
        "        # Isolation Forest\n",
        "        iforest_clf = iforest.IForest(\n",
        "            contamination=0.1,\n",
        "            n_estimators=3000,\n",
        "            max_samples=1.0,\n",
        "            random_state=123,\n",
        "            n_jobs=-1,\n",
        "        )\n",
        "\n",
        "        # LOF\n",
        "        lof_clf = lof.LOF(\n",
        "            contamination=0.1,\n",
        "            n_neighbors=2,\n",
        "            metric='canberra',\n",
        "            n_jobs=-1,\n",
        "        )\n",
        "\n",
        "        #kNN\n",
        "        knn_clf = knn.KNN(\n",
        "            contamination=0.1,\n",
        "            n_neighbors=2,\n",
        "            method='mean',\n",
        "            metric='l1',\n",
        "            n_jobs=-1,\n",
        "        )\n",
        "\n",
        "        # COPOD\n",
        "        copod_clf = copod.COPOD(contamination=0.1)\n",
        "\n",
        "        # Считаем метрику ROC AUC\n",
        "        auc_iforest = iforest_clf.fit_predict_score(x, y)\n",
        "        auc_lof = lof_clf.fit_predict_score(x, y)\n",
        "        auc_knn = knn_clf.fit_predict_score(x, y)\n",
        "        auc_copod = copod_clf.fit_predict_score(x, y)\n",
        "\n",
        "        # Добавляем в списки\n",
        "        auc_list_iforest.append(auc_iforest)\n",
        "        auc_list_lof.append(auc_lof)\n",
        "        auc_list_knn.append(auc_knn)\n",
        "        auc_list_copod.append(auc_copod)\n",
        "\n",
        "        # Вывод результатов\n",
        "        print(\"-\" * 50)\n",
        "        print(\"Эксперимент №{}/{}  с normal = {}, anomal = {}\".format(\n",
        "            experimant_cnt, all_experiments, c1, c2))\n",
        "        print(\"auc_iforest = \", auc_iforest)\n",
        "        print(\"auc_lof = \", auc_lof)\n",
        "        print(\"auc_knn = \", auc_knn)\n",
        "        print(\"auc_copod = \", auc_copod)\n",
        "        print(\"-\" * 50)\n",
        "\n",
        "\n",
        "auc_np = np.array(auc_list_iforest)\n",
        "print(\"*\" * 50)\n",
        "print(\"IFOREST Медиана auc = {}\".format(np.median(auc_np)))\n",
        "print(\"IFOREST Среднее auc = {}\".format(np.mean(auc_np)))\n",
        "print(\"*\" * 50)\n",
        "\n",
        "auc_np = np.array(auc_list_lof)\n",
        "print(\"*\" * 50)\n",
        "print(\"LOF Медиана auc = {}\".format(np.median(auc_np)))\n",
        "print(\"LOF Среднее auc = {}\".format(np.mean(auc_np)))\n",
        "print(\"*\" * 50)\n",
        "\n",
        "auc_np = np.array(auc_list_knn)\n",
        "print(\"*\" * 50)\n",
        "print(\"kNN Медиана auc = {}\".format(np.median(auc_np)))\n",
        "print(\"kNN Среднее auc = {}\".format(np.mean(auc_np)))\n",
        "print(\"*\" * 50)\n",
        "\n",
        "auc_np = np.array(auc_list_copod)\n",
        "print(\"*\" * 50)\n",
        "print(\"COPOD Медиана auc = {}\".format(np.median(auc_np)))\n",
        "print(\"COPOD Среднее auc = {}\".format(np.mean(auc_np)))\n",
        "print(\"*\" * 50)"
      ],
      "execution_count": null,
      "outputs": [
        {
          "output_type": "stream",
          "text": [
            "/Users/pavelmamaev/Desktop/SAIT_DIPLOM/venv/lib/python3.8/site-packages/sklearn/utils/deprecation.py:86: FutureWarning: Function fit_predict_score is deprecated\n",
            "  warnings.warn(msg, category=FutureWarning)\n"
          ],
          "name": "stderr"
        },
        {
          "output_type": "stream",
          "text": [
            "roc_auc_score: 0.8136732596430144\n"
          ],
          "name": "stdout"
        },
        {
          "output_type": "stream",
          "text": [
            "/Users/pavelmamaev/Desktop/SAIT_DIPLOM/venv/lib/python3.8/site-packages/sklearn/utils/deprecation.py:86: FutureWarning: Function fit_predict_score is deprecated\n",
            "  warnings.warn(msg, category=FutureWarning)\n"
          ],
          "name": "stderr"
        },
        {
          "output_type": "stream",
          "text": [
            "roc_auc_score: 0.7947857457474253\n"
          ],
          "name": "stdout"
        },
        {
          "output_type": "stream",
          "text": [
            "/Users/pavelmamaev/Desktop/SAIT_DIPLOM/venv/lib/python3.8/site-packages/sklearn/utils/deprecation.py:86: FutureWarning: Function fit_predict_score is deprecated\n",
            "  warnings.warn(msg, category=FutureWarning)\n"
          ],
          "name": "stderr"
        },
        {
          "output_type": "stream",
          "text": [
            "roc_auc_score: 0.7776600876733015\n"
          ],
          "name": "stdout"
        },
        {
          "output_type": "stream",
          "text": [
            "/Users/pavelmamaev/Desktop/SAIT_DIPLOM/venv/lib/python3.8/site-packages/sklearn/utils/deprecation.py:86: FutureWarning: Function fit_predict_score is deprecated\n",
            "  warnings.warn(msg, category=FutureWarning)\n"
          ],
          "name": "stderr"
        },
        {
          "output_type": "stream",
          "text": [
            "roc_auc_score: 0.7831658871153806\n",
            "--------------------------------------------------\n",
            "Эксперимент №1/56  с normal = comp.graphics, anomal = talk.politics.mideast\n",
            "auc_iforest =  0.8136732596430144\n",
            "auc_lof =  0.7947857457474253\n",
            "auc_knn =  0.7776600876733015\n",
            "auc_copod =  0.7831658871153806\n",
            "--------------------------------------------------\n"
          ],
          "name": "stdout"
        },
        {
          "output_type": "stream",
          "text": [
            "/Users/pavelmamaev/Desktop/SAIT_DIPLOM/venv/lib/python3.8/site-packages/sklearn/utils/deprecation.py:86: FutureWarning: Function fit_predict_score is deprecated\n",
            "  warnings.warn(msg, category=FutureWarning)\n"
          ],
          "name": "stderr"
        },
        {
          "output_type": "stream",
          "text": [
            "roc_auc_score: 0.766103152463452\n"
          ],
          "name": "stdout"
        },
        {
          "output_type": "stream",
          "text": [
            "/Users/pavelmamaev/Desktop/SAIT_DIPLOM/venv/lib/python3.8/site-packages/sklearn/utils/deprecation.py:86: FutureWarning: Function fit_predict_score is deprecated\n",
            "  warnings.warn(msg, category=FutureWarning)\n"
          ],
          "name": "stderr"
        },
        {
          "output_type": "stream",
          "text": [
            "roc_auc_score: 0.7812309918828784\n"
          ],
          "name": "stdout"
        },
        {
          "output_type": "stream",
          "text": [
            "/Users/pavelmamaev/Desktop/SAIT_DIPLOM/venv/lib/python3.8/site-packages/sklearn/utils/deprecation.py:86: FutureWarning: Function fit_predict_score is deprecated\n",
            "  warnings.warn(msg, category=FutureWarning)\n"
          ],
          "name": "stderr"
        },
        {
          "output_type": "stream",
          "text": [
            "roc_auc_score: 0.6973383392411435\n"
          ],
          "name": "stdout"
        },
        {
          "output_type": "stream",
          "text": [
            "/Users/pavelmamaev/Desktop/SAIT_DIPLOM/venv/lib/python3.8/site-packages/sklearn/utils/deprecation.py:86: FutureWarning: Function fit_predict_score is deprecated\n",
            "  warnings.warn(msg, category=FutureWarning)\n"
          ],
          "name": "stderr"
        },
        {
          "output_type": "stream",
          "text": [
            "roc_auc_score: 0.7041026071271262\n",
            "--------------------------------------------------\n",
            "Эксперимент №2/56  с normal = comp.graphics, anomal = rec.sport.hockey\n",
            "auc_iforest =  0.766103152463452\n",
            "auc_lof =  0.7812309918828784\n",
            "auc_knn =  0.6973383392411435\n",
            "auc_copod =  0.7041026071271262\n",
            "--------------------------------------------------\n"
          ],
          "name": "stdout"
        },
        {
          "output_type": "stream",
          "text": [
            "/Users/pavelmamaev/Desktop/SAIT_DIPLOM/venv/lib/python3.8/site-packages/sklearn/utils/deprecation.py:86: FutureWarning: Function fit_predict_score is deprecated\n",
            "  warnings.warn(msg, category=FutureWarning)\n"
          ],
          "name": "stderr"
        },
        {
          "output_type": "stream",
          "text": [
            "roc_auc_score: 0.7486314155672545\n"
          ],
          "name": "stdout"
        },
        {
          "output_type": "stream",
          "text": [
            "/Users/pavelmamaev/Desktop/SAIT_DIPLOM/venv/lib/python3.8/site-packages/sklearn/utils/deprecation.py:86: FutureWarning: Function fit_predict_score is deprecated\n",
            "  warnings.warn(msg, category=FutureWarning)\n"
          ],
          "name": "stderr"
        },
        {
          "output_type": "stream",
          "text": [
            "roc_auc_score: 0.7653638022526585\n"
          ],
          "name": "stdout"
        },
        {
          "output_type": "stream",
          "text": [
            "/Users/pavelmamaev/Desktop/SAIT_DIPLOM/venv/lib/python3.8/site-packages/sklearn/utils/deprecation.py:86: FutureWarning: Function fit_predict_score is deprecated\n",
            "  warnings.warn(msg, category=FutureWarning)\n"
          ],
          "name": "stderr"
        },
        {
          "output_type": "stream",
          "text": [
            "roc_auc_score: 0.7046007508861716\n"
          ],
          "name": "stdout"
        },
        {
          "output_type": "stream",
          "text": [
            "/Users/pavelmamaev/Desktop/SAIT_DIPLOM/venv/lib/python3.8/site-packages/sklearn/utils/deprecation.py:86: FutureWarning: Function fit_predict_score is deprecated\n",
            "  warnings.warn(msg, category=FutureWarning)\n"
          ],
          "name": "stderr"
        },
        {
          "output_type": "stream",
          "text": [
            "roc_auc_score: 0.6937884095056317\n",
            "--------------------------------------------------\n",
            "Эксперимент №3/56  с normal = comp.graphics, anomal = sci.med\n",
            "auc_iforest =  0.7486314155672545\n",
            "auc_lof =  0.7653638022526585\n",
            "auc_knn =  0.7046007508861716\n",
            "auc_copod =  0.6937884095056317\n",
            "--------------------------------------------------\n"
          ],
          "name": "stdout"
        },
        {
          "output_type": "stream",
          "text": [
            "/Users/pavelmamaev/Desktop/SAIT_DIPLOM/venv/lib/python3.8/site-packages/sklearn/utils/deprecation.py:86: FutureWarning: Function fit_predict_score is deprecated\n",
            "  warnings.warn(msg, category=FutureWarning)\n"
          ],
          "name": "stderr"
        },
        {
          "output_type": "stream",
          "text": [
            "roc_auc_score: 0.7454537827463976\n"
          ],
          "name": "stdout"
        },
        {
          "output_type": "stream",
          "text": [
            "/Users/pavelmamaev/Desktop/SAIT_DIPLOM/venv/lib/python3.8/site-packages/sklearn/utils/deprecation.py:86: FutureWarning: Function fit_predict_score is deprecated\n",
            "  warnings.warn(msg, category=FutureWarning)\n"
          ],
          "name": "stderr"
        },
        {
          "output_type": "stream",
          "text": [
            "roc_auc_score: 0.7821800868343226\n"
          ],
          "name": "stdout"
        },
        {
          "output_type": "stream",
          "text": [
            "/Users/pavelmamaev/Desktop/SAIT_DIPLOM/venv/lib/python3.8/site-packages/sklearn/utils/deprecation.py:86: FutureWarning: Function fit_predict_score is deprecated\n",
            "  warnings.warn(msg, category=FutureWarning)\n"
          ],
          "name": "stderr"
        },
        {
          "output_type": "stream",
          "text": [
            "roc_auc_score: 0.7069761100740398\n"
          ],
          "name": "stdout"
        },
        {
          "output_type": "stream",
          "text": [
            "/Users/pavelmamaev/Desktop/SAIT_DIPLOM/venv/lib/python3.8/site-packages/sklearn/utils/deprecation.py:86: FutureWarning: Function fit_predict_score is deprecated\n",
            "  warnings.warn(msg, category=FutureWarning)\n"
          ],
          "name": "stderr"
        },
        {
          "output_type": "stream",
          "text": [
            "roc_auc_score: 0.6919688738804874\n",
            "--------------------------------------------------\n",
            "Эксперимент №4/56  с normal = comp.graphics, anomal = sci.space\n",
            "auc_iforest =  0.7454537827463976\n",
            "auc_lof =  0.7821800868343226\n",
            "auc_knn =  0.7069761100740398\n",
            "auc_copod =  0.6919688738804874\n",
            "--------------------------------------------------\n"
          ],
          "name": "stdout"
        },
        {
          "output_type": "stream",
          "text": [
            "/Users/pavelmamaev/Desktop/SAIT_DIPLOM/venv/lib/python3.8/site-packages/sklearn/utils/deprecation.py:86: FutureWarning: Function fit_predict_score is deprecated\n",
            "  warnings.warn(msg, category=FutureWarning)\n"
          ],
          "name": "stderr"
        },
        {
          "output_type": "stream",
          "text": [
            "roc_auc_score: 0.5111059840174508\n"
          ],
          "name": "stdout"
        },
        {
          "output_type": "stream",
          "text": [
            "/Users/pavelmamaev/Desktop/SAIT_DIPLOM/venv/lib/python3.8/site-packages/sklearn/utils/deprecation.py:86: FutureWarning: Function fit_predict_score is deprecated\n",
            "  warnings.warn(msg, category=FutureWarning)\n"
          ],
          "name": "stderr"
        },
        {
          "output_type": "stream",
          "text": [
            "roc_auc_score: 0.6180233655641085\n"
          ],
          "name": "stdout"
        },
        {
          "output_type": "stream",
          "text": [
            "/Users/pavelmamaev/Desktop/SAIT_DIPLOM/venv/lib/python3.8/site-packages/sklearn/utils/deprecation.py:86: FutureWarning: Function fit_predict_score is deprecated\n",
            "  warnings.warn(msg, category=FutureWarning)\n"
          ],
          "name": "stderr"
        },
        {
          "output_type": "stream",
          "text": [
            "roc_auc_score: 0.48944459592675715\n"
          ],
          "name": "stdout"
        },
        {
          "output_type": "stream",
          "text": [
            "/Users/pavelmamaev/Desktop/SAIT_DIPLOM/venv/lib/python3.8/site-packages/sklearn/utils/deprecation.py:86: FutureWarning: Function fit_predict_score is deprecated\n",
            "  warnings.warn(msg, category=FutureWarning)\n"
          ],
          "name": "stderr"
        },
        {
          "output_type": "stream",
          "text": [
            "roc_auc_score: 0.4696709105019192\n",
            "--------------------------------------------------\n",
            "Эксперимент №5/56  с normal = comp.graphics, anomal = misc.forsale\n",
            "auc_iforest =  0.5111059840174508\n",
            "auc_lof =  0.6180233655641085\n",
            "auc_knn =  0.48944459592675715\n",
            "auc_copod =  0.4696709105019192\n",
            "--------------------------------------------------\n"
          ],
          "name": "stdout"
        },
        {
          "output_type": "stream",
          "text": [
            "/Users/pavelmamaev/Desktop/SAIT_DIPLOM/venv/lib/python3.8/site-packages/sklearn/utils/deprecation.py:86: FutureWarning: Function fit_predict_score is deprecated\n",
            "  warnings.warn(msg, category=FutureWarning)\n"
          ],
          "name": "stderr"
        },
        {
          "output_type": "stream",
          "text": [
            "roc_auc_score: 0.7796212009983849\n"
          ],
          "name": "stdout"
        },
        {
          "output_type": "stream",
          "text": [
            "/Users/pavelmamaev/Desktop/SAIT_DIPLOM/venv/lib/python3.8/site-packages/sklearn/utils/deprecation.py:86: FutureWarning: Function fit_predict_score is deprecated\n",
            "  warnings.warn(msg, category=FutureWarning)\n"
          ],
          "name": "stderr"
        },
        {
          "output_type": "stream",
          "text": [
            "roc_auc_score: 0.7951580426620803\n"
          ],
          "name": "stdout"
        },
        {
          "output_type": "stream",
          "text": [
            "/Users/pavelmamaev/Desktop/SAIT_DIPLOM/venv/lib/python3.8/site-packages/sklearn/utils/deprecation.py:86: FutureWarning: Function fit_predict_score is deprecated\n",
            "  warnings.warn(msg, category=FutureWarning)\n"
          ],
          "name": "stderr"
        },
        {
          "output_type": "stream",
          "text": [
            "roc_auc_score: 0.7260523942362145\n"
          ],
          "name": "stdout"
        },
        {
          "output_type": "stream",
          "text": [
            "/Users/pavelmamaev/Desktop/SAIT_DIPLOM/venv/lib/python3.8/site-packages/sklearn/utils/deprecation.py:86: FutureWarning: Function fit_predict_score is deprecated\n",
            "  warnings.warn(msg, category=FutureWarning)\n"
          ],
          "name": "stderr"
        },
        {
          "output_type": "stream",
          "text": [
            "roc_auc_score: 0.7265557816137761\n",
            "--------------------------------------------------\n",
            "Эксперимент №6/56  с normal = comp.graphics, anomal = soc.religion.christian\n",
            "auc_iforest =  0.7796212009983849\n",
            "auc_lof =  0.7951580426620803\n",
            "auc_knn =  0.7260523942362145\n",
            "auc_copod =  0.7265557816137761\n",
            "--------------------------------------------------\n"
          ],
          "name": "stdout"
        },
        {
          "output_type": "stream",
          "text": [
            "/Users/pavelmamaev/Desktop/SAIT_DIPLOM/venv/lib/python3.8/site-packages/sklearn/utils/deprecation.py:86: FutureWarning: Function fit_predict_score is deprecated\n",
            "  warnings.warn(msg, category=FutureWarning)\n"
          ],
          "name": "stderr"
        },
        {
          "output_type": "stream",
          "text": [
            "roc_auc_score: 0.8422300060825973\n"
          ],
          "name": "stdout"
        },
        {
          "output_type": "stream",
          "text": [
            "/Users/pavelmamaev/Desktop/SAIT_DIPLOM/venv/lib/python3.8/site-packages/sklearn/utils/deprecation.py:86: FutureWarning: Function fit_predict_score is deprecated\n",
            "  warnings.warn(msg, category=FutureWarning)\n"
          ],
          "name": "stderr"
        },
        {
          "output_type": "stream",
          "text": [
            "roc_auc_score: 0.8338821654047025\n"
          ],
          "name": "stdout"
        },
        {
          "output_type": "stream",
          "text": [
            "/Users/pavelmamaev/Desktop/SAIT_DIPLOM/venv/lib/python3.8/site-packages/sklearn/utils/deprecation.py:86: FutureWarning: Function fit_predict_score is deprecated\n",
            "  warnings.warn(msg, category=FutureWarning)\n"
          ],
          "name": "stderr"
        },
        {
          "output_type": "stream",
          "text": [
            "roc_auc_score: 0.8147953940054953\n"
          ],
          "name": "stdout"
        },
        {
          "output_type": "stream",
          "text": [
            "/Users/pavelmamaev/Desktop/SAIT_DIPLOM/venv/lib/python3.8/site-packages/sklearn/utils/deprecation.py:86: FutureWarning: Function fit_predict_score is deprecated\n",
            "  warnings.warn(msg, category=FutureWarning)\n"
          ],
          "name": "stderr"
        },
        {
          "output_type": "stream",
          "text": [
            "roc_auc_score: 0.8061539106906894\n",
            "--------------------------------------------------\n",
            "Эксперимент №7/56  с normal = comp.graphics, anomal = talk.politics.misc\n",
            "auc_iforest =  0.8422300060825973\n",
            "auc_lof =  0.8338821654047025\n",
            "auc_knn =  0.8147953940054953\n",
            "auc_copod =  0.8061539106906894\n",
            "--------------------------------------------------\n"
          ],
          "name": "stdout"
        },
        {
          "output_type": "stream",
          "text": [
            "/Users/pavelmamaev/Desktop/SAIT_DIPLOM/venv/lib/python3.8/site-packages/sklearn/utils/deprecation.py:86: FutureWarning: Function fit_predict_score is deprecated\n",
            "  warnings.warn(msg, category=FutureWarning)\n"
          ],
          "name": "stderr"
        },
        {
          "output_type": "stream",
          "text": [
            "roc_auc_score: 0.31520716685330347\n"
          ],
          "name": "stdout"
        },
        {
          "output_type": "stream",
          "text": [
            "/Users/pavelmamaev/Desktop/SAIT_DIPLOM/venv/lib/python3.8/site-packages/sklearn/utils/deprecation.py:86: FutureWarning: Function fit_predict_score is deprecated\n",
            "  warnings.warn(msg, category=FutureWarning)\n"
          ],
          "name": "stderr"
        },
        {
          "output_type": "stream",
          "text": [
            "roc_auc_score: 0.514384098544233\n"
          ],
          "name": "stdout"
        },
        {
          "output_type": "stream",
          "text": [
            "/Users/pavelmamaev/Desktop/SAIT_DIPLOM/venv/lib/python3.8/site-packages/sklearn/utils/deprecation.py:86: FutureWarning: Function fit_predict_score is deprecated\n",
            "  warnings.warn(msg, category=FutureWarning)\n"
          ],
          "name": "stderr"
        },
        {
          "output_type": "stream",
          "text": [
            "roc_auc_score: 0.347043673012318\n"
          ],
          "name": "stdout"
        },
        {
          "output_type": "stream",
          "text": [
            "/Users/pavelmamaev/Desktop/SAIT_DIPLOM/venv/lib/python3.8/site-packages/sklearn/utils/deprecation.py:86: FutureWarning: Function fit_predict_score is deprecated\n",
            "  warnings.warn(msg, category=FutureWarning)\n"
          ],
          "name": "stderr"
        },
        {
          "output_type": "stream",
          "text": [
            "roc_auc_score: 0.25528555431131017\n",
            "--------------------------------------------------\n",
            "Эксперимент №8/56  с normal = talk.politics.mideast, anomal = comp.graphics\n",
            "auc_iforest =  0.31520716685330347\n",
            "auc_lof =  0.514384098544233\n",
            "auc_knn =  0.347043673012318\n",
            "auc_copod =  0.25528555431131017\n",
            "--------------------------------------------------\n"
          ],
          "name": "stdout"
        },
        {
          "output_type": "stream",
          "text": [
            "/Users/pavelmamaev/Desktop/SAIT_DIPLOM/venv/lib/python3.8/site-packages/sklearn/utils/deprecation.py:86: FutureWarning: Function fit_predict_score is deprecated\n",
            "  warnings.warn(msg, category=FutureWarning)\n"
          ],
          "name": "stderr"
        },
        {
          "output_type": "stream",
          "text": [
            "roc_auc_score: 0.4676707726763718\n"
          ],
          "name": "stdout"
        },
        {
          "output_type": "stream",
          "text": [
            "/Users/pavelmamaev/Desktop/SAIT_DIPLOM/venv/lib/python3.8/site-packages/sklearn/utils/deprecation.py:86: FutureWarning: Function fit_predict_score is deprecated\n",
            "  warnings.warn(msg, category=FutureWarning)\n"
          ],
          "name": "stderr"
        },
        {
          "output_type": "stream",
          "text": [
            "roc_auc_score: 0.6288857782754759\n"
          ],
          "name": "stdout"
        },
        {
          "output_type": "stream",
          "text": [
            "/Users/pavelmamaev/Desktop/SAIT_DIPLOM/venv/lib/python3.8/site-packages/sklearn/utils/deprecation.py:86: FutureWarning: Function fit_predict_score is deprecated\n",
            "  warnings.warn(msg, category=FutureWarning)\n"
          ],
          "name": "stderr"
        },
        {
          "output_type": "stream",
          "text": [
            "roc_auc_score: 0.48106382978723405\n"
          ],
          "name": "stdout"
        },
        {
          "output_type": "stream",
          "text": [
            "/Users/pavelmamaev/Desktop/SAIT_DIPLOM/venv/lib/python3.8/site-packages/sklearn/utils/deprecation.py:86: FutureWarning: Function fit_predict_score is deprecated\n",
            "  warnings.warn(msg, category=FutureWarning)\n"
          ],
          "name": "stderr"
        },
        {
          "output_type": "stream",
          "text": [
            "roc_auc_score: 0.3937178051511758\n",
            "--------------------------------------------------\n",
            "Эксперимент №9/56  с normal = talk.politics.mideast, anomal = rec.sport.hockey\n",
            "auc_iforest =  0.4676707726763718\n",
            "auc_lof =  0.6288857782754759\n",
            "auc_knn =  0.48106382978723405\n",
            "auc_copod =  0.3937178051511758\n",
            "--------------------------------------------------\n"
          ],
          "name": "stdout"
        },
        {
          "output_type": "stream",
          "text": [
            "/Users/pavelmamaev/Desktop/SAIT_DIPLOM/venv/lib/python3.8/site-packages/sklearn/utils/deprecation.py:86: FutureWarning: Function fit_predict_score is deprecated\n",
            "  warnings.warn(msg, category=FutureWarning)\n"
          ],
          "name": "stderr"
        },
        {
          "output_type": "stream",
          "text": [
            "roc_auc_score: 0.47166853303471445\n"
          ],
          "name": "stdout"
        },
        {
          "output_type": "stream",
          "text": [
            "/Users/pavelmamaev/Desktop/SAIT_DIPLOM/venv/lib/python3.8/site-packages/sklearn/utils/deprecation.py:86: FutureWarning: Function fit_predict_score is deprecated\n",
            "  warnings.warn(msg, category=FutureWarning)\n"
          ],
          "name": "stderr"
        },
        {
          "output_type": "stream",
          "text": [
            "roc_auc_score: 0.6279955207166852\n"
          ],
          "name": "stdout"
        },
        {
          "output_type": "stream",
          "text": [
            "/Users/pavelmamaev/Desktop/SAIT_DIPLOM/venv/lib/python3.8/site-packages/sklearn/utils/deprecation.py:86: FutureWarning: Function fit_predict_score is deprecated\n",
            "  warnings.warn(msg, category=FutureWarning)\n"
          ],
          "name": "stderr"
        },
        {
          "output_type": "stream",
          "text": [
            "roc_auc_score: 0.48507278835386336\n"
          ],
          "name": "stdout"
        },
        {
          "output_type": "stream",
          "text": [
            "/Users/pavelmamaev/Desktop/SAIT_DIPLOM/venv/lib/python3.8/site-packages/sklearn/utils/deprecation.py:86: FutureWarning: Function fit_predict_score is deprecated\n",
            "  warnings.warn(msg, category=FutureWarning)\n"
          ],
          "name": "stderr"
        },
        {
          "output_type": "stream",
          "text": [
            "roc_auc_score: 0.3981858902575588\n",
            "--------------------------------------------------\n",
            "Эксперимент №10/56  с normal = talk.politics.mideast, anomal = sci.med\n",
            "auc_iforest =  0.47166853303471445\n",
            "auc_lof =  0.6279955207166852\n",
            "auc_knn =  0.48507278835386336\n",
            "auc_copod =  0.3981858902575588\n",
            "--------------------------------------------------\n"
          ],
          "name": "stdout"
        },
        {
          "output_type": "stream",
          "text": [
            "/Users/pavelmamaev/Desktop/SAIT_DIPLOM/venv/lib/python3.8/site-packages/sklearn/utils/deprecation.py:86: FutureWarning: Function fit_predict_score is deprecated\n",
            "  warnings.warn(msg, category=FutureWarning)\n"
          ],
          "name": "stderr"
        },
        {
          "output_type": "stream",
          "text": [
            "roc_auc_score: 0.4862486002239642\n"
          ],
          "name": "stdout"
        },
        {
          "output_type": "stream",
          "text": [
            "/Users/pavelmamaev/Desktop/SAIT_DIPLOM/venv/lib/python3.8/site-packages/sklearn/utils/deprecation.py:86: FutureWarning: Function fit_predict_score is deprecated\n",
            "  warnings.warn(msg, category=FutureWarning)\n"
          ],
          "name": "stderr"
        },
        {
          "output_type": "stream",
          "text": [
            "roc_auc_score: 0.6325531914893616\n"
          ],
          "name": "stdout"
        },
        {
          "output_type": "stream",
          "text": [
            "/Users/pavelmamaev/Desktop/SAIT_DIPLOM/venv/lib/python3.8/site-packages/sklearn/utils/deprecation.py:86: FutureWarning: Function fit_predict_score is deprecated\n",
            "  warnings.warn(msg, category=FutureWarning)\n"
          ],
          "name": "stderr"
        },
        {
          "output_type": "stream",
          "text": [
            "roc_auc_score: 0.5021724524076149\n"
          ],
          "name": "stdout"
        },
        {
          "output_type": "stream",
          "text": [
            "/Users/pavelmamaev/Desktop/SAIT_DIPLOM/venv/lib/python3.8/site-packages/sklearn/utils/deprecation.py:86: FutureWarning: Function fit_predict_score is deprecated\n",
            "  warnings.warn(msg, category=FutureWarning)\n"
          ],
          "name": "stderr"
        },
        {
          "output_type": "stream",
          "text": [
            "roc_auc_score: 0.39258678611422176\n",
            "--------------------------------------------------\n",
            "Эксперимент №11/56  с normal = talk.politics.mideast, anomal = sci.space\n",
            "auc_iforest =  0.4862486002239642\n",
            "auc_lof =  0.6325531914893616\n",
            "auc_knn =  0.5021724524076149\n",
            "auc_copod =  0.39258678611422176\n",
            "--------------------------------------------------\n"
          ],
          "name": "stdout"
        },
        {
          "output_type": "stream",
          "text": [
            "/Users/pavelmamaev/Desktop/SAIT_DIPLOM/venv/lib/python3.8/site-packages/sklearn/utils/deprecation.py:86: FutureWarning: Function fit_predict_score is deprecated\n",
            "  warnings.warn(msg, category=FutureWarning)\n"
          ],
          "name": "stderr"
        },
        {
          "output_type": "stream",
          "text": [
            "roc_auc_score: 0.2849608062709966\n"
          ],
          "name": "stdout"
        },
        {
          "output_type": "stream",
          "text": [
            "/Users/pavelmamaev/Desktop/SAIT_DIPLOM/venv/lib/python3.8/site-packages/sklearn/utils/deprecation.py:86: FutureWarning: Function fit_predict_score is deprecated\n",
            "  warnings.warn(msg, category=FutureWarning)\n"
          ],
          "name": "stderr"
        },
        {
          "output_type": "stream",
          "text": [
            "roc_auc_score: 0.5008230683090705\n"
          ],
          "name": "stdout"
        },
        {
          "output_type": "stream",
          "text": [
            "/Users/pavelmamaev/Desktop/SAIT_DIPLOM/venv/lib/python3.8/site-packages/sklearn/utils/deprecation.py:86: FutureWarning: Function fit_predict_score is deprecated\n",
            "  warnings.warn(msg, category=FutureWarning)\n"
          ],
          "name": "stderr"
        },
        {
          "output_type": "stream",
          "text": [
            "roc_auc_score: 0.2801119820828667\n"
          ],
          "name": "stdout"
        },
        {
          "output_type": "stream",
          "text": [
            "/Users/pavelmamaev/Desktop/SAIT_DIPLOM/venv/lib/python3.8/site-packages/sklearn/utils/deprecation.py:86: FutureWarning: Function fit_predict_score is deprecated\n",
            "  warnings.warn(msg, category=FutureWarning)\n"
          ],
          "name": "stderr"
        },
        {
          "output_type": "stream",
          "text": [
            "roc_auc_score: 0.22734602463605824\n",
            "--------------------------------------------------\n",
            "Эксперимент №12/56  с normal = talk.politics.mideast, anomal = misc.forsale\n",
            "auc_iforest =  0.2849608062709966\n",
            "auc_lof =  0.5008230683090705\n",
            "auc_knn =  0.2801119820828667\n",
            "auc_copod =  0.22734602463605824\n",
            "--------------------------------------------------\n"
          ],
          "name": "stdout"
        },
        {
          "output_type": "stream",
          "text": [
            "/Users/pavelmamaev/Desktop/SAIT_DIPLOM/venv/lib/python3.8/site-packages/sklearn/utils/deprecation.py:86: FutureWarning: Function fit_predict_score is deprecated\n",
            "  warnings.warn(msg, category=FutureWarning)\n"
          ],
          "name": "stderr"
        },
        {
          "output_type": "stream",
          "text": [
            "roc_auc_score: 0.5002687569988802\n"
          ],
          "name": "stdout"
        },
        {
          "output_type": "stream",
          "text": [
            "/Users/pavelmamaev/Desktop/SAIT_DIPLOM/venv/lib/python3.8/site-packages/sklearn/utils/deprecation.py:86: FutureWarning: Function fit_predict_score is deprecated\n",
            "  warnings.warn(msg, category=FutureWarning)\n"
          ],
          "name": "stderr"
        },
        {
          "output_type": "stream",
          "text": [
            "roc_auc_score: 0.6649664053751401\n"
          ],
          "name": "stdout"
        },
        {
          "output_type": "stream",
          "text": [
            "/Users/pavelmamaev/Desktop/SAIT_DIPLOM/venv/lib/python3.8/site-packages/sklearn/utils/deprecation.py:86: FutureWarning: Function fit_predict_score is deprecated\n",
            "  warnings.warn(msg, category=FutureWarning)\n"
          ],
          "name": "stderr"
        },
        {
          "output_type": "stream",
          "text": [
            "roc_auc_score: 0.5360582306830907\n"
          ],
          "name": "stdout"
        },
        {
          "output_type": "stream",
          "text": [
            "/Users/pavelmamaev/Desktop/SAIT_DIPLOM/venv/lib/python3.8/site-packages/sklearn/utils/deprecation.py:86: FutureWarning: Function fit_predict_score is deprecated\n",
            "  warnings.warn(msg, category=FutureWarning)\n"
          ],
          "name": "stderr"
        },
        {
          "output_type": "stream",
          "text": [
            "roc_auc_score: 0.4476931690929451\n",
            "--------------------------------------------------\n",
            "Эксперимент №13/56  с normal = talk.politics.mideast, anomal = soc.religion.christian\n",
            "auc_iforest =  0.5002687569988802\n",
            "auc_lof =  0.6649664053751401\n",
            "auc_knn =  0.5360582306830907\n",
            "auc_copod =  0.4476931690929451\n",
            "--------------------------------------------------\n"
          ],
          "name": "stdout"
        },
        {
          "output_type": "stream",
          "text": [
            "/Users/pavelmamaev/Desktop/SAIT_DIPLOM/venv/lib/python3.8/site-packages/sklearn/utils/deprecation.py:86: FutureWarning: Function fit_predict_score is deprecated\n",
            "  warnings.warn(msg, category=FutureWarning)\n"
          ],
          "name": "stderr"
        },
        {
          "output_type": "stream",
          "text": [
            "roc_auc_score: 0.5796192609182531\n"
          ],
          "name": "stdout"
        },
        {
          "output_type": "stream",
          "text": [
            "/Users/pavelmamaev/Desktop/SAIT_DIPLOM/venv/lib/python3.8/site-packages/sklearn/utils/deprecation.py:86: FutureWarning: Function fit_predict_score is deprecated\n",
            "  warnings.warn(msg, category=FutureWarning)\n"
          ],
          "name": "stderr"
        },
        {
          "output_type": "stream",
          "text": [
            "roc_auc_score: 0.7196752519596865\n"
          ],
          "name": "stdout"
        },
        {
          "output_type": "stream",
          "text": [
            "/Users/pavelmamaev/Desktop/SAIT_DIPLOM/venv/lib/python3.8/site-packages/sklearn/utils/deprecation.py:86: FutureWarning: Function fit_predict_score is deprecated\n",
            "  warnings.warn(msg, category=FutureWarning)\n"
          ],
          "name": "stderr"
        },
        {
          "output_type": "stream",
          "text": [
            "roc_auc_score: 0.6232698768197088\n"
          ],
          "name": "stdout"
        },
        {
          "output_type": "stream",
          "text": [
            "/Users/pavelmamaev/Desktop/SAIT_DIPLOM/venv/lib/python3.8/site-packages/sklearn/utils/deprecation.py:86: FutureWarning: Function fit_predict_score is deprecated\n",
            "  warnings.warn(msg, category=FutureWarning)\n"
          ],
          "name": "stderr"
        },
        {
          "output_type": "stream",
          "text": [
            "roc_auc_score: 0.5361366181410975\n",
            "--------------------------------------------------\n",
            "Эксперимент №14/56  с normal = talk.politics.mideast, anomal = talk.politics.misc\n",
            "auc_iforest =  0.5796192609182531\n",
            "auc_lof =  0.7196752519596865\n",
            "auc_knn =  0.6232698768197088\n",
            "auc_copod =  0.5361366181410975\n",
            "--------------------------------------------------\n"
          ],
          "name": "stdout"
        },
        {
          "output_type": "stream",
          "text": [
            "/Users/pavelmamaev/Desktop/SAIT_DIPLOM/venv/lib/python3.8/site-packages/sklearn/utils/deprecation.py:86: FutureWarning: Function fit_predict_score is deprecated\n",
            "  warnings.warn(msg, category=FutureWarning)\n"
          ],
          "name": "stderr"
        },
        {
          "output_type": "stream",
          "text": [
            "roc_auc_score: 0.47032032032032034\n"
          ],
          "name": "stdout"
        },
        {
          "output_type": "stream",
          "text": [
            "/Users/pavelmamaev/Desktop/SAIT_DIPLOM/venv/lib/python3.8/site-packages/sklearn/utils/deprecation.py:86: FutureWarning: Function fit_predict_score is deprecated\n",
            "  warnings.warn(msg, category=FutureWarning)\n"
          ],
          "name": "stderr"
        },
        {
          "output_type": "stream",
          "text": [
            "roc_auc_score: 0.5685685685685685\n"
          ],
          "name": "stdout"
        },
        {
          "output_type": "stream",
          "text": [
            "/Users/pavelmamaev/Desktop/SAIT_DIPLOM/venv/lib/python3.8/site-packages/sklearn/utils/deprecation.py:86: FutureWarning: Function fit_predict_score is deprecated\n",
            "  warnings.warn(msg, category=FutureWarning)\n"
          ],
          "name": "stderr"
        },
        {
          "output_type": "stream",
          "text": [
            "roc_auc_score: 0.39007007007007005\n"
          ],
          "name": "stdout"
        },
        {
          "output_type": "stream",
          "text": [
            "/Users/pavelmamaev/Desktop/SAIT_DIPLOM/venv/lib/python3.8/site-packages/sklearn/utils/deprecation.py:86: FutureWarning: Function fit_predict_score is deprecated\n",
            "  warnings.warn(msg, category=FutureWarning)\n"
          ],
          "name": "stderr"
        },
        {
          "output_type": "stream",
          "text": [
            "roc_auc_score: 0.38643643643643644\n",
            "--------------------------------------------------\n",
            "Эксперимент №15/56  с normal = rec.sport.hockey, anomal = comp.graphics\n",
            "auc_iforest =  0.47032032032032034\n",
            "auc_lof =  0.5685685685685685\n",
            "auc_knn =  0.39007007007007005\n",
            "auc_copod =  0.38643643643643644\n",
            "--------------------------------------------------\n"
          ],
          "name": "stdout"
        },
        {
          "output_type": "stream",
          "text": [
            "/Users/pavelmamaev/Desktop/SAIT_DIPLOM/venv/lib/python3.8/site-packages/sklearn/utils/deprecation.py:86: FutureWarning: Function fit_predict_score is deprecated\n",
            "  warnings.warn(msg, category=FutureWarning)\n"
          ],
          "name": "stderr"
        },
        {
          "output_type": "stream",
          "text": [
            "roc_auc_score: 0.7711611611611611\n"
          ],
          "name": "stdout"
        },
        {
          "output_type": "stream",
          "text": [
            "/Users/pavelmamaev/Desktop/SAIT_DIPLOM/venv/lib/python3.8/site-packages/sklearn/utils/deprecation.py:86: FutureWarning: Function fit_predict_score is deprecated\n",
            "  warnings.warn(msg, category=FutureWarning)\n"
          ],
          "name": "stderr"
        },
        {
          "output_type": "stream",
          "text": [
            "roc_auc_score: 0.771961961961962\n"
          ],
          "name": "stdout"
        },
        {
          "output_type": "stream",
          "text": [
            "/Users/pavelmamaev/Desktop/SAIT_DIPLOM/venv/lib/python3.8/site-packages/sklearn/utils/deprecation.py:86: FutureWarning: Function fit_predict_score is deprecated\n",
            "  warnings.warn(msg, category=FutureWarning)\n"
          ],
          "name": "stderr"
        },
        {
          "output_type": "stream",
          "text": [
            "roc_auc_score: 0.6922022022022022\n"
          ],
          "name": "stdout"
        },
        {
          "output_type": "stream",
          "text": [
            "/Users/pavelmamaev/Desktop/SAIT_DIPLOM/venv/lib/python3.8/site-packages/sklearn/utils/deprecation.py:86: FutureWarning: Function fit_predict_score is deprecated\n",
            "  warnings.warn(msg, category=FutureWarning)\n"
          ],
          "name": "stderr"
        },
        {
          "output_type": "stream",
          "text": [
            "roc_auc_score: 0.7052452452452452\n",
            "--------------------------------------------------\n",
            "Эксперимент №16/56  с normal = rec.sport.hockey, anomal = talk.politics.mideast\n",
            "auc_iforest =  0.7711611611611611\n",
            "auc_lof =  0.771961961961962\n",
            "auc_knn =  0.6922022022022022\n",
            "auc_copod =  0.7052452452452452\n",
            "--------------------------------------------------\n"
          ],
          "name": "stdout"
        },
        {
          "output_type": "stream",
          "text": [
            "/Users/pavelmamaev/Desktop/SAIT_DIPLOM/venv/lib/python3.8/site-packages/sklearn/utils/deprecation.py:86: FutureWarning: Function fit_predict_score is deprecated\n",
            "  warnings.warn(msg, category=FutureWarning)\n"
          ],
          "name": "stderr"
        },
        {
          "output_type": "stream",
          "text": [
            "roc_auc_score: 0.67001001001001\n"
          ],
          "name": "stdout"
        },
        {
          "output_type": "stream",
          "text": [
            "/Users/pavelmamaev/Desktop/SAIT_DIPLOM/venv/lib/python3.8/site-packages/sklearn/utils/deprecation.py:86: FutureWarning: Function fit_predict_score is deprecated\n",
            "  warnings.warn(msg, category=FutureWarning)\n"
          ],
          "name": "stderr"
        },
        {
          "output_type": "stream",
          "text": [
            "roc_auc_score: 0.698008008008008\n"
          ],
          "name": "stdout"
        },
        {
          "output_type": "stream",
          "text": [
            "/Users/pavelmamaev/Desktop/SAIT_DIPLOM/venv/lib/python3.8/site-packages/sklearn/utils/deprecation.py:86: FutureWarning: Function fit_predict_score is deprecated\n",
            "  warnings.warn(msg, category=FutureWarning)\n"
          ],
          "name": "stderr"
        },
        {
          "output_type": "stream",
          "text": [
            "roc_auc_score: 0.5714014014014014\n"
          ],
          "name": "stdout"
        },
        {
          "output_type": "stream",
          "text": [
            "/Users/pavelmamaev/Desktop/SAIT_DIPLOM/venv/lib/python3.8/site-packages/sklearn/utils/deprecation.py:86: FutureWarning: Function fit_predict_score is deprecated\n",
            "  warnings.warn(msg, category=FutureWarning)\n"
          ],
          "name": "stderr"
        },
        {
          "output_type": "stream",
          "text": [
            "roc_auc_score: 0.5664064064064064\n",
            "--------------------------------------------------\n",
            "Эксперимент №17/56  с normal = rec.sport.hockey, anomal = sci.med\n",
            "auc_iforest =  0.67001001001001\n",
            "auc_lof =  0.698008008008008\n",
            "auc_knn =  0.5714014014014014\n",
            "auc_copod =  0.5664064064064064\n",
            "--------------------------------------------------\n"
          ],
          "name": "stdout"
        },
        {
          "output_type": "stream",
          "text": [
            "/Users/pavelmamaev/Desktop/SAIT_DIPLOM/venv/lib/python3.8/site-packages/sklearn/utils/deprecation.py:86: FutureWarning: Function fit_predict_score is deprecated\n",
            "  warnings.warn(msg, category=FutureWarning)\n"
          ],
          "name": "stderr"
        },
        {
          "output_type": "stream",
          "text": [
            "roc_auc_score: 0.6804004004004005\n"
          ],
          "name": "stdout"
        },
        {
          "output_type": "stream",
          "text": [
            "/Users/pavelmamaev/Desktop/SAIT_DIPLOM/venv/lib/python3.8/site-packages/sklearn/utils/deprecation.py:86: FutureWarning: Function fit_predict_score is deprecated\n",
            "  warnings.warn(msg, category=FutureWarning)\n"
          ],
          "name": "stderr"
        },
        {
          "output_type": "stream",
          "text": [
            "roc_auc_score: 0.700955955955956\n"
          ],
          "name": "stdout"
        },
        {
          "output_type": "stream",
          "text": [
            "/Users/pavelmamaev/Desktop/SAIT_DIPLOM/venv/lib/python3.8/site-packages/sklearn/utils/deprecation.py:86: FutureWarning: Function fit_predict_score is deprecated\n",
            "  warnings.warn(msg, category=FutureWarning)\n"
          ],
          "name": "stderr"
        },
        {
          "output_type": "stream",
          "text": [
            "roc_auc_score: 0.5851651651651653\n"
          ],
          "name": "stdout"
        },
        {
          "output_type": "stream",
          "text": [
            "/Users/pavelmamaev/Desktop/SAIT_DIPLOM/venv/lib/python3.8/site-packages/sklearn/utils/deprecation.py:86: FutureWarning: Function fit_predict_score is deprecated\n",
            "  warnings.warn(msg, category=FutureWarning)\n"
          ],
          "name": "stderr"
        },
        {
          "output_type": "stream",
          "text": [
            "roc_auc_score: 0.5655155155155156\n",
            "--------------------------------------------------\n",
            "Эксперимент №18/56  с normal = rec.sport.hockey, anomal = sci.space\n",
            "auc_iforest =  0.6804004004004005\n",
            "auc_lof =  0.700955955955956\n",
            "auc_knn =  0.5851651651651653\n",
            "auc_copod =  0.5655155155155156\n",
            "--------------------------------------------------\n"
          ],
          "name": "stdout"
        },
        {
          "output_type": "stream",
          "text": [
            "/Users/pavelmamaev/Desktop/SAIT_DIPLOM/venv/lib/python3.8/site-packages/sklearn/utils/deprecation.py:86: FutureWarning: Function fit_predict_score is deprecated\n",
            "  warnings.warn(msg, category=FutureWarning)\n"
          ],
          "name": "stderr"
        },
        {
          "output_type": "stream",
          "text": [
            "roc_auc_score: 0.4286386386386386\n"
          ],
          "name": "stdout"
        },
        {
          "output_type": "stream",
          "text": [
            "/Users/pavelmamaev/Desktop/SAIT_DIPLOM/venv/lib/python3.8/site-packages/sklearn/utils/deprecation.py:86: FutureWarning: Function fit_predict_score is deprecated\n",
            "  warnings.warn(msg, category=FutureWarning)\n"
          ],
          "name": "stderr"
        },
        {
          "output_type": "stream",
          "text": [
            "roc_auc_score: 0.5386136136136137\n"
          ],
          "name": "stdout"
        },
        {
          "output_type": "stream",
          "text": [
            "/Users/pavelmamaev/Desktop/SAIT_DIPLOM/venv/lib/python3.8/site-packages/sklearn/utils/deprecation.py:86: FutureWarning: Function fit_predict_score is deprecated\n",
            "  warnings.warn(msg, category=FutureWarning)\n"
          ],
          "name": "stderr"
        },
        {
          "output_type": "stream",
          "text": [
            "roc_auc_score: 0.3732332332332332\n"
          ],
          "name": "stdout"
        },
        {
          "output_type": "stream",
          "text": [
            "/Users/pavelmamaev/Desktop/SAIT_DIPLOM/venv/lib/python3.8/site-packages/sklearn/utils/deprecation.py:86: FutureWarning: Function fit_predict_score is deprecated\n",
            "  warnings.warn(msg, category=FutureWarning)\n"
          ],
          "name": "stderr"
        },
        {
          "output_type": "stream",
          "text": [
            "roc_auc_score: 0.3456756756756757\n",
            "--------------------------------------------------\n",
            "Эксперимент №19/56  с normal = rec.sport.hockey, anomal = misc.forsale\n",
            "auc_iforest =  0.4286386386386386\n",
            "auc_lof =  0.5386136136136137\n",
            "auc_knn =  0.3732332332332332\n",
            "auc_copod =  0.3456756756756757\n",
            "--------------------------------------------------\n"
          ],
          "name": "stdout"
        },
        {
          "output_type": "stream",
          "text": [
            "/Users/pavelmamaev/Desktop/SAIT_DIPLOM/venv/lib/python3.8/site-packages/sklearn/utils/deprecation.py:86: FutureWarning: Function fit_predict_score is deprecated\n",
            "  warnings.warn(msg, category=FutureWarning)\n"
          ],
          "name": "stderr"
        },
        {
          "output_type": "stream",
          "text": [
            "roc_auc_score: 0.6817917917917918\n"
          ],
          "name": "stdout"
        },
        {
          "output_type": "stream",
          "text": [
            "/Users/pavelmamaev/Desktop/SAIT_DIPLOM/venv/lib/python3.8/site-packages/sklearn/utils/deprecation.py:86: FutureWarning: Function fit_predict_score is deprecated\n",
            "  warnings.warn(msg, category=FutureWarning)\n"
          ],
          "name": "stderr"
        },
        {
          "output_type": "stream",
          "text": [
            "roc_auc_score: 0.7364514514514514\n"
          ],
          "name": "stdout"
        },
        {
          "output_type": "stream",
          "text": [
            "/Users/pavelmamaev/Desktop/SAIT_DIPLOM/venv/lib/python3.8/site-packages/sklearn/utils/deprecation.py:86: FutureWarning: Function fit_predict_score is deprecated\n",
            "  warnings.warn(msg, category=FutureWarning)\n"
          ],
          "name": "stderr"
        },
        {
          "output_type": "stream",
          "text": [
            "roc_auc_score: 0.6248148148148148\n"
          ],
          "name": "stdout"
        },
        {
          "output_type": "stream",
          "text": [
            "/Users/pavelmamaev/Desktop/SAIT_DIPLOM/venv/lib/python3.8/site-packages/sklearn/utils/deprecation.py:86: FutureWarning: Function fit_predict_score is deprecated\n",
            "  warnings.warn(msg, category=FutureWarning)\n"
          ],
          "name": "stderr"
        },
        {
          "output_type": "stream",
          "text": [
            "roc_auc_score: 0.6257857857857858\n",
            "--------------------------------------------------\n",
            "Эксперимент №20/56  с normal = rec.sport.hockey, anomal = soc.religion.christian\n",
            "auc_iforest =  0.6817917917917918\n",
            "auc_lof =  0.7364514514514514\n",
            "auc_knn =  0.6248148148148148\n",
            "auc_copod =  0.6257857857857858\n",
            "--------------------------------------------------\n"
          ],
          "name": "stdout"
        },
        {
          "output_type": "stream",
          "text": [
            "/Users/pavelmamaev/Desktop/SAIT_DIPLOM/venv/lib/python3.8/site-packages/sklearn/utils/deprecation.py:86: FutureWarning: Function fit_predict_score is deprecated\n",
            "  warnings.warn(msg, category=FutureWarning)\n"
          ],
          "name": "stderr"
        },
        {
          "output_type": "stream",
          "text": [
            "roc_auc_score: 0.7862262262262263\n"
          ],
          "name": "stdout"
        },
        {
          "output_type": "stream",
          "text": [
            "/Users/pavelmamaev/Desktop/SAIT_DIPLOM/venv/lib/python3.8/site-packages/sklearn/utils/deprecation.py:86: FutureWarning: Function fit_predict_score is deprecated\n",
            "  warnings.warn(msg, category=FutureWarning)\n"
          ],
          "name": "stderr"
        },
        {
          "output_type": "stream",
          "text": [
            "roc_auc_score: 0.7908558558558558\n"
          ],
          "name": "stdout"
        },
        {
          "output_type": "stream",
          "text": [
            "/Users/pavelmamaev/Desktop/SAIT_DIPLOM/venv/lib/python3.8/site-packages/sklearn/utils/deprecation.py:86: FutureWarning: Function fit_predict_score is deprecated\n",
            "  warnings.warn(msg, category=FutureWarning)\n"
          ],
          "name": "stderr"
        },
        {
          "output_type": "stream",
          "text": [
            "roc_auc_score: 0.7223023023023023\n"
          ],
          "name": "stdout"
        },
        {
          "output_type": "stream",
          "text": [
            "/Users/pavelmamaev/Desktop/SAIT_DIPLOM/venv/lib/python3.8/site-packages/sklearn/utils/deprecation.py:86: FutureWarning: Function fit_predict_score is deprecated\n",
            "  warnings.warn(msg, category=FutureWarning)\n"
          ],
          "name": "stderr"
        },
        {
          "output_type": "stream",
          "text": [
            "roc_auc_score: 0.7184184184184184\n",
            "--------------------------------------------------\n",
            "Эксперимент №21/56  с normal = rec.sport.hockey, anomal = talk.politics.misc\n",
            "auc_iforest =  0.7862262262262263\n",
            "auc_lof =  0.7908558558558558\n",
            "auc_knn =  0.7223023023023023\n",
            "auc_copod =  0.7184184184184184\n",
            "--------------------------------------------------\n"
          ],
          "name": "stdout"
        },
        {
          "output_type": "stream",
          "text": [
            "/Users/pavelmamaev/Desktop/SAIT_DIPLOM/venv/lib/python3.8/site-packages/sklearn/utils/deprecation.py:86: FutureWarning: Function fit_predict_score is deprecated\n",
            "  warnings.warn(msg, category=FutureWarning)\n"
          ],
          "name": "stderr"
        },
        {
          "output_type": "stream",
          "text": [
            "roc_auc_score: 0.38736363636363635\n"
          ],
          "name": "stdout"
        },
        {
          "output_type": "stream",
          "text": [
            "/Users/pavelmamaev/Desktop/SAIT_DIPLOM/venv/lib/python3.8/site-packages/sklearn/utils/deprecation.py:86: FutureWarning: Function fit_predict_score is deprecated\n",
            "  warnings.warn(msg, category=FutureWarning)\n"
          ],
          "name": "stderr"
        },
        {
          "output_type": "stream",
          "text": [
            "roc_auc_score: 0.5495606060606061\n"
          ],
          "name": "stdout"
        },
        {
          "output_type": "stream",
          "text": [
            "/Users/pavelmamaev/Desktop/SAIT_DIPLOM/venv/lib/python3.8/site-packages/sklearn/utils/deprecation.py:86: FutureWarning: Function fit_predict_score is deprecated\n",
            "  warnings.warn(msg, category=FutureWarning)\n"
          ],
          "name": "stderr"
        },
        {
          "output_type": "stream",
          "text": [
            "roc_auc_score: 0.3726666666666667\n"
          ],
          "name": "stdout"
        },
        {
          "output_type": "stream",
          "text": [
            "/Users/pavelmamaev/Desktop/SAIT_DIPLOM/venv/lib/python3.8/site-packages/sklearn/utils/deprecation.py:86: FutureWarning: Function fit_predict_score is deprecated\n",
            "  warnings.warn(msg, category=FutureWarning)\n"
          ],
          "name": "stderr"
        },
        {
          "output_type": "stream",
          "text": [
            "roc_auc_score: 0.3588686868686869\n",
            "--------------------------------------------------\n",
            "Эксперимент №22/56  с normal = sci.med, anomal = comp.graphics\n",
            "auc_iforest =  0.38736363636363635\n",
            "auc_lof =  0.5495606060606061\n",
            "auc_knn =  0.3726666666666667\n",
            "auc_copod =  0.3588686868686869\n",
            "--------------------------------------------------\n"
          ],
          "name": "stdout"
        },
        {
          "output_type": "stream",
          "text": [
            "/Users/pavelmamaev/Desktop/SAIT_DIPLOM/venv/lib/python3.8/site-packages/sklearn/utils/deprecation.py:86: FutureWarning: Function fit_predict_score is deprecated\n",
            "  warnings.warn(msg, category=FutureWarning)\n"
          ],
          "name": "stderr"
        },
        {
          "output_type": "stream",
          "text": [
            "roc_auc_score: 0.7067777777777777\n"
          ],
          "name": "stdout"
        },
        {
          "output_type": "stream",
          "text": [
            "/Users/pavelmamaev/Desktop/SAIT_DIPLOM/venv/lib/python3.8/site-packages/sklearn/utils/deprecation.py:86: FutureWarning: Function fit_predict_score is deprecated\n",
            "  warnings.warn(msg, category=FutureWarning)\n"
          ],
          "name": "stderr"
        },
        {
          "output_type": "stream",
          "text": [
            "roc_auc_score: 0.7535505050505049\n"
          ],
          "name": "stdout"
        },
        {
          "output_type": "stream",
          "text": [
            "/Users/pavelmamaev/Desktop/SAIT_DIPLOM/venv/lib/python3.8/site-packages/sklearn/utils/deprecation.py:86: FutureWarning: Function fit_predict_score is deprecated\n",
            "  warnings.warn(msg, category=FutureWarning)\n"
          ],
          "name": "stderr"
        },
        {
          "output_type": "stream",
          "text": [
            "roc_auc_score: 0.6774747474747475\n"
          ],
          "name": "stdout"
        },
        {
          "output_type": "stream",
          "text": [
            "/Users/pavelmamaev/Desktop/SAIT_DIPLOM/venv/lib/python3.8/site-packages/sklearn/utils/deprecation.py:86: FutureWarning: Function fit_predict_score is deprecated\n",
            "  warnings.warn(msg, category=FutureWarning)\n"
          ],
          "name": "stderr"
        },
        {
          "output_type": "stream",
          "text": [
            "roc_auc_score: 0.6793030303030303\n",
            "--------------------------------------------------\n",
            "Эксперимент №23/56  с normal = sci.med, anomal = talk.politics.mideast\n",
            "auc_iforest =  0.7067777777777777\n",
            "auc_lof =  0.7535505050505049\n",
            "auc_knn =  0.6774747474747475\n",
            "auc_copod =  0.6793030303030303\n",
            "--------------------------------------------------\n"
          ],
          "name": "stdout"
        },
        {
          "output_type": "stream",
          "text": [
            "/Users/pavelmamaev/Desktop/SAIT_DIPLOM/venv/lib/python3.8/site-packages/sklearn/utils/deprecation.py:86: FutureWarning: Function fit_predict_score is deprecated\n",
            "  warnings.warn(msg, category=FutureWarning)\n"
          ],
          "name": "stderr"
        },
        {
          "output_type": "stream",
          "text": [
            "roc_auc_score: 0.5877878787878787\n"
          ],
          "name": "stdout"
        },
        {
          "output_type": "stream",
          "text": [
            "/Users/pavelmamaev/Desktop/SAIT_DIPLOM/venv/lib/python3.8/site-packages/sklearn/utils/deprecation.py:86: FutureWarning: Function fit_predict_score is deprecated\n",
            "  warnings.warn(msg, category=FutureWarning)\n"
          ],
          "name": "stderr"
        },
        {
          "output_type": "stream",
          "text": [
            "roc_auc_score: 0.679010101010101\n"
          ],
          "name": "stdout"
        },
        {
          "output_type": "stream",
          "text": [
            "/Users/pavelmamaev/Desktop/SAIT_DIPLOM/venv/lib/python3.8/site-packages/sklearn/utils/deprecation.py:86: FutureWarning: Function fit_predict_score is deprecated\n",
            "  warnings.warn(msg, category=FutureWarning)\n"
          ],
          "name": "stderr"
        },
        {
          "output_type": "stream",
          "text": [
            "roc_auc_score: 0.5511515151515152\n"
          ],
          "name": "stdout"
        },
        {
          "output_type": "stream",
          "text": [
            "/Users/pavelmamaev/Desktop/SAIT_DIPLOM/venv/lib/python3.8/site-packages/sklearn/utils/deprecation.py:86: FutureWarning: Function fit_predict_score is deprecated\n",
            "  warnings.warn(msg, category=FutureWarning)\n"
          ],
          "name": "stderr"
        },
        {
          "output_type": "stream",
          "text": [
            "roc_auc_score: 0.5425252525252525\n",
            "--------------------------------------------------\n",
            "Эксперимент №24/56  с normal = sci.med, anomal = rec.sport.hockey\n",
            "auc_iforest =  0.5877878787878787\n",
            "auc_lof =  0.679010101010101\n",
            "auc_knn =  0.5511515151515152\n",
            "auc_copod =  0.5425252525252525\n",
            "--------------------------------------------------\n"
          ],
          "name": "stdout"
        },
        {
          "output_type": "stream",
          "text": [
            "/Users/pavelmamaev/Desktop/SAIT_DIPLOM/venv/lib/python3.8/site-packages/sklearn/utils/deprecation.py:86: FutureWarning: Function fit_predict_score is deprecated\n",
            "  warnings.warn(msg, category=FutureWarning)\n"
          ],
          "name": "stderr"
        },
        {
          "output_type": "stream",
          "text": [
            "roc_auc_score: 0.5893333333333334\n"
          ],
          "name": "stdout"
        },
        {
          "output_type": "stream",
          "text": [
            "/Users/pavelmamaev/Desktop/SAIT_DIPLOM/venv/lib/python3.8/site-packages/sklearn/utils/deprecation.py:86: FutureWarning: Function fit_predict_score is deprecated\n",
            "  warnings.warn(msg, category=FutureWarning)\n"
          ],
          "name": "stderr"
        },
        {
          "output_type": "stream",
          "text": [
            "roc_auc_score: 0.6842323232323233\n"
          ],
          "name": "stdout"
        },
        {
          "output_type": "stream",
          "text": [
            "/Users/pavelmamaev/Desktop/SAIT_DIPLOM/venv/lib/python3.8/site-packages/sklearn/utils/deprecation.py:86: FutureWarning: Function fit_predict_score is deprecated\n",
            "  warnings.warn(msg, category=FutureWarning)\n"
          ],
          "name": "stderr"
        },
        {
          "output_type": "stream",
          "text": [
            "roc_auc_score: 0.5711616161616162\n"
          ],
          "name": "stdout"
        },
        {
          "output_type": "stream",
          "text": [
            "/Users/pavelmamaev/Desktop/SAIT_DIPLOM/venv/lib/python3.8/site-packages/sklearn/utils/deprecation.py:86: FutureWarning: Function fit_predict_score is deprecated\n",
            "  warnings.warn(msg, category=FutureWarning)\n"
          ],
          "name": "stderr"
        },
        {
          "output_type": "stream",
          "text": [
            "roc_auc_score: 0.5351010101010101\n",
            "--------------------------------------------------\n",
            "Эксперимент №25/56  с normal = sci.med, anomal = sci.space\n",
            "auc_iforest =  0.5893333333333334\n",
            "auc_lof =  0.6842323232323233\n",
            "auc_knn =  0.5711616161616162\n",
            "auc_copod =  0.5351010101010101\n",
            "--------------------------------------------------\n"
          ],
          "name": "stdout"
        },
        {
          "output_type": "stream",
          "text": [
            "/Users/pavelmamaev/Desktop/SAIT_DIPLOM/venv/lib/python3.8/site-packages/sklearn/utils/deprecation.py:86: FutureWarning: Function fit_predict_score is deprecated\n",
            "  warnings.warn(msg, category=FutureWarning)\n"
          ],
          "name": "stderr"
        },
        {
          "output_type": "stream",
          "text": [
            "roc_auc_score: 0.36653535353535355\n"
          ],
          "name": "stdout"
        },
        {
          "output_type": "stream",
          "text": [
            "/Users/pavelmamaev/Desktop/SAIT_DIPLOM/venv/lib/python3.8/site-packages/sklearn/utils/deprecation.py:86: FutureWarning: Function fit_predict_score is deprecated\n",
            "  warnings.warn(msg, category=FutureWarning)\n"
          ],
          "name": "stderr"
        },
        {
          "output_type": "stream",
          "text": [
            "roc_auc_score: 0.5919494949494949\n"
          ],
          "name": "stdout"
        },
        {
          "output_type": "stream",
          "text": [
            "/Users/pavelmamaev/Desktop/SAIT_DIPLOM/venv/lib/python3.8/site-packages/sklearn/utils/deprecation.py:86: FutureWarning: Function fit_predict_score is deprecated\n",
            "  warnings.warn(msg, category=FutureWarning)\n"
          ],
          "name": "stderr"
        },
        {
          "output_type": "stream",
          "text": [
            "roc_auc_score: 0.35925252525252527\n"
          ],
          "name": "stdout"
        },
        {
          "output_type": "stream",
          "text": [
            "/Users/pavelmamaev/Desktop/SAIT_DIPLOM/venv/lib/python3.8/site-packages/sklearn/utils/deprecation.py:86: FutureWarning: Function fit_predict_score is deprecated\n",
            "  warnings.warn(msg, category=FutureWarning)\n"
          ],
          "name": "stderr"
        },
        {
          "output_type": "stream",
          "text": [
            "roc_auc_score: 0.32743434343434347\n",
            "--------------------------------------------------\n",
            "Эксперимент №26/56  с normal = sci.med, anomal = misc.forsale\n",
            "auc_iforest =  0.36653535353535355\n",
            "auc_lof =  0.5919494949494949\n",
            "auc_knn =  0.35925252525252527\n",
            "auc_copod =  0.32743434343434347\n",
            "--------------------------------------------------\n"
          ],
          "name": "stdout"
        },
        {
          "output_type": "stream",
          "text": [
            "/Users/pavelmamaev/Desktop/SAIT_DIPLOM/venv/lib/python3.8/site-packages/sklearn/utils/deprecation.py:86: FutureWarning: Function fit_predict_score is deprecated\n",
            "  warnings.warn(msg, category=FutureWarning)\n"
          ],
          "name": "stderr"
        },
        {
          "output_type": "stream",
          "text": [
            "roc_auc_score: 0.6238585858585859\n"
          ],
          "name": "stdout"
        },
        {
          "output_type": "stream",
          "text": [
            "/Users/pavelmamaev/Desktop/SAIT_DIPLOM/venv/lib/python3.8/site-packages/sklearn/utils/deprecation.py:86: FutureWarning: Function fit_predict_score is deprecated\n",
            "  warnings.warn(msg, category=FutureWarning)\n"
          ],
          "name": "stderr"
        },
        {
          "output_type": "stream",
          "text": [
            "roc_auc_score: 0.7190151515151515\n"
          ],
          "name": "stdout"
        },
        {
          "output_type": "stream",
          "text": [
            "/Users/pavelmamaev/Desktop/SAIT_DIPLOM/venv/lib/python3.8/site-packages/sklearn/utils/deprecation.py:86: FutureWarning: Function fit_predict_score is deprecated\n",
            "  warnings.warn(msg, category=FutureWarning)\n"
          ],
          "name": "stderr"
        },
        {
          "output_type": "stream",
          "text": [
            "roc_auc_score: 0.6093131313131313\n"
          ],
          "name": "stdout"
        },
        {
          "output_type": "stream",
          "text": [
            "/Users/pavelmamaev/Desktop/SAIT_DIPLOM/venv/lib/python3.8/site-packages/sklearn/utils/deprecation.py:86: FutureWarning: Function fit_predict_score is deprecated\n",
            "  warnings.warn(msg, category=FutureWarning)\n"
          ],
          "name": "stderr"
        },
        {
          "output_type": "stream",
          "text": [
            "roc_auc_score: 0.5951919191919193\n",
            "--------------------------------------------------\n",
            "Эксперимент №27/56  с normal = sci.med, anomal = soc.religion.christian\n",
            "auc_iforest =  0.6238585858585859\n",
            "auc_lof =  0.7190151515151515\n",
            "auc_knn =  0.6093131313131313\n",
            "auc_copod =  0.5951919191919193\n",
            "--------------------------------------------------\n"
          ],
          "name": "stdout"
        },
        {
          "output_type": "stream",
          "text": [
            "/Users/pavelmamaev/Desktop/SAIT_DIPLOM/venv/lib/python3.8/site-packages/sklearn/utils/deprecation.py:86: FutureWarning: Function fit_predict_score is deprecated\n",
            "  warnings.warn(msg, category=FutureWarning)\n"
          ],
          "name": "stderr"
        },
        {
          "output_type": "stream",
          "text": [
            "roc_auc_score: 0.7117575757575758\n"
          ],
          "name": "stdout"
        },
        {
          "output_type": "stream",
          "text": [
            "/Users/pavelmamaev/Desktop/SAIT_DIPLOM/venv/lib/python3.8/site-packages/sklearn/utils/deprecation.py:86: FutureWarning: Function fit_predict_score is deprecated\n",
            "  warnings.warn(msg, category=FutureWarning)\n"
          ],
          "name": "stderr"
        },
        {
          "output_type": "stream",
          "text": [
            "roc_auc_score: 0.7739949494949495\n"
          ],
          "name": "stdout"
        },
        {
          "output_type": "stream",
          "text": [
            "/Users/pavelmamaev/Desktop/SAIT_DIPLOM/venv/lib/python3.8/site-packages/sklearn/utils/deprecation.py:86: FutureWarning: Function fit_predict_score is deprecated\n",
            "  warnings.warn(msg, category=FutureWarning)\n"
          ],
          "name": "stderr"
        },
        {
          "output_type": "stream",
          "text": [
            "roc_auc_score: 0.7080303030303031\n"
          ],
          "name": "stdout"
        },
        {
          "output_type": "stream",
          "text": [
            "/Users/pavelmamaev/Desktop/SAIT_DIPLOM/venv/lib/python3.8/site-packages/sklearn/utils/deprecation.py:86: FutureWarning: Function fit_predict_score is deprecated\n",
            "  warnings.warn(msg, category=FutureWarning)\n"
          ],
          "name": "stderr"
        },
        {
          "output_type": "stream",
          "text": [
            "roc_auc_score: 0.6904545454545455\n",
            "--------------------------------------------------\n",
            "Эксперимент №28/56  с normal = sci.med, anomal = talk.politics.misc\n",
            "auc_iforest =  0.7117575757575758\n",
            "auc_lof =  0.7739949494949495\n",
            "auc_knn =  0.7080303030303031\n",
            "auc_copod =  0.6904545454545455\n",
            "--------------------------------------------------\n"
          ],
          "name": "stdout"
        },
        {
          "output_type": "stream",
          "text": [
            "/Users/pavelmamaev/Desktop/SAIT_DIPLOM/venv/lib/python3.8/site-packages/sklearn/utils/deprecation.py:86: FutureWarning: Function fit_predict_score is deprecated\n",
            "  warnings.warn(msg, category=FutureWarning)\n"
          ],
          "name": "stderr"
        },
        {
          "output_type": "stream",
          "text": [
            "roc_auc_score: 0.3717110312854993\n"
          ],
          "name": "stdout"
        },
        {
          "output_type": "stream",
          "text": [
            "/Users/pavelmamaev/Desktop/SAIT_DIPLOM/venv/lib/python3.8/site-packages/sklearn/utils/deprecation.py:86: FutureWarning: Function fit_predict_score is deprecated\n",
            "  warnings.warn(msg, category=FutureWarning)\n"
          ],
          "name": "stderr"
        },
        {
          "output_type": "stream",
          "text": [
            "roc_auc_score: 0.5647201498265328\n"
          ],
          "name": "stdout"
        },
        {
          "output_type": "stream",
          "text": [
            "/Users/pavelmamaev/Desktop/SAIT_DIPLOM/venv/lib/python3.8/site-packages/sklearn/utils/deprecation.py:86: FutureWarning: Function fit_predict_score is deprecated\n",
            "  warnings.warn(msg, category=FutureWarning)\n"
          ],
          "name": "stderr"
        },
        {
          "output_type": "stream",
          "text": [
            "roc_auc_score: 0.384810618853172\n"
          ],
          "name": "stdout"
        },
        {
          "output_type": "stream",
          "text": [
            "/Users/pavelmamaev/Desktop/SAIT_DIPLOM/venv/lib/python3.8/site-packages/sklearn/utils/deprecation.py:86: FutureWarning: Function fit_predict_score is deprecated\n",
            "  warnings.warn(msg, category=FutureWarning)\n"
          ],
          "name": "stderr"
        },
        {
          "output_type": "stream",
          "text": [
            "roc_auc_score: 0.3487765189892849\n",
            "--------------------------------------------------\n",
            "Эксперимент №29/56  с normal = sci.space, anomal = comp.graphics\n",
            "auc_iforest =  0.3717110312854993\n",
            "auc_lof =  0.5647201498265328\n",
            "auc_knn =  0.384810618853172\n",
            "auc_copod =  0.3487765189892849\n",
            "--------------------------------------------------\n"
          ],
          "name": "stdout"
        },
        {
          "output_type": "stream",
          "text": [
            "/Users/pavelmamaev/Desktop/SAIT_DIPLOM/venv/lib/python3.8/site-packages/sklearn/utils/deprecation.py:86: FutureWarning: Function fit_predict_score is deprecated\n",
            "  warnings.warn(msg, category=FutureWarning)\n"
          ],
          "name": "stderr"
        },
        {
          "output_type": "stream",
          "text": [
            "roc_auc_score: 0.7105093488072212\n"
          ],
          "name": "stdout"
        },
        {
          "output_type": "stream",
          "text": [
            "/Users/pavelmamaev/Desktop/SAIT_DIPLOM/venv/lib/python3.8/site-packages/sklearn/utils/deprecation.py:86: FutureWarning: Function fit_predict_score is deprecated\n",
            "  warnings.warn(msg, category=FutureWarning)\n"
          ],
          "name": "stderr"
        },
        {
          "output_type": "stream",
          "text": [
            "roc_auc_score: 0.7599449407960046\n"
          ],
          "name": "stdout"
        },
        {
          "output_type": "stream",
          "text": [
            "/Users/pavelmamaev/Desktop/SAIT_DIPLOM/venv/lib/python3.8/site-packages/sklearn/utils/deprecation.py:86: FutureWarning: Function fit_predict_score is deprecated\n",
            "  warnings.warn(msg, category=FutureWarning)\n"
          ],
          "name": "stderr"
        },
        {
          "output_type": "stream",
          "text": [
            "roc_auc_score: 0.6761229314420802\n"
          ],
          "name": "stdout"
        },
        {
          "output_type": "stream",
          "text": [
            "/Users/pavelmamaev/Desktop/SAIT_DIPLOM/venv/lib/python3.8/site-packages/sklearn/utils/deprecation.py:86: FutureWarning: Function fit_predict_score is deprecated\n",
            "  warnings.warn(msg, category=FutureWarning)\n"
          ],
          "name": "stderr"
        },
        {
          "output_type": "stream",
          "text": [
            "roc_auc_score: 0.6745775894712065\n",
            "--------------------------------------------------\n",
            "Эксперимент №30/56  с normal = sci.space, anomal = talk.politics.mideast\n",
            "auc_iforest =  0.7105093488072212\n",
            "auc_lof =  0.7599449407960046\n",
            "auc_knn =  0.6761229314420802\n",
            "auc_copod =  0.6745775894712065\n",
            "--------------------------------------------------\n"
          ],
          "name": "stdout"
        },
        {
          "output_type": "stream",
          "text": [
            "/Users/pavelmamaev/Desktop/SAIT_DIPLOM/venv/lib/python3.8/site-packages/sklearn/utils/deprecation.py:86: FutureWarning: Function fit_predict_score is deprecated\n",
            "  warnings.warn(msg, category=FutureWarning)\n"
          ],
          "name": "stderr"
        },
        {
          "output_type": "stream",
          "text": [
            "roc_auc_score: 0.5906685906685906\n"
          ],
          "name": "stdout"
        },
        {
          "output_type": "stream",
          "text": [
            "/Users/pavelmamaev/Desktop/SAIT_DIPLOM/venv/lib/python3.8/site-packages/sklearn/utils/deprecation.py:86: FutureWarning: Function fit_predict_score is deprecated\n",
            "  warnings.warn(msg, category=FutureWarning)\n"
          ],
          "name": "stderr"
        },
        {
          "output_type": "stream",
          "text": [
            "roc_auc_score: 0.6883782096548055\n"
          ],
          "name": "stdout"
        },
        {
          "output_type": "stream",
          "text": [
            "/Users/pavelmamaev/Desktop/SAIT_DIPLOM/venv/lib/python3.8/site-packages/sklearn/utils/deprecation.py:86: FutureWarning: Function fit_predict_score is deprecated\n",
            "  warnings.warn(msg, category=FutureWarning)\n"
          ],
          "name": "stderr"
        },
        {
          "output_type": "stream",
          "text": [
            "roc_auc_score: 0.546733802052951\n"
          ],
          "name": "stdout"
        },
        {
          "output_type": "stream",
          "text": [
            "/Users/pavelmamaev/Desktop/SAIT_DIPLOM/venv/lib/python3.8/site-packages/sklearn/utils/deprecation.py:86: FutureWarning: Function fit_predict_score is deprecated\n",
            "  warnings.warn(msg, category=FutureWarning)\n"
          ],
          "name": "stderr"
        },
        {
          "output_type": "stream",
          "text": [
            "roc_auc_score: 0.5288651458864225\n",
            "--------------------------------------------------\n",
            "Эксперимент №31/56  с normal = sci.space, anomal = rec.sport.hockey\n",
            "auc_iforest =  0.5906685906685906\n",
            "auc_lof =  0.6883782096548055\n",
            "auc_knn =  0.546733802052951\n",
            "auc_copod =  0.5288651458864225\n",
            "--------------------------------------------------\n"
          ],
          "name": "stdout"
        },
        {
          "output_type": "stream",
          "text": [
            "/Users/pavelmamaev/Desktop/SAIT_DIPLOM/venv/lib/python3.8/site-packages/sklearn/utils/deprecation.py:86: FutureWarning: Function fit_predict_score is deprecated\n",
            "  warnings.warn(msg, category=FutureWarning)\n"
          ],
          "name": "stderr"
        },
        {
          "output_type": "stream",
          "text": [
            "roc_auc_score: 0.6016701974148783\n"
          ],
          "name": "stdout"
        },
        {
          "output_type": "stream",
          "text": [
            "/Users/pavelmamaev/Desktop/SAIT_DIPLOM/venv/lib/python3.8/site-packages/sklearn/utils/deprecation.py:86: FutureWarning: Function fit_predict_score is deprecated\n",
            "  warnings.warn(msg, category=FutureWarning)\n"
          ],
          "name": "stderr"
        },
        {
          "output_type": "stream",
          "text": [
            "roc_auc_score: 0.6992928269524015\n"
          ],
          "name": "stdout"
        },
        {
          "output_type": "stream",
          "text": [
            "/Users/pavelmamaev/Desktop/SAIT_DIPLOM/venv/lib/python3.8/site-packages/sklearn/utils/deprecation.py:86: FutureWarning: Function fit_predict_score is deprecated\n",
            "  warnings.warn(msg, category=FutureWarning)\n"
          ],
          "name": "stderr"
        },
        {
          "output_type": "stream",
          "text": [
            "roc_auc_score: 0.5620695301546366\n"
          ],
          "name": "stdout"
        },
        {
          "output_type": "stream",
          "text": [
            "/Users/pavelmamaev/Desktop/SAIT_DIPLOM/venv/lib/python3.8/site-packages/sklearn/utils/deprecation.py:86: FutureWarning: Function fit_predict_score is deprecated\n",
            "  warnings.warn(msg, category=FutureWarning)\n"
          ],
          "name": "stderr"
        },
        {
          "output_type": "stream",
          "text": [
            "roc_auc_score: 0.5315464677166805\n",
            "--------------------------------------------------\n",
            "Эксперимент №32/56  с normal = sci.space, anomal = sci.med\n",
            "auc_iforest =  0.6016701974148783\n",
            "auc_lof =  0.6992928269524015\n",
            "auc_knn =  0.5620695301546366\n",
            "auc_copod =  0.5315464677166805\n",
            "--------------------------------------------------\n"
          ],
          "name": "stdout"
        },
        {
          "output_type": "stream",
          "text": [
            "/Users/pavelmamaev/Desktop/SAIT_DIPLOM/venv/lib/python3.8/site-packages/sklearn/utils/deprecation.py:86: FutureWarning: Function fit_predict_score is deprecated\n",
            "  warnings.warn(msg, category=FutureWarning)\n"
          ],
          "name": "stderr"
        },
        {
          "output_type": "stream",
          "text": [
            "roc_auc_score: 0.34684228301249576\n"
          ],
          "name": "stdout"
        },
        {
          "output_type": "stream",
          "text": [
            "/Users/pavelmamaev/Desktop/SAIT_DIPLOM/venv/lib/python3.8/site-packages/sklearn/utils/deprecation.py:86: FutureWarning: Function fit_predict_score is deprecated\n",
            "  warnings.warn(msg, category=FutureWarning)\n"
          ],
          "name": "stderr"
        },
        {
          "output_type": "stream",
          "text": [
            "roc_auc_score: 0.542901149284128\n"
          ],
          "name": "stdout"
        },
        {
          "output_type": "stream",
          "text": [
            "/Users/pavelmamaev/Desktop/SAIT_DIPLOM/venv/lib/python3.8/site-packages/sklearn/utils/deprecation.py:86: FutureWarning: Function fit_predict_score is deprecated\n",
            "  warnings.warn(msg, category=FutureWarning)\n"
          ],
          "name": "stderr"
        },
        {
          "output_type": "stream",
          "text": [
            "roc_auc_score: 0.33947888203207355\n"
          ],
          "name": "stdout"
        },
        {
          "output_type": "stream",
          "text": [
            "/Users/pavelmamaev/Desktop/SAIT_DIPLOM/venv/lib/python3.8/site-packages/sklearn/utils/deprecation.py:86: FutureWarning: Function fit_predict_score is deprecated\n",
            "  warnings.warn(msg, category=FutureWarning)\n"
          ],
          "name": "stderr"
        },
        {
          "output_type": "stream",
          "text": [
            "roc_auc_score: 0.31334622823984526\n",
            "--------------------------------------------------\n",
            "Эксперимент №33/56  с normal = sci.space, anomal = misc.forsale\n",
            "auc_iforest =  0.34684228301249576\n",
            "auc_lof =  0.542901149284128\n",
            "auc_knn =  0.33947888203207355\n",
            "auc_copod =  0.31334622823984526\n",
            "--------------------------------------------------\n"
          ],
          "name": "stdout"
        },
        {
          "output_type": "stream",
          "text": [
            "/Users/pavelmamaev/Desktop/SAIT_DIPLOM/venv/lib/python3.8/site-packages/sklearn/utils/deprecation.py:86: FutureWarning: Function fit_predict_score is deprecated\n",
            "  warnings.warn(msg, category=FutureWarning)\n"
          ],
          "name": "stderr"
        },
        {
          "output_type": "stream",
          "text": [
            "roc_auc_score: 0.6268152651131375\n"
          ],
          "name": "stdout"
        },
        {
          "output_type": "stream",
          "text": [
            "/Users/pavelmamaev/Desktop/SAIT_DIPLOM/venv/lib/python3.8/site-packages/sklearn/utils/deprecation.py:86: FutureWarning: Function fit_predict_score is deprecated\n",
            "  warnings.warn(msg, category=FutureWarning)\n"
          ],
          "name": "stderr"
        },
        {
          "output_type": "stream",
          "text": [
            "roc_auc_score: 0.7275029934604402\n"
          ],
          "name": "stdout"
        },
        {
          "output_type": "stream",
          "text": [
            "/Users/pavelmamaev/Desktop/SAIT_DIPLOM/venv/lib/python3.8/site-packages/sklearn/utils/deprecation.py:86: FutureWarning: Function fit_predict_score is deprecated\n",
            "  warnings.warn(msg, category=FutureWarning)\n"
          ],
          "name": "stderr"
        },
        {
          "output_type": "stream",
          "text": [
            "roc_auc_score: 0.6061322444301168\n"
          ],
          "name": "stdout"
        },
        {
          "output_type": "stream",
          "text": [
            "/Users/pavelmamaev/Desktop/SAIT_DIPLOM/venv/lib/python3.8/site-packages/sklearn/utils/deprecation.py:86: FutureWarning: Function fit_predict_score is deprecated\n",
            "  warnings.warn(msg, category=FutureWarning)\n"
          ],
          "name": "stderr"
        },
        {
          "output_type": "stream",
          "text": [
            "roc_auc_score: 0.5912928678886126\n",
            "--------------------------------------------------\n",
            "Эксперимент №34/56  с normal = sci.space, anomal = soc.religion.christian\n",
            "auc_iforest =  0.6268152651131375\n",
            "auc_lof =  0.7275029934604402\n",
            "auc_knn =  0.6061322444301168\n",
            "auc_copod =  0.5912928678886126\n",
            "--------------------------------------------------\n"
          ],
          "name": "stdout"
        },
        {
          "output_type": "stream",
          "text": [
            "/Users/pavelmamaev/Desktop/SAIT_DIPLOM/venv/lib/python3.8/site-packages/sklearn/utils/deprecation.py:86: FutureWarning: Function fit_predict_score is deprecated\n",
            "  warnings.warn(msg, category=FutureWarning)\n"
          ],
          "name": "stderr"
        },
        {
          "output_type": "stream",
          "text": [
            "roc_auc_score: 0.7256557469323427\n"
          ],
          "name": "stdout"
        },
        {
          "output_type": "stream",
          "text": [
            "/Users/pavelmamaev/Desktop/SAIT_DIPLOM/venv/lib/python3.8/site-packages/sklearn/utils/deprecation.py:86: FutureWarning: Function fit_predict_score is deprecated\n",
            "  warnings.warn(msg, category=FutureWarning)\n"
          ],
          "name": "stderr"
        },
        {
          "output_type": "stream",
          "text": [
            "roc_auc_score: 0.7816974199952924\n"
          ],
          "name": "stdout"
        },
        {
          "output_type": "stream",
          "text": [
            "/Users/pavelmamaev/Desktop/SAIT_DIPLOM/venv/lib/python3.8/site-packages/sklearn/utils/deprecation.py:86: FutureWarning: Function fit_predict_score is deprecated\n",
            "  warnings.warn(msg, category=FutureWarning)\n"
          ],
          "name": "stderr"
        },
        {
          "output_type": "stream",
          "text": [
            "roc_auc_score: 0.7033966821200864\n"
          ],
          "name": "stdout"
        },
        {
          "output_type": "stream",
          "text": [
            "/Users/pavelmamaev/Desktop/SAIT_DIPLOM/venv/lib/python3.8/site-packages/sklearn/utils/deprecation.py:86: FutureWarning: Function fit_predict_score is deprecated\n",
            "  warnings.warn(msg, category=FutureWarning)\n"
          ],
          "name": "stderr"
        },
        {
          "output_type": "stream",
          "text": [
            "roc_auc_score: 0.6840543223521947\n",
            "--------------------------------------------------\n",
            "Эксперимент №35/56  с normal = sci.space, anomal = talk.politics.misc\n",
            "auc_iforest =  0.7256557469323427\n",
            "auc_lof =  0.7816974199952924\n",
            "auc_knn =  0.7033966821200864\n",
            "auc_copod =  0.6840543223521947\n",
            "--------------------------------------------------\n"
          ],
          "name": "stdout"
        },
        {
          "output_type": "stream",
          "text": [
            "/Users/pavelmamaev/Desktop/SAIT_DIPLOM/venv/lib/python3.8/site-packages/sklearn/utils/deprecation.py:86: FutureWarning: Function fit_predict_score is deprecated\n",
            "  warnings.warn(msg, category=FutureWarning)\n"
          ],
          "name": "stderr"
        },
        {
          "output_type": "stream",
          "text": [
            "roc_auc_score: 0.5928623757195186\n"
          ],
          "name": "stdout"
        },
        {
          "output_type": "stream",
          "text": [
            "/Users/pavelmamaev/Desktop/SAIT_DIPLOM/venv/lib/python3.8/site-packages/sklearn/utils/deprecation.py:86: FutureWarning: Function fit_predict_score is deprecated\n",
            "  warnings.warn(msg, category=FutureWarning)\n"
          ],
          "name": "stderr"
        },
        {
          "output_type": "stream",
          "text": [
            "roc_auc_score: 0.6412977498691785\n"
          ],
          "name": "stdout"
        },
        {
          "output_type": "stream",
          "text": [
            "/Users/pavelmamaev/Desktop/SAIT_DIPLOM/venv/lib/python3.8/site-packages/sklearn/utils/deprecation.py:86: FutureWarning: Function fit_predict_score is deprecated\n",
            "  warnings.warn(msg, category=FutureWarning)\n"
          ],
          "name": "stderr"
        },
        {
          "output_type": "stream",
          "text": [
            "roc_auc_score: 0.586363160648875\n"
          ],
          "name": "stdout"
        },
        {
          "output_type": "stream",
          "text": [
            "/Users/pavelmamaev/Desktop/SAIT_DIPLOM/venv/lib/python3.8/site-packages/sklearn/utils/deprecation.py:86: FutureWarning: Function fit_predict_score is deprecated\n",
            "  warnings.warn(msg, category=FutureWarning)\n"
          ],
          "name": "stderr"
        },
        {
          "output_type": "stream",
          "text": [
            "roc_auc_score: 0.5693772893772894\n",
            "--------------------------------------------------\n",
            "Эксперимент №36/56  с normal = misc.forsale, anomal = comp.graphics\n",
            "auc_iforest =  0.5928623757195186\n",
            "auc_lof =  0.6412977498691785\n",
            "auc_knn =  0.586363160648875\n",
            "auc_copod =  0.5693772893772894\n",
            "--------------------------------------------------\n"
          ],
          "name": "stdout"
        },
        {
          "output_type": "stream",
          "text": [
            "/Users/pavelmamaev/Desktop/SAIT_DIPLOM/venv/lib/python3.8/site-packages/sklearn/utils/deprecation.py:86: FutureWarning: Function fit_predict_score is deprecated\n",
            "  warnings.warn(msg, category=FutureWarning)\n"
          ],
          "name": "stderr"
        },
        {
          "output_type": "stream",
          "text": [
            "roc_auc_score: 0.8450444793301937\n"
          ],
          "name": "stdout"
        },
        {
          "output_type": "stream",
          "text": [
            "/Users/pavelmamaev/Desktop/SAIT_DIPLOM/venv/lib/python3.8/site-packages/sklearn/utils/deprecation.py:86: FutureWarning: Function fit_predict_score is deprecated\n",
            "  warnings.warn(msg, category=FutureWarning)\n"
          ],
          "name": "stderr"
        },
        {
          "output_type": "stream",
          "text": [
            "roc_auc_score: 0.8130873888016745\n"
          ],
          "name": "stdout"
        },
        {
          "output_type": "stream",
          "text": [
            "/Users/pavelmamaev/Desktop/SAIT_DIPLOM/venv/lib/python3.8/site-packages/sklearn/utils/deprecation.py:86: FutureWarning: Function fit_predict_score is deprecated\n",
            "  warnings.warn(msg, category=FutureWarning)\n"
          ],
          "name": "stderr"
        },
        {
          "output_type": "stream",
          "text": [
            "roc_auc_score: 0.8165253793825221\n"
          ],
          "name": "stdout"
        },
        {
          "output_type": "stream",
          "text": [
            "/Users/pavelmamaev/Desktop/SAIT_DIPLOM/venv/lib/python3.8/site-packages/sklearn/utils/deprecation.py:86: FutureWarning: Function fit_predict_score is deprecated\n",
            "  warnings.warn(msg, category=FutureWarning)\n"
          ],
          "name": "stderr"
        },
        {
          "output_type": "stream",
          "text": [
            "roc_auc_score: 0.8160439560439561\n",
            "--------------------------------------------------\n",
            "Эксперимент №37/56  с normal = misc.forsale, anomal = talk.politics.mideast\n",
            "auc_iforest =  0.8450444793301937\n",
            "auc_lof =  0.8130873888016745\n",
            "auc_knn =  0.8165253793825221\n",
            "auc_copod =  0.8160439560439561\n",
            "--------------------------------------------------\n"
          ],
          "name": "stdout"
        },
        {
          "output_type": "stream",
          "text": [
            "/Users/pavelmamaev/Desktop/SAIT_DIPLOM/venv/lib/python3.8/site-packages/sklearn/utils/deprecation.py:86: FutureWarning: Function fit_predict_score is deprecated\n",
            "  warnings.warn(msg, category=FutureWarning)\n"
          ],
          "name": "stderr"
        },
        {
          "output_type": "stream",
          "text": [
            "roc_auc_score: 0.769869178440607\n"
          ],
          "name": "stdout"
        },
        {
          "output_type": "stream",
          "text": [
            "/Users/pavelmamaev/Desktop/SAIT_DIPLOM/venv/lib/python3.8/site-packages/sklearn/utils/deprecation.py:86: FutureWarning: Function fit_predict_score is deprecated\n",
            "  warnings.warn(msg, category=FutureWarning)\n"
          ],
          "name": "stderr"
        },
        {
          "output_type": "stream",
          "text": [
            "roc_auc_score: 0.7594976452119309\n"
          ],
          "name": "stdout"
        },
        {
          "output_type": "stream",
          "text": [
            "/Users/pavelmamaev/Desktop/SAIT_DIPLOM/venv/lib/python3.8/site-packages/sklearn/utils/deprecation.py:86: FutureWarning: Function fit_predict_score is deprecated\n",
            "  warnings.warn(msg, category=FutureWarning)\n"
          ],
          "name": "stderr"
        },
        {
          "output_type": "stream",
          "text": [
            "roc_auc_score: 0.7480900052328623\n"
          ],
          "name": "stdout"
        },
        {
          "output_type": "stream",
          "text": [
            "/Users/pavelmamaev/Desktop/SAIT_DIPLOM/venv/lib/python3.8/site-packages/sklearn/utils/deprecation.py:86: FutureWarning: Function fit_predict_score is deprecated\n",
            "  warnings.warn(msg, category=FutureWarning)\n"
          ],
          "name": "stderr"
        },
        {
          "output_type": "stream",
          "text": [
            "roc_auc_score: 0.7443537414965986\n",
            "--------------------------------------------------\n",
            "Эксперимент №38/56  с normal = misc.forsale, anomal = rec.sport.hockey\n",
            "auc_iforest =  0.769869178440607\n",
            "auc_lof =  0.7594976452119309\n",
            "auc_knn =  0.7480900052328623\n",
            "auc_copod =  0.7443537414965986\n",
            "--------------------------------------------------\n"
          ],
          "name": "stdout"
        },
        {
          "output_type": "stream",
          "text": [
            "/Users/pavelmamaev/Desktop/SAIT_DIPLOM/venv/lib/python3.8/site-packages/sklearn/utils/deprecation.py:86: FutureWarning: Function fit_predict_score is deprecated\n",
            "  warnings.warn(msg, category=FutureWarning)\n"
          ],
          "name": "stderr"
        },
        {
          "output_type": "stream",
          "text": [
            "roc_auc_score: 0.7879016221873365\n"
          ],
          "name": "stdout"
        },
        {
          "output_type": "stream",
          "text": [
            "/Users/pavelmamaev/Desktop/SAIT_DIPLOM/venv/lib/python3.8/site-packages/sklearn/utils/deprecation.py:86: FutureWarning: Function fit_predict_score is deprecated\n",
            "  warnings.warn(msg, category=FutureWarning)\n"
          ],
          "name": "stderr"
        },
        {
          "output_type": "stream",
          "text": [
            "roc_auc_score: 0.7359602302459446\n"
          ],
          "name": "stdout"
        },
        {
          "output_type": "stream",
          "text": [
            "/Users/pavelmamaev/Desktop/SAIT_DIPLOM/venv/lib/python3.8/site-packages/sklearn/utils/deprecation.py:86: FutureWarning: Function fit_predict_score is deprecated\n",
            "  warnings.warn(msg, category=FutureWarning)\n"
          ],
          "name": "stderr"
        },
        {
          "output_type": "stream",
          "text": [
            "roc_auc_score: 0.7547776033490319\n"
          ],
          "name": "stdout"
        },
        {
          "output_type": "stream",
          "text": [
            "/Users/pavelmamaev/Desktop/SAIT_DIPLOM/venv/lib/python3.8/site-packages/sklearn/utils/deprecation.py:86: FutureWarning: Function fit_predict_score is deprecated\n",
            "  warnings.warn(msg, category=FutureWarning)\n"
          ],
          "name": "stderr"
        },
        {
          "output_type": "stream",
          "text": [
            "roc_auc_score: 0.7398744113029827\n",
            "--------------------------------------------------\n",
            "Эксперимент №39/56  с normal = misc.forsale, anomal = sci.med\n",
            "auc_iforest =  0.7879016221873365\n",
            "auc_lof =  0.7359602302459446\n",
            "auc_knn =  0.7547776033490319\n",
            "auc_copod =  0.7398744113029827\n",
            "--------------------------------------------------\n"
          ],
          "name": "stdout"
        },
        {
          "output_type": "stream",
          "text": [
            "/Users/pavelmamaev/Desktop/SAIT_DIPLOM/venv/lib/python3.8/site-packages/sklearn/utils/deprecation.py:86: FutureWarning: Function fit_predict_score is deprecated\n",
            "  warnings.warn(msg, category=FutureWarning)\n"
          ],
          "name": "stderr"
        },
        {
          "output_type": "stream",
          "text": [
            "roc_auc_score: 0.7899529042386186\n"
          ],
          "name": "stdout"
        },
        {
          "output_type": "stream",
          "text": [
            "/Users/pavelmamaev/Desktop/SAIT_DIPLOM/venv/lib/python3.8/site-packages/sklearn/utils/deprecation.py:86: FutureWarning: Function fit_predict_score is deprecated\n",
            "  warnings.warn(msg, category=FutureWarning)\n"
          ],
          "name": "stderr"
        },
        {
          "output_type": "stream",
          "text": [
            "roc_auc_score: 0.7589324960753532\n"
          ],
          "name": "stdout"
        },
        {
          "output_type": "stream",
          "text": [
            "/Users/pavelmamaev/Desktop/SAIT_DIPLOM/venv/lib/python3.8/site-packages/sklearn/utils/deprecation.py:86: FutureWarning: Function fit_predict_score is deprecated\n",
            "  warnings.warn(msg, category=FutureWarning)\n"
          ],
          "name": "stderr"
        },
        {
          "output_type": "stream",
          "text": [
            "roc_auc_score: 0.7592987964416535\n"
          ],
          "name": "stdout"
        },
        {
          "output_type": "stream",
          "text": [
            "/Users/pavelmamaev/Desktop/SAIT_DIPLOM/venv/lib/python3.8/site-packages/sklearn/utils/deprecation.py:86: FutureWarning: Function fit_predict_score is deprecated\n",
            "  warnings.warn(msg, category=FutureWarning)\n"
          ],
          "name": "stderr"
        },
        {
          "output_type": "stream",
          "text": [
            "roc_auc_score: 0.7398325484039769\n",
            "--------------------------------------------------\n",
            "Эксперимент №40/56  с normal = misc.forsale, anomal = sci.space\n",
            "auc_iforest =  0.7899529042386186\n",
            "auc_lof =  0.7589324960753532\n",
            "auc_knn =  0.7592987964416535\n",
            "auc_copod =  0.7398325484039769\n",
            "--------------------------------------------------\n"
          ],
          "name": "stdout"
        },
        {
          "output_type": "stream",
          "text": [
            "/Users/pavelmamaev/Desktop/SAIT_DIPLOM/venv/lib/python3.8/site-packages/sklearn/utils/deprecation.py:86: FutureWarning: Function fit_predict_score is deprecated\n",
            "  warnings.warn(msg, category=FutureWarning)\n"
          ],
          "name": "stderr"
        },
        {
          "output_type": "stream",
          "text": [
            "roc_auc_score: 0.8011302982731553\n"
          ],
          "name": "stdout"
        },
        {
          "output_type": "stream",
          "text": [
            "/Users/pavelmamaev/Desktop/SAIT_DIPLOM/venv/lib/python3.8/site-packages/sklearn/utils/deprecation.py:86: FutureWarning: Function fit_predict_score is deprecated\n",
            "  warnings.warn(msg, category=FutureWarning)\n"
          ],
          "name": "stderr"
        },
        {
          "output_type": "stream",
          "text": [
            "roc_auc_score: 0.7906122448979591\n"
          ],
          "name": "stdout"
        },
        {
          "output_type": "stream",
          "text": [
            "/Users/pavelmamaev/Desktop/SAIT_DIPLOM/venv/lib/python3.8/site-packages/sklearn/utils/deprecation.py:86: FutureWarning: Function fit_predict_score is deprecated\n",
            "  warnings.warn(msg, category=FutureWarning)\n"
          ],
          "name": "stderr"
        },
        {
          "output_type": "stream",
          "text": [
            "roc_auc_score: 0.7734798534798535\n"
          ],
          "name": "stdout"
        },
        {
          "output_type": "stream",
          "text": [
            "/Users/pavelmamaev/Desktop/SAIT_DIPLOM/venv/lib/python3.8/site-packages/sklearn/utils/deprecation.py:86: FutureWarning: Function fit_predict_score is deprecated\n",
            "  warnings.warn(msg, category=FutureWarning)\n"
          ],
          "name": "stderr"
        },
        {
          "output_type": "stream",
          "text": [
            "roc_auc_score: 0.7690319204604918\n",
            "--------------------------------------------------\n",
            "Эксперимент №41/56  с normal = misc.forsale, anomal = soc.religion.christian\n",
            "auc_iforest =  0.8011302982731553\n",
            "auc_lof =  0.7906122448979591\n",
            "auc_knn =  0.7734798534798535\n",
            "auc_copod =  0.7690319204604918\n",
            "--------------------------------------------------\n"
          ],
          "name": "stdout"
        },
        {
          "output_type": "stream",
          "text": [
            "/Users/pavelmamaev/Desktop/SAIT_DIPLOM/venv/lib/python3.8/site-packages/sklearn/utils/deprecation.py:86: FutureWarning: Function fit_predict_score is deprecated\n",
            "  warnings.warn(msg, category=FutureWarning)\n"
          ],
          "name": "stderr"
        },
        {
          "output_type": "stream",
          "text": [
            "roc_auc_score: 0.8795290423861852\n"
          ],
          "name": "stdout"
        },
        {
          "output_type": "stream",
          "text": [
            "/Users/pavelmamaev/Desktop/SAIT_DIPLOM/venv/lib/python3.8/site-packages/sklearn/utils/deprecation.py:86: FutureWarning: Function fit_predict_score is deprecated\n",
            "  warnings.warn(msg, category=FutureWarning)\n"
          ],
          "name": "stderr"
        },
        {
          "output_type": "stream",
          "text": [
            "roc_auc_score: 0.847012035583464\n"
          ],
          "name": "stdout"
        },
        {
          "output_type": "stream",
          "text": [
            "/Users/pavelmamaev/Desktop/SAIT_DIPLOM/venv/lib/python3.8/site-packages/sklearn/utils/deprecation.py:86: FutureWarning: Function fit_predict_score is deprecated\n",
            "  warnings.warn(msg, category=FutureWarning)\n"
          ],
          "name": "stderr"
        },
        {
          "output_type": "stream",
          "text": [
            "roc_auc_score: 0.8509994767137624\n"
          ],
          "name": "stdout"
        },
        {
          "output_type": "stream",
          "text": [
            "/Users/pavelmamaev/Desktop/SAIT_DIPLOM/venv/lib/python3.8/site-packages/sklearn/utils/deprecation.py:86: FutureWarning: Function fit_predict_score is deprecated\n",
            "  warnings.warn(msg, category=FutureWarning)\n"
          ],
          "name": "stderr"
        },
        {
          "output_type": "stream",
          "text": [
            "roc_auc_score: 0.8399162742019884\n",
            "--------------------------------------------------\n",
            "Эксперимент №42/56  с normal = misc.forsale, anomal = talk.politics.misc\n",
            "auc_iforest =  0.8795290423861852\n",
            "auc_lof =  0.847012035583464\n",
            "auc_knn =  0.8509994767137624\n",
            "auc_copod =  0.8399162742019884\n",
            "--------------------------------------------------\n"
          ],
          "name": "stdout"
        },
        {
          "output_type": "stream",
          "text": [
            "/Users/pavelmamaev/Desktop/SAIT_DIPLOM/venv/lib/python3.8/site-packages/sklearn/utils/deprecation.py:86: FutureWarning: Function fit_predict_score is deprecated\n",
            "  warnings.warn(msg, category=FutureWarning)\n"
          ],
          "name": "stderr"
        },
        {
          "output_type": "stream",
          "text": [
            "roc_auc_score: 0.3617853560682046\n"
          ],
          "name": "stdout"
        },
        {
          "output_type": "stream",
          "text": [
            "/Users/pavelmamaev/Desktop/SAIT_DIPLOM/venv/lib/python3.8/site-packages/sklearn/utils/deprecation.py:86: FutureWarning: Function fit_predict_score is deprecated\n",
            "  warnings.warn(msg, category=FutureWarning)\n"
          ],
          "name": "stderr"
        },
        {
          "output_type": "stream",
          "text": [
            "roc_auc_score: 0.41018555667001005\n"
          ],
          "name": "stdout"
        },
        {
          "output_type": "stream",
          "text": [
            "/Users/pavelmamaev/Desktop/SAIT_DIPLOM/venv/lib/python3.8/site-packages/sklearn/utils/deprecation.py:86: FutureWarning: Function fit_predict_score is deprecated\n",
            "  warnings.warn(msg, category=FutureWarning)\n"
          ],
          "name": "stderr"
        },
        {
          "output_type": "stream",
          "text": [
            "roc_auc_score: 0.28646940822467404\n"
          ],
          "name": "stdout"
        },
        {
          "output_type": "stream",
          "text": [
            "/Users/pavelmamaev/Desktop/SAIT_DIPLOM/venv/lib/python3.8/site-packages/sklearn/utils/deprecation.py:86: FutureWarning: Function fit_predict_score is deprecated\n",
            "  warnings.warn(msg, category=FutureWarning)\n"
          ],
          "name": "stderr"
        },
        {
          "output_type": "stream",
          "text": [
            "roc_auc_score: 0.2950952858575727\n",
            "--------------------------------------------------\n",
            "Эксперимент №43/56  с normal = soc.religion.christian, anomal = comp.graphics\n",
            "auc_iforest =  0.3617853560682046\n",
            "auc_lof =  0.41018555667001005\n",
            "auc_knn =  0.28646940822467404\n",
            "auc_copod =  0.2950952858575727\n",
            "--------------------------------------------------\n"
          ],
          "name": "stdout"
        },
        {
          "output_type": "stream",
          "text": [
            "/Users/pavelmamaev/Desktop/SAIT_DIPLOM/venv/lib/python3.8/site-packages/sklearn/utils/deprecation.py:86: FutureWarning: Function fit_predict_score is deprecated\n",
            "  warnings.warn(msg, category=FutureWarning)\n"
          ],
          "name": "stderr"
        },
        {
          "output_type": "stream",
          "text": [
            "roc_auc_score: 0.668084252758275\n"
          ],
          "name": "stdout"
        },
        {
          "output_type": "stream",
          "text": [
            "/Users/pavelmamaev/Desktop/SAIT_DIPLOM/venv/lib/python3.8/site-packages/sklearn/utils/deprecation.py:86: FutureWarning: Function fit_predict_score is deprecated\n",
            "  warnings.warn(msg, category=FutureWarning)\n"
          ],
          "name": "stderr"
        },
        {
          "output_type": "stream",
          "text": [
            "roc_auc_score: 0.666469408224674\n"
          ],
          "name": "stdout"
        },
        {
          "output_type": "stream",
          "text": [
            "/Users/pavelmamaev/Desktop/SAIT_DIPLOM/venv/lib/python3.8/site-packages/sklearn/utils/deprecation.py:86: FutureWarning: Function fit_predict_score is deprecated\n",
            "  warnings.warn(msg, category=FutureWarning)\n"
          ],
          "name": "stderr"
        },
        {
          "output_type": "stream",
          "text": [
            "roc_auc_score: 0.5835205616850552\n"
          ],
          "name": "stdout"
        },
        {
          "output_type": "stream",
          "text": [
            "/Users/pavelmamaev/Desktop/SAIT_DIPLOM/venv/lib/python3.8/site-packages/sklearn/utils/deprecation.py:86: FutureWarning: Function fit_predict_score is deprecated\n",
            "  warnings.warn(msg, category=FutureWarning)\n"
          ],
          "name": "stderr"
        },
        {
          "output_type": "stream",
          "text": [
            "roc_auc_score: 0.61\n",
            "--------------------------------------------------\n",
            "Эксперимент №44/56  с normal = soc.religion.christian, anomal = talk.politics.mideast\n",
            "auc_iforest =  0.668084252758275\n",
            "auc_lof =  0.666469408224674\n",
            "auc_knn =  0.5835205616850552\n",
            "auc_copod =  0.61\n",
            "--------------------------------------------------\n"
          ],
          "name": "stdout"
        },
        {
          "output_type": "stream",
          "text": [
            "/Users/pavelmamaev/Desktop/SAIT_DIPLOM/venv/lib/python3.8/site-packages/sklearn/utils/deprecation.py:86: FutureWarning: Function fit_predict_score is deprecated\n",
            "  warnings.warn(msg, category=FutureWarning)\n"
          ],
          "name": "stderr"
        },
        {
          "output_type": "stream",
          "text": [
            "roc_auc_score: 0.5391273821464393\n"
          ],
          "name": "stdout"
        },
        {
          "output_type": "stream",
          "text": [
            "/Users/pavelmamaev/Desktop/SAIT_DIPLOM/venv/lib/python3.8/site-packages/sklearn/utils/deprecation.py:86: FutureWarning: Function fit_predict_score is deprecated\n",
            "  warnings.warn(msg, category=FutureWarning)\n"
          ],
          "name": "stderr"
        },
        {
          "output_type": "stream",
          "text": [
            "roc_auc_score: 0.5529689067201604\n"
          ],
          "name": "stdout"
        },
        {
          "output_type": "stream",
          "text": [
            "/Users/pavelmamaev/Desktop/SAIT_DIPLOM/venv/lib/python3.8/site-packages/sklearn/utils/deprecation.py:86: FutureWarning: Function fit_predict_score is deprecated\n",
            "  warnings.warn(msg, category=FutureWarning)\n"
          ],
          "name": "stderr"
        },
        {
          "output_type": "stream",
          "text": [
            "roc_auc_score: 0.4339317953861585\n"
          ],
          "name": "stdout"
        },
        {
          "output_type": "stream",
          "text": [
            "/Users/pavelmamaev/Desktop/SAIT_DIPLOM/venv/lib/python3.8/site-packages/sklearn/utils/deprecation.py:86: FutureWarning: Function fit_predict_score is deprecated\n",
            "  warnings.warn(msg, category=FutureWarning)\n"
          ],
          "name": "stderr"
        },
        {
          "output_type": "stream",
          "text": [
            "roc_auc_score: 0.4551955867602808\n",
            "--------------------------------------------------\n",
            "Эксперимент №45/56  с normal = soc.religion.christian, anomal = rec.sport.hockey\n",
            "auc_iforest =  0.5391273821464393\n",
            "auc_lof =  0.5529689067201604\n",
            "auc_knn =  0.4339317953861585\n",
            "auc_copod =  0.4551955867602808\n",
            "--------------------------------------------------\n"
          ],
          "name": "stdout"
        },
        {
          "output_type": "stream",
          "text": [
            "/Users/pavelmamaev/Desktop/SAIT_DIPLOM/venv/lib/python3.8/site-packages/sklearn/utils/deprecation.py:86: FutureWarning: Function fit_predict_score is deprecated\n",
            "  warnings.warn(msg, category=FutureWarning)\n"
          ],
          "name": "stderr"
        },
        {
          "output_type": "stream",
          "text": [
            "roc_auc_score: 0.5415947843530592\n"
          ],
          "name": "stdout"
        },
        {
          "output_type": "stream",
          "text": [
            "/Users/pavelmamaev/Desktop/SAIT_DIPLOM/venv/lib/python3.8/site-packages/sklearn/utils/deprecation.py:86: FutureWarning: Function fit_predict_score is deprecated\n",
            "  warnings.warn(msg, category=FutureWarning)\n"
          ],
          "name": "stderr"
        },
        {
          "output_type": "stream",
          "text": [
            "roc_auc_score: 0.5490822467402207\n"
          ],
          "name": "stdout"
        },
        {
          "output_type": "stream",
          "text": [
            "/Users/pavelmamaev/Desktop/SAIT_DIPLOM/venv/lib/python3.8/site-packages/sklearn/utils/deprecation.py:86: FutureWarning: Function fit_predict_score is deprecated\n",
            "  warnings.warn(msg, category=FutureWarning)\n"
          ],
          "name": "stderr"
        },
        {
          "output_type": "stream",
          "text": [
            "roc_auc_score: 0.4335205616850552\n"
          ],
          "name": "stdout"
        },
        {
          "output_type": "stream",
          "text": [
            "/Users/pavelmamaev/Desktop/SAIT_DIPLOM/venv/lib/python3.8/site-packages/sklearn/utils/deprecation.py:86: FutureWarning: Function fit_predict_score is deprecated\n",
            "  warnings.warn(msg, category=FutureWarning)\n"
          ],
          "name": "stderr"
        },
        {
          "output_type": "stream",
          "text": [
            "roc_auc_score: 0.4491675025075226\n",
            "--------------------------------------------------\n",
            "Эксперимент №46/56  с normal = soc.religion.christian, anomal = sci.med\n",
            "auc_iforest =  0.5415947843530592\n",
            "auc_lof =  0.5490822467402207\n",
            "auc_knn =  0.4335205616850552\n",
            "auc_copod =  0.4491675025075226\n",
            "--------------------------------------------------\n"
          ],
          "name": "stdout"
        },
        {
          "output_type": "stream",
          "text": [
            "/Users/pavelmamaev/Desktop/SAIT_DIPLOM/venv/lib/python3.8/site-packages/sklearn/utils/deprecation.py:86: FutureWarning: Function fit_predict_score is deprecated\n",
            "  warnings.warn(msg, category=FutureWarning)\n"
          ],
          "name": "stderr"
        },
        {
          "output_type": "stream",
          "text": [
            "roc_auc_score: 0.5614844533600802\n"
          ],
          "name": "stdout"
        },
        {
          "output_type": "stream",
          "text": [
            "/Users/pavelmamaev/Desktop/SAIT_DIPLOM/venv/lib/python3.8/site-packages/sklearn/utils/deprecation.py:86: FutureWarning: Function fit_predict_score is deprecated\n",
            "  warnings.warn(msg, category=FutureWarning)\n"
          ],
          "name": "stderr"
        },
        {
          "output_type": "stream",
          "text": [
            "roc_auc_score: 0.5676730190571715\n"
          ],
          "name": "stdout"
        },
        {
          "output_type": "stream",
          "text": [
            "/Users/pavelmamaev/Desktop/SAIT_DIPLOM/venv/lib/python3.8/site-packages/sklearn/utils/deprecation.py:86: FutureWarning: Function fit_predict_score is deprecated\n",
            "  warnings.warn(msg, category=FutureWarning)\n"
          ],
          "name": "stderr"
        },
        {
          "output_type": "stream",
          "text": [
            "roc_auc_score: 0.46787362086258777\n"
          ],
          "name": "stdout"
        },
        {
          "output_type": "stream",
          "text": [
            "/Users/pavelmamaev/Desktop/SAIT_DIPLOM/venv/lib/python3.8/site-packages/sklearn/utils/deprecation.py:86: FutureWarning: Function fit_predict_score is deprecated\n",
            "  warnings.warn(msg, category=FutureWarning)\n"
          ],
          "name": "stderr"
        },
        {
          "output_type": "stream",
          "text": [
            "roc_auc_score: 0.45758274824473416\n",
            "--------------------------------------------------\n",
            "Эксперимент №47/56  с normal = soc.religion.christian, anomal = sci.space\n",
            "auc_iforest =  0.5614844533600802\n",
            "auc_lof =  0.5676730190571715\n",
            "auc_knn =  0.46787362086258777\n",
            "auc_copod =  0.45758274824473416\n",
            "--------------------------------------------------\n"
          ],
          "name": "stdout"
        },
        {
          "output_type": "stream",
          "text": [
            "/Users/pavelmamaev/Desktop/SAIT_DIPLOM/venv/lib/python3.8/site-packages/sklearn/utils/deprecation.py:86: FutureWarning: Function fit_predict_score is deprecated\n",
            "  warnings.warn(msg, category=FutureWarning)\n"
          ],
          "name": "stderr"
        },
        {
          "output_type": "stream",
          "text": [
            "roc_auc_score: 0.3560481444332999\n"
          ],
          "name": "stdout"
        },
        {
          "output_type": "stream",
          "text": [
            "/Users/pavelmamaev/Desktop/SAIT_DIPLOM/venv/lib/python3.8/site-packages/sklearn/utils/deprecation.py:86: FutureWarning: Function fit_predict_score is deprecated\n",
            "  warnings.warn(msg, category=FutureWarning)\n"
          ],
          "name": "stderr"
        },
        {
          "output_type": "stream",
          "text": [
            "roc_auc_score: 0.4031143430290872\n"
          ],
          "name": "stdout"
        },
        {
          "output_type": "stream",
          "text": [
            "/Users/pavelmamaev/Desktop/SAIT_DIPLOM/venv/lib/python3.8/site-packages/sklearn/utils/deprecation.py:86: FutureWarning: Function fit_predict_score is deprecated\n",
            "  warnings.warn(msg, category=FutureWarning)\n"
          ],
          "name": "stderr"
        },
        {
          "output_type": "stream",
          "text": [
            "roc_auc_score: 0.2505616850551655\n"
          ],
          "name": "stdout"
        },
        {
          "output_type": "stream",
          "text": [
            "/Users/pavelmamaev/Desktop/SAIT_DIPLOM/venv/lib/python3.8/site-packages/sklearn/utils/deprecation.py:86: FutureWarning: Function fit_predict_score is deprecated\n",
            "  warnings.warn(msg, category=FutureWarning)\n"
          ],
          "name": "stderr"
        },
        {
          "output_type": "stream",
          "text": [
            "roc_auc_score: 0.2689468405215647\n",
            "--------------------------------------------------\n",
            "Эксперимент №48/56  с normal = soc.religion.christian, anomal = misc.forsale\n",
            "auc_iforest =  0.3560481444332999\n",
            "auc_lof =  0.4031143430290872\n",
            "auc_knn =  0.2505616850551655\n",
            "auc_copod =  0.2689468405215647\n",
            "--------------------------------------------------\n"
          ],
          "name": "stdout"
        },
        {
          "output_type": "stream",
          "text": [
            "/Users/pavelmamaev/Desktop/SAIT_DIPLOM/venv/lib/python3.8/site-packages/sklearn/utils/deprecation.py:86: FutureWarning: Function fit_predict_score is deprecated\n",
            "  warnings.warn(msg, category=FutureWarning)\n"
          ],
          "name": "stderr"
        },
        {
          "output_type": "stream",
          "text": [
            "roc_auc_score: 0.6729187562688065\n"
          ],
          "name": "stdout"
        },
        {
          "output_type": "stream",
          "text": [
            "/Users/pavelmamaev/Desktop/SAIT_DIPLOM/venv/lib/python3.8/site-packages/sklearn/utils/deprecation.py:86: FutureWarning: Function fit_predict_score is deprecated\n",
            "  warnings.warn(msg, category=FutureWarning)\n"
          ],
          "name": "stderr"
        },
        {
          "output_type": "stream",
          "text": [
            "roc_auc_score: 0.6783400200601806\n"
          ],
          "name": "stdout"
        },
        {
          "output_type": "stream",
          "text": [
            "/Users/pavelmamaev/Desktop/SAIT_DIPLOM/venv/lib/python3.8/site-packages/sklearn/utils/deprecation.py:86: FutureWarning: Function fit_predict_score is deprecated\n",
            "  warnings.warn(msg, category=FutureWarning)\n"
          ],
          "name": "stderr"
        },
        {
          "output_type": "stream",
          "text": [
            "roc_auc_score: 0.6065295887662989\n"
          ],
          "name": "stdout"
        },
        {
          "output_type": "stream",
          "text": [
            "/Users/pavelmamaev/Desktop/SAIT_DIPLOM/venv/lib/python3.8/site-packages/sklearn/utils/deprecation.py:86: FutureWarning: Function fit_predict_score is deprecated\n",
            "  warnings.warn(msg, category=FutureWarning)\n"
          ],
          "name": "stderr"
        },
        {
          "output_type": "stream",
          "text": [
            "roc_auc_score: 0.6094282848545638\n",
            "--------------------------------------------------\n",
            "Эксперимент №49/56  с normal = soc.religion.christian, anomal = talk.politics.misc\n",
            "auc_iforest =  0.6729187562688065\n",
            "auc_lof =  0.6783400200601806\n",
            "auc_knn =  0.6065295887662989\n",
            "auc_copod =  0.6094282848545638\n",
            "--------------------------------------------------\n"
          ],
          "name": "stdout"
        },
        {
          "output_type": "stream",
          "text": [
            "/Users/pavelmamaev/Desktop/SAIT_DIPLOM/venv/lib/python3.8/site-packages/sklearn/utils/deprecation.py:86: FutureWarning: Function fit_predict_score is deprecated\n",
            "  warnings.warn(msg, category=FutureWarning)\n"
          ],
          "name": "stderr"
        },
        {
          "output_type": "stream",
          "text": [
            "roc_auc_score: 0.29401157981803144\n"
          ],
          "name": "stdout"
        },
        {
          "output_type": "stream",
          "text": [
            "/Users/pavelmamaev/Desktop/SAIT_DIPLOM/venv/lib/python3.8/site-packages/sklearn/utils/deprecation.py:86: FutureWarning: Function fit_predict_score is deprecated\n",
            "  warnings.warn(msg, category=FutureWarning)\n"
          ],
          "name": "stderr"
        },
        {
          "output_type": "stream",
          "text": [
            "roc_auc_score: 0.48423490488006615\n"
          ],
          "name": "stdout"
        },
        {
          "output_type": "stream",
          "text": [
            "/Users/pavelmamaev/Desktop/SAIT_DIPLOM/venv/lib/python3.8/site-packages/sklearn/utils/deprecation.py:86: FutureWarning: Function fit_predict_score is deprecated\n",
            "  warnings.warn(msg, category=FutureWarning)\n"
          ],
          "name": "stderr"
        },
        {
          "output_type": "stream",
          "text": [
            "roc_auc_score: 0.2943755169561621\n"
          ],
          "name": "stdout"
        },
        {
          "output_type": "stream",
          "text": [
            "/Users/pavelmamaev/Desktop/SAIT_DIPLOM/venv/lib/python3.8/site-packages/sklearn/utils/deprecation.py:86: FutureWarning: Function fit_predict_score is deprecated\n",
            "  warnings.warn(msg, category=FutureWarning)\n"
          ],
          "name": "stderr"
        },
        {
          "output_type": "stream",
          "text": [
            "roc_auc_score: 0.2561952026468156\n",
            "--------------------------------------------------\n",
            "Эксперимент №50/56  с normal = talk.politics.misc, anomal = comp.graphics\n",
            "auc_iforest =  0.29401157981803144\n",
            "auc_lof =  0.48423490488006615\n",
            "auc_knn =  0.2943755169561621\n",
            "auc_copod =  0.2561952026468156\n",
            "--------------------------------------------------\n"
          ],
          "name": "stdout"
        },
        {
          "output_type": "stream",
          "text": [
            "/Users/pavelmamaev/Desktop/SAIT_DIPLOM/venv/lib/python3.8/site-packages/sklearn/utils/deprecation.py:86: FutureWarning: Function fit_predict_score is deprecated\n",
            "  warnings.warn(msg, category=FutureWarning)\n"
          ],
          "name": "stderr"
        },
        {
          "output_type": "stream",
          "text": [
            "roc_auc_score: 0.5918941273779983\n"
          ],
          "name": "stdout"
        },
        {
          "output_type": "stream",
          "text": [
            "/Users/pavelmamaev/Desktop/SAIT_DIPLOM/venv/lib/python3.8/site-packages/sklearn/utils/deprecation.py:86: FutureWarning: Function fit_predict_score is deprecated\n",
            "  warnings.warn(msg, category=FutureWarning)\n"
          ],
          "name": "stderr"
        },
        {
          "output_type": "stream",
          "text": [
            "roc_auc_score: 0.6918693134822167\n"
          ],
          "name": "stdout"
        },
        {
          "output_type": "stream",
          "text": [
            "/Users/pavelmamaev/Desktop/SAIT_DIPLOM/venv/lib/python3.8/site-packages/sklearn/utils/deprecation.py:86: FutureWarning: Function fit_predict_score is deprecated\n",
            "  warnings.warn(msg, category=FutureWarning)\n"
          ],
          "name": "stderr"
        },
        {
          "output_type": "stream",
          "text": [
            "roc_auc_score: 0.5878246484698098\n"
          ],
          "name": "stdout"
        },
        {
          "output_type": "stream",
          "text": [
            "/Users/pavelmamaev/Desktop/SAIT_DIPLOM/venv/lib/python3.8/site-packages/sklearn/utils/deprecation.py:86: FutureWarning: Function fit_predict_score is deprecated\n",
            "  warnings.warn(msg, category=FutureWarning)\n"
          ],
          "name": "stderr"
        },
        {
          "output_type": "stream",
          "text": [
            "roc_auc_score: 0.5706038047973532\n",
            "--------------------------------------------------\n",
            "Эксперимент №51/56  с normal = talk.politics.misc, anomal = talk.politics.mideast\n",
            "auc_iforest =  0.5918941273779983\n",
            "auc_lof =  0.6918693134822167\n",
            "auc_knn =  0.5878246484698098\n",
            "auc_copod =  0.5706038047973532\n",
            "--------------------------------------------------\n"
          ],
          "name": "stdout"
        },
        {
          "output_type": "stream",
          "text": [
            "/Users/pavelmamaev/Desktop/SAIT_DIPLOM/venv/lib/python3.8/site-packages/sklearn/utils/deprecation.py:86: FutureWarning: Function fit_predict_score is deprecated\n",
            "  warnings.warn(msg, category=FutureWarning)\n"
          ],
          "name": "stderr"
        },
        {
          "output_type": "stream",
          "text": [
            "roc_auc_score: 0.4552853598014888\n"
          ],
          "name": "stdout"
        },
        {
          "output_type": "stream",
          "text": [
            "/Users/pavelmamaev/Desktop/SAIT_DIPLOM/venv/lib/python3.8/site-packages/sklearn/utils/deprecation.py:86: FutureWarning: Function fit_predict_score is deprecated\n",
            "  warnings.warn(msg, category=FutureWarning)\n"
          ],
          "name": "stderr"
        },
        {
          "output_type": "stream",
          "text": [
            "roc_auc_score: 0.6159222497932175\n"
          ],
          "name": "stdout"
        },
        {
          "output_type": "stream",
          "text": [
            "/Users/pavelmamaev/Desktop/SAIT_DIPLOM/venv/lib/python3.8/site-packages/sklearn/utils/deprecation.py:86: FutureWarning: Function fit_predict_score is deprecated\n",
            "  warnings.warn(msg, category=FutureWarning)\n"
          ],
          "name": "stderr"
        },
        {
          "output_type": "stream",
          "text": [
            "roc_auc_score: 0.4785938792390405\n"
          ],
          "name": "stdout"
        },
        {
          "output_type": "stream",
          "text": [
            "/Users/pavelmamaev/Desktop/SAIT_DIPLOM/venv/lib/python3.8/site-packages/sklearn/utils/deprecation.py:86: FutureWarning: Function fit_predict_score is deprecated\n",
            "  warnings.warn(msg, category=FutureWarning)\n"
          ],
          "name": "stderr"
        },
        {
          "output_type": "stream",
          "text": [
            "roc_auc_score: 0.43379652605459057\n",
            "--------------------------------------------------\n",
            "Эксперимент №52/56  с normal = talk.politics.misc, anomal = rec.sport.hockey\n",
            "auc_iforest =  0.4552853598014888\n",
            "auc_lof =  0.6159222497932175\n",
            "auc_knn =  0.4785938792390405\n",
            "auc_copod =  0.43379652605459057\n",
            "--------------------------------------------------\n"
          ],
          "name": "stdout"
        },
        {
          "output_type": "stream",
          "text": [
            "/Users/pavelmamaev/Desktop/SAIT_DIPLOM/venv/lib/python3.8/site-packages/sklearn/utils/deprecation.py:86: FutureWarning: Function fit_predict_score is deprecated\n",
            "  warnings.warn(msg, category=FutureWarning)\n"
          ],
          "name": "stderr"
        },
        {
          "output_type": "stream",
          "text": [
            "roc_auc_score: 0.5261373035566583\n"
          ],
          "name": "stdout"
        },
        {
          "output_type": "stream",
          "text": [
            "/Users/pavelmamaev/Desktop/SAIT_DIPLOM/venv/lib/python3.8/site-packages/sklearn/utils/deprecation.py:86: FutureWarning: Function fit_predict_score is deprecated\n",
            "  warnings.warn(msg, category=FutureWarning)\n"
          ],
          "name": "stderr"
        },
        {
          "output_type": "stream",
          "text": [
            "roc_auc_score: 0.6335649296939619\n"
          ],
          "name": "stdout"
        },
        {
          "output_type": "stream",
          "text": [
            "/Users/pavelmamaev/Desktop/SAIT_DIPLOM/venv/lib/python3.8/site-packages/sklearn/utils/deprecation.py:86: FutureWarning: Function fit_predict_score is deprecated\n",
            "  warnings.warn(msg, category=FutureWarning)\n"
          ],
          "name": "stderr"
        },
        {
          "output_type": "stream",
          "text": [
            "roc_auc_score: 0.49052109181141446\n"
          ],
          "name": "stdout"
        },
        {
          "output_type": "stream",
          "text": [
            "/Users/pavelmamaev/Desktop/SAIT_DIPLOM/venv/lib/python3.8/site-packages/sklearn/utils/deprecation.py:86: FutureWarning: Function fit_predict_score is deprecated\n",
            "  warnings.warn(msg, category=FutureWarning)\n"
          ],
          "name": "stderr"
        },
        {
          "output_type": "stream",
          "text": [
            "roc_auc_score: 0.45252274607113313\n",
            "--------------------------------------------------\n",
            "Эксперимент №53/56  с normal = talk.politics.misc, anomal = sci.med\n",
            "auc_iforest =  0.5261373035566583\n",
            "auc_lof =  0.6335649296939619\n",
            "auc_knn =  0.49052109181141446\n",
            "auc_copod =  0.45252274607113313\n",
            "--------------------------------------------------\n"
          ],
          "name": "stdout"
        },
        {
          "output_type": "stream",
          "text": [
            "/Users/pavelmamaev/Desktop/SAIT_DIPLOM/venv/lib/python3.8/site-packages/sklearn/utils/deprecation.py:86: FutureWarning: Function fit_predict_score is deprecated\n",
            "  warnings.warn(msg, category=FutureWarning)\n"
          ],
          "name": "stderr"
        },
        {
          "output_type": "stream",
          "text": [
            "roc_auc_score: 0.46744416873449124\n"
          ],
          "name": "stdout"
        },
        {
          "output_type": "stream",
          "text": [
            "/Users/pavelmamaev/Desktop/SAIT_DIPLOM/venv/lib/python3.8/site-packages/sklearn/utils/deprecation.py:86: FutureWarning: Function fit_predict_score is deprecated\n",
            "  warnings.warn(msg, category=FutureWarning)\n"
          ],
          "name": "stderr"
        },
        {
          "output_type": "stream",
          "text": [
            "roc_auc_score: 0.6069230769230769\n"
          ],
          "name": "stdout"
        },
        {
          "output_type": "stream",
          "text": [
            "/Users/pavelmamaev/Desktop/SAIT_DIPLOM/venv/lib/python3.8/site-packages/sklearn/utils/deprecation.py:86: FutureWarning: Function fit_predict_score is deprecated\n",
            "  warnings.warn(msg, category=FutureWarning)\n"
          ],
          "name": "stderr"
        },
        {
          "output_type": "stream",
          "text": [
            "roc_auc_score: 0.47680727874276263\n"
          ],
          "name": "stdout"
        },
        {
          "output_type": "stream",
          "text": [
            "/Users/pavelmamaev/Desktop/SAIT_DIPLOM/venv/lib/python3.8/site-packages/sklearn/utils/deprecation.py:86: FutureWarning: Function fit_predict_score is deprecated\n",
            "  warnings.warn(msg, category=FutureWarning)\n"
          ],
          "name": "stderr"
        },
        {
          "output_type": "stream",
          "text": [
            "roc_auc_score: 0.414177005789909\n",
            "--------------------------------------------------\n",
            "Эксперимент №54/56  с normal = talk.politics.misc, anomal = sci.space\n",
            "auc_iforest =  0.46744416873449124\n",
            "auc_lof =  0.6069230769230769\n",
            "auc_knn =  0.47680727874276263\n",
            "auc_copod =  0.414177005789909\n",
            "--------------------------------------------------\n"
          ],
          "name": "stdout"
        },
        {
          "output_type": "stream",
          "text": [
            "/Users/pavelmamaev/Desktop/SAIT_DIPLOM/venv/lib/python3.8/site-packages/sklearn/utils/deprecation.py:86: FutureWarning: Function fit_predict_score is deprecated\n",
            "  warnings.warn(msg, category=FutureWarning)\n"
          ],
          "name": "stderr"
        },
        {
          "output_type": "stream",
          "text": [
            "roc_auc_score: 0.28870140612076095\n"
          ],
          "name": "stdout"
        },
        {
          "output_type": "stream",
          "text": [
            "/Users/pavelmamaev/Desktop/SAIT_DIPLOM/venv/lib/python3.8/site-packages/sklearn/utils/deprecation.py:86: FutureWarning: Function fit_predict_score is deprecated\n",
            "  warnings.warn(msg, category=FutureWarning)\n"
          ],
          "name": "stderr"
        },
        {
          "output_type": "stream",
          "text": [
            "roc_auc_score: 0.499933829611249\n"
          ],
          "name": "stdout"
        },
        {
          "output_type": "stream",
          "text": [
            "/Users/pavelmamaev/Desktop/SAIT_DIPLOM/venv/lib/python3.8/site-packages/sklearn/utils/deprecation.py:86: FutureWarning: Function fit_predict_score is deprecated\n",
            "  warnings.warn(msg, category=FutureWarning)\n"
          ],
          "name": "stderr"
        },
        {
          "output_type": "stream",
          "text": [
            "roc_auc_score: 0.25258891645988424\n"
          ],
          "name": "stdout"
        },
        {
          "output_type": "stream",
          "text": [
            "/Users/pavelmamaev/Desktop/SAIT_DIPLOM/venv/lib/python3.8/site-packages/sklearn/utils/deprecation.py:86: FutureWarning: Function fit_predict_score is deprecated\n",
            "  warnings.warn(msg, category=FutureWarning)\n"
          ],
          "name": "stderr"
        },
        {
          "output_type": "stream",
          "text": [
            "roc_auc_score: 0.23338296112489662\n",
            "--------------------------------------------------\n",
            "Эксперимент №55/56  с normal = talk.politics.misc, anomal = misc.forsale\n",
            "auc_iforest =  0.28870140612076095\n",
            "auc_lof =  0.499933829611249\n",
            "auc_knn =  0.25258891645988424\n",
            "auc_copod =  0.23338296112489662\n",
            "--------------------------------------------------\n"
          ],
          "name": "stdout"
        },
        {
          "output_type": "stream",
          "text": [
            "/Users/pavelmamaev/Desktop/SAIT_DIPLOM/venv/lib/python3.8/site-packages/sklearn/utils/deprecation.py:86: FutureWarning: Function fit_predict_score is deprecated\n",
            "  warnings.warn(msg, category=FutureWarning)\n"
          ],
          "name": "stderr"
        },
        {
          "output_type": "stream",
          "text": [
            "roc_auc_score: 0.5162117452440034\n"
          ],
          "name": "stdout"
        },
        {
          "output_type": "stream",
          "text": [
            "/Users/pavelmamaev/Desktop/SAIT_DIPLOM/venv/lib/python3.8/site-packages/sklearn/utils/deprecation.py:86: FutureWarning: Function fit_predict_score is deprecated\n",
            "  warnings.warn(msg, category=FutureWarning)\n"
          ],
          "name": "stderr"
        },
        {
          "output_type": "stream",
          "text": [
            "roc_auc_score: 0.6556327543424318\n"
          ],
          "name": "stdout"
        },
        {
          "output_type": "stream",
          "text": [
            "/Users/pavelmamaev/Desktop/SAIT_DIPLOM/venv/lib/python3.8/site-packages/sklearn/utils/deprecation.py:86: FutureWarning: Function fit_predict_score is deprecated\n",
            "  warnings.warn(msg, category=FutureWarning)\n"
          ],
          "name": "stderr"
        },
        {
          "output_type": "stream",
          "text": [
            "roc_auc_score: 0.5234739454094293\n"
          ],
          "name": "stdout"
        },
        {
          "output_type": "stream",
          "text": [
            "/Users/pavelmamaev/Desktop/SAIT_DIPLOM/venv/lib/python3.8/site-packages/sklearn/utils/deprecation.py:86: FutureWarning: Function fit_predict_score is deprecated\n",
            "  warnings.warn(msg, category=FutureWarning)\n"
          ],
          "name": "stderr"
        },
        {
          "output_type": "stream",
          "text": [
            "roc_auc_score: 0.48514474772539296\n",
            "--------------------------------------------------\n",
            "Эксперимент №56/56  с normal = talk.politics.misc, anomal = soc.religion.christian\n",
            "auc_iforest =  0.5162117452440034\n",
            "auc_lof =  0.6556327543424318\n",
            "auc_knn =  0.5234739454094293\n",
            "auc_copod =  0.48514474772539296\n",
            "--------------------------------------------------\n",
            "**************************************************\n",
            "IFOREST Медиана auc = 0.5912813590232944\n",
            "IFOREST Среднее auc = 0.5902735102198052\n",
            "**************************************************\n",
            "**************************************************\n",
            "LOF Медиана auc = 0.6816212121212122\n",
            "LOF Среднее auc = 0.6668462161005216\n",
            "**************************************************\n",
            "**************************************************\n",
            "kNN Медиана auc = 0.5712815087815089\n",
            "kNN Среднее auc = 0.5581209225806552\n",
            "**************************************************\n",
            "**************************************************\n",
            "COPOD Медиана auc = 0.539330935333175\n",
            "COPOD Среднее auc = 0.5366223040051699\n",
            "**************************************************\n"
          ],
          "name": "stdout"
        }
      ]
    },
    {
      "cell_type": "code",
      "metadata": {
        "id": "VpV-rzXTeccP"
      },
      "source": [
        ""
      ],
      "execution_count": null,
      "outputs": []
    }
  ]
}